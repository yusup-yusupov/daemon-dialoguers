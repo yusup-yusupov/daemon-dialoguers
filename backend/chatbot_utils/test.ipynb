{
 "cells": [
  {
   "cell_type": "code",
   "execution_count": 43,
   "metadata": {},
   "outputs": [],
   "source": [
    "import sys\n",
    "sys.path.append('C:/Users/vishw/OneDrive/Desktop/Projects/daemon-dialoguers/backend/chatbot_utils')\n",
    "\n",
    "import context_model as cm\n",
    "import chatbot_utils as chatbot\n",
    "import importlib\n",
    "importlib.reload(cm)\n",
    "importlib.reload(chatbot)\n",
    "\n",
    "import pandas as pd\n",
    "import hashlib\n",
    "import json\n",
    "\n",
    "with open('C:/Users/vishw/OneDrive/Desktop/Projects/daemon-dialoguers/openAI_api.json') as f:\n",
    "    key = json.load(f)\n",
    "\n",
    "DATA_DIR = 'C:/Users/vishw/OneDrive/Desktop/Projects/daemon-dialoguers/Dataset'\n"
   ]
  },
  {
   "cell_type": "markdown",
   "metadata": {},
   "source": [
    "### Testing Embedding and Context Models"
   ]
  },
  {
   "cell_type": "code",
   "execution_count": 156,
   "metadata": {},
   "outputs": [],
   "source": [
    "md5hash = hashlib.md5(open(f\"{DATA_DIR}/test_log1.out\",'rb').read()).hexdigest()"
   ]
  },
  {
   "cell_type": "code",
   "execution_count": 157,
   "metadata": {},
   "outputs": [],
   "source": [
    "cm.convert_logs_to_embeddings(f\"{DATA_DIR}/final_log.out\")"
   ]
  },
  {
   "cell_type": "code",
   "execution_count": 13,
   "metadata": {},
   "outputs": [
    {
     "data": {
      "text/plain": [
       "([Document(page_content='Nov 09 13:15:16 CMX50070-101776 start_mrt.sh[27299]: [INFO] [2023-11-09T13:15:16,294+0000] [srss.verify_args:63]: sri_recall_log_lookup_location: /home/instrument/fw/log/2023-11-09T13-11-48Z/sfa/NetworkEmulation1/sri\\nNov 09 13:15:16 CMX50070-101776 start_mrt.sh[27299]: [INFO] [2023-11-09T13:15:16,294+0000] [srss.verify_args:69]: working_dir: /home/instrument/fw/log/2023-11-09T13-11-48Z/sfa/NetworkEmulation1/sri\\nNov 09 13:15:16 CMX50070-101776 start_mrt.sh[27299]: [INFO] [2023-11-09T13:15:16,294+0000] [srss.__init__:43]: SRSS version: 05.01.01\\nNov 09 13:15:16 CMX50070-101776 start_mrt.sh[27299]: [INFO] [2023-11-09T13:15:16,306+0000] [utilities.register_in_persistence_registry_service:215]: Successfully registered in PersistenceRegistryService\\nNov 09 13:15:16 CMX50070-101776 start_mrt.sh[27299]: [INFO] [2023-11-09T13:15:16,306+0000] [srss.__init__:51]: Service registered\\nNov 09 13:15:16 CMX50070-101776 start_mrt.sh[27255]: PyInstaller _MEI directory save_recall', metadata={'source': 'C:/Users/vishw/OneDrive/Desktop/Projects/daemon-dialoguers/Dataset/test_log1.out'}),\n",
       "  Document(page_content=\"Nov 09 13:15:10 CMX50070-101776 start_mrt.sh[27266]: 2023-11-09T13:15:10.287+00:00 [info     ] log_dir = /home/instrument/fw/log/2023-11-09T13-11-48Z/sfa/NetworkEmulation1/gwss [gwss.gwss_server.server_application]\\nNov 09 13:15:10 CMX50070-101776 start_mrt.sh[27266]: 2023-11-09T13:15:10.287+00:00 [info     ] server_mode = ServerMode.SECONDARY [gwss.gwss_server.server_application]\\nNov 09 13:15:10 CMX50070-101776 start_mrt.sh[27266]: 2023-11-09T13:15:10.288+00:00 [info     ] connection config: ConnectionConfig('127.0.0.1') [gwss.gwss_server.server_application]\\nNov 09 13:15:10 CMX50070-101776 start_mrt.sh[27266]: 2023-11-09T13:15:10.289+00:00 [info     ]   rpc_url: tcp://127.0.0.1:9013 [gwss.gwss_server.server_application]\\nNov 09 13:15:10 CMX50070-101776 start_mrt.sh[27266]: 2023-11-09T13:15:10.289+00:00 [info     ]   xpub_url: tcp://127.0.0.1:9012 [gwss.gwss_server.server_application]\", metadata={'source': 'C:/Users/vishw/OneDrive/Desktop/Projects/daemon-dialoguers/Dataset/test_log1.out'}),\n",
       "  Document(page_content=\"Nov 09 13:41:03 CMX50070-101776 start_mrt.sh[192092]: 2023-11-09T13:41:03.546+00:00 [info     ] log_dir = /home/instrument/fw/log/2023-11-09T13-11-48Z/sfa/NetworkEmulation2/gwss [gwss.gwss_server.server_application]\\nNov 09 13:41:03 CMX50070-101776 start_mrt.sh[192092]: 2023-11-09T13:41:03.546+00:00 [info     ] server_mode = ServerMode.SECONDARY [gwss.gwss_server.server_application]\\nNov 09 13:41:03 CMX50070-101776 start_mrt.sh[192092]: 2023-11-09T13:41:03.548+00:00 [info     ] connection config: ConnectionConfig('127.0.0.1') [gwss.gwss_server.server_application]\\nNov 09 13:41:03 CMX50070-101776 start_mrt.sh[192092]: 2023-11-09T13:41:03.549+00:00 [info     ]   rpc_url: tcp://127.0.0.1:9013 [gwss.gwss_server.server_application]\\nNov 09 13:41:03 CMX50070-101776 start_mrt.sh[192092]: 2023-11-09T13:41:03.553+00:00 [info     ]   xpub_url: tcp://127.0.0.1:9012 [gwss.gwss_server.server_application]\", metadata={'source': 'C:/Users/vishw/OneDrive/Desktop/Projects/daemon-dialoguers/Dataset/test_log1.out'}),\n",
       "  Document(page_content='Nov 09 13:15:16 CMX50070-101776 start_mrt.sh[27255]: [INFO] [2023-11-09T13:15:16,329+0000] [srsf.__init__:43]: SRSF version: 01.04.11\\nNov 09 13:15:16 CMX50070-101776 start_mrt.sh[27255]: [INFO] [2023-11-09T13:15:16,341+0000] [utilities.register_in_persistence_registry_service:215]: Successfully registered in PersistenceRegistryService\\nNov 09 13:15:16 CMX50070-101776 start_mrt.sh[27255]: [INFO] [2023-11-09T13:15:16,342+0000] [srsf.__init__:51]: Service registered\\nNov 09 13:15:16 CMX50070-101776 start_mrt.sh[27255]: [INFO] [2023-11-09T13:15:16,444+0000] [srsf_service_impl.CheckService:96]: SRSF is running\\nNov 09 13:15:16 CMX50070-101776 start_mrt.sh[27299]: [INFO] [2023-11-09T13:15:16,507+0000] [srss_service_impl.CheckService:97]: SRSS is running', metadata={'source': 'C:/Users/vishw/OneDrive/Desktop/Projects/daemon-dialoguers/Dataset/test_log1.out'}),\n",
       "  Document(page_content='Nov 10 05:49:09 CMX50070-101776 start_mrt.sh[2208744]: Type = ERROR_REPAIR\\nNov 10 05:49:09 CMX50070-101776 start_mrt.sh[2208744]: File Name = /home/integration_mmi/jenkins/workspace/mrt.base.fsw_release_5.0.60-ci/1cm_fsw_base_wm/fwa/rs.cmwbase.fsw/fswselfalignment/task_service.cpp\\nNov 10 05:49:09 CMX50070-101776 start_mrt.sh[2208744]: Line Number = 309\\nNov 10 05:49:09 CMX50070-101776 start_mrt.sh[2208744]: Current Version = 5.0.60.4\\nNov 10 05:49:09 CMX50070-101776 start_mrt.sh[2208744]: Additional Info = Expected files do not exist!\\nNov 10 05:49:09 CMX50070-101776 start_mrt.sh[2208744]: Hidden Comment = /home/instrument/fw/system/CorrdataWS/RFU300/RFUNIT_1222.1020.02_100131/CDV/SA/V6/CUR/tx_meta.csv\\nNov 10 05:49:09 CMX50070-101776 start_mrt.sh[2208744]: /home/instrument/fw/system/CorrdataWS/RFU300/RFUNIT_1222.1020.02_100131/CDV/SA/V6/CUR/rx_meta.csv\\nNov 10 05:49:09 CMX50070-101776 start_mrt.sh[2208744]: Logfiles of TraceManager in /home/instrument/fw/log/2023-11-09T13-11-48Z', metadata={'source': 'C:/Users/vishw/OneDrive/Desktop/Projects/daemon-dialoguers/Dataset/test_log1.out'}),\n",
       "  Document(page_content=\"Nov 09 13:41:09 CMX50070-101776 start_mrt.sh[192083]: [INFO] [2023-11-09T13:41:09,580+0000] [srsf.__init__:43]: SRSF version: 01.04.11\\nNov 09 13:41:09 CMX50070-101776 start_mrt.sh[192083]: [INFO] [2023-11-09T13:41:09,595+0000] [utilities.register_in_persistence_registry_service:215]: Successfully registered in PersistenceRegistryService\\nNov 09 13:41:09 CMX50070-101776 start_mrt.sh[192083]: [INFO] [2023-11-09T13:41:09,595+0000] [srsf.__init__:51]: Service registered\\nNov 09 13:41:09 CMX50070-101776 start_mrt.sh[192085]: PyInstaller _MEI directory save_recall\\nNov 09 13:41:09 CMX50070-101776 start_mrt.sh[192085]: Namespace(broker_ip='127.0.0.1', sri_recall_log_dir='/home/instrument/fw/log/2023-11-09T13-11-48Z/sfa/NetworkEmulation2/sri', verbose=False, no_base_registration=False, working_dir='/home/instrument/fw/log/2023-11-09T13-11-48Z/sfa/NetworkEmulation2/sri')\", metadata={'source': 'C:/Users/vishw/OneDrive/Desktop/Projects/daemon-dialoguers/Dataset/test_log1.out'}),\n",
       "  Document(page_content='Nov 10 05:49:09 CMX50070-101776 start_mrt.sh[2208743]:       <FileLine>396</FileLine>\\nNov 10 05:49:09 CMX50070-101776 start_mrt.sh[2208743]:       <FileTime>Wed Oct 25 12:00:18 2023</FileTime>\\nNov 10 05:49:09 CMX50070-101776 start_mrt.sh[2208743]:       <MethodName>UpdateFootprint</MethodName>\\nNov 10 05:49:09 CMX50070-101776 start_mrt.sh[2208743]:       <Thread>unknown thread name</Thread>\\nNov 10 05:49:09 CMX50070-101776 start_mrt.sh[2208743]:       <ErrorCode>No error. Some restrictions apply.</ErrorCode>\\nNov 10 05:49:09 CMX50070-101776 start_mrt.sh[2208743]:     </Error>\\nNov 10 05:49:09 CMX50070-101776 start_mrt.sh[2208743]:   </Errors>\\nNov 10 05:49:09 CMX50070-101776 start_mrt.sh[2208743]: </CompassErrorLog>\\nNov 10 05:49:09 CMX50070-101776 start_mrt.sh[2208744]: ## ----------------------------------------------------------------\\nNov 10 05:49:09 CMX50070-101776 start_mrt.sh[2208744]: Date and Time = 2023-11-09T13:13:39.524697091Z (UpTime=97.067, MRT-ST=121698856.524697091)', metadata={'source': 'C:/Users/vishw/OneDrive/Desktop/Projects/daemon-dialoguers/Dataset/test_log1.out'}),\n",
       "  Document(page_content=\"Nov 09 13:15:16 CMX50070-101776 start_mrt.sh[27299]: Generated .drift folder directory: /home/instrument/fw/log/2023-11-09T13-11-48Z/sfa/NetworkEmulation1/sri\\nNov 09 13:15:16 CMX50070-101776 start_mrt.sh[27299]: [INFO] [2023-11-09T13:15:16,727+0000] [utilities.replay_drifted:123]: replaying from the drifted folder\\nNov 09 13:15:17 CMX50070-101776 start_mrt.sh[27355]: ERROR: Caught exception while processing cell add/update '//mrt/0/testenvironment/0/signaling/0/sri/0/asservice/0/nrservice/0/cell/0': Cell //mrt/0/testenvironment/0/signaling/0/sri/0/asservice/0/nrservice/0/cell/0 is missing rach_config_common\\nNov 09 13:15:17 CMX50070-101776 start_mrt.sh[27299]: [INFO] [2023-11-09T13:15:17,827+0000] [utilities.replay_drifted:127]: Finished replaying the RPC calls\", metadata={'source': 'C:/Users/vishw/OneDrive/Desktop/Projects/daemon-dialoguers/Dataset/test_log1.out'}),\n",
       "  Document(page_content='Nov 10 01:22:34 CMX50070-101776 start-mrt.sysmond.sh[503330]: 2023-11-10T01:22:34,274958580+00:00 Compress log \"/home/instrument/fw/log/sysmond_main.1.nmon\"...\\nNov 10 01:22:34 CMX50070-101776 start-mrt.sysmond.sh[503332]: *** zstd command line interface 64-bits v1.5.2, by Yann Collet ***\\nNov 10 01:22:34 CMX50070-101776 start-mrt.sysmond.sh[503332]: [380B blob data]\\nNov 10 01:22:34 CMX50070-101776 start-mrt.sysmond.sh[503343]: 2023-11-10T01:22:34,464677883+00:00 Compression done\\nNov 10 01:22:34 CMX50070-101776 start-mrt.sysmond.sh[503359]: 2023-11-10T01:22:34,488875044+00:00 Compress log \"/home/instrument/fw/log/sysmond_processes.1.nmon\"...\\nNov 10 01:22:34 CMX50070-101776 start-mrt.sysmond.sh[503361]: *** zstd command line interface 64-bits v1.5.2, by Yann Collet ***\\nNov 10 01:22:34 CMX50070-101776 start-mrt.sysmond.sh[503361]: [305B blob data]\\nNov 10 01:22:34 CMX50070-101776 start-mrt.sysmond.sh[503365]: 2023-11-10T01:22:34,616338990+00:00 Compression done', metadata={'source': 'C:/Users/vishw/OneDrive/Desktop/Projects/daemon-dialoguers/Dataset/test_log1.out'}),\n",
       "  Document(page_content='Nov 09 13:41:09 CMX50070-101776 start_mrt.sh[192085]: [INFO] [2023-11-09T13:41:09,731+0000] [utilities.__init__:193]: Broker started as Slave\\nNov 09 13:41:09 CMX50070-101776 start_mrt.sh[192085]: [INFO] [2023-11-09T13:41:09,731+0000] [srss.verify_args:57]: Master broker address: 127.0.0.1\\nNov 09 13:41:09 CMX50070-101776 start_mrt.sh[192085]: [INFO] [2023-11-09T13:41:09,731+0000] [srss.verify_args:63]: sri_recall_log_lookup_location: /home/instrument/fw/log/2023-11-09T13-11-48Z/sfa/NetworkEmulation2/sri\\nNov 09 13:41:09 CMX50070-101776 start_mrt.sh[192085]: [INFO] [2023-11-09T13:41:09,731+0000] [srss.verify_args:69]: working_dir: /home/instrument/fw/log/2023-11-09T13-11-48Z/sfa/NetworkEmulation2/sri\\nNov 09 13:41:09 CMX50070-101776 start_mrt.sh[192085]: [INFO] [2023-11-09T13:41:09,731+0000] [srss.__init__:43]: SRSS version: 05.01.01', metadata={'source': 'C:/Users/vishw/OneDrive/Desktop/Projects/daemon-dialoguers/Dataset/test_log1.out'}),\n",
       "  Document(page_content=\"Nov 09 13:13:26 CMX50070-101776 start_mrt.sh[16216]: Created text event log '/home/instrument/fw/log/2023-11-09T13-11-48Z/sfa/eventlog_0.log'\\nNov 09 13:13:26 CMX50070-101776 start_mrt.sh[16216]: Registering service '//mrt/0/testenvironment/0/eventlog/0'...\\nNov 09 13:13:26 CMX50070-101776 start_mrt.sh[16216]: Registered service '//mrt/0/testenvironment/0/eventlog/0'\\nNov 09 13:13:26 CMX50070-101776 start_mrt.sh[16216]: EventLog successfully started\\nNov 09 13:13:26 CMX50070-101776 start_mrt.sh[16216]: Disabling logging to stdout...\\nNov 09 13:13:27 CMX50070-101776 start_mrt.sh[3219]: TSS: Detected change of CLOCK_REALTIME!\\nNov 09 13:13:27 CMX50070-101776 start_mrt.sh[3219]: TSS: Current leap-second count at 2023-11-09T13:13:27Z is 37\\nNov 09 13:13:27 CMX50070-101776 start_mrt.sh[3219]: TSS: CLOCK_TAI offset set to 37 seconds\\nNov 09 13:13:27 CMX50070-101776 start_mrt.sh[3219]: TSS: Created local MB wrapper on slot 1400\", metadata={'source': 'C:/Users/vishw/OneDrive/Desktop/Projects/daemon-dialoguers/Dataset/test_log1.out'}),\n",
       "  Document(page_content='Nov 09 16:14:29 CMX50070-101776 start-mrt.sysmond.sh[1181704]: 2023-11-09T16:14:29,489268648+00:00 Compress log \"/home/instrument/fw/log/sysmond_processes.1.nmon\"...\\nNov 09 16:14:29 CMX50070-101776 start-mrt.sysmond.sh[1181706]: *** zstd command line interface 64-bits v1.5.2, by Yann Collet ***\\nNov 09 16:14:29 CMX50070-101776 start-mrt.sysmond.sh[1181706]: [305B blob data]\\nNov 09 16:14:29 CMX50070-101776 start-mrt.sysmond.sh[1181710]: 2023-11-09T16:14:29,610252875+00:00 Compression done\\nNov 09 16:14:29 CMX50070-101776 start-mrt.sysmond.sh[1181714]: 2023-11-09T16:14:29,613494608+00:00 Rotation done\\nNov 09 16:14:29 CMX50070-101776 start-mrt.sysmond.sh[1181718]: 2023-11-09T16:14:29,615728785+00:00 Launching nmon...\\nNov 09 16:14:29 CMX50070-101776 start-mrt.sysmond.sh[1181729]: 2023-11-09T16:14:29,625572298+00:00 Launch done: PID is 1181725\\nNov 09 16:14:50 CMX50070-101776 mrt.pos.catrp3dr[1867]: info: RohdeSchwarz.Mrt.Microservices.PositioningCatrP3Dr.Positioning.PositioningServiceHost[0]', metadata={'source': 'C:/Users/vishw/OneDrive/Desktop/Projects/daemon-dialoguers/Dataset/test_log1.out'}),\n",
       "  Document(page_content='Nov 09 13:12:39 CMX50070-101776 start_mrt.sh[10234]: fpga version=0x3070007\\nNov 09 13:12:39 CMX50070-101776 start_mrt.sh[10235]: CCmgAccess(/dev/rohde-schwarz/cmg_300) ctor handle=3\\nNov 09 13:12:39 CMX50070-101776 start_mrt.sh[10235]: fpga version=0x3070007\\nNov 09 13:12:39 CMX50070-101776 start_mrt.sh[10236]: Write :/home/instrument/fw/log/2023-11-09T13-11-48Z/bbmpp_log_cmg_400_inst0.txt\\nNov 09 13:12:39 CMX50070-101776 start_mrt.sh[10235]: Write :/home/instrument/fw/log/2023-11-09T13-11-48Z/bbmpp_log_cmg_300_inst1.txt\\nNov 09 13:12:39 CMX50070-101776 start_mrt.sh[10234]: Write :/home/instrument/fw/log/2023-11-09T13-11-48Z/bbmpp_log_cmg_300_inst0.txt\\nNov 09 13:12:39 CMX50070-101776 start_mrt.sh[10232]: Write :/home/instrument/fw/log/2023-11-09T13-11-48Z/bbmpp_log_cmg_400_inst1.txt\\nNov 09 13:12:39 CMX50070-101776 start_mrt.sh[3219]: CCmgAccess(/dev/rohde-schwarz/cmg_400) ctor handle=538\\nNov 09 13:12:39 CMX50070-101776 start_mrt.sh[3219]: fpga version=0x3070007', metadata={'source': 'C:/Users/vishw/OneDrive/Desktop/Projects/daemon-dialoguers/Dataset/test_log1.out'}),\n",
       "  Document(page_content='Nov 09 19:17:08 CMX50070-101776 start-mrt.sysmond.sh[2352936]: 2023-11-09T19:17:08,557366079+00:00 Compress log \"/home/instrument/fw/log/sysmond_main.1.nmon\"...\\nNov 09 19:17:08 CMX50070-101776 start-mrt.sysmond.sh[2352938]: *** zstd command line interface 64-bits v1.5.2, by Yann Collet ***\\nNov 09 19:17:08 CMX50070-101776 start-mrt.sysmond.sh[2352938]: [295B blob data]\\nNov 09 19:17:08 CMX50070-101776 start-mrt.sysmond.sh[2352945]: 2023-11-09T19:17:08,718960566+00:00 Compression done\\nNov 09 19:17:08 CMX50070-101776 start-mrt.sysmond.sh[2352960]: 2023-11-09T19:17:08,743141334+00:00 Compress log \"/home/instrument/fw/log/sysmond_processes.1.nmon\"...\\nNov 09 19:17:08 CMX50070-101776 start-mrt.sysmond.sh[2352962]: *** zstd command line interface 64-bits v1.5.2, by Yann Collet ***\\nNov 09 19:17:08 CMX50070-101776 start-mrt.sysmond.sh[2352962]: [305B blob data]\\nNov 09 19:17:08 CMX50070-101776 start-mrt.sysmond.sh[2352966]: 2023-11-09T19:17:08,857930386+00:00 Compression done', metadata={'source': 'C:/Users/vishw/OneDrive/Desktop/Projects/daemon-dialoguers/Dataset/test_log1.out'}),\n",
       "  Document(page_content='Nov 09 22:19:48 CMX50070-101776 start-mrt.sysmond.sh[3523899]: 2023-11-09T22:19:48,981523352+00:00 Compress log \"/home/instrument/fw/log/sysmond_processes.1.nmon\"...\\nNov 09 22:19:48 CMX50070-101776 start-mrt.sysmond.sh[3523901]: *** zstd command line interface 64-bits v1.5.2, by Yann Collet ***\\nNov 09 22:19:49 CMX50070-101776 start-mrt.sysmond.sh[3523901]: [305B blob data]\\nNov 09 22:19:49 CMX50070-101776 start-mrt.sysmond.sh[3523905]: 2023-11-09T22:19:49,099110450+00:00 Compression done\\nNov 09 22:19:49 CMX50070-101776 start-mrt.sysmond.sh[3523909]: 2023-11-09T22:19:49,101141269+00:00 Rotation done\\nNov 09 22:19:49 CMX50070-101776 start-mrt.sysmond.sh[3523913]: 2023-11-09T22:19:49,102983017+00:00 Launching nmon...\\nNov 09 22:19:49 CMX50070-101776 start-mrt.sysmond.sh[3523924]: 2023-11-09T22:19:49,110938824+00:00 Launch done: PID is 3523920\\nNov 09 22:19:50 CMX50070-101776 mrt.pos.catrp3dr[1867]: info: RohdeSchwarz.Mrt.Microservices.PositioningCatrP3Dr.Positioning.PositioningServiceHost[0]', metadata={'source': 'C:/Users/vishw/OneDrive/Desktop/Projects/daemon-dialoguers/Dataset/test_log1.out'})],\n",
       " [0.6689145885857017,\n",
       "  0.656504786216457,\n",
       "  0.6547349136069391,\n",
       "  0.6544322149409338,\n",
       "  0.6539689367821021,\n",
       "  0.6537894333542942,\n",
       "  0.6526603192826874,\n",
       "  0.6509040601052385,\n",
       "  0.6485345221351074,\n",
       "  0.6468751796358092,\n",
       "  0.6463752969390458,\n",
       "  0.6458268821462221,\n",
       "  0.6453519714572014,\n",
       "  0.6453226372506378,\n",
       "  0.6443565050422225])"
      ]
     },
     "execution_count": 13,
     "metadata": {},
     "output_type": "execute_result"
    }
   ],
   "source": [
    "returns = cm.get_context(\"When was run sfa_mmi executed?\", f\"./chromadb/{md5hash}_large\")\n",
    "returns"
   ]
  },
  {
   "cell_type": "markdown",
   "metadata": {},
   "source": [
    "### ChatGPT test"
   ]
  },
  {
   "cell_type": "code",
   "execution_count": 29,
   "metadata": {},
   "outputs": [],
   "source": [
    "md5hash = hashlib.md5(open(f\"{DATA_DIR}/test_log1.out\",'rb').read()).hexdigest()\n"
   ]
  },
  {
   "cell_type": "code",
   "execution_count": 101,
   "metadata": {},
   "outputs": [
    {
     "data": {
      "text/plain": [
       "{'answer': \"I'm sorry, but the provided context doesn't contain any information about an error with _ifXTable_container_row_restore in a file.\",\n",
       " 'Source': ['audit(1699595347.228:252): proctitle=2F7573722F7362696E2F69707461626C6573002D2D77616974002D74006E6174002D4400444F434B4552002D7000746370002D6400302F30002D2D64706F72740034393939002D6A00444E4154002D2D746F2D64657374696E6174696F6E003130302E38322E36342E3133323A343939390000002D690062722D653937343130',\n",
       "  'audit(1699595350.038:269): proctitle=2F7573722F7362696E2F69707461626C6573002D2D77616974002D740066696C746572002D4400444F434B45520000002D690062722D653937343130663832613539002D6F0062722D653937343130663832613539002D7000746370002D64003130302E38322E36342E313330002D2D64706F72740034393937002D6A004143',\n",
       "  'audit(1699595350.035:268): proctitle=2F7573722F7362696E2F69707461626C6573002D2D77616974002D74006E6174002D4400444F434B4552002D7000746370002D6400302F30002D2D64706F72740034393937002D6A00444E4154002D2D746F2D64657374696E6174696F6E003130302E38322E36342E3133303A343939370000002D690062722D653937343130',\n",
       "  'Nov 09 13:11:56 CMX50070-101776 audit: PROCTITLE proctitle=2F7573722F7362696E2F69707461626C6573002D2D77616974002D74006E6174002D4100504F5354524F5554494E47002D7000746370002D73003130302E38322E36342E313332002D64003130302E38322E36342E313332002D2D64706F72740034393938002D6A004D415351554552414445',\n",
       "  'Nov 09 13:11:54 CMX50070-101776 audit: PROCTITLE proctitle=2F7573722F7362696E2F69707461626C6573002D2D77616974002D74006E6174002D4100504F5354524F5554494E47002D7000746370002D73003130302E38322E36342E313331002D64003130302E38322E36342E313331002D2D64706F72740038303930002D6A004D415351554552414445',\n",
       "  'Nov 09 13:11:56 CMX50070-101776 audit: PROCTITLE proctitle=2F7573722F7362696E2F69707461626C6573002D2D77616974002D74006E6174002D4100504F5354524F5554494E47002D7000746370002D73003130302E38322E36342E313332002D64003130302E38322E36342E313332002D2D64706F72740034393939002D6A004D415351554552414445',\n",
       "  'Nov 09 13:11:52 CMX50070-101776 audit: PROCTITLE proctitle=2F7573722F7362696E2F69707461626C6573002D2D77616974002D74006E6174002D4100504F5354524F5554494E47002D7000746370002D73003130302E38322E36342E313330002D64003130302E38322E36342E313330002D2D64706F72740034393935002D6A004D415351554552414445',\n",
       "  'Nov 09 13:11:52 CMX50070-101776 audit: PROCTITLE proctitle=2F7573722F7362696E2F69707461626C6573002D2D77616974002D74006E6174002D4100504F5354524F5554494E47002D7000746370002D73003130302E38322E36342E313330002D64003130302E38322E36342E313330002D2D64706F72740034393934002D6A004D415351554552414445',\n",
       "  'Nov 09 13:11:52 CMX50070-101776 audit: PROCTITLE proctitle=2F7573722F7362696E2F69707461626C6573002D2D77616974002D74006E6174002D4100504F5354524F5554494E47002D7000746370002D73003130302E38322E36342E313330002D64003130302E38322E36342E313330002D2D64706F72740034393933002D6A004D415351554552414445',\n",
       "  'Nov 09 13:11:52 CMX50070-101776 audit: PROCTITLE proctitle=2F7573722F7362696E2F69707461626C6573002D2D77616974002D74006E6174002D4100504F5354524F5554494E47002D7000746370002D73003130302E38322E36342E313330002D64003130302E38322E36342E313330002D2D64706F72740034393937002D6A004D415351554552414445'],\n",
       " 'Confidence': [0.6320599934017752,\n",
       "  0.6185901977924815,\n",
       "  0.6179177448244901,\n",
       "  0.6169703258168138,\n",
       "  0.6168574565565016,\n",
       "  0.6165775171886922,\n",
       "  0.6156747738404373,\n",
       "  0.6137484099823984,\n",
       "  0.6137188228947439,\n",
       "  0.613355685647974]}"
      ]
     },
     "execution_count": 101,
     "metadata": {},
     "output_type": "execute_result"
    }
   ],
   "source": [
    "chatbot.chat_with_bot(\"What?\", md5hash, '002', memory=False)"
   ]
  },
  {
   "cell_type": "code",
   "execution_count": 102,
   "metadata": {},
   "outputs": [
    {
     "data": {
      "text/plain": [
       "{'answer': 'The SNMP packets were received from UDP: [10.0.2.217]:41179->[10.102.37.173]:161.',\n",
       " 'Source': ['Nov 09 13:41:18 CMX50070-101776 rspias-daemon[887]: PIAS: Socket[7] << R&S,1201.0002k70/101776,5.0.60.4\\\\n\\nNov 09 13:41:18 CMX50070-101776 rspias-daemon[887]: PIAS: Socket[7] >> DIAG:UPD:TRAN:VERS?\\\\n\\nNov 09 13:41:18 CMX50070-101776 rspias-daemon[887]: PIAS: Socket[7] << 281,152\\\\n',\n",
       "  'Nov 09 13:41:18 CMX50070-101776 rspias-daemon[887]: PIAS: Socket[4] << R&S,1201.0002k70/101776,5.0.60.4\\\\n\\nNov 09 13:41:18 CMX50070-101776 rspias-daemon[887]: PIAS: Socket[4] >> DIAG:UPD:TRAN:VERS?\\\\n\\nNov 09 13:41:18 CMX50070-101776 rspias-daemon[887]: PIAS: Socket[4] << 281,152\\\\n',\n",
       "  'Nov 09 13:41:12 CMX50070-101776 rspias-daemon[887]: PIAS: Socket[4] << R&S,1201.0002k70/101776,5.0.60.4\\\\n\\nNov 09 13:41:12 CMX50070-101776 rspias-daemon[887]: PIAS: Socket[4] >> DIAG:UPD:TRAN:VERS?\\\\n\\nNov 09 13:41:12 CMX50070-101776 rspias-daemon[887]: PIAS: Socket[4] << 281,152\\\\n',\n",
       "  'Nov 09 16:35:09 CMX50070-101776 rspias-daemon[887]: PIAS: Socket[4] << R&S,1201.0002k70/101776,5.0.60.4\\\\n\\nNov 09 16:35:09 CMX50070-101776 rspias-daemon[887]: PIAS: Socket[4] >> DIAG:UPD:TRAN:VERS?\\\\n\\nNov 09 16:35:09 CMX50070-101776 rspias-daemon[887]: PIAS: Socket[4] << 281,152\\\\n',\n",
       "  'Nov 09 13:41:18 CMX50070-101776 rspias-daemon[887]: PIAS: Socket[4] << R&S,1201.0002k70/101776,5.0.60.4\\\\n\\nNov 09 13:41:18 CMX50070-101776 rspias-daemon[887]: PIAS: Socket[4] >> DIAG:UPD:TRAN:VERS?\\\\n\\nNov 09 13:41:18 CMX50070-101776 rspias-daemon[887]: PIAS: Socket[4] << 281,152\\\\n',\n",
       "  'Nov 09 16:37:07 CMX50070-101776 rspias-daemon[887]: PIAS: Socket[4] << R&S,1201.0002k70/101776,5.0.60.4\\\\n\\nNov 09 16:37:07 CMX50070-101776 rspias-daemon[887]: PIAS: Socket[4] >> DIAG:UPD:TRAN:VERS?\\\\n\\nNov 09 16:37:07 CMX50070-101776 rspias-daemon[887]: PIAS: Socket[4] << 281,152\\\\n',\n",
       "  'Nov 09 13:41:10 CMX50070-101776 rspias-daemon[887]: PIAS: Socket[7] << R&S,1201.0002k70/101776,5.0.60.4\\\\n\\nNov 09 13:41:10 CMX50070-101776 rspias-daemon[887]: PIAS: Socket[7] >> DIAG:UPD:TRAN:VERS?\\\\n\\nNov 09 13:41:10 CMX50070-101776 rspias-daemon[887]: PIAS: Socket[7] << 281,152\\\\n',\n",
       "  'Nov 09 13:41:12 CMX50070-101776 rspias-daemon[887]: PIAS: Socket[8] << R&S,1201.0002k70/101776,5.0.60.4\\\\n\\nNov 09 13:41:12 CMX50070-101776 rspias-daemon[887]: PIAS: Socket[8] >> DIAG:UPD:TRAN:VERS?\\\\n\\nNov 09 13:41:12 CMX50070-101776 rspias-daemon[887]: PIAS: Socket[8] << 281,152\\\\n',\n",
       "  'Nov 09 14:22:37 CMX50070-101776 rspias-daemon[887]: PIAS: Socket[7] << R&S,1201.0002k70/101776,5.0.60.4\\\\n\\nNov 09 14:22:37 CMX50070-101776 rspias-daemon[887]: PIAS: Socket[7] >> DIAG:UPD:TRAN:VERS?\\\\n\\nNov 09 14:22:37 CMX50070-101776 rspias-daemon[887]: PIAS: Socket[7] << 281,152\\\\n',\n",
       "  'Nov 09 16:37:07 CMX50070-101776 rspias-daemon[887]: PIAS: Socket[7] << R&S,1201.0002k70/101776,5.0.60.4\\\\n\\nNov 09 16:37:07 CMX50070-101776 rspias-daemon[887]: PIAS: Socket[7] >> DIAG:UPD:TRAN:VERS?\\\\n\\nNov 09 16:37:07 CMX50070-101776 rspias-daemon[887]: PIAS: Socket[7] << 281,152\\\\n'],\n",
       " 'Confidence': [0.7082882798317003,\n",
       "  0.7075255904610471,\n",
       "  0.707295342227632,\n",
       "  0.7072485802992092,\n",
       "  0.7071526751454227,\n",
       "  0.7071521483098163,\n",
       "  0.7069126277697289,\n",
       "  0.7066914411087437,\n",
       "  0.7065355820629504,\n",
       "  0.706478304495824]}"
      ]
     },
     "execution_count": 102,
     "metadata": {},
     "output_type": "execute_result"
    }
   ],
   "source": [
    "chatbot.chat_with_bot(\"What SNMP packet(s) were recieved from UDP?\", md5hash, '002', memory=True)"
   ]
  },
  {
   "cell_type": "code",
   "execution_count": 38,
   "metadata": {},
   "outputs": [],
   "source": [
    "from langchain.embeddings import HuggingFaceEmbeddings, OpenAIEmbeddings\n",
    "from langchain.vectorstores import Chroma\n",
    "from langchain.document_loaders import TextLoader\n",
    "from langchain.text_splitter import RecursiveCharacterTextSplitter\n",
    "from langchain.chat_models import ChatOpenAI\n",
    "from langchain.chains import ConversationalRetrievalChain, RetrievalQAWithSourcesChain\n",
    "from langchain.memory import ConversationBufferMemory\n",
    "\n",
    "import os\n",
    "os.environ[\"OPENAI_API_KEY\"] = key['openai_api_key']"
   ]
  },
  {
   "cell_type": "code",
   "execution_count": 39,
   "metadata": {},
   "outputs": [],
   "source": [
    "memory = ConversationBufferMemory(memory_key='chat_history', return_messages=True, input_key='question', output_key='answer')"
   ]
  },
  {
   "cell_type": "code",
   "execution_count": 40,
   "metadata": {},
   "outputs": [],
   "source": [
    "md5hash = hashlib.md5(open(f\"{DATA_DIR}/test_log1.out\",'rb').read()).hexdigest()\n",
    "question = \"What lines have messages on SSH?\""
   ]
  },
  {
   "cell_type": "code",
   "execution_count": 41,
   "metadata": {},
   "outputs": [],
   "source": [
    "docs_small,conf_small = cm.get_context(question, f\"./chromadb/{md5hash}_small\")\n",
    "docs_large,conf_large = cm.get_context(question, f\"./chromadb/{md5hash}_large\")\n",
    "\n",
    "## Add both large and small to a single list and sort them by confidence\n",
    "docs = docs_small + docs_large\n",
    "conf = conf_small + conf_large\n",
    "\n",
    "df = pd.DataFrame({'docs':docs, 'conf':conf})\n",
    "df.sort_values(by='conf', ascending=False, inplace=True)\n",
    "df.reset_index(drop=True, inplace=True)\n",
    "\n",
    "# df\n",
    "\n"
   ]
  },
  {
   "cell_type": "code",
   "execution_count": 22,
   "metadata": {},
   "outputs": [],
   "source": [
    "embedding = OpenAIEmbeddings(\n",
    "openai_organization=key['openai_organization'],\n",
    "openai_api_key = key['openai_api_key'],\n",
    "model=\"text-embedding-ada-002\",\n",
    "max_retries=10,\n",
    ")\n",
    "\n",
    "vectorstore_relevant = Chroma.from_documents(list(df['docs'].values), embedding=embedding)\n",
    "retriver = vectorstore_relevant.as_retriever(search_kwargs={\"k\": 10,\"score_threshold\": .5})\n"
   ]
  },
  {
   "cell_type": "code",
   "execution_count": 23,
   "metadata": {},
   "outputs": [],
   "source": [
    "llm = ChatOpenAI(\n",
    "openai_organization=\"org-kfsNXpcw90CoawqSyD7Mw4CD\",\n",
    "model=\"gpt-4\",\n",
    "max_tokens=1000,\n",
    ")"
   ]
  },
  {
   "cell_type": "code",
   "execution_count": 24,
   "metadata": {},
   "outputs": [],
   "source": [
    "chat = RetrievalQAWithSourcesChain.from_llm(llm, retriever=retriver, memory=memory, return_source_documents=True, max_tokens_limit=1000, reduce_k_below_max_tokens=True)"
   ]
  },
  {
   "cell_type": "code",
   "execution_count": 25,
   "metadata": {},
   "outputs": [
    {
     "data": {
      "text/plain": [
       "{'question': 'What lines have messages on SSH?',\n",
       " 'chat_history': [HumanMessage(content='What lines have messages on SSH?'),\n",
       "  AIMessage(content='The following lines have messages on SSH: \\n\\n1. \"Nov 09 13:50:04 CMX50070-101776 sshd[249289]: Connection closed by 172.25.11.232 port 45426\"\\n2. \"Nov 09 13:44:11 CMX50070-101776 sshd[212198]: Connection closed by 172.25.232.145 port 56312\"\\n3. \"Nov 09 13:54:33 CMX50070-101776 sshd[277530]: Connection closed by 172.25.11.232 port 36124\"\\n4. \"Nov 09 13:55:08 CMX50070-101776 sshd[281144]: Connection closed by 192.168.85.173 port 60810\"\\n5. \"Nov 09 13:53:34 CMX50070-101776 sshd[271352]: Connection closed by 172.24.11.231 port 33828\"\\n\\n')],\n",
       " 'answer': 'The following lines have messages on SSH: \\n\\n1. \"Nov 09 13:50:04 CMX50070-101776 sshd[249289]: Connection closed by 172.25.11.232 port 45426\"\\n2. \"Nov 09 13:44:11 CMX50070-101776 sshd[212198]: Connection closed by 172.25.232.145 port 56312\"\\n3. \"Nov 09 13:54:33 CMX50070-101776 sshd[277530]: Connection closed by 172.25.11.232 port 36124\"\\n4. \"Nov 09 13:55:08 CMX50070-101776 sshd[281144]: Connection closed by 192.168.85.173 port 60810\"\\n5. \"Nov 09 13:53:34 CMX50070-101776 sshd[271352]: Connection closed by 172.24.11.231 port 33828\"\\n\\n',\n",
       " 'sources': 'C:/Users/vishw/OneDrive/Desktop/Projects/daemon-dialoguers/Dataset/test_log1.out',\n",
       " 'source_documents': [Document(page_content='Nov 09 13:50:04 CMX50070-101776 sshd[249289]: Connection closed by 172.25.11.232 port 45426\\nNov 09 13:50:04 CMX50070-101776 systemd[1]: sshd@214-10.102.37.173:22-172.25.11.232:45426.service: Deactivated successfully.\\nNov 09 13:50:04 CMX50070-101776 start_cmxmarsserver.sh[173642]: Got Data: 947400 count: 40 t: 1:50:04 PM\\nNov 09 13:50:06 CMX50070-101776 start_cmxmarsserver.sh[173642]: Got Data: 949400 count: 55 t: 1:50:06 PM\\nNov 09 13:50:07 CMX50070-101776 start_cmxmarsserver.sh[173642]: Got Data: 951400 count: 58 t: 1:50:07 PM\\nNov 09 13:50:07 CMX50070-101776 start_cmxmarsserver.sh[173642]: Got Data: 953400 count: 55 t: 1:50:07 PM\\nNov 09 13:50:09 CMX50070-101776 start_cmxmarsserver.sh[173642]: Got Data: 955400 count: 63 t: 1:50:09 PM\\nNov 09 13:50:10 CMX50070-101776 start_cmxmarsserver.sh[173642]: Got Data: 957400 count: 65 t: 1:50:10 PM\\nNov 09 13:50:11 CMX50070-101776 start_cmxmarsserver.sh[173642]: Got Data: 959400 count: 72 t: 1:50:11 PM', metadata={'source': 'C:/Users/vishw/OneDrive/Desktop/Projects/daemon-dialoguers/Dataset/test_log1.out'}),\n",
       "  Document(page_content='Nov 09 13:50:04 CMX50070-101776 sshd[249289]: Connection closed by 172.25.11.232 port 45426\\nNov 09 13:50:04 CMX50070-101776 systemd[1]: sshd@214-10.102.37.173:22-172.25.11.232:45426.service: Deactivated successfully.\\nNov 09 13:50:04 CMX50070-101776 start_cmxmarsserver.sh[173642]: Got Data: 947400 count: 40 t: 1:50:04 PM\\nNov 09 13:50:06 CMX50070-101776 start_cmxmarsserver.sh[173642]: Got Data: 949400 count: 55 t: 1:50:06 PM\\nNov 09 13:50:07 CMX50070-101776 start_cmxmarsserver.sh[173642]: Got Data: 951400 count: 58 t: 1:50:07 PM\\nNov 09 13:50:07 CMX50070-101776 start_cmxmarsserver.sh[173642]: Got Data: 953400 count: 55 t: 1:50:07 PM\\nNov 09 13:50:09 CMX50070-101776 start_cmxmarsserver.sh[173642]: Got Data: 955400 count: 63 t: 1:50:09 PM\\nNov 09 13:50:10 CMX50070-101776 start_cmxmarsserver.sh[173642]: Got Data: 957400 count: 65 t: 1:50:10 PM\\nNov 09 13:50:11 CMX50070-101776 start_cmxmarsserver.sh[173642]: Got Data: 959400 count: 72 t: 1:50:11 PM', metadata={'source': 'C:/Users/vishw/OneDrive/Desktop/Projects/daemon-dialoguers/Dataset/test_log1.out'}),\n",
       "  Document(page_content='Nov 09 13:44:11 CMX50070-101776 sshd[212198]: Connection closed by 172.25.232.145 port 56312\\nNov 09 13:44:11 CMX50070-101776 systemd[1]: sshd@179-10.102.37.173:22-172.25.232.145:56312.service: Deactivated successfully.\\nNov 09 13:44:14 CMX50070-101776 start_cmxmarsserver.sh[173642]: Got Data: 243800 count: 5 t: 1:44:14 PM\\nNov 09 13:44:14 CMX50070-101776 start_cmxmarsserver.sh[173642]: Got Data: 243700 count: 100 t: 1:44:14 PM\\nNov 09 13:44:15 CMX50070-101776 start_cmxmarsserver.sh[173642]: Got Data: 245500 count: 100 t: 1:44:15 PM\\nNov 09 13:44:15 CMX50070-101776 start_cmxmarsserver.sh[173642]: Got Data: 245600 count: 13 t: 1:44:15 PM\\nNov 09 13:44:15 CMX50070-101776 start_cmxmarsserver.sh[173642]: Got Data: 246600 count: 4 t: 1:44:15 PM\\nNov 09 13:44:15 CMX50070-101776 start_cmxmarsserver.sh[173642]: Got Data: 246500 count: 100 t: 1:44:15 PM\\nNov 09 13:44:15 CMX50070-101776 start_cmxmarsserver.sh[173642]: Got Data: 247000 count: 8 t: 1:44:15 PM', metadata={'source': 'C:/Users/vishw/OneDrive/Desktop/Projects/daemon-dialoguers/Dataset/test_log1.out'}),\n",
       "  Document(page_content='Nov 09 13:44:11 CMX50070-101776 sshd[212198]: Connection closed by 172.25.232.145 port 56312\\nNov 09 13:44:11 CMX50070-101776 systemd[1]: sshd@179-10.102.37.173:22-172.25.232.145:56312.service: Deactivated successfully.\\nNov 09 13:44:14 CMX50070-101776 start_cmxmarsserver.sh[173642]: Got Data: 243800 count: 5 t: 1:44:14 PM\\nNov 09 13:44:14 CMX50070-101776 start_cmxmarsserver.sh[173642]: Got Data: 243700 count: 100 t: 1:44:14 PM\\nNov 09 13:44:15 CMX50070-101776 start_cmxmarsserver.sh[173642]: Got Data: 245500 count: 100 t: 1:44:15 PM\\nNov 09 13:44:15 CMX50070-101776 start_cmxmarsserver.sh[173642]: Got Data: 245600 count: 13 t: 1:44:15 PM\\nNov 09 13:44:15 CMX50070-101776 start_cmxmarsserver.sh[173642]: Got Data: 246600 count: 4 t: 1:44:15 PM\\nNov 09 13:44:15 CMX50070-101776 start_cmxmarsserver.sh[173642]: Got Data: 246500 count: 100 t: 1:44:15 PM\\nNov 09 13:44:15 CMX50070-101776 start_cmxmarsserver.sh[173642]: Got Data: 247000 count: 8 t: 1:44:15 PM', metadata={'source': 'C:/Users/vishw/OneDrive/Desktop/Projects/daemon-dialoguers/Dataset/test_log1.out'}),\n",
       "  Document(page_content='Nov 09 13:54:33 CMX50070-101776 sshd[277530]: Connection closed by 172.25.11.232 port 36124\\nNov 09 13:54:33 CMX50070-101776 systemd[1]: sshd@237-10.102.37.173:22-172.25.11.232:36124.service: Deactivated successfully.\\nNov 09 13:54:34 CMX50070-101776 start_cmxmarsserver.sh[173642]: Got Data: 1486800 count: 51 t: 1:54:34 PM\\nNov 09 13:54:34 CMX50070-101776 start_cmxmarsserver.sh[173642]: Got Data: 1488800 count: 53 t: 1:54:34 PM\\nNov 09 13:54:36 CMX50070-101776 start_cmxmarsserver.sh[173642]: Got Data: 1490800 count: 51 t: 1:54:36 PM\\nNov 09 13:54:37 CMX50070-101776 start_cmxmarsserver.sh[173642]: Got Data: 1492800 count: 66 t: 1:54:37 PM\\nNov 09 13:54:38 CMX50070-101776 start_cmxmarsserver.sh[173642]: Got Data: 1494800 count: 64 t: 1:54:38 PM\\nNov 09 13:54:39 CMX50070-101776 start_cmxmarsserver.sh[173642]: Got Data: 1496800 count: 68 t: 1:54:39 PM\\nNov 09 13:54:40 CMX50070-101776 start_cmxmarsserver.sh[173642]: Got Data: 1498800 count: 77 t: 1:54:40 PM', metadata={'source': 'C:/Users/vishw/OneDrive/Desktop/Projects/daemon-dialoguers/Dataset/test_log1.out'}),\n",
       "  Document(page_content='Nov 09 13:55:08 CMX50070-101776 sshd[281144]: Connection closed by 192.168.85.173 port 60810\\nNov 09 13:55:08 CMX50070-101776 systemd[1]: sshd@239-10.102.37.173:22-192.168.85.173:60810.service: Deactivated successfully.\\nNov 09 13:55:08 CMX50070-101776 start_cmxmarsserver.sh[173642]: Got Data: 1554800 count: 98 t: 1:55:08 PM\\nNov 09 13:55:09 CMX50070-101776 start_cmxmarsserver.sh[173642]: Got Data: 1556700 count: 33 t: 1:55:09 PM\\nNov 09 13:55:09 CMX50070-101776 start_cmxmarsserver.sh[173642]: Got Data: 1556700 count: 34 t: 1:55:09 PM\\nNov 09 13:55:10 CMX50070-101776 start_cmxmarsserver.sh[173642]: Got Data: 1556700 count: 100 t: 1:55:10 PM\\nNov 09 13:55:10 CMX50070-101776 start_cmxmarsserver.sh[173642]: Got Data: 1556800 count: 21 t: 1:55:10 PM\\nNov 09 13:55:11 CMX50070-101776 start_cmxmarsserver.sh[173642]: Got Data: 1556900 count: 58 t: 1:55:11 PM\\nNov 09 13:55:13 CMX50070-101776 start_cmxmarsserver.sh[173642]: Got Data: 1557000 count: 96 t: 1:55:13 PM', metadata={'source': 'C:/Users/vishw/OneDrive/Desktop/Projects/daemon-dialoguers/Dataset/test_log1.out'}),\n",
       "  Document(page_content='Nov 09 13:55:08 CMX50070-101776 sshd[281144]: Connection closed by 192.168.85.173 port 60810\\nNov 09 13:55:08 CMX50070-101776 systemd[1]: sshd@239-10.102.37.173:22-192.168.85.173:60810.service: Deactivated successfully.\\nNov 09 13:55:08 CMX50070-101776 start_cmxmarsserver.sh[173642]: Got Data: 1554800 count: 98 t: 1:55:08 PM\\nNov 09 13:55:09 CMX50070-101776 start_cmxmarsserver.sh[173642]: Got Data: 1556700 count: 33 t: 1:55:09 PM\\nNov 09 13:55:09 CMX50070-101776 start_cmxmarsserver.sh[173642]: Got Data: 1556700 count: 34 t: 1:55:09 PM\\nNov 09 13:55:10 CMX50070-101776 start_cmxmarsserver.sh[173642]: Got Data: 1556700 count: 100 t: 1:55:10 PM\\nNov 09 13:55:10 CMX50070-101776 start_cmxmarsserver.sh[173642]: Got Data: 1556800 count: 21 t: 1:55:10 PM\\nNov 09 13:55:11 CMX50070-101776 start_cmxmarsserver.sh[173642]: Got Data: 1556900 count: 58 t: 1:55:11 PM\\nNov 09 13:55:13 CMX50070-101776 start_cmxmarsserver.sh[173642]: Got Data: 1557000 count: 96 t: 1:55:13 PM', metadata={'source': 'C:/Users/vishw/OneDrive/Desktop/Projects/daemon-dialoguers/Dataset/test_log1.out'}),\n",
       "  Document(page_content='Nov 09 13:54:33 CMX50070-101776 sshd[277530]: Connection closed by 172.25.11.232 port 36124\\nNov 09 13:54:33 CMX50070-101776 systemd[1]: sshd@237-10.102.37.173:22-172.25.11.232:36124.service: Deactivated successfully.\\nNov 09 13:54:34 CMX50070-101776 start_cmxmarsserver.sh[173642]: Got Data: 1486800 count: 51 t: 1:54:34 PM\\nNov 09 13:54:34 CMX50070-101776 start_cmxmarsserver.sh[173642]: Got Data: 1488800 count: 53 t: 1:54:34 PM\\nNov 09 13:54:36 CMX50070-101776 start_cmxmarsserver.sh[173642]: Got Data: 1490800 count: 51 t: 1:54:36 PM\\nNov 09 13:54:37 CMX50070-101776 start_cmxmarsserver.sh[173642]: Got Data: 1492800 count: 66 t: 1:54:37 PM\\nNov 09 13:54:38 CMX50070-101776 start_cmxmarsserver.sh[173642]: Got Data: 1494800 count: 64 t: 1:54:38 PM\\nNov 09 13:54:39 CMX50070-101776 start_cmxmarsserver.sh[173642]: Got Data: 1496800 count: 68 t: 1:54:39 PM\\nNov 09 13:54:40 CMX50070-101776 start_cmxmarsserver.sh[173642]: Got Data: 1498800 count: 77 t: 1:54:40 PM', metadata={'source': 'C:/Users/vishw/OneDrive/Desktop/Projects/daemon-dialoguers/Dataset/test_log1.out'}),\n",
       "  Document(page_content='Nov 09 13:53:34 CMX50070-101776 sshd[271352]: Connection closed by 172.24.11.231 port 33828\\nNov 09 13:53:34 CMX50070-101776 systemd[1]: sshd@235-10.102.37.173:22-172.24.11.231:33828.service: Deactivated successfully.\\nNov 09 13:53:35 CMX50070-101776 start_cmxmarsserver.sh[173642]: Got Data: 1368400 count: 100 t: 1:53:35 PM\\nNov 09 13:53:35 CMX50070-101776 start_cmxmarsserver.sh[173642]: Got Data: 1368500 count: 25 t: 1:53:35 PM\\nNov 09 13:53:35 CMX50070-101776 start_cmxmarsserver.sh[173642]: Got Data: 1370500 count: 37 t: 1:53:35 PM\\nNov 09 13:53:36 CMX50070-101776 start_cmxmarsserver.sh[173642]: Got Data: 1372500 count: 39 t: 1:53:36 PM\\nNov 09 13:53:38 CMX50070-101776 start_cmxmarsserver.sh[173642]: Got Data: 1374500 count: 41 t: 1:53:38 PM\\nNov 09 13:53:39 CMX50070-101776 start_cmxmarsserver.sh[173642]: Got Data: 1376500 count: 54 t: 1:53:39 PM\\nNov 09 13:53:39 CMX50070-101776 start_cmxmarsserver.sh[173642]: Got Data: 1378500 count: 57 t: 1:53:39 PM', metadata={'source': 'C:/Users/vishw/OneDrive/Desktop/Projects/daemon-dialoguers/Dataset/test_log1.out'}),\n",
       "  Document(page_content='Nov 09 13:53:34 CMX50070-101776 sshd[271352]: Connection closed by 172.24.11.231 port 33828\\nNov 09 13:53:34 CMX50070-101776 systemd[1]: sshd@235-10.102.37.173:22-172.24.11.231:33828.service: Deactivated successfully.\\nNov 09 13:53:35 CMX50070-101776 start_cmxmarsserver.sh[173642]: Got Data: 1368400 count: 100 t: 1:53:35 PM\\nNov 09 13:53:35 CMX50070-101776 start_cmxmarsserver.sh[173642]: Got Data: 1368500 count: 25 t: 1:53:35 PM\\nNov 09 13:53:35 CMX50070-101776 start_cmxmarsserver.sh[173642]: Got Data: 1370500 count: 37 t: 1:53:35 PM\\nNov 09 13:53:36 CMX50070-101776 start_cmxmarsserver.sh[173642]: Got Data: 1372500 count: 39 t: 1:53:36 PM\\nNov 09 13:53:38 CMX50070-101776 start_cmxmarsserver.sh[173642]: Got Data: 1374500 count: 41 t: 1:53:38 PM\\nNov 09 13:53:39 CMX50070-101776 start_cmxmarsserver.sh[173642]: Got Data: 1376500 count: 54 t: 1:53:39 PM\\nNov 09 13:53:39 CMX50070-101776 start_cmxmarsserver.sh[173642]: Got Data: 1378500 count: 57 t: 1:53:39 PM', metadata={'source': 'C:/Users/vishw/OneDrive/Desktop/Projects/daemon-dialoguers/Dataset/test_log1.out'})]}"
      ]
     },
     "execution_count": 25,
     "metadata": {},
     "output_type": "execute_result"
    }
   ],
   "source": [
    "result = chat({\"question\": question})\n",
    "result"
   ]
  },
  {
   "cell_type": "code",
   "execution_count": 26,
   "metadata": {},
   "outputs": [
    {
     "name": "stdout",
     "output_type": "stream",
     "text": [
      "The following lines have messages on SSH: \n",
      "\n",
      "1. \"Nov 09 13:50:04 CMX50070-101776 sshd[249289]: Connection closed by 172.25.11.232 port 45426\"\n",
      "2. \"Nov 09 13:44:11 CMX50070-101776 sshd[212198]: Connection closed by 172.25.232.145 port 56312\"\n",
      "3. \"Nov 09 13:54:33 CMX50070-101776 sshd[277530]: Connection closed by 172.25.11.232 port 36124\"\n",
      "4. \"Nov 09 13:55:08 CMX50070-101776 sshd[281144]: Connection closed by 192.168.85.173 port 60810\"\n",
      "5. \"Nov 09 13:53:34 CMX50070-101776 sshd[271352]: Connection closed by 172.24.11.231 port 33828\"\n",
      "\n",
      "\n"
     ]
    }
   ],
   "source": [
    "print(result['answer'])"
   ]
  },
  {
   "cell_type": "markdown",
   "metadata": {},
   "source": [
    "### Full Token Test"
   ]
  },
  {
   "cell_type": "code",
   "execution_count": 49,
   "metadata": {},
   "outputs": [],
   "source": [
    "memory = ConversationBufferMemory(memory_key='chat_history', return_messages=True, input_key='question', output_key='answer')"
   ]
  },
  {
   "cell_type": "code",
   "execution_count": 50,
   "metadata": {},
   "outputs": [],
   "source": [
    "embedding = OpenAIEmbeddings(\n",
    "openai_organization=key['openai_organization'],\n",
    "openai_api_key = key['openai_api_key'],\n",
    "model=\"text-embedding-ada-002\",\n",
    "max_retries=10,\n",
    ")\n",
    "\n",
    "# Loading the datastore\n",
    "vector_db = Chroma(persist_directory=f\"./chromadb/{md5hash}_small\", embedding_function=embedding)\n",
    "retriver = vector_db.as_retriever()"
   ]
  },
  {
   "cell_type": "code",
   "execution_count": 51,
   "metadata": {},
   "outputs": [],
   "source": [
    "llm = ChatOpenAI(\n",
    "openai_organization=\"org-kfsNXpcw90CoawqSyD7Mw4CD\",\n",
    "model=\"gpt-4\",\n",
    ")\n",
    "\n",
    "chat = RetrievalQAWithSourcesChain.from_llm(llm, retriever=retriver, memory=memory, return_source_documents=True)"
   ]
  },
  {
   "cell_type": "code",
   "execution_count": 53,
   "metadata": {},
   "outputs": [
    {
     "data": {
      "text/plain": [
       "{'question': 'What IPs were they from?',\n",
       " 'chat_history': [HumanMessage(content='Were there any SSH login errors?'),\n",
       "  AIMessage(content='Yes, there were SSH login errors. These include authentication failures and connection closures by the remote host. \\n'),\n",
       "  HumanMessage(content='What IPs were they from?'),\n",
       "  AIMessage(content='The IP they were from is 10.0.2.217.\\n')],\n",
       " 'answer': 'The IP they were from is 10.0.2.217.\\n',\n",
       " 'sources': 'C:/Users/vishw/OneDrive/Desktop/Projects/daemon-dialoguers/Dataset/test_log1.out',\n",
       " 'source_documents': [Document(page_content='Nov 09 14:28:28 CMX50070-101776 rspias-daemon[887]: PIAS: PIAS: Remote access from client 10.0.2.217\\nNov 09 14:28:28 CMX50070-101776 rspias-daemon[887]: PIAS: PIAS: Remote access from client 10.0.2.217', metadata={'source': 'C:/Users/vishw/OneDrive/Desktop/Projects/daemon-dialoguers/Dataset/test_log1.out'}),\n",
       "  Document(page_content='Nov 09 14:31:45 CMX50070-101776 rspias-daemon[887]: PIAS: PIAS: Remote access from client 10.0.2.217\\nNov 09 14:31:45 CMX50070-101776 rspias-daemon[887]: PIAS: PIAS: Remote access from client 10.0.2.217', metadata={'source': 'C:/Users/vishw/OneDrive/Desktop/Projects/daemon-dialoguers/Dataset/test_log1.out'}),\n",
       "  Document(page_content='Nov 09 14:31:45 CMX50070-101776 rspias-daemon[887]: PIAS: PIAS: Remote access from client 10.0.2.217\\nNov 09 14:31:45 CMX50070-101776 rspias-daemon[887]: PIAS: PIAS: Remote access from client 10.0.2.217', metadata={'source': 'C:/Users/vishw/OneDrive/Desktop/Projects/daemon-dialoguers/Dataset/test_log1.out'}),\n",
       "  Document(page_content='Nov 09 14:31:45 CMX50070-101776 rspias-daemon[887]: PIAS: PIAS: Remote access from client 10.0.2.217\\nNov 09 14:31:45 CMX50070-101776 rspias-daemon[887]: PIAS: PIAS: Remote access from client 10.0.2.217', metadata={'source': 'C:/Users/vishw/OneDrive/Desktop/Projects/daemon-dialoguers/Dataset/test_log1.out'})]}"
      ]
     },
     "execution_count": 53,
     "metadata": {},
     "output_type": "execute_result"
    }
   ],
   "source": [
    "result = chat({\"question\": f\"What IPs were they from?\"})\n",
    "result"
   ]
  },
  {
   "cell_type": "markdown",
   "metadata": {},
   "source": [
    "### Langchain Summary Model"
   ]
  },
  {
   "cell_type": "code",
   "execution_count": 2,
   "metadata": {},
   "outputs": [],
   "source": [
    "from langchain.embeddings import HuggingFaceEmbeddings, OpenAIEmbeddings\n",
    "from langchain.vectorstores import Chroma\n",
    "from langchain.document_loaders import TextLoader\n",
    "from langchain.text_splitter import CharacterTextSplitter\n",
    "from langchain.chat_models import ChatOpenAI\n",
    "from langchain.chains import ConversationalRetrievalChain, RetrievalQAWithSourcesChain\n",
    "from langchain.memory import ConversationBufferMemory\n",
    "import tiktoken\n",
    "\n",
    "import os\n",
    "os.environ[\"OPENAI_API_KEY\"] = key['openai_api_key']\n",
    "\n",
    "md5hash = hashlib.md5(open(f\"{DATA_DIR}/final_log.out\",'rb').read()).hexdigest()\n"
   ]
  },
  {
   "cell_type": "code",
   "execution_count": 78,
   "metadata": {},
   "outputs": [],
   "source": [
    "from langchain.prompts import PromptTemplate\n",
    "from langchain.chains.summarize import load_summarize_chain\n",
    "import textwrap\n",
    "from time import monotonic\n",
    "\n",
    "prompt_template = \"\"\"Write a concise summary of the following. Start with a small paragraph and then mention some key events as bullet points:\n",
    "\n",
    "\n",
    "{text}\n",
    "\n",
    "Paragraph:\n",
    "\n",
    "Important points:\"\"\"\n",
    "\n",
    "prompt = PromptTemplate(template=prompt_template, input_variables=[\"text\"])\n"
   ]
  },
  {
   "cell_type": "code",
   "execution_count": 79,
   "metadata": {},
   "outputs": [],
   "source": [
    "llm = ChatOpenAI(\n",
    "openai_organization=\"org-kfsNXpcw90CoawqSyD7Mw4CD\",\n",
    "model=\"gpt-4\"\n",
    ")"
   ]
  },
  {
   "cell_type": "code",
   "execution_count": 81,
   "metadata": {},
   "outputs": [],
   "source": [
    "# loader = TextLoader(f\"{DATA_DIR}/test_log1.out\")\n",
    "# documents = loader.load()\n",
    "\n",
    "# text_splitter = RecursiveCharacterTextSplitter(chunk_size=1000, chunk_overlap=0)\n",
    "# documents = text_splitter.split_documents(documents)\n",
    "question = 'What are the important processes and aspects in the log?'\n",
    "docs_small,conf_small = cm.get_context(question, f\"./chromadb/{md5hash}_small\", k = 50)\n",
    "# docs_large,conf_large = cm.get_context(question, f\"./chromadb/{md5hash}_large\", k = 30)\n",
    "\n",
    "## Add both large and small to a single list and sort them by confidence\n",
    "docs = docs_small"
   ]
  },
  {
   "cell_type": "code",
   "execution_count": 82,
   "metadata": {},
   "outputs": [],
   "source": [
    "chain = load_summarize_chain(llm, chain_type=\"stuff\", prompt=prompt)\n",
    "summary = chain.run(docs)"
   ]
  },
  {
   "cell_type": "code",
   "execution_count": 83,
   "metadata": {},
   "outputs": [
    {
     "name": "stdout",
     "output_type": "stream",
     "text": [
      "The text is a collection of system logs and configurations. It captures various system events, such as initialization of loggers, setting log levels, rotation of log files, and system configuration. Throughout the passage, system services are started and logs are compressed and rotated to manage storage usage. There are also instances of logging configurations being read and written to specific directories.\n",
      "\n",
      "Key Events:\n",
      "- Initialization of multiple loggers including \"log.rat.rqm\", \"log.coreLoad\", \"log.fast.core.assert\", etc. with different log levels such as \"debug\" and \"warn\".\n",
      "- Rotation of log files (sysmond_main.1.nmon, sysmond_processes.1.nmon) to manage storage space.\n",
      "- Compression of log files, indicating efficient usage of storage space for log data.\n",
      "- Instances of service registration and successful start up of services such as EventLog.\n",
      "- Reading and writing of logging configurations from and to specific directories.\n",
      "- System configurations including setting up traceSapIpAddress, traceSapPort, and traceSapBufferSize.\n",
      "- Logs capturing system events such as starting of timers, cleanup of temporary directories, and flushing to journal entries.\n",
      "- Instances of logging initialized with logging level 20.\n"
     ]
    }
   ],
   "source": [
    "print(summary)"
   ]
  },
  {
   "cell_type": "markdown",
   "metadata": {},
   "source": [
    "## Clustering attempt"
   ]
  },
  {
   "cell_type": "code",
   "execution_count": 167,
   "metadata": {},
   "outputs": [],
   "source": [
    "import numpy as np\n",
    "from sklearn.cluster import DBSCAN\n",
    "from sklearn.decomposition import PCA"
   ]
  },
  {
   "cell_type": "code",
   "execution_count": 168,
   "metadata": {},
   "outputs": [],
   "source": [
    "embedding = OpenAIEmbeddings(\n",
    "openai_organization=key['openai_organization'],\n",
    "openai_api_key = key['openai_api_key'],\n",
    "model=\"text-embedding-ada-002\",\n",
    "max_retries=10,\n",
    ")\n",
    "vector_db = Chroma(persist_directory=f\"./chromadb/{md5hash}_small\", embedding_function=embedding)\n"
   ]
  },
  {
   "cell_type": "code",
   "execution_count": 169,
   "metadata": {},
   "outputs": [
    {
     "data": {
      "text/plain": [
       "array([-1,  0,  1,  2,  3,  4,  5,  6,  7,  8,  9, 10, 11, 12, 13, 14, 15,\n",
       "       16, 17, 18, 19, 20, 21, 22, 23, 24, 25, 26, 27, 28, 29, 30],\n",
       "      dtype=int64)"
      ]
     },
     "execution_count": 169,
     "metadata": {},
     "output_type": "execute_result"
    }
   ],
   "source": [
    "embeddings = np.array(vector_db.get(include=['embeddings'])['embeddings'])\n",
    "\n",
    "pca = PCA(n_components=10)\n",
    "pca.fit(embeddings)\n",
    "\n",
    "pca_embeddings = pca.transform(embeddings)\n",
    "\n",
    "## DBSCAN\n",
    "dbscan = DBSCAN(eps=0.1, min_samples=3)\n",
    "dbscan.fit(pca_embeddings)\n",
    "\n",
    "## Get all the core points and outliers\n",
    "core_points = np.where(dbscan.core_sample_indices_)[0]\n",
    "outliers = np.where(dbscan.labels_ == -1)[0]\n",
    "\n",
    "## Get the unique labels\n",
    "labels = np.unique(dbscan.labels_)\n",
    "labels"
   ]
  },
  {
   "cell_type": "code",
   "execution_count": 188,
   "metadata": {},
   "outputs": [],
   "source": [
    "outlier_behaviour = list(np.array(vector_db.get(include=['documents'])['documents'])[outliers][:80])"
   ]
  },
  {
   "cell_type": "code",
   "execution_count": 191,
   "metadata": {},
   "outputs": [],
   "source": [
    "from langchain.document_loaders.telegram import text_to_docs\n",
    "outlier_docs = text_to_docs(outlier_behaviour)"
   ]
  },
  {
   "cell_type": "code",
   "execution_count": 201,
   "metadata": {},
   "outputs": [],
   "source": [
    "prompt_template = \"\"\"Write these annomalies in form of bullet points:\n",
    "\n",
    "\n",
    "{text}\n",
    "\n",
    "Anomalies:\"\"\"\n",
    "\n",
    "prompt = PromptTemplate(template=prompt_template, input_variables=[\"text\"])\n",
    "llm = ChatOpenAI(\n",
    "openai_organization=\"org-kfsNXpcw90CoawqSyD7Mw4CD\",\n",
    "model=\"gpt-4\",\n",
    ")\n",
    "chain = load_summarize_chain(llm, chain_type=\"stuff\", prompt=prompt)\n",
    "summary = chain.run(outlier_docs)"
   ]
  },
  {
   "cell_type": "code",
   "execution_count": 202,
   "metadata": {},
   "outputs": [
    {
     "name": "stdout",
     "output_type": "stream",
     "text": [
      "- The \"diskstats_common.go:111\" collector parsed an exclusion flag for diskstats.\n",
      "- The \"rspias-daemon[1016]\" did not check signatures during the installation process.\n",
      "- The \"start-mrt.sysmond.sh[1066]\" SYSMOND_SNAP_PSARGS command had unusual parameters.\n",
      "- The \"Module aufs\" was not found in the specified directory.\n",
      "- The \"cni plugin\" was not initialized due to a failure to load cni config.\n",
      "- The session for user \"xuser\" was closed unexpectedly.\n",
      "- The connection to X server was lost.\n",
      "- The \"AlfManager\" was not started explicitly.\n",
      "- The \"libGL error\" occurred because the radeonsi_dri.so file was not found in the specified directory.\n",
      "- The \"CMX_AU_IOCTL_DMA_DL_FPGA\" call was made in the kernel.\n",
      "- The \"RohdeSchwarz.InstallationManagerAbstractionLib.InstallationManagerHandlerFactory.IsSetup2\" function had an error.\n",
      "- The \"Rohde & Schwarz Installation Service\" was started.\n",
      "- The \"Socket: connect operation\" failed with error 110.\n",
      "- The \"systemd-tmpfiles-clean.service\" deactivated successfully.\n",
      "- The \"mrt.smartmon-collector.service\" failed with result 'start-limit-hit'.\n",
      "- The \"/usr/lib/cmxtools/mddb/Mddb.protobuf.0.3.so\" file was not found in the specified directory.\n",
      "- The \"OpenSSH Per-Connection Daemon\" started multiple times.\n",
      "- The \"CMXmars Server\" stopped unexpectedly.\n",
      "- The \"broker available or timeout or duplicated\" error occurred in the mrt.naming.association.NameAssociationService.\n",
      "- The \"sshd[2228289]\" had an error with kex_exchange_identification.\n",
      "- The \"sshd@1729-10.102.37.173:22-10.0.54.71:38804.service\" deactivated successfully.\n",
      "- The \"RohdeSchwarz.DapiAbstractionLib.InstallationServer\" had an unusual entry in the resource.\n"
     ]
    }
   ],
   "source": [
    "print(summary)"
   ]
  },
  {
   "cell_type": "code",
   "execution_count": 206,
   "metadata": {},
   "outputs": [
    {
     "data": {
      "text/plain": [
       "'- Interface name is longer than 15 characters.\\n- Repeated log entries of \\'/opt/rohde-schwarz/installation-service/script/ /var/tmp/rohde-schwarz/rs-installation-service/script/\\'.\\n- Configuration read from file \\'/etc/rspias.conf\\', but no details provided about the configuration.\\n- The entry of \\'Indices successfully merged!\\' does not specify which indices were merged.\\n- The entry of \\'Publish update:\\' does not provide any details about the update.\\n- Multiple entries of \\'Nov 09 13:11:46 CMX50070-101776 kernel: get_generic_syssync_link_status called\\' suggests a potential issue with the system sync status.\\n- The entry of \\'at RohdeSchwarz.InstallationManagerAbstractionLib.InstallationManagerHandlerFactory.IsSetup2(IBaseDevice device)\\' does not provide enough context or information.\\n- The log \\'Nov 09 13:11:49 CMX50070-101776 load-images.sh[3269]: cmxrep-liveview-app\\' does not provide any information about the status or outcome of the load-images process.\\n- \\'Socket[3]: Data channel normally closed (or due to unexpected data).\\' suggests a potential issue with the socket data channel.\\n- \\'Nov 10 05:49:09 CMX50070-101776 systemd[1]: rs-installation-service.service: State \\'stop-sigterm\\' timed out. Killing.\\' indicates a service timeout issue.\\n- \\'Nov 10 05:49:13 CMX50070-101776 start_mrt.sh[2208836]: tail: cannot open \\'/opt/rohde-schwarz/license-server/log/RsLicenseServerApp.*..log\\' for reading: No such file or directory\\' indicates a file access problem.\\n- \\'Nov 10 05:49:04 CMX50070-101776 rspias-daemon[887]: PIAS: Socket[7] >> DIAG:PIAS:ID?\\\\PIAS: Error: accept() failed with error 22\\' shows a socket error.\\n- \\'Nov 09 13:11:36 localhost kernel: usb 3-2.2.1: new high-speed USB device number 6 using xhci_hcd\\' without any follow up on the device\\'s status.\\n- \\'Nov 10 05:49:07 CMX50070-101776 dockerd[1853]: time=\"2023-11-10T05:49:07.262096013Z\" level=warning msg=\"Failed to delete conntrack state for 100.82.64.132: invalid argument\\' indicates a docker error. \\n- \\'Nov 10 05:49:10 CMX50070-101776 kernel: veth7db875a: renamed from eth0\\' without any explanation for the change. \\n- \\'Nov 09 13:15:06 CMX50070-101776 systemd[1]: Started OpenSSH Per-Connection Daemon (172.24.26.39:47986).\\' without any follow-up on the status of the connection.'"
      ]
     },
     "execution_count": 206,
     "metadata": {},
     "output_type": "execute_result"
    }
   ],
   "source": [
    "md5hash = hashlib.md5(open(f\"{DATA_DIR}/test_log1.out\",'rb').read()).hexdigest()\n",
    "chatbot.find_log_anomalies(md5hash)"
   ]
  },
  {
   "cell_type": "markdown",
   "metadata": {},
   "source": [
    "### Testing Daemon summarizer"
   ]
  },
  {
   "cell_type": "code",
   "execution_count": 88,
   "metadata": {},
   "outputs": [],
   "source": [
    "from langchain.document_loaders.telegram import text_to_docs\n",
    "\n",
    "importlib.reload(cm)\n",
    "warnings, errors, outliers = cm.get_anomalies(f\"{DATA_DIR}/test_log1.out\")\n",
    "warnings, errors, outliers = text_to_docs(warnings), text_to_docs(errors), text_to_docs(outliers)"
   ]
  },
  {
   "cell_type": "code",
   "execution_count": 95,
   "metadata": {},
   "outputs": [],
   "source": [
    "# prompt_template = \"\"\"Give a brief summary in form of bullet points:\n",
    "\n",
    "\n",
    "# {text}\n",
    "\n",
    "# Key Points:\"\"\"\n",
    "\n",
    "prompt_template = \"\"\"Give a brief summary and mention the key points in form of bullet points :\n",
    "\n",
    "\n",
    "{text}\n",
    "\"\"\"\n",
    "\n",
    "prompt = PromptTemplate(template=prompt_template, input_variables=[\"text\"])\n",
    "llm = ChatOpenAI(\n",
    "openai_organization=\"org-kfsNXpcw90CoawqSyD7Mw4CD\",\n",
    "model=\"gpt-4\",\n",
    ")\n",
    "chain = load_summarize_chain(llm, chain_type=\"stuff\", prompt=prompt)\n",
    "summary = chain.run(errors)"
   ]
  },
  {
   "cell_type": "code",
   "execution_count": 96,
   "metadata": {},
   "outputs": [
    {
     "name": "stdout",
     "output_type": "stream",
     "text": [
      "Summary:\n",
      "The text refers to various logs, notifications, and status updates from a technical system, possibly related to a device or software. The updates cover various aspects like the initialization of a logger, setting of log levels, running of a microservice, ignoring of key shortcuts, testing results, SNMP packet reception, stopping of processes, remote access, errors related to reader exclusivity, and termination of connections.\n",
      "\n",
      "Key Points:\n",
      "- Logger from RohdeSchwarz.CMXreporting.Logging.Logger initialized\n",
      "- LogLevel set to Info\n",
      "- RohdeSchwarz.CMXreporting.TransportInterfaceAdapter.Program running as an instrument in a Unix container\n",
      "- RohdeSchwarz.Mrt.Microservices.PositioningCatrP3Dr.Positioning.PositioningServiceHost running at a certain point\n",
      "- Ignored key shortcut: telephone=$dates\n",
      "- Cannot find a keycode for keysym\n",
      "- X server shutting down\n",
      "- Supported_tests_from_offers has test Result Name A0 multiple times\n",
      "- Error finding row index in _ifXTable_container_row_restore\n",
      "- Received SNMP packet(s) from UDP\n",
      "- Stopping LD..DONE\n",
      "- Remote access from PIAS client\n",
      "- Errors in /pcsc-lite-/src/winscard.c::SCardConnect due to reader exclusivity\n",
      "- Debug messages in the queue from DeviceApiSubscriber\n",
      "- Connection closed by remote host error in kex_exchange_identification\n",
      "- Exiting on signal.\n"
     ]
    }
   ],
   "source": [
    "print(summary)"
   ]
  },
  {
   "cell_type": "code",
   "execution_count": null,
   "metadata": {},
   "outputs": [],
   "source": []
  }
 ],
 "metadata": {
  "kernelspec": {
   "display_name": "Python 3",
   "language": "python",
   "name": "python3"
  },
  "language_info": {
   "codemirror_mode": {
    "name": "ipython",
    "version": 3
   },
   "file_extension": ".py",
   "mimetype": "text/x-python",
   "name": "python",
   "nbconvert_exporter": "python",
   "pygments_lexer": "ipython3",
   "version": "3.11.4"
  }
 },
 "nbformat": 4,
 "nbformat_minor": 2
}
