{
 "cells": [
  {
   "cell_type": "code",
   "execution_count": 8,
   "metadata": {},
   "outputs": [],
   "source": [
    "import sys\n",
    "sys.path.append('C:/Users/vishw/OneDrive/Desktop/Projects/daemon-dialoguers/backend/chatbot_utils')\n",
    "\n",
    "import context_model as cm\n",
    "import chatbot_utils as chatbot\n",
    "import importlib\n",
    "importlib.reload(cm)\n",
    "importlib.reload(chatbot)\n",
    "\n",
    "import pandas as pd\n",
    "import hashlib\n",
    "import json\n",
    "\n",
    "with open('C:/Users/vishw/OneDrive/Desktop/Projects/daemon-dialoguers/openAI_api.json') as f:\n",
    "    key = json.load(f)\n",
    "\n",
    "DATA_DIR = 'C:/Users/vishw/OneDrive/Desktop/Projects/daemon-dialoguers/Dataset'\n"
   ]
  },
  {
   "cell_type": "markdown",
   "metadata": {},
   "source": [
    "### Testing Embedding and Context Models"
   ]
  },
  {
   "cell_type": "code",
   "execution_count": 160,
   "metadata": {},
   "outputs": [],
   "source": [
    "md5hash = hashlib.md5(open(f\"{DATA_DIR}/test_log2.out\",'rb').read()).hexdigest()"
   ]
  },
  {
   "cell_type": "code",
   "execution_count": 161,
   "metadata": {},
   "outputs": [
    {
     "data": {
      "text/plain": [
       "'C:/Users/vishw/OneDrive/Desktop/Projects/daemon-dialoguers/Dataset/test_log2.out'"
      ]
     },
     "execution_count": 161,
     "metadata": {},
     "output_type": "execute_result"
    }
   ],
   "source": [
    "f\"{DATA_DIR}/test_log2.out\""
   ]
  },
  {
   "cell_type": "code",
   "execution_count": 166,
   "metadata": {},
   "outputs": [
    {
     "ename": "KeyboardInterrupt",
     "evalue": "",
     "output_type": "error",
     "traceback": [
      "\u001b[1;31m---------------------------------------------------------------------------\u001b[0m",
      "\u001b[1;31mKeyboardInterrupt\u001b[0m                         Traceback (most recent call last)",
      "\u001b[1;32mc:\\Users\\vishw\\OneDrive\\Desktop\\Projects\\daemon-dialoguers\\backend\\chatbot_utils\\test.ipynb Cell 5\u001b[0m line \u001b[0;36m1\n\u001b[1;32m----> <a href='vscode-notebook-cell:/c%3A/Users/vishw/OneDrive/Desktop/Projects/daemon-dialoguers/backend/chatbot_utils/test.ipynb#W5sZmlsZQ%3D%3D?line=0'>1</a>\u001b[0m cm\u001b[39m.\u001b[39;49mconvert_logs_to_embeddings(\u001b[39mf\u001b[39;49m\u001b[39m\"\u001b[39;49m\u001b[39m{\u001b[39;49;00mDATA_DIR\u001b[39m}\u001b[39;49;00m\u001b[39m/test_log2.out\u001b[39;49m\u001b[39m\"\u001b[39;49m)\n",
      "File \u001b[1;32mc:\\Users\\vishw\\OneDrive\\Desktop\\Projects\\daemon-dialoguers\\backend\\chatbot_utils\\context_model.py:52\u001b[0m, in \u001b[0;36mconvert_logs_to_embeddings\u001b[1;34m(file_path)\u001b[0m\n\u001b[0;32m     50\u001b[0m docs \u001b[39m=\u001b[39m text_splitter\u001b[39m.\u001b[39msplit_documents(documents)\n\u001b[0;32m     51\u001b[0m \u001b[39m# Creating the Chroma vector store\u001b[39;00m\n\u001b[1;32m---> 52\u001b[0m Chroma\u001b[39m.\u001b[39;49mfrom_documents(docs, persist_directory\u001b[39m=\u001b[39;49m\u001b[39mf\u001b[39;49m\u001b[39m'\u001b[39;49m\u001b[39m./chromadb/\u001b[39;49m\u001b[39m{\u001b[39;49;00mmd5hash\u001b[39m}\u001b[39;49;00m\u001b[39m_small\u001b[39;49m\u001b[39m'\u001b[39;49m, embedding\u001b[39m=\u001b[39;49membedding)\n\u001b[0;32m     54\u001b[0m \u001b[39m# Add a time delay of 30 seconds\u001b[39;00m\n\u001b[0;32m     55\u001b[0m time\u001b[39m.\u001b[39msleep(\u001b[39m30\u001b[39m)\n",
      "File \u001b[1;32mc:\\Users\\vishw\\anaconda3\\Lib\\site-packages\\langchain\\vectorstores\\chroma.py:771\u001b[0m, in \u001b[0;36mChroma.from_documents\u001b[1;34m(cls, documents, embedding, ids, collection_name, persist_directory, client_settings, client, collection_metadata, **kwargs)\u001b[0m\n\u001b[0;32m    769\u001b[0m texts \u001b[39m=\u001b[39m [doc\u001b[39m.\u001b[39mpage_content \u001b[39mfor\u001b[39;00m doc \u001b[39min\u001b[39;00m documents]\n\u001b[0;32m    770\u001b[0m metadatas \u001b[39m=\u001b[39m [doc\u001b[39m.\u001b[39mmetadata \u001b[39mfor\u001b[39;00m doc \u001b[39min\u001b[39;00m documents]\n\u001b[1;32m--> 771\u001b[0m \u001b[39mreturn\u001b[39;00m \u001b[39mcls\u001b[39;49m\u001b[39m.\u001b[39;49mfrom_texts(\n\u001b[0;32m    772\u001b[0m     texts\u001b[39m=\u001b[39;49mtexts,\n\u001b[0;32m    773\u001b[0m     embedding\u001b[39m=\u001b[39;49membedding,\n\u001b[0;32m    774\u001b[0m     metadatas\u001b[39m=\u001b[39;49mmetadatas,\n\u001b[0;32m    775\u001b[0m     ids\u001b[39m=\u001b[39;49mids,\n\u001b[0;32m    776\u001b[0m     collection_name\u001b[39m=\u001b[39;49mcollection_name,\n\u001b[0;32m    777\u001b[0m     persist_directory\u001b[39m=\u001b[39;49mpersist_directory,\n\u001b[0;32m    778\u001b[0m     client_settings\u001b[39m=\u001b[39;49mclient_settings,\n\u001b[0;32m    779\u001b[0m     client\u001b[39m=\u001b[39;49mclient,\n\u001b[0;32m    780\u001b[0m     collection_metadata\u001b[39m=\u001b[39;49mcollection_metadata,\n\u001b[0;32m    781\u001b[0m     \u001b[39m*\u001b[39;49m\u001b[39m*\u001b[39;49mkwargs,\n\u001b[0;32m    782\u001b[0m )\n",
      "File \u001b[1;32mc:\\Users\\vishw\\anaconda3\\Lib\\site-packages\\langchain\\vectorstores\\chroma.py:729\u001b[0m, in \u001b[0;36mChroma.from_texts\u001b[1;34m(cls, texts, embedding, metadatas, ids, collection_name, persist_directory, client_settings, client, collection_metadata, **kwargs)\u001b[0m\n\u001b[0;32m    721\u001b[0m     \u001b[39mfrom\u001b[39;00m \u001b[39mchromadb\u001b[39;00m\u001b[39m.\u001b[39;00m\u001b[39mutils\u001b[39;00m\u001b[39m.\u001b[39;00m\u001b[39mbatch_utils\u001b[39;00m \u001b[39mimport\u001b[39;00m create_batches\n\u001b[0;32m    723\u001b[0m     \u001b[39mfor\u001b[39;00m batch \u001b[39min\u001b[39;00m create_batches(\n\u001b[0;32m    724\u001b[0m         api\u001b[39m=\u001b[39mchroma_collection\u001b[39m.\u001b[39m_client,\n\u001b[0;32m    725\u001b[0m         ids\u001b[39m=\u001b[39mids,\n\u001b[0;32m    726\u001b[0m         metadatas\u001b[39m=\u001b[39mmetadatas,\n\u001b[0;32m    727\u001b[0m         documents\u001b[39m=\u001b[39mtexts,\n\u001b[0;32m    728\u001b[0m     ):\n\u001b[1;32m--> 729\u001b[0m         chroma_collection\u001b[39m.\u001b[39;49madd_texts(\n\u001b[0;32m    730\u001b[0m             texts\u001b[39m=\u001b[39;49mbatch[\u001b[39m3\u001b[39;49m] \u001b[39mif\u001b[39;49;00m batch[\u001b[39m3\u001b[39;49m] \u001b[39melse\u001b[39;49;00m [],\n\u001b[0;32m    731\u001b[0m             metadatas\u001b[39m=\u001b[39;49mbatch[\u001b[39m2\u001b[39;49m] \u001b[39mif\u001b[39;49;00m batch[\u001b[39m2\u001b[39;49m] \u001b[39melse\u001b[39;49;00m \u001b[39mNone\u001b[39;49;00m,\n\u001b[0;32m    732\u001b[0m             ids\u001b[39m=\u001b[39;49mbatch[\u001b[39m0\u001b[39;49m],\n\u001b[0;32m    733\u001b[0m         )\n\u001b[0;32m    734\u001b[0m \u001b[39melse\u001b[39;00m:\n\u001b[0;32m    735\u001b[0m     chroma_collection\u001b[39m.\u001b[39madd_texts(texts\u001b[39m=\u001b[39mtexts, metadatas\u001b[39m=\u001b[39mmetadatas, ids\u001b[39m=\u001b[39mids)\n",
      "File \u001b[1;32mc:\\Users\\vishw\\anaconda3\\Lib\\site-packages\\langchain\\vectorstores\\chroma.py:275\u001b[0m, in \u001b[0;36mChroma.add_texts\u001b[1;34m(self, texts, metadatas, ids, **kwargs)\u001b[0m\n\u001b[0;32m    273\u001b[0m texts \u001b[39m=\u001b[39m \u001b[39mlist\u001b[39m(texts)\n\u001b[0;32m    274\u001b[0m \u001b[39mif\u001b[39;00m \u001b[39mself\u001b[39m\u001b[39m.\u001b[39m_embedding_function \u001b[39mis\u001b[39;00m \u001b[39mnot\u001b[39;00m \u001b[39mNone\u001b[39;00m:\n\u001b[1;32m--> 275\u001b[0m     embeddings \u001b[39m=\u001b[39m \u001b[39mself\u001b[39;49m\u001b[39m.\u001b[39;49m_embedding_function\u001b[39m.\u001b[39;49membed_documents(texts)\n\u001b[0;32m    276\u001b[0m \u001b[39mif\u001b[39;00m metadatas:\n\u001b[0;32m    277\u001b[0m     \u001b[39m# fill metadatas with empty dicts if somebody\u001b[39;00m\n\u001b[0;32m    278\u001b[0m     \u001b[39m# did not specify metadata for all texts\u001b[39;00m\n\u001b[0;32m    279\u001b[0m     length_diff \u001b[39m=\u001b[39m \u001b[39mlen\u001b[39m(texts) \u001b[39m-\u001b[39m \u001b[39mlen\u001b[39m(metadatas)\n",
      "File \u001b[1;32mc:\\Users\\vishw\\anaconda3\\Lib\\site-packages\\langchain\\embeddings\\openai.py:555\u001b[0m, in \u001b[0;36mOpenAIEmbeddings.embed_documents\u001b[1;34m(self, texts, chunk_size)\u001b[0m\n\u001b[0;32m    552\u001b[0m \u001b[39m# NOTE: to keep things simple, we assume the list may contain texts longer\u001b[39;00m\n\u001b[0;32m    553\u001b[0m \u001b[39m#       than the maximum context and use length-safe embedding function.\u001b[39;00m\n\u001b[0;32m    554\u001b[0m engine \u001b[39m=\u001b[39m cast(\u001b[39mstr\u001b[39m, \u001b[39mself\u001b[39m\u001b[39m.\u001b[39mdeployment)\n\u001b[1;32m--> 555\u001b[0m \u001b[39mreturn\u001b[39;00m \u001b[39mself\u001b[39;49m\u001b[39m.\u001b[39;49m_get_len_safe_embeddings(texts, engine\u001b[39m=\u001b[39;49mengine)\n",
      "File \u001b[1;32mc:\\Users\\vishw\\anaconda3\\Lib\\site-packages\\langchain\\embeddings\\openai.py:431\u001b[0m, in \u001b[0;36mOpenAIEmbeddings._get_len_safe_embeddings\u001b[1;34m(self, texts, engine, chunk_size)\u001b[0m\n\u001b[0;32m    428\u001b[0m     _iter \u001b[39m=\u001b[39m \u001b[39mrange\u001b[39m(\u001b[39m0\u001b[39m, \u001b[39mlen\u001b[39m(tokens), _chunk_size)\n\u001b[0;32m    430\u001b[0m \u001b[39mfor\u001b[39;00m i \u001b[39min\u001b[39;00m _iter:\n\u001b[1;32m--> 431\u001b[0m     response \u001b[39m=\u001b[39m embed_with_retry(\n\u001b[0;32m    432\u001b[0m         \u001b[39mself\u001b[39;49m,\n\u001b[0;32m    433\u001b[0m         \u001b[39minput\u001b[39;49m\u001b[39m=\u001b[39;49mtokens[i : i \u001b[39m+\u001b[39;49m _chunk_size],\n\u001b[0;32m    434\u001b[0m         \u001b[39m*\u001b[39;49m\u001b[39m*\u001b[39;49m\u001b[39mself\u001b[39;49m\u001b[39m.\u001b[39;49m_invocation_params,\n\u001b[0;32m    435\u001b[0m     )\n\u001b[0;32m    436\u001b[0m     \u001b[39mif\u001b[39;00m \u001b[39mnot\u001b[39;00m \u001b[39misinstance\u001b[39m(response, \u001b[39mdict\u001b[39m):\n\u001b[0;32m    437\u001b[0m         response \u001b[39m=\u001b[39m response\u001b[39m.\u001b[39mdict()\n",
      "File \u001b[1;32mc:\\Users\\vishw\\anaconda3\\Lib\\site-packages\\langchain\\embeddings\\openai.py:106\u001b[0m, in \u001b[0;36membed_with_retry\u001b[1;34m(embeddings, **kwargs)\u001b[0m\n\u001b[0;32m    104\u001b[0m \u001b[39m\u001b[39m\u001b[39m\"\"\"Use tenacity to retry the embedding call.\"\"\"\u001b[39;00m\n\u001b[0;32m    105\u001b[0m \u001b[39mif\u001b[39;00m _is_openai_v1():\n\u001b[1;32m--> 106\u001b[0m     \u001b[39mreturn\u001b[39;00m embeddings\u001b[39m.\u001b[39;49mclient\u001b[39m.\u001b[39;49mcreate(\u001b[39m*\u001b[39;49m\u001b[39m*\u001b[39;49mkwargs)\n\u001b[0;32m    107\u001b[0m retry_decorator \u001b[39m=\u001b[39m _create_retry_decorator(embeddings)\n\u001b[0;32m    109\u001b[0m \u001b[39m@retry_decorator\u001b[39m\n\u001b[0;32m    110\u001b[0m \u001b[39mdef\u001b[39;00m \u001b[39m_embed_with_retry\u001b[39m(\u001b[39m*\u001b[39m\u001b[39m*\u001b[39mkwargs: Any) \u001b[39m-\u001b[39m\u001b[39m>\u001b[39m Any:\n",
      "File \u001b[1;32mc:\\Users\\vishw\\anaconda3\\Lib\\site-packages\\openai\\resources\\embeddings.py:105\u001b[0m, in \u001b[0;36mEmbeddings.create\u001b[1;34m(self, input, model, encoding_format, user, extra_headers, extra_query, extra_body, timeout)\u001b[0m\n\u001b[0;32m     99\u001b[0m         embedding\u001b[39m.\u001b[39membedding \u001b[39m=\u001b[39m np\u001b[39m.\u001b[39mfrombuffer(  \u001b[39m# type: ignore[no-untyped-call]\u001b[39;00m\n\u001b[0;32m    100\u001b[0m             base64\u001b[39m.\u001b[39mb64decode(data), dtype\u001b[39m=\u001b[39m\u001b[39m\"\u001b[39m\u001b[39mfloat32\u001b[39m\u001b[39m\"\u001b[39m\n\u001b[0;32m    101\u001b[0m         )\u001b[39m.\u001b[39mtolist()\n\u001b[0;32m    103\u001b[0m     \u001b[39mreturn\u001b[39;00m obj\n\u001b[1;32m--> 105\u001b[0m \u001b[39mreturn\u001b[39;00m \u001b[39mself\u001b[39;49m\u001b[39m.\u001b[39;49m_post(\n\u001b[0;32m    106\u001b[0m     \u001b[39m\"\u001b[39;49m\u001b[39m/embeddings\u001b[39;49m\u001b[39m\"\u001b[39;49m,\n\u001b[0;32m    107\u001b[0m     body\u001b[39m=\u001b[39;49mmaybe_transform(params, embedding_create_params\u001b[39m.\u001b[39;49mEmbeddingCreateParams),\n\u001b[0;32m    108\u001b[0m     options\u001b[39m=\u001b[39;49mmake_request_options(\n\u001b[0;32m    109\u001b[0m         extra_headers\u001b[39m=\u001b[39;49mextra_headers,\n\u001b[0;32m    110\u001b[0m         extra_query\u001b[39m=\u001b[39;49mextra_query,\n\u001b[0;32m    111\u001b[0m         extra_body\u001b[39m=\u001b[39;49mextra_body,\n\u001b[0;32m    112\u001b[0m         timeout\u001b[39m=\u001b[39;49mtimeout,\n\u001b[0;32m    113\u001b[0m         post_parser\u001b[39m=\u001b[39;49mparser,\n\u001b[0;32m    114\u001b[0m     ),\n\u001b[0;32m    115\u001b[0m     cast_to\u001b[39m=\u001b[39;49mCreateEmbeddingResponse,\n\u001b[0;32m    116\u001b[0m )\n",
      "File \u001b[1;32mc:\\Users\\vishw\\anaconda3\\Lib\\site-packages\\openai\\_base_client.py:1055\u001b[0m, in \u001b[0;36mSyncAPIClient.post\u001b[1;34m(self, path, cast_to, body, options, files, stream, stream_cls)\u001b[0m\n\u001b[0;32m   1041\u001b[0m \u001b[39mdef\u001b[39;00m \u001b[39mpost\u001b[39m(\n\u001b[0;32m   1042\u001b[0m     \u001b[39mself\u001b[39m,\n\u001b[0;32m   1043\u001b[0m     path: \u001b[39mstr\u001b[39m,\n\u001b[1;32m   (...)\u001b[0m\n\u001b[0;32m   1050\u001b[0m     stream_cls: \u001b[39mtype\u001b[39m[_StreamT] \u001b[39m|\u001b[39m \u001b[39mNone\u001b[39;00m \u001b[39m=\u001b[39m \u001b[39mNone\u001b[39;00m,\n\u001b[0;32m   1051\u001b[0m ) \u001b[39m-\u001b[39m\u001b[39m>\u001b[39m ResponseT \u001b[39m|\u001b[39m _StreamT:\n\u001b[0;32m   1052\u001b[0m     opts \u001b[39m=\u001b[39m FinalRequestOptions\u001b[39m.\u001b[39mconstruct(\n\u001b[0;32m   1053\u001b[0m         method\u001b[39m=\u001b[39m\u001b[39m\"\u001b[39m\u001b[39mpost\u001b[39m\u001b[39m\"\u001b[39m, url\u001b[39m=\u001b[39mpath, json_data\u001b[39m=\u001b[39mbody, files\u001b[39m=\u001b[39mto_httpx_files(files), \u001b[39m*\u001b[39m\u001b[39m*\u001b[39moptions\n\u001b[0;32m   1054\u001b[0m     )\n\u001b[1;32m-> 1055\u001b[0m     \u001b[39mreturn\u001b[39;00m cast(ResponseT, \u001b[39mself\u001b[39;49m\u001b[39m.\u001b[39;49mrequest(cast_to, opts, stream\u001b[39m=\u001b[39;49mstream, stream_cls\u001b[39m=\u001b[39;49mstream_cls))\n",
      "File \u001b[1;32mc:\\Users\\vishw\\anaconda3\\Lib\\site-packages\\openai\\_base_client.py:834\u001b[0m, in \u001b[0;36mSyncAPIClient.request\u001b[1;34m(self, cast_to, options, remaining_retries, stream, stream_cls)\u001b[0m\n\u001b[0;32m    825\u001b[0m \u001b[39mdef\u001b[39;00m \u001b[39mrequest\u001b[39m(\n\u001b[0;32m    826\u001b[0m     \u001b[39mself\u001b[39m,\n\u001b[0;32m    827\u001b[0m     cast_to: Type[ResponseT],\n\u001b[1;32m   (...)\u001b[0m\n\u001b[0;32m    832\u001b[0m     stream_cls: \u001b[39mtype\u001b[39m[_StreamT] \u001b[39m|\u001b[39m \u001b[39mNone\u001b[39;00m \u001b[39m=\u001b[39m \u001b[39mNone\u001b[39;00m,\n\u001b[0;32m    833\u001b[0m ) \u001b[39m-\u001b[39m\u001b[39m>\u001b[39m ResponseT \u001b[39m|\u001b[39m _StreamT:\n\u001b[1;32m--> 834\u001b[0m     \u001b[39mreturn\u001b[39;00m \u001b[39mself\u001b[39;49m\u001b[39m.\u001b[39;49m_request(\n\u001b[0;32m    835\u001b[0m         cast_to\u001b[39m=\u001b[39;49mcast_to,\n\u001b[0;32m    836\u001b[0m         options\u001b[39m=\u001b[39;49moptions,\n\u001b[0;32m    837\u001b[0m         stream\u001b[39m=\u001b[39;49mstream,\n\u001b[0;32m    838\u001b[0m         stream_cls\u001b[39m=\u001b[39;49mstream_cls,\n\u001b[0;32m    839\u001b[0m         remaining_retries\u001b[39m=\u001b[39;49mremaining_retries,\n\u001b[0;32m    840\u001b[0m     )\n",
      "File \u001b[1;32mc:\\Users\\vishw\\anaconda3\\Lib\\site-packages\\openai\\_base_client.py:858\u001b[0m, in \u001b[0;36mSyncAPIClient._request\u001b[1;34m(self, cast_to, options, remaining_retries, stream, stream_cls)\u001b[0m\n\u001b[0;32m    855\u001b[0m \u001b[39mself\u001b[39m\u001b[39m.\u001b[39m_prepare_request(request)\n\u001b[0;32m    857\u001b[0m \u001b[39mtry\u001b[39;00m:\n\u001b[1;32m--> 858\u001b[0m     response \u001b[39m=\u001b[39m \u001b[39mself\u001b[39;49m\u001b[39m.\u001b[39;49m_client\u001b[39m.\u001b[39;49msend(request, auth\u001b[39m=\u001b[39;49m\u001b[39mself\u001b[39;49m\u001b[39m.\u001b[39;49mcustom_auth, stream\u001b[39m=\u001b[39;49mstream)\n\u001b[0;32m    859\u001b[0m     log\u001b[39m.\u001b[39mdebug(\n\u001b[0;32m    860\u001b[0m         \u001b[39m'\u001b[39m\u001b[39mHTTP Request: \u001b[39m\u001b[39m%s\u001b[39;00m\u001b[39m \u001b[39m\u001b[39m%s\u001b[39;00m\u001b[39m \u001b[39m\u001b[39m\"\u001b[39m\u001b[39m%i\u001b[39;00m\u001b[39m \u001b[39m\u001b[39m%s\u001b[39;00m\u001b[39m\"\u001b[39m\u001b[39m'\u001b[39m, request\u001b[39m.\u001b[39mmethod, request\u001b[39m.\u001b[39murl, response\u001b[39m.\u001b[39mstatus_code, response\u001b[39m.\u001b[39mreason_phrase\n\u001b[0;32m    861\u001b[0m     )\n\u001b[0;32m    862\u001b[0m     response\u001b[39m.\u001b[39mraise_for_status()\n",
      "File \u001b[1;32mc:\\Users\\vishw\\anaconda3\\Lib\\site-packages\\httpx\\_client.py:901\u001b[0m, in \u001b[0;36mClient.send\u001b[1;34m(self, request, stream, auth, follow_redirects)\u001b[0m\n\u001b[0;32m    893\u001b[0m follow_redirects \u001b[39m=\u001b[39m (\n\u001b[0;32m    894\u001b[0m     \u001b[39mself\u001b[39m\u001b[39m.\u001b[39mfollow_redirects\n\u001b[0;32m    895\u001b[0m     \u001b[39mif\u001b[39;00m \u001b[39misinstance\u001b[39m(follow_redirects, UseClientDefault)\n\u001b[0;32m    896\u001b[0m     \u001b[39melse\u001b[39;00m follow_redirects\n\u001b[0;32m    897\u001b[0m )\n\u001b[0;32m    899\u001b[0m auth \u001b[39m=\u001b[39m \u001b[39mself\u001b[39m\u001b[39m.\u001b[39m_build_request_auth(request, auth)\n\u001b[1;32m--> 901\u001b[0m response \u001b[39m=\u001b[39m \u001b[39mself\u001b[39;49m\u001b[39m.\u001b[39;49m_send_handling_auth(\n\u001b[0;32m    902\u001b[0m     request,\n\u001b[0;32m    903\u001b[0m     auth\u001b[39m=\u001b[39;49mauth,\n\u001b[0;32m    904\u001b[0m     follow_redirects\u001b[39m=\u001b[39;49mfollow_redirects,\n\u001b[0;32m    905\u001b[0m     history\u001b[39m=\u001b[39;49m[],\n\u001b[0;32m    906\u001b[0m )\n\u001b[0;32m    907\u001b[0m \u001b[39mtry\u001b[39;00m:\n\u001b[0;32m    908\u001b[0m     \u001b[39mif\u001b[39;00m \u001b[39mnot\u001b[39;00m stream:\n",
      "File \u001b[1;32mc:\\Users\\vishw\\anaconda3\\Lib\\site-packages\\httpx\\_client.py:929\u001b[0m, in \u001b[0;36mClient._send_handling_auth\u001b[1;34m(self, request, auth, follow_redirects, history)\u001b[0m\n\u001b[0;32m    926\u001b[0m request \u001b[39m=\u001b[39m \u001b[39mnext\u001b[39m(auth_flow)\n\u001b[0;32m    928\u001b[0m \u001b[39mwhile\u001b[39;00m \u001b[39mTrue\u001b[39;00m:\n\u001b[1;32m--> 929\u001b[0m     response \u001b[39m=\u001b[39m \u001b[39mself\u001b[39;49m\u001b[39m.\u001b[39;49m_send_handling_redirects(\n\u001b[0;32m    930\u001b[0m         request,\n\u001b[0;32m    931\u001b[0m         follow_redirects\u001b[39m=\u001b[39;49mfollow_redirects,\n\u001b[0;32m    932\u001b[0m         history\u001b[39m=\u001b[39;49mhistory,\n\u001b[0;32m    933\u001b[0m     )\n\u001b[0;32m    934\u001b[0m     \u001b[39mtry\u001b[39;00m:\n\u001b[0;32m    935\u001b[0m         \u001b[39mtry\u001b[39;00m:\n",
      "File \u001b[1;32mc:\\Users\\vishw\\anaconda3\\Lib\\site-packages\\httpx\\_client.py:966\u001b[0m, in \u001b[0;36mClient._send_handling_redirects\u001b[1;34m(self, request, follow_redirects, history)\u001b[0m\n\u001b[0;32m    963\u001b[0m \u001b[39mfor\u001b[39;00m hook \u001b[39min\u001b[39;00m \u001b[39mself\u001b[39m\u001b[39m.\u001b[39m_event_hooks[\u001b[39m\"\u001b[39m\u001b[39mrequest\u001b[39m\u001b[39m\"\u001b[39m]:\n\u001b[0;32m    964\u001b[0m     hook(request)\n\u001b[1;32m--> 966\u001b[0m response \u001b[39m=\u001b[39m \u001b[39mself\u001b[39;49m\u001b[39m.\u001b[39;49m_send_single_request(request)\n\u001b[0;32m    967\u001b[0m \u001b[39mtry\u001b[39;00m:\n\u001b[0;32m    968\u001b[0m     \u001b[39mfor\u001b[39;00m hook \u001b[39min\u001b[39;00m \u001b[39mself\u001b[39m\u001b[39m.\u001b[39m_event_hooks[\u001b[39m\"\u001b[39m\u001b[39mresponse\u001b[39m\u001b[39m\"\u001b[39m]:\n",
      "File \u001b[1;32mc:\\Users\\vishw\\anaconda3\\Lib\\site-packages\\httpx\\_client.py:1002\u001b[0m, in \u001b[0;36mClient._send_single_request\u001b[1;34m(self, request)\u001b[0m\n\u001b[0;32m    997\u001b[0m     \u001b[39mraise\u001b[39;00m \u001b[39mRuntimeError\u001b[39;00m(\n\u001b[0;32m    998\u001b[0m         \u001b[39m\"\u001b[39m\u001b[39mAttempted to send an async request with a sync Client instance.\u001b[39m\u001b[39m\"\u001b[39m\n\u001b[0;32m    999\u001b[0m     )\n\u001b[0;32m   1001\u001b[0m \u001b[39mwith\u001b[39;00m request_context(request\u001b[39m=\u001b[39mrequest):\n\u001b[1;32m-> 1002\u001b[0m     response \u001b[39m=\u001b[39m transport\u001b[39m.\u001b[39;49mhandle_request(request)\n\u001b[0;32m   1004\u001b[0m \u001b[39massert\u001b[39;00m \u001b[39misinstance\u001b[39m(response\u001b[39m.\u001b[39mstream, SyncByteStream)\n\u001b[0;32m   1006\u001b[0m response\u001b[39m.\u001b[39mrequest \u001b[39m=\u001b[39m request\n",
      "File \u001b[1;32mc:\\Users\\vishw\\anaconda3\\Lib\\site-packages\\httpx\\_transports\\default.py:228\u001b[0m, in \u001b[0;36mHTTPTransport.handle_request\u001b[1;34m(self, request)\u001b[0m\n\u001b[0;32m    215\u001b[0m req \u001b[39m=\u001b[39m httpcore\u001b[39m.\u001b[39mRequest(\n\u001b[0;32m    216\u001b[0m     method\u001b[39m=\u001b[39mrequest\u001b[39m.\u001b[39mmethod,\n\u001b[0;32m    217\u001b[0m     url\u001b[39m=\u001b[39mhttpcore\u001b[39m.\u001b[39mURL(\n\u001b[1;32m   (...)\u001b[0m\n\u001b[0;32m    225\u001b[0m     extensions\u001b[39m=\u001b[39mrequest\u001b[39m.\u001b[39mextensions,\n\u001b[0;32m    226\u001b[0m )\n\u001b[0;32m    227\u001b[0m \u001b[39mwith\u001b[39;00m map_httpcore_exceptions():\n\u001b[1;32m--> 228\u001b[0m     resp \u001b[39m=\u001b[39m \u001b[39mself\u001b[39;49m\u001b[39m.\u001b[39;49m_pool\u001b[39m.\u001b[39;49mhandle_request(req)\n\u001b[0;32m    230\u001b[0m \u001b[39massert\u001b[39;00m \u001b[39misinstance\u001b[39m(resp\u001b[39m.\u001b[39mstream, typing\u001b[39m.\u001b[39mIterable)\n\u001b[0;32m    232\u001b[0m \u001b[39mreturn\u001b[39;00m Response(\n\u001b[0;32m    233\u001b[0m     status_code\u001b[39m=\u001b[39mresp\u001b[39m.\u001b[39mstatus,\n\u001b[0;32m    234\u001b[0m     headers\u001b[39m=\u001b[39mresp\u001b[39m.\u001b[39mheaders,\n\u001b[0;32m    235\u001b[0m     stream\u001b[39m=\u001b[39mResponseStream(resp\u001b[39m.\u001b[39mstream),\n\u001b[0;32m    236\u001b[0m     extensions\u001b[39m=\u001b[39mresp\u001b[39m.\u001b[39mextensions,\n\u001b[0;32m    237\u001b[0m )\n",
      "File \u001b[1;32mc:\\Users\\vishw\\anaconda3\\Lib\\site-packages\\httpcore\\_sync\\connection_pool.py:262\u001b[0m, in \u001b[0;36mConnectionPool.handle_request\u001b[1;34m(self, request)\u001b[0m\n\u001b[0;32m    260\u001b[0m     \u001b[39mwith\u001b[39;00m ShieldCancellation():\n\u001b[0;32m    261\u001b[0m         \u001b[39mself\u001b[39m\u001b[39m.\u001b[39mresponse_closed(status)\n\u001b[1;32m--> 262\u001b[0m     \u001b[39mraise\u001b[39;00m exc\n\u001b[0;32m    263\u001b[0m \u001b[39melse\u001b[39;00m:\n\u001b[0;32m    264\u001b[0m     \u001b[39mbreak\u001b[39;00m\n",
      "File \u001b[1;32mc:\\Users\\vishw\\anaconda3\\Lib\\site-packages\\httpcore\\_sync\\connection_pool.py:245\u001b[0m, in \u001b[0;36mConnectionPool.handle_request\u001b[1;34m(self, request)\u001b[0m\n\u001b[0;32m    242\u001b[0m         \u001b[39mraise\u001b[39;00m exc\n\u001b[0;32m    244\u001b[0m \u001b[39mtry\u001b[39;00m:\n\u001b[1;32m--> 245\u001b[0m     response \u001b[39m=\u001b[39m connection\u001b[39m.\u001b[39;49mhandle_request(request)\n\u001b[0;32m    246\u001b[0m \u001b[39mexcept\u001b[39;00m ConnectionNotAvailable:\n\u001b[0;32m    247\u001b[0m     \u001b[39m# The ConnectionNotAvailable exception is a special case, that\u001b[39;00m\n\u001b[0;32m    248\u001b[0m     \u001b[39m# indicates we need to retry the request on a new connection.\u001b[39;00m\n\u001b[1;32m   (...)\u001b[0m\n\u001b[0;32m    252\u001b[0m     \u001b[39m# might end up as an HTTP/2 connection, but which actually ends\u001b[39;00m\n\u001b[0;32m    253\u001b[0m     \u001b[39m# up as HTTP/1.1.\u001b[39;00m\n\u001b[0;32m    254\u001b[0m     \u001b[39mwith\u001b[39;00m \u001b[39mself\u001b[39m\u001b[39m.\u001b[39m_pool_lock:\n\u001b[0;32m    255\u001b[0m         \u001b[39m# Maintain our position in the request queue, but reset the\u001b[39;00m\n\u001b[0;32m    256\u001b[0m         \u001b[39m# status so that the request becomes queued again.\u001b[39;00m\n",
      "File \u001b[1;32mc:\\Users\\vishw\\anaconda3\\Lib\\site-packages\\httpcore\\_sync\\connection.py:103\u001b[0m, in \u001b[0;36mHTTPConnection.handle_request\u001b[1;34m(self, request)\u001b[0m\n\u001b[0;32m    100\u001b[0m     \u001b[39melif\u001b[39;00m \u001b[39mnot\u001b[39;00m \u001b[39mself\u001b[39m\u001b[39m.\u001b[39m_connection\u001b[39m.\u001b[39mis_available():\n\u001b[0;32m    101\u001b[0m         \u001b[39mraise\u001b[39;00m ConnectionNotAvailable()\n\u001b[1;32m--> 103\u001b[0m \u001b[39mreturn\u001b[39;00m \u001b[39mself\u001b[39;49m\u001b[39m.\u001b[39;49m_connection\u001b[39m.\u001b[39;49mhandle_request(request)\n",
      "File \u001b[1;32mc:\\Users\\vishw\\anaconda3\\Lib\\site-packages\\httpcore\\_sync\\http11.py:133\u001b[0m, in \u001b[0;36mHTTP11Connection.handle_request\u001b[1;34m(self, request)\u001b[0m\n\u001b[0;32m    131\u001b[0m     \u001b[39mwith\u001b[39;00m Trace(\u001b[39m\"\u001b[39m\u001b[39mresponse_closed\u001b[39m\u001b[39m\"\u001b[39m, logger, request) \u001b[39mas\u001b[39;00m trace:\n\u001b[0;32m    132\u001b[0m         \u001b[39mself\u001b[39m\u001b[39m.\u001b[39m_response_closed()\n\u001b[1;32m--> 133\u001b[0m \u001b[39mraise\u001b[39;00m exc\n",
      "File \u001b[1;32mc:\\Users\\vishw\\anaconda3\\Lib\\site-packages\\httpcore\\_sync\\http11.py:111\u001b[0m, in \u001b[0;36mHTTP11Connection.handle_request\u001b[1;34m(self, request)\u001b[0m\n\u001b[0;32m    101\u001b[0m     \u001b[39mpass\u001b[39;00m\n\u001b[0;32m    103\u001b[0m \u001b[39mwith\u001b[39;00m Trace(\n\u001b[0;32m    104\u001b[0m     \u001b[39m\"\u001b[39m\u001b[39mreceive_response_headers\u001b[39m\u001b[39m\"\u001b[39m, logger, request, kwargs\n\u001b[0;32m    105\u001b[0m ) \u001b[39mas\u001b[39;00m trace:\n\u001b[0;32m    106\u001b[0m     (\n\u001b[0;32m    107\u001b[0m         http_version,\n\u001b[0;32m    108\u001b[0m         status,\n\u001b[0;32m    109\u001b[0m         reason_phrase,\n\u001b[0;32m    110\u001b[0m         headers,\n\u001b[1;32m--> 111\u001b[0m     ) \u001b[39m=\u001b[39m \u001b[39mself\u001b[39;49m\u001b[39m.\u001b[39;49m_receive_response_headers(\u001b[39m*\u001b[39;49m\u001b[39m*\u001b[39;49mkwargs)\n\u001b[0;32m    112\u001b[0m     trace\u001b[39m.\u001b[39mreturn_value \u001b[39m=\u001b[39m (\n\u001b[0;32m    113\u001b[0m         http_version,\n\u001b[0;32m    114\u001b[0m         status,\n\u001b[0;32m    115\u001b[0m         reason_phrase,\n\u001b[0;32m    116\u001b[0m         headers,\n\u001b[0;32m    117\u001b[0m     )\n\u001b[0;32m    119\u001b[0m \u001b[39mreturn\u001b[39;00m Response(\n\u001b[0;32m    120\u001b[0m     status\u001b[39m=\u001b[39mstatus,\n\u001b[0;32m    121\u001b[0m     headers\u001b[39m=\u001b[39mheaders,\n\u001b[1;32m   (...)\u001b[0m\n\u001b[0;32m    127\u001b[0m     },\n\u001b[0;32m    128\u001b[0m )\n",
      "File \u001b[1;32mc:\\Users\\vishw\\anaconda3\\Lib\\site-packages\\httpcore\\_sync\\http11.py:176\u001b[0m, in \u001b[0;36mHTTP11Connection._receive_response_headers\u001b[1;34m(self, request)\u001b[0m\n\u001b[0;32m    173\u001b[0m timeout \u001b[39m=\u001b[39m timeouts\u001b[39m.\u001b[39mget(\u001b[39m\"\u001b[39m\u001b[39mread\u001b[39m\u001b[39m\"\u001b[39m, \u001b[39mNone\u001b[39;00m)\n\u001b[0;32m    175\u001b[0m \u001b[39mwhile\u001b[39;00m \u001b[39mTrue\u001b[39;00m:\n\u001b[1;32m--> 176\u001b[0m     event \u001b[39m=\u001b[39m \u001b[39mself\u001b[39;49m\u001b[39m.\u001b[39;49m_receive_event(timeout\u001b[39m=\u001b[39;49mtimeout)\n\u001b[0;32m    177\u001b[0m     \u001b[39mif\u001b[39;00m \u001b[39misinstance\u001b[39m(event, h11\u001b[39m.\u001b[39mResponse):\n\u001b[0;32m    178\u001b[0m         \u001b[39mbreak\u001b[39;00m\n",
      "File \u001b[1;32mc:\\Users\\vishw\\anaconda3\\Lib\\site-packages\\httpcore\\_sync\\http11.py:212\u001b[0m, in \u001b[0;36mHTTP11Connection._receive_event\u001b[1;34m(self, timeout)\u001b[0m\n\u001b[0;32m    209\u001b[0m     event \u001b[39m=\u001b[39m \u001b[39mself\u001b[39m\u001b[39m.\u001b[39m_h11_state\u001b[39m.\u001b[39mnext_event()\n\u001b[0;32m    211\u001b[0m \u001b[39mif\u001b[39;00m event \u001b[39mis\u001b[39;00m h11\u001b[39m.\u001b[39mNEED_DATA:\n\u001b[1;32m--> 212\u001b[0m     data \u001b[39m=\u001b[39m \u001b[39mself\u001b[39;49m\u001b[39m.\u001b[39;49m_network_stream\u001b[39m.\u001b[39;49mread(\n\u001b[0;32m    213\u001b[0m         \u001b[39mself\u001b[39;49m\u001b[39m.\u001b[39;49mREAD_NUM_BYTES, timeout\u001b[39m=\u001b[39;49mtimeout\n\u001b[0;32m    214\u001b[0m     )\n\u001b[0;32m    216\u001b[0m     \u001b[39m# If we feed this case through h11 we'll raise an exception like:\u001b[39;00m\n\u001b[0;32m    217\u001b[0m     \u001b[39m#\u001b[39;00m\n\u001b[0;32m    218\u001b[0m     \u001b[39m#     httpcore.RemoteProtocolError: can't handle event type\u001b[39;00m\n\u001b[1;32m   (...)\u001b[0m\n\u001b[0;32m    222\u001b[0m     \u001b[39m# perspective. Instead we handle this case distinctly and treat\u001b[39;00m\n\u001b[0;32m    223\u001b[0m     \u001b[39m# it as a ConnectError.\u001b[39;00m\n\u001b[0;32m    224\u001b[0m     \u001b[39mif\u001b[39;00m data \u001b[39m==\u001b[39m \u001b[39mb\u001b[39m\u001b[39m\"\u001b[39m\u001b[39m\"\u001b[39m \u001b[39mand\u001b[39;00m \u001b[39mself\u001b[39m\u001b[39m.\u001b[39m_h11_state\u001b[39m.\u001b[39mtheir_state \u001b[39m==\u001b[39m h11\u001b[39m.\u001b[39mSEND_RESPONSE:\n",
      "File \u001b[1;32mc:\\Users\\vishw\\anaconda3\\Lib\\site-packages\\httpcore\\_backends\\sync.py:126\u001b[0m, in \u001b[0;36mSyncStream.read\u001b[1;34m(self, max_bytes, timeout)\u001b[0m\n\u001b[0;32m    124\u001b[0m \u001b[39mwith\u001b[39;00m map_exceptions(exc_map):\n\u001b[0;32m    125\u001b[0m     \u001b[39mself\u001b[39m\u001b[39m.\u001b[39m_sock\u001b[39m.\u001b[39msettimeout(timeout)\n\u001b[1;32m--> 126\u001b[0m     \u001b[39mreturn\u001b[39;00m \u001b[39mself\u001b[39;49m\u001b[39m.\u001b[39;49m_sock\u001b[39m.\u001b[39;49mrecv(max_bytes)\n",
      "File \u001b[1;32mc:\\Users\\vishw\\anaconda3\\Lib\\ssl.py:1263\u001b[0m, in \u001b[0;36mSSLSocket.recv\u001b[1;34m(self, buflen, flags)\u001b[0m\n\u001b[0;32m   1259\u001b[0m     \u001b[39mif\u001b[39;00m flags \u001b[39m!=\u001b[39m \u001b[39m0\u001b[39m:\n\u001b[0;32m   1260\u001b[0m         \u001b[39mraise\u001b[39;00m \u001b[39mValueError\u001b[39;00m(\n\u001b[0;32m   1261\u001b[0m             \u001b[39m\"\u001b[39m\u001b[39mnon-zero flags not allowed in calls to recv() on \u001b[39m\u001b[39m%s\u001b[39;00m\u001b[39m\"\u001b[39m \u001b[39m%\u001b[39m\n\u001b[0;32m   1262\u001b[0m             \u001b[39mself\u001b[39m\u001b[39m.\u001b[39m\u001b[39m__class__\u001b[39m)\n\u001b[1;32m-> 1263\u001b[0m     \u001b[39mreturn\u001b[39;00m \u001b[39mself\u001b[39;49m\u001b[39m.\u001b[39;49mread(buflen)\n\u001b[0;32m   1264\u001b[0m \u001b[39melse\u001b[39;00m:\n\u001b[0;32m   1265\u001b[0m     \u001b[39mreturn\u001b[39;00m \u001b[39msuper\u001b[39m()\u001b[39m.\u001b[39mrecv(buflen, flags)\n",
      "File \u001b[1;32mc:\\Users\\vishw\\anaconda3\\Lib\\ssl.py:1136\u001b[0m, in \u001b[0;36mSSLSocket.read\u001b[1;34m(self, len, buffer)\u001b[0m\n\u001b[0;32m   1134\u001b[0m         \u001b[39mreturn\u001b[39;00m \u001b[39mself\u001b[39m\u001b[39m.\u001b[39m_sslobj\u001b[39m.\u001b[39mread(\u001b[39mlen\u001b[39m, buffer)\n\u001b[0;32m   1135\u001b[0m     \u001b[39melse\u001b[39;00m:\n\u001b[1;32m-> 1136\u001b[0m         \u001b[39mreturn\u001b[39;00m \u001b[39mself\u001b[39;49m\u001b[39m.\u001b[39;49m_sslobj\u001b[39m.\u001b[39;49mread(\u001b[39mlen\u001b[39;49m)\n\u001b[0;32m   1137\u001b[0m \u001b[39mexcept\u001b[39;00m SSLError \u001b[39mas\u001b[39;00m x:\n\u001b[0;32m   1138\u001b[0m     \u001b[39mif\u001b[39;00m x\u001b[39m.\u001b[39margs[\u001b[39m0\u001b[39m] \u001b[39m==\u001b[39m SSL_ERROR_EOF \u001b[39mand\u001b[39;00m \u001b[39mself\u001b[39m\u001b[39m.\u001b[39msuppress_ragged_eofs:\n",
      "\u001b[1;31mKeyboardInterrupt\u001b[0m: "
     ]
    }
   ],
   "source": [
    "cm.convert_logs_to_embeddings(f\"{DATA_DIR}/test_log2.out\")"
   ]
  },
  {
   "cell_type": "code",
   "execution_count": 13,
   "metadata": {},
   "outputs": [
    {
     "data": {
      "text/plain": [
       "([Document(page_content='Nov 09 13:15:16 CMX50070-101776 start_mrt.sh[27299]: [INFO] [2023-11-09T13:15:16,294+0000] [srss.verify_args:63]: sri_recall_log_lookup_location: /home/instrument/fw/log/2023-11-09T13-11-48Z/sfa/NetworkEmulation1/sri\\nNov 09 13:15:16 CMX50070-101776 start_mrt.sh[27299]: [INFO] [2023-11-09T13:15:16,294+0000] [srss.verify_args:69]: working_dir: /home/instrument/fw/log/2023-11-09T13-11-48Z/sfa/NetworkEmulation1/sri\\nNov 09 13:15:16 CMX50070-101776 start_mrt.sh[27299]: [INFO] [2023-11-09T13:15:16,294+0000] [srss.__init__:43]: SRSS version: 05.01.01\\nNov 09 13:15:16 CMX50070-101776 start_mrt.sh[27299]: [INFO] [2023-11-09T13:15:16,306+0000] [utilities.register_in_persistence_registry_service:215]: Successfully registered in PersistenceRegistryService\\nNov 09 13:15:16 CMX50070-101776 start_mrt.sh[27299]: [INFO] [2023-11-09T13:15:16,306+0000] [srss.__init__:51]: Service registered\\nNov 09 13:15:16 CMX50070-101776 start_mrt.sh[27255]: PyInstaller _MEI directory save_recall', metadata={'source': 'C:/Users/vishw/OneDrive/Desktop/Projects/daemon-dialoguers/Dataset/test_log1.out'}),\n",
       "  Document(page_content=\"Nov 09 13:15:10 CMX50070-101776 start_mrt.sh[27266]: 2023-11-09T13:15:10.287+00:00 [info     ] log_dir = /home/instrument/fw/log/2023-11-09T13-11-48Z/sfa/NetworkEmulation1/gwss [gwss.gwss_server.server_application]\\nNov 09 13:15:10 CMX50070-101776 start_mrt.sh[27266]: 2023-11-09T13:15:10.287+00:00 [info     ] server_mode = ServerMode.SECONDARY [gwss.gwss_server.server_application]\\nNov 09 13:15:10 CMX50070-101776 start_mrt.sh[27266]: 2023-11-09T13:15:10.288+00:00 [info     ] connection config: ConnectionConfig('127.0.0.1') [gwss.gwss_server.server_application]\\nNov 09 13:15:10 CMX50070-101776 start_mrt.sh[27266]: 2023-11-09T13:15:10.289+00:00 [info     ]   rpc_url: tcp://127.0.0.1:9013 [gwss.gwss_server.server_application]\\nNov 09 13:15:10 CMX50070-101776 start_mrt.sh[27266]: 2023-11-09T13:15:10.289+00:00 [info     ]   xpub_url: tcp://127.0.0.1:9012 [gwss.gwss_server.server_application]\", metadata={'source': 'C:/Users/vishw/OneDrive/Desktop/Projects/daemon-dialoguers/Dataset/test_log1.out'}),\n",
       "  Document(page_content=\"Nov 09 13:41:03 CMX50070-101776 start_mrt.sh[192092]: 2023-11-09T13:41:03.546+00:00 [info     ] log_dir = /home/instrument/fw/log/2023-11-09T13-11-48Z/sfa/NetworkEmulation2/gwss [gwss.gwss_server.server_application]\\nNov 09 13:41:03 CMX50070-101776 start_mrt.sh[192092]: 2023-11-09T13:41:03.546+00:00 [info     ] server_mode = ServerMode.SECONDARY [gwss.gwss_server.server_application]\\nNov 09 13:41:03 CMX50070-101776 start_mrt.sh[192092]: 2023-11-09T13:41:03.548+00:00 [info     ] connection config: ConnectionConfig('127.0.0.1') [gwss.gwss_server.server_application]\\nNov 09 13:41:03 CMX50070-101776 start_mrt.sh[192092]: 2023-11-09T13:41:03.549+00:00 [info     ]   rpc_url: tcp://127.0.0.1:9013 [gwss.gwss_server.server_application]\\nNov 09 13:41:03 CMX50070-101776 start_mrt.sh[192092]: 2023-11-09T13:41:03.553+00:00 [info     ]   xpub_url: tcp://127.0.0.1:9012 [gwss.gwss_server.server_application]\", metadata={'source': 'C:/Users/vishw/OneDrive/Desktop/Projects/daemon-dialoguers/Dataset/test_log1.out'}),\n",
       "  Document(page_content='Nov 09 13:15:16 CMX50070-101776 start_mrt.sh[27255]: [INFO] [2023-11-09T13:15:16,329+0000] [srsf.__init__:43]: SRSF version: 01.04.11\\nNov 09 13:15:16 CMX50070-101776 start_mrt.sh[27255]: [INFO] [2023-11-09T13:15:16,341+0000] [utilities.register_in_persistence_registry_service:215]: Successfully registered in PersistenceRegistryService\\nNov 09 13:15:16 CMX50070-101776 start_mrt.sh[27255]: [INFO] [2023-11-09T13:15:16,342+0000] [srsf.__init__:51]: Service registered\\nNov 09 13:15:16 CMX50070-101776 start_mrt.sh[27255]: [INFO] [2023-11-09T13:15:16,444+0000] [srsf_service_impl.CheckService:96]: SRSF is running\\nNov 09 13:15:16 CMX50070-101776 start_mrt.sh[27299]: [INFO] [2023-11-09T13:15:16,507+0000] [srss_service_impl.CheckService:97]: SRSS is running', metadata={'source': 'C:/Users/vishw/OneDrive/Desktop/Projects/daemon-dialoguers/Dataset/test_log1.out'}),\n",
       "  Document(page_content='Nov 10 05:49:09 CMX50070-101776 start_mrt.sh[2208744]: Type = ERROR_REPAIR\\nNov 10 05:49:09 CMX50070-101776 start_mrt.sh[2208744]: File Name = /home/integration_mmi/jenkins/workspace/mrt.base.fsw_release_5.0.60-ci/1cm_fsw_base_wm/fwa/rs.cmwbase.fsw/fswselfalignment/task_service.cpp\\nNov 10 05:49:09 CMX50070-101776 start_mrt.sh[2208744]: Line Number = 309\\nNov 10 05:49:09 CMX50070-101776 start_mrt.sh[2208744]: Current Version = 5.0.60.4\\nNov 10 05:49:09 CMX50070-101776 start_mrt.sh[2208744]: Additional Info = Expected files do not exist!\\nNov 10 05:49:09 CMX50070-101776 start_mrt.sh[2208744]: Hidden Comment = /home/instrument/fw/system/CorrdataWS/RFU300/RFUNIT_1222.1020.02_100131/CDV/SA/V6/CUR/tx_meta.csv\\nNov 10 05:49:09 CMX50070-101776 start_mrt.sh[2208744]: /home/instrument/fw/system/CorrdataWS/RFU300/RFUNIT_1222.1020.02_100131/CDV/SA/V6/CUR/rx_meta.csv\\nNov 10 05:49:09 CMX50070-101776 start_mrt.sh[2208744]: Logfiles of TraceManager in /home/instrument/fw/log/2023-11-09T13-11-48Z', metadata={'source': 'C:/Users/vishw/OneDrive/Desktop/Projects/daemon-dialoguers/Dataset/test_log1.out'}),\n",
       "  Document(page_content=\"Nov 09 13:41:09 CMX50070-101776 start_mrt.sh[192083]: [INFO] [2023-11-09T13:41:09,580+0000] [srsf.__init__:43]: SRSF version: 01.04.11\\nNov 09 13:41:09 CMX50070-101776 start_mrt.sh[192083]: [INFO] [2023-11-09T13:41:09,595+0000] [utilities.register_in_persistence_registry_service:215]: Successfully registered in PersistenceRegistryService\\nNov 09 13:41:09 CMX50070-101776 start_mrt.sh[192083]: [INFO] [2023-11-09T13:41:09,595+0000] [srsf.__init__:51]: Service registered\\nNov 09 13:41:09 CMX50070-101776 start_mrt.sh[192085]: PyInstaller _MEI directory save_recall\\nNov 09 13:41:09 CMX50070-101776 start_mrt.sh[192085]: Namespace(broker_ip='127.0.0.1', sri_recall_log_dir='/home/instrument/fw/log/2023-11-09T13-11-48Z/sfa/NetworkEmulation2/sri', verbose=False, no_base_registration=False, working_dir='/home/instrument/fw/log/2023-11-09T13-11-48Z/sfa/NetworkEmulation2/sri')\", metadata={'source': 'C:/Users/vishw/OneDrive/Desktop/Projects/daemon-dialoguers/Dataset/test_log1.out'}),\n",
       "  Document(page_content='Nov 10 05:49:09 CMX50070-101776 start_mrt.sh[2208743]:       <FileLine>396</FileLine>\\nNov 10 05:49:09 CMX50070-101776 start_mrt.sh[2208743]:       <FileTime>Wed Oct 25 12:00:18 2023</FileTime>\\nNov 10 05:49:09 CMX50070-101776 start_mrt.sh[2208743]:       <MethodName>UpdateFootprint</MethodName>\\nNov 10 05:49:09 CMX50070-101776 start_mrt.sh[2208743]:       <Thread>unknown thread name</Thread>\\nNov 10 05:49:09 CMX50070-101776 start_mrt.sh[2208743]:       <ErrorCode>No error. Some restrictions apply.</ErrorCode>\\nNov 10 05:49:09 CMX50070-101776 start_mrt.sh[2208743]:     </Error>\\nNov 10 05:49:09 CMX50070-101776 start_mrt.sh[2208743]:   </Errors>\\nNov 10 05:49:09 CMX50070-101776 start_mrt.sh[2208743]: </CompassErrorLog>\\nNov 10 05:49:09 CMX50070-101776 start_mrt.sh[2208744]: ## ----------------------------------------------------------------\\nNov 10 05:49:09 CMX50070-101776 start_mrt.sh[2208744]: Date and Time = 2023-11-09T13:13:39.524697091Z (UpTime=97.067, MRT-ST=121698856.524697091)', metadata={'source': 'C:/Users/vishw/OneDrive/Desktop/Projects/daemon-dialoguers/Dataset/test_log1.out'}),\n",
       "  Document(page_content=\"Nov 09 13:15:16 CMX50070-101776 start_mrt.sh[27299]: Generated .drift folder directory: /home/instrument/fw/log/2023-11-09T13-11-48Z/sfa/NetworkEmulation1/sri\\nNov 09 13:15:16 CMX50070-101776 start_mrt.sh[27299]: [INFO] [2023-11-09T13:15:16,727+0000] [utilities.replay_drifted:123]: replaying from the drifted folder\\nNov 09 13:15:17 CMX50070-101776 start_mrt.sh[27355]: ERROR: Caught exception while processing cell add/update '//mrt/0/testenvironment/0/signaling/0/sri/0/asservice/0/nrservice/0/cell/0': Cell //mrt/0/testenvironment/0/signaling/0/sri/0/asservice/0/nrservice/0/cell/0 is missing rach_config_common\\nNov 09 13:15:17 CMX50070-101776 start_mrt.sh[27299]: [INFO] [2023-11-09T13:15:17,827+0000] [utilities.replay_drifted:127]: Finished replaying the RPC calls\", metadata={'source': 'C:/Users/vishw/OneDrive/Desktop/Projects/daemon-dialoguers/Dataset/test_log1.out'}),\n",
       "  Document(page_content='Nov 10 01:22:34 CMX50070-101776 start-mrt.sysmond.sh[503330]: 2023-11-10T01:22:34,274958580+00:00 Compress log \"/home/instrument/fw/log/sysmond_main.1.nmon\"...\\nNov 10 01:22:34 CMX50070-101776 start-mrt.sysmond.sh[503332]: *** zstd command line interface 64-bits v1.5.2, by Yann Collet ***\\nNov 10 01:22:34 CMX50070-101776 start-mrt.sysmond.sh[503332]: [380B blob data]\\nNov 10 01:22:34 CMX50070-101776 start-mrt.sysmond.sh[503343]: 2023-11-10T01:22:34,464677883+00:00 Compression done\\nNov 10 01:22:34 CMX50070-101776 start-mrt.sysmond.sh[503359]: 2023-11-10T01:22:34,488875044+00:00 Compress log \"/home/instrument/fw/log/sysmond_processes.1.nmon\"...\\nNov 10 01:22:34 CMX50070-101776 start-mrt.sysmond.sh[503361]: *** zstd command line interface 64-bits v1.5.2, by Yann Collet ***\\nNov 10 01:22:34 CMX50070-101776 start-mrt.sysmond.sh[503361]: [305B blob data]\\nNov 10 01:22:34 CMX50070-101776 start-mrt.sysmond.sh[503365]: 2023-11-10T01:22:34,616338990+00:00 Compression done', metadata={'source': 'C:/Users/vishw/OneDrive/Desktop/Projects/daemon-dialoguers/Dataset/test_log1.out'}),\n",
       "  Document(page_content='Nov 09 13:41:09 CMX50070-101776 start_mrt.sh[192085]: [INFO] [2023-11-09T13:41:09,731+0000] [utilities.__init__:193]: Broker started as Slave\\nNov 09 13:41:09 CMX50070-101776 start_mrt.sh[192085]: [INFO] [2023-11-09T13:41:09,731+0000] [srss.verify_args:57]: Master broker address: 127.0.0.1\\nNov 09 13:41:09 CMX50070-101776 start_mrt.sh[192085]: [INFO] [2023-11-09T13:41:09,731+0000] [srss.verify_args:63]: sri_recall_log_lookup_location: /home/instrument/fw/log/2023-11-09T13-11-48Z/sfa/NetworkEmulation2/sri\\nNov 09 13:41:09 CMX50070-101776 start_mrt.sh[192085]: [INFO] [2023-11-09T13:41:09,731+0000] [srss.verify_args:69]: working_dir: /home/instrument/fw/log/2023-11-09T13-11-48Z/sfa/NetworkEmulation2/sri\\nNov 09 13:41:09 CMX50070-101776 start_mrt.sh[192085]: [INFO] [2023-11-09T13:41:09,731+0000] [srss.__init__:43]: SRSS version: 05.01.01', metadata={'source': 'C:/Users/vishw/OneDrive/Desktop/Projects/daemon-dialoguers/Dataset/test_log1.out'}),\n",
       "  Document(page_content=\"Nov 09 13:13:26 CMX50070-101776 start_mrt.sh[16216]: Created text event log '/home/instrument/fw/log/2023-11-09T13-11-48Z/sfa/eventlog_0.log'\\nNov 09 13:13:26 CMX50070-101776 start_mrt.sh[16216]: Registering service '//mrt/0/testenvironment/0/eventlog/0'...\\nNov 09 13:13:26 CMX50070-101776 start_mrt.sh[16216]: Registered service '//mrt/0/testenvironment/0/eventlog/0'\\nNov 09 13:13:26 CMX50070-101776 start_mrt.sh[16216]: EventLog successfully started\\nNov 09 13:13:26 CMX50070-101776 start_mrt.sh[16216]: Disabling logging to stdout...\\nNov 09 13:13:27 CMX50070-101776 start_mrt.sh[3219]: TSS: Detected change of CLOCK_REALTIME!\\nNov 09 13:13:27 CMX50070-101776 start_mrt.sh[3219]: TSS: Current leap-second count at 2023-11-09T13:13:27Z is 37\\nNov 09 13:13:27 CMX50070-101776 start_mrt.sh[3219]: TSS: CLOCK_TAI offset set to 37 seconds\\nNov 09 13:13:27 CMX50070-101776 start_mrt.sh[3219]: TSS: Created local MB wrapper on slot 1400\", metadata={'source': 'C:/Users/vishw/OneDrive/Desktop/Projects/daemon-dialoguers/Dataset/test_log1.out'}),\n",
       "  Document(page_content='Nov 09 16:14:29 CMX50070-101776 start-mrt.sysmond.sh[1181704]: 2023-11-09T16:14:29,489268648+00:00 Compress log \"/home/instrument/fw/log/sysmond_processes.1.nmon\"...\\nNov 09 16:14:29 CMX50070-101776 start-mrt.sysmond.sh[1181706]: *** zstd command line interface 64-bits v1.5.2, by Yann Collet ***\\nNov 09 16:14:29 CMX50070-101776 start-mrt.sysmond.sh[1181706]: [305B blob data]\\nNov 09 16:14:29 CMX50070-101776 start-mrt.sysmond.sh[1181710]: 2023-11-09T16:14:29,610252875+00:00 Compression done\\nNov 09 16:14:29 CMX50070-101776 start-mrt.sysmond.sh[1181714]: 2023-11-09T16:14:29,613494608+00:00 Rotation done\\nNov 09 16:14:29 CMX50070-101776 start-mrt.sysmond.sh[1181718]: 2023-11-09T16:14:29,615728785+00:00 Launching nmon...\\nNov 09 16:14:29 CMX50070-101776 start-mrt.sysmond.sh[1181729]: 2023-11-09T16:14:29,625572298+00:00 Launch done: PID is 1181725\\nNov 09 16:14:50 CMX50070-101776 mrt.pos.catrp3dr[1867]: info: RohdeSchwarz.Mrt.Microservices.PositioningCatrP3Dr.Positioning.PositioningServiceHost[0]', metadata={'source': 'C:/Users/vishw/OneDrive/Desktop/Projects/daemon-dialoguers/Dataset/test_log1.out'}),\n",
       "  Document(page_content='Nov 09 13:12:39 CMX50070-101776 start_mrt.sh[10234]: fpga version=0x3070007\\nNov 09 13:12:39 CMX50070-101776 start_mrt.sh[10235]: CCmgAccess(/dev/rohde-schwarz/cmg_300) ctor handle=3\\nNov 09 13:12:39 CMX50070-101776 start_mrt.sh[10235]: fpga version=0x3070007\\nNov 09 13:12:39 CMX50070-101776 start_mrt.sh[10236]: Write :/home/instrument/fw/log/2023-11-09T13-11-48Z/bbmpp_log_cmg_400_inst0.txt\\nNov 09 13:12:39 CMX50070-101776 start_mrt.sh[10235]: Write :/home/instrument/fw/log/2023-11-09T13-11-48Z/bbmpp_log_cmg_300_inst1.txt\\nNov 09 13:12:39 CMX50070-101776 start_mrt.sh[10234]: Write :/home/instrument/fw/log/2023-11-09T13-11-48Z/bbmpp_log_cmg_300_inst0.txt\\nNov 09 13:12:39 CMX50070-101776 start_mrt.sh[10232]: Write :/home/instrument/fw/log/2023-11-09T13-11-48Z/bbmpp_log_cmg_400_inst1.txt\\nNov 09 13:12:39 CMX50070-101776 start_mrt.sh[3219]: CCmgAccess(/dev/rohde-schwarz/cmg_400) ctor handle=538\\nNov 09 13:12:39 CMX50070-101776 start_mrt.sh[3219]: fpga version=0x3070007', metadata={'source': 'C:/Users/vishw/OneDrive/Desktop/Projects/daemon-dialoguers/Dataset/test_log1.out'}),\n",
       "  Document(page_content='Nov 09 19:17:08 CMX50070-101776 start-mrt.sysmond.sh[2352936]: 2023-11-09T19:17:08,557366079+00:00 Compress log \"/home/instrument/fw/log/sysmond_main.1.nmon\"...\\nNov 09 19:17:08 CMX50070-101776 start-mrt.sysmond.sh[2352938]: *** zstd command line interface 64-bits v1.5.2, by Yann Collet ***\\nNov 09 19:17:08 CMX50070-101776 start-mrt.sysmond.sh[2352938]: [295B blob data]\\nNov 09 19:17:08 CMX50070-101776 start-mrt.sysmond.sh[2352945]: 2023-11-09T19:17:08,718960566+00:00 Compression done\\nNov 09 19:17:08 CMX50070-101776 start-mrt.sysmond.sh[2352960]: 2023-11-09T19:17:08,743141334+00:00 Compress log \"/home/instrument/fw/log/sysmond_processes.1.nmon\"...\\nNov 09 19:17:08 CMX50070-101776 start-mrt.sysmond.sh[2352962]: *** zstd command line interface 64-bits v1.5.2, by Yann Collet ***\\nNov 09 19:17:08 CMX50070-101776 start-mrt.sysmond.sh[2352962]: [305B blob data]\\nNov 09 19:17:08 CMX50070-101776 start-mrt.sysmond.sh[2352966]: 2023-11-09T19:17:08,857930386+00:00 Compression done', metadata={'source': 'C:/Users/vishw/OneDrive/Desktop/Projects/daemon-dialoguers/Dataset/test_log1.out'}),\n",
       "  Document(page_content='Nov 09 22:19:48 CMX50070-101776 start-mrt.sysmond.sh[3523899]: 2023-11-09T22:19:48,981523352+00:00 Compress log \"/home/instrument/fw/log/sysmond_processes.1.nmon\"...\\nNov 09 22:19:48 CMX50070-101776 start-mrt.sysmond.sh[3523901]: *** zstd command line interface 64-bits v1.5.2, by Yann Collet ***\\nNov 09 22:19:49 CMX50070-101776 start-mrt.sysmond.sh[3523901]: [305B blob data]\\nNov 09 22:19:49 CMX50070-101776 start-mrt.sysmond.sh[3523905]: 2023-11-09T22:19:49,099110450+00:00 Compression done\\nNov 09 22:19:49 CMX50070-101776 start-mrt.sysmond.sh[3523909]: 2023-11-09T22:19:49,101141269+00:00 Rotation done\\nNov 09 22:19:49 CMX50070-101776 start-mrt.sysmond.sh[3523913]: 2023-11-09T22:19:49,102983017+00:00 Launching nmon...\\nNov 09 22:19:49 CMX50070-101776 start-mrt.sysmond.sh[3523924]: 2023-11-09T22:19:49,110938824+00:00 Launch done: PID is 3523920\\nNov 09 22:19:50 CMX50070-101776 mrt.pos.catrp3dr[1867]: info: RohdeSchwarz.Mrt.Microservices.PositioningCatrP3Dr.Positioning.PositioningServiceHost[0]', metadata={'source': 'C:/Users/vishw/OneDrive/Desktop/Projects/daemon-dialoguers/Dataset/test_log1.out'})],\n",
       " [0.6689145885857017,\n",
       "  0.656504786216457,\n",
       "  0.6547349136069391,\n",
       "  0.6544322149409338,\n",
       "  0.6539689367821021,\n",
       "  0.6537894333542942,\n",
       "  0.6526603192826874,\n",
       "  0.6509040601052385,\n",
       "  0.6485345221351074,\n",
       "  0.6468751796358092,\n",
       "  0.6463752969390458,\n",
       "  0.6458268821462221,\n",
       "  0.6453519714572014,\n",
       "  0.6453226372506378,\n",
       "  0.6443565050422225])"
      ]
     },
     "execution_count": 13,
     "metadata": {},
     "output_type": "execute_result"
    }
   ],
   "source": [
    "returns = cm.get_context(\"When was run sfa_mmi executed?\", f\"./chromadb/{md5hash}_large\")\n",
    "returns"
   ]
  },
  {
   "cell_type": "markdown",
   "metadata": {},
   "source": [
    "### ChatGPT test"
   ]
  },
  {
   "cell_type": "code",
   "execution_count": 9,
   "metadata": {},
   "outputs": [],
   "source": [
    "md5hash = hashlib.md5(open(f\"{DATA_DIR}/test_log1.out\",'rb').read()).hexdigest()\n"
   ]
  },
  {
   "cell_type": "code",
   "execution_count": 10,
   "metadata": {},
   "outputs": [
    {
     "name": "stdout",
     "output_type": "stream",
     "text": [
      "--Context fetched--\n",
      "--Vectorstore created--\n",
      "--Chatbot Executed--\n"
     ]
    },
    {
     "data": {
      "text/plain": [
       "{'answer': 'The SSH IPs are 192.168.85.173 and 216-10.102.37.173.',\n",
       " 'Source': ['Nov 09 13:50:43 CMX50070-101776 sshd[253335]: Connection closed by 192.168.85.173 port 49146\\nNov 09 13:50:43 CMX50070-101776 systemd[1]: sshd@216-10.102.37.173:22-192.168.85.173:49146.service: Deactivated successfully.\\nNov 09 13:50:43 CMX50070-101776 start_cmxmarsserver.sh[173642]: Got Data: 1025600 count: 35 t: 1:50:43 PM\\nNov 09 13:50:44 CMX50070-101776 start_cmxmarsserver.sh[173642]: Got Data: 1027600 count: 46 t: 1:50:44 PM\\nNov 09 13:50:45 CMX50070-101776 start_cmxmarsserver.sh[173642]: Got Data: 1029600 count: 47 t: 1:50:45 PM\\nNov 09 13:50:46 CMX50070-101776 start_cmxmarsserver.sh[173642]: Got Data: 1031600 count: 47 t: 1:50:46 PM\\nNov 09 13:50:47 CMX50070-101776 rspias-daemon[887]: PIAS: Socket[4] << 281,152\\\\PIAS: PIAS: Remote access from client 10.102.37.11\\nNov 09 13:50:48 CMX50070-101776 start_cmxmarsserver.sh[173642]: Got Data: 1033600 count: 58 t: 1:50:48 PM\\nNov 09 13:50:48 CMX50070-101776 rspias-daemon[887]: PIAS: PIAS: Remote access from client 10.102.37.222',\n",
       "  'Nov 09 13:55:08 CMX50070-101776 sshd[281144]: Connection closed by 192.168.85.173 port 60810\\nNov 09 13:55:08 CMX50070-101776 systemd[1]: sshd@239-10.102.37.173:22-192.168.85.173:60810.service: Deactivated successfully.\\nNov 09 13:55:08 CMX50070-101776 start_cmxmarsserver.sh[173642]: Got Data: 1554800 count: 98 t: 1:55:08 PM\\nNov 09 13:55:09 CMX50070-101776 start_cmxmarsserver.sh[173642]: Got Data: 1556700 count: 33 t: 1:55:09 PM\\nNov 09 13:55:09 CMX50070-101776 start_cmxmarsserver.sh[173642]: Got Data: 1556700 count: 34 t: 1:55:09 PM\\nNov 09 13:55:10 CMX50070-101776 start_cmxmarsserver.sh[173642]: Got Data: 1556700 count: 100 t: 1:55:10 PM\\nNov 09 13:55:10 CMX50070-101776 start_cmxmarsserver.sh[173642]: Got Data: 1556800 count: 21 t: 1:55:10 PM\\nNov 09 13:55:11 CMX50070-101776 start_cmxmarsserver.sh[173642]: Got Data: 1556900 count: 58 t: 1:55:11 PM\\nNov 09 13:55:13 CMX50070-101776 start_cmxmarsserver.sh[173642]: Got Data: 1557000 count: 96 t: 1:55:13 PM',\n",
       "  'Nov 09 13:50:04 CMX50070-101776 sshd[249289]: Connection closed by 172.25.11.232 port 45426\\nNov 09 13:50:04 CMX50070-101776 systemd[1]: sshd@214-10.102.37.173:22-172.25.11.232:45426.service: Deactivated successfully.\\nNov 09 13:50:04 CMX50070-101776 start_cmxmarsserver.sh[173642]: Got Data: 947400 count: 40 t: 1:50:04 PM\\nNov 09 13:50:06 CMX50070-101776 start_cmxmarsserver.sh[173642]: Got Data: 949400 count: 55 t: 1:50:06 PM\\nNov 09 13:50:07 CMX50070-101776 start_cmxmarsserver.sh[173642]: Got Data: 951400 count: 58 t: 1:50:07 PM\\nNov 09 13:50:07 CMX50070-101776 start_cmxmarsserver.sh[173642]: Got Data: 953400 count: 55 t: 1:50:07 PM\\nNov 09 13:50:09 CMX50070-101776 start_cmxmarsserver.sh[173642]: Got Data: 955400 count: 63 t: 1:50:09 PM\\nNov 09 13:50:10 CMX50070-101776 start_cmxmarsserver.sh[173642]: Got Data: 957400 count: 65 t: 1:50:10 PM\\nNov 09 13:50:11 CMX50070-101776 start_cmxmarsserver.sh[173642]: Got Data: 959400 count: 72 t: 1:50:11 PM',\n",
       "  'Nov 10 05:14:54 CMX50070-101776 sshd[1993348]: Connection closed by 172.24.11.230 port 57824\\nNov 10 05:14:54 CMX50070-101776 systemd[1]: sshd@472-10.102.37.173:22-172.24.11.230:57824.service: Deactivated successfully.\\nNov 10 05:14:54 CMX50070-101776 RsInstallation[1856]: [.NET ThreadPool Worker] INFO RohdeSchwarz.InstallationServiceLib.InstallationService - Stats: Working set 230.72M, Virtual set 5.48G, CPU Time 11370.830 s, CPU User Time 7243.610 s, Threads 43\\nNov 10 05:14:54 CMX50070-101776 systemd[1]: Started OpenSSH Per-Connection Daemon (172.24.26.39:41334).\\nNov 10 05:14:54 CMX50070-101776 sshd[1993351]: error: kex_exchange_identification: Connection closed by remote host\\nNov 10 05:14:54 CMX50070-101776 sshd[1993351]: Connection closed by 172.24.26.39 port 41334\\nNov 10 05:14:54 CMX50070-101776 systemd[1]: sshd@473-10.102.37.173:22-172.24.26.39:41334.service: Deactivated successfully.',\n",
       "  'Nov 10 05:32:09 CMX50070-101776 sshd[2101885]: Connection closed by 10.0.54.68 port 58826\\nNov 10 05:32:09 CMX50070-101776 systemd[1]: sshd@571-10.102.37.173:22-10.0.54.68:58826.service: Deactivated successfully.\\nNov 10 05:32:44 CMX50070-101776 RsInstallation[1856]: [.NET ThreadPool Worker] INFO RohdeSchwarz.InstallationServiceLib.InstallationService - Stats: Working set 230.73M, Virtual set 5.46G, CPU Time 11549.770 s, CPU User Time 7357.400 s, Threads 42\\nNov 10 05:32:45 CMX50070-101776 systemd[1]: Started OpenSSH Per-Connection Daemon (172.25.11.234:39418).\\nNov 10 05:32:45 CMX50070-101776 sshd[2105616]: error: kex_exchange_identification: Connection closed by remote host\\nNov 10 05:32:45 CMX50070-101776 sshd[2105616]: Connection closed by 172.25.11.234 port 39418\\nNov 10 05:32:45 CMX50070-101776 systemd[1]: sshd@572-10.102.37.173:22-172.25.11.234:39418.service: Deactivated successfully.',\n",
       "  'Nov 09 13:24:12 CMX50070-101776 sshd[85498]: Connection closed by 172.25.232.145 port 60468\\nNov 09 13:24:12 CMX50070-101776 systemd[1]: sshd@72-10.102.37.173:22-172.25.232.145:60468.service: Deactivated successfully.\\nNov 09 13:24:15 CMX50070-101776 systemd[1]: Started OpenSSH Per-Connection Daemon (172.25.11.234:51594).\\nNov 09 13:24:15 CMX50070-101776 sshd[85833]: error: kex_exchange_identification: Connection closed by remote host\\nNov 09 13:24:15 CMX50070-101776 sshd[85833]: Connection closed by 172.25.11.234 port 51594\\nNov 09 13:24:15 CMX50070-101776 systemd[1]: sshd@73-10.102.37.173:22-172.25.11.234:51594.service: Deactivated successfully.\\nNov 09 13:24:23 CMX50070-101776 RsInstallation[1856]: [.NET ThreadPool Worker] INFO RohdeSchwarz.InstallationServiceLib.InstallationService - Stats: Working set 227.90M, Virtual set 5.25G, CPU Time 177.420 s, CPU User Time 115.940 s, Threads 36\\nNov 09 13:24:29 CMX50070-101776 systemd[1]: Started OpenSSH Per-Connection Daemon (172.24.26.38:49746).',\n",
       "  'Nov 10 05:15:31 CMX50070-101776 sshd[1997230]: Connection closed by 172.25.11.234 port 52044\\nNov 10 05:15:31 CMX50070-101776 systemd[1]: sshd@480-10.102.37.173:22-172.25.11.234:52044.service: Deactivated successfully.\\nNov 10 05:15:51 CMX50070-101776 mrt.pos.catrp3dr[1867]: info: RohdeSchwarz.Mrt.Microservices.PositioningCatrP3Dr.Positioning.PositioningServiceHost[0]\\nNov 10 05:15:51 CMX50070-101776 mrt.pos.catrp3dr[1867]:       Worker running at: 11/10/2023 05:15:51 +00:00\\nNov 10 05:15:51 CMX50070-101776 mrt.pos.catrp3d1[1865]: info: RohdeSchwarz.Mrt.Microservices.PositioningCatrP3D1.Positioning.PositioningServiceHost[0]\\nNov 10 05:15:51 CMX50070-101776 mrt.pos.catrp3d1[1865]:       Worker running at: 11/10/2023 05:15:51 +00:00\\nNov 10 05:16:41 CMX50070-101776 RsInstallation[1856]: [.NET ThreadPool Worker] INFO RohdeSchwarz.InstallationServiceLib.InstallationService - Stats: Working set 230.72M, Virtual set 5.47G, CPU Time 11388.660 s, CPU User Time 7254.600 s, Threads 42',\n",
       "  'Nov 09 13:45:23 CMX50070-101776 sshd[219744]: Connection closed by 172.24.11.231 port 50710\\nNov 09 13:45:23 CMX50070-101776 systemd[1]: sshd@190-10.102.37.173:22-172.24.11.231:50710.service: Deactivated successfully.\\nNov 09 13:45:23 CMX50070-101776 start_cmxmarsserver.sh[173642]: Got Data: 382900 count: 54 t: 1:45:23 PM\\nNov 09 13:45:23 CMX50070-101776 start_cmxmarsserver.sh[173642]: Got Data: 383300 count: 54 t: 1:45:23 PM\\nNov 09 13:45:23 CMX50070-101776 start_cmxmarsserver.sh[173642]: Got Data: 383700 count: 56 t: 1:45:23 PM\\nNov 09 13:45:24 CMX50070-101776 start_cmxmarsserver.sh[173642]: Got Data: 384100 count: 57 t: 1:45:24 PM\\nNov 09 13:45:24 CMX50070-101776 start_cmxmarsserver.sh[173642]: Got Data: 384500 count: 60 t: 1:45:24 PM\\nNov 09 13:45:24 CMX50070-101776 start_cmxmarsserver.sh[173642]: Got Data: 384900 count: 65 t: 1:45:24 PM\\nNov 09 13:45:24 CMX50070-101776 start_cmxmarsserver.sh[173642]: Got Data: 385300 count: 64 t: 1:45:24 PM',\n",
       "  'Nov 09 13:36:48 CMX50070-101776 sshd[165339]: Connection closed by 172.25.232.145 port 46996\\nNov 09 13:36:48 CMX50070-101776 systemd[1]: sshd@144-10.102.37.173:22-172.25.232.145:46996.service: Deactivated successfully.\\nNov 09 13:36:50 CMX50070-101776 mrt.pos.catrp3dr[1867]: info: RohdeSchwarz.Mrt.Microservices.PositioningCatrP3Dr.Positioning.PositioningServiceHost[0]\\nNov 09 13:36:50 CMX50070-101776 mrt.pos.catrp3dr[1867]:       Worker running at: 11/09/2023 13:36:50 +00:00\\nNov 09 13:36:50 CMX50070-101776 mrt.pos.catrp3d1[1865]: info: RohdeSchwarz.Mrt.Microservices.PositioningCatrP3D1.Positioning.PositioningServiceHost[0]\\nNov 09 13:36:50 CMX50070-101776 mrt.pos.catrp3d1[1865]:       Worker running at: 11/09/2023 13:36:50 +00:00\\nNov 09 13:36:52 CMX50070-101776 RsInstallation[1856]: [.NET ThreadPool Worker] INFO RohdeSchwarz.InstallationServiceLib.InstallationService - Stats: Working set 227.86M, Virtual set 5.25G, CPU Time 350.860 s, CPU User Time 225.330 s, Threads 37',\n",
       "  'Nov 10 05:13:38 CMX50070-101776 sshd[1985330]: Connection closed by 172.25.11.231 port 54600\\nNov 10 05:13:38 CMX50070-101776 systemd[1]: sshd@458-10.102.37.173:22-172.25.11.231:54600.service: Deactivated successfully.\\nNov 10 05:13:41 CMX50070-101776 phc2sys[17287]: [57727.859] eth_internal rms   18 max  137 freq     -1 +/-  16 delay  1474 +/-  21\\nNov 10 05:13:51 CMX50070-101776 mrt.pos.catrp3dr[1867]: info: RohdeSchwarz.Mrt.Microservices.PositioningCatrP3Dr.Positioning.PositioningServiceHost[0]\\nNov 10 05:13:51 CMX50070-101776 mrt.pos.catrp3dr[1867]:       Worker running at: 11/10/2023 05:13:51 +00:00\\nNov 10 05:13:51 CMX50070-101776 mrt.pos.catrp3d1[1865]: info: RohdeSchwarz.Mrt.Microservices.PositioningCatrP3D1.Positioning.PositioningServiceHost[0]\\nNov 10 05:13:51 CMX50070-101776 mrt.pos.catrp3d1[1865]:       Worker running at: 11/10/2023 05:13:51 +00:00\\nNov 10 05:14:03 CMX50070-101776 systemd[1]: Started OpenSSH Per-Connection Daemon (192.168.85.173:47118).'],\n",
       " 'Confidence': [0.7396028614396881,\n",
       "  0.7326801572780768,\n",
       "  0.7303800773142917,\n",
       "  0.7302025337149396,\n",
       "  0.7301388709002639,\n",
       "  0.7299276308955273,\n",
       "  0.7286624667969273,\n",
       "  0.7285896159692762,\n",
       "  0.7279064787751873,\n",
       "  0.72746005935576]}"
      ]
     },
     "execution_count": 10,
     "metadata": {},
     "output_type": "execute_result"
    }
   ],
   "source": [
    "chatbot.chat_with_bot(\"What are the ssh ips?\", md5hash, '002', memory=False)"
   ]
  },
  {
   "cell_type": "code",
   "execution_count": 102,
   "metadata": {},
   "outputs": [
    {
     "data": {
      "text/plain": [
       "{'answer': 'The SNMP packets were received from UDP: [10.0.2.217]:41179->[10.102.37.173]:161.',\n",
       " 'Source': ['Nov 09 13:41:18 CMX50070-101776 rspias-daemon[887]: PIAS: Socket[7] << R&S,1201.0002k70/101776,5.0.60.4\\\\n\\nNov 09 13:41:18 CMX50070-101776 rspias-daemon[887]: PIAS: Socket[7] >> DIAG:UPD:TRAN:VERS?\\\\n\\nNov 09 13:41:18 CMX50070-101776 rspias-daemon[887]: PIAS: Socket[7] << 281,152\\\\n',\n",
       "  'Nov 09 13:41:18 CMX50070-101776 rspias-daemon[887]: PIAS: Socket[4] << R&S,1201.0002k70/101776,5.0.60.4\\\\n\\nNov 09 13:41:18 CMX50070-101776 rspias-daemon[887]: PIAS: Socket[4] >> DIAG:UPD:TRAN:VERS?\\\\n\\nNov 09 13:41:18 CMX50070-101776 rspias-daemon[887]: PIAS: Socket[4] << 281,152\\\\n',\n",
       "  'Nov 09 13:41:12 CMX50070-101776 rspias-daemon[887]: PIAS: Socket[4] << R&S,1201.0002k70/101776,5.0.60.4\\\\n\\nNov 09 13:41:12 CMX50070-101776 rspias-daemon[887]: PIAS: Socket[4] >> DIAG:UPD:TRAN:VERS?\\\\n\\nNov 09 13:41:12 CMX50070-101776 rspias-daemon[887]: PIAS: Socket[4] << 281,152\\\\n',\n",
       "  'Nov 09 16:35:09 CMX50070-101776 rspias-daemon[887]: PIAS: Socket[4] << R&S,1201.0002k70/101776,5.0.60.4\\\\n\\nNov 09 16:35:09 CMX50070-101776 rspias-daemon[887]: PIAS: Socket[4] >> DIAG:UPD:TRAN:VERS?\\\\n\\nNov 09 16:35:09 CMX50070-101776 rspias-daemon[887]: PIAS: Socket[4] << 281,152\\\\n',\n",
       "  'Nov 09 13:41:18 CMX50070-101776 rspias-daemon[887]: PIAS: Socket[4] << R&S,1201.0002k70/101776,5.0.60.4\\\\n\\nNov 09 13:41:18 CMX50070-101776 rspias-daemon[887]: PIAS: Socket[4] >> DIAG:UPD:TRAN:VERS?\\\\n\\nNov 09 13:41:18 CMX50070-101776 rspias-daemon[887]: PIAS: Socket[4] << 281,152\\\\n',\n",
       "  'Nov 09 16:37:07 CMX50070-101776 rspias-daemon[887]: PIAS: Socket[4] << R&S,1201.0002k70/101776,5.0.60.4\\\\n\\nNov 09 16:37:07 CMX50070-101776 rspias-daemon[887]: PIAS: Socket[4] >> DIAG:UPD:TRAN:VERS?\\\\n\\nNov 09 16:37:07 CMX50070-101776 rspias-daemon[887]: PIAS: Socket[4] << 281,152\\\\n',\n",
       "  'Nov 09 13:41:10 CMX50070-101776 rspias-daemon[887]: PIAS: Socket[7] << R&S,1201.0002k70/101776,5.0.60.4\\\\n\\nNov 09 13:41:10 CMX50070-101776 rspias-daemon[887]: PIAS: Socket[7] >> DIAG:UPD:TRAN:VERS?\\\\n\\nNov 09 13:41:10 CMX50070-101776 rspias-daemon[887]: PIAS: Socket[7] << 281,152\\\\n',\n",
       "  'Nov 09 13:41:12 CMX50070-101776 rspias-daemon[887]: PIAS: Socket[8] << R&S,1201.0002k70/101776,5.0.60.4\\\\n\\nNov 09 13:41:12 CMX50070-101776 rspias-daemon[887]: PIAS: Socket[8] >> DIAG:UPD:TRAN:VERS?\\\\n\\nNov 09 13:41:12 CMX50070-101776 rspias-daemon[887]: PIAS: Socket[8] << 281,152\\\\n',\n",
       "  'Nov 09 14:22:37 CMX50070-101776 rspias-daemon[887]: PIAS: Socket[7] << R&S,1201.0002k70/101776,5.0.60.4\\\\n\\nNov 09 14:22:37 CMX50070-101776 rspias-daemon[887]: PIAS: Socket[7] >> DIAG:UPD:TRAN:VERS?\\\\n\\nNov 09 14:22:37 CMX50070-101776 rspias-daemon[887]: PIAS: Socket[7] << 281,152\\\\n',\n",
       "  'Nov 09 16:37:07 CMX50070-101776 rspias-daemon[887]: PIAS: Socket[7] << R&S,1201.0002k70/101776,5.0.60.4\\\\n\\nNov 09 16:37:07 CMX50070-101776 rspias-daemon[887]: PIAS: Socket[7] >> DIAG:UPD:TRAN:VERS?\\\\n\\nNov 09 16:37:07 CMX50070-101776 rspias-daemon[887]: PIAS: Socket[7] << 281,152\\\\n'],\n",
       " 'Confidence': [0.7082882798317003,\n",
       "  0.7075255904610471,\n",
       "  0.707295342227632,\n",
       "  0.7072485802992092,\n",
       "  0.7071526751454227,\n",
       "  0.7071521483098163,\n",
       "  0.7069126277697289,\n",
       "  0.7066914411087437,\n",
       "  0.7065355820629504,\n",
       "  0.706478304495824]}"
      ]
     },
     "execution_count": 102,
     "metadata": {},
     "output_type": "execute_result"
    }
   ],
   "source": [
    "chatbot.chat_with_bot(\"What SNMP packet(s) were recieved from UDP?\", md5hash, '002', memory=True)"
   ]
  },
  {
   "cell_type": "code",
   "execution_count": 38,
   "metadata": {},
   "outputs": [],
   "source": [
    "from langchain.embeddings import HuggingFaceEmbeddings, OpenAIEmbeddings\n",
    "from langchain.vectorstores import Chroma\n",
    "from langchain.document_loaders import TextLoader\n",
    "from langchain.text_splitter import RecursiveCharacterTextSplitter\n",
    "from langchain.chat_models import ChatOpenAI\n",
    "from langchain.chains import ConversationalRetrievalChain, RetrievalQAWithSourcesChain\n",
    "from langchain.memory import ConversationBufferMemory\n",
    "\n",
    "import os\n",
    "os.environ[\"OPENAI_API_KEY\"] = key['openai_api_key']"
   ]
  },
  {
   "cell_type": "code",
   "execution_count": 39,
   "metadata": {},
   "outputs": [],
   "source": [
    "memory = ConversationBufferMemory(memory_key='chat_history', return_messages=True, input_key='question', output_key='answer')"
   ]
  },
  {
   "cell_type": "code",
   "execution_count": 40,
   "metadata": {},
   "outputs": [],
   "source": [
    "md5hash = hashlib.md5(open(f\"{DATA_DIR}/test_log1.out\",'rb').read()).hexdigest()\n",
    "question = \"What lines have messages on SSH?\""
   ]
  },
  {
   "cell_type": "code",
   "execution_count": 41,
   "metadata": {},
   "outputs": [],
   "source": [
    "docs_small,conf_small = cm.get_context(question, f\"./chromadb/{md5hash}_small\")\n",
    "docs_large,conf_large = cm.get_context(question, f\"./chromadb/{md5hash}_large\")\n",
    "\n",
    "## Add both large and small to a single list and sort them by confidence\n",
    "docs = docs_small + docs_large\n",
    "conf = conf_small + conf_large\n",
    "\n",
    "df = pd.DataFrame({'docs':docs, 'conf':conf})\n",
    "df.sort_values(by='conf', ascending=False, inplace=True)\n",
    "df.reset_index(drop=True, inplace=True)\n",
    "\n",
    "# df\n",
    "\n"
   ]
  },
  {
   "cell_type": "code",
   "execution_count": 22,
   "metadata": {},
   "outputs": [],
   "source": [
    "embedding = OpenAIEmbeddings(\n",
    "openai_organization=key['openai_organization'],\n",
    "openai_api_key = key['openai_api_key'],\n",
    "model=\"text-embedding-ada-002\",\n",
    "max_retries=10,\n",
    ")\n",
    "\n",
    "vectorstore_relevant = Chroma.from_documents(list(df['docs'].values), embedding=embedding)\n",
    "retriver = vectorstore_relevant.as_retriever(search_kwargs={\"k\": 10,\"score_threshold\": .5})\n"
   ]
  },
  {
   "cell_type": "code",
   "execution_count": 23,
   "metadata": {},
   "outputs": [],
   "source": [
    "llm = ChatOpenAI(\n",
    "openai_organization=\"org-kfsNXpcw90CoawqSyD7Mw4CD\",\n",
    "model=\"gpt-4\",\n",
    "max_tokens=1000,\n",
    ")"
   ]
  },
  {
   "cell_type": "code",
   "execution_count": 24,
   "metadata": {},
   "outputs": [],
   "source": [
    "chat = RetrievalQAWithSourcesChain.from_llm(llm, retriever=retriver, memory=memory, return_source_documents=True, max_tokens_limit=1000, reduce_k_below_max_tokens=True)"
   ]
  },
  {
   "cell_type": "code",
   "execution_count": 25,
   "metadata": {},
   "outputs": [
    {
     "data": {
      "text/plain": [
       "{'question': 'What lines have messages on SSH?',\n",
       " 'chat_history': [HumanMessage(content='What lines have messages on SSH?'),\n",
       "  AIMessage(content='The following lines have messages on SSH: \\n\\n1. \"Nov 09 13:50:04 CMX50070-101776 sshd[249289]: Connection closed by 172.25.11.232 port 45426\"\\n2. \"Nov 09 13:44:11 CMX50070-101776 sshd[212198]: Connection closed by 172.25.232.145 port 56312\"\\n3. \"Nov 09 13:54:33 CMX50070-101776 sshd[277530]: Connection closed by 172.25.11.232 port 36124\"\\n4. \"Nov 09 13:55:08 CMX50070-101776 sshd[281144]: Connection closed by 192.168.85.173 port 60810\"\\n5. \"Nov 09 13:53:34 CMX50070-101776 sshd[271352]: Connection closed by 172.24.11.231 port 33828\"\\n\\n')],\n",
       " 'answer': 'The following lines have messages on SSH: \\n\\n1. \"Nov 09 13:50:04 CMX50070-101776 sshd[249289]: Connection closed by 172.25.11.232 port 45426\"\\n2. \"Nov 09 13:44:11 CMX50070-101776 sshd[212198]: Connection closed by 172.25.232.145 port 56312\"\\n3. \"Nov 09 13:54:33 CMX50070-101776 sshd[277530]: Connection closed by 172.25.11.232 port 36124\"\\n4. \"Nov 09 13:55:08 CMX50070-101776 sshd[281144]: Connection closed by 192.168.85.173 port 60810\"\\n5. \"Nov 09 13:53:34 CMX50070-101776 sshd[271352]: Connection closed by 172.24.11.231 port 33828\"\\n\\n',\n",
       " 'sources': 'C:/Users/vishw/OneDrive/Desktop/Projects/daemon-dialoguers/Dataset/test_log1.out',\n",
       " 'source_documents': [Document(page_content='Nov 09 13:50:04 CMX50070-101776 sshd[249289]: Connection closed by 172.25.11.232 port 45426\\nNov 09 13:50:04 CMX50070-101776 systemd[1]: sshd@214-10.102.37.173:22-172.25.11.232:45426.service: Deactivated successfully.\\nNov 09 13:50:04 CMX50070-101776 start_cmxmarsserver.sh[173642]: Got Data: 947400 count: 40 t: 1:50:04 PM\\nNov 09 13:50:06 CMX50070-101776 start_cmxmarsserver.sh[173642]: Got Data: 949400 count: 55 t: 1:50:06 PM\\nNov 09 13:50:07 CMX50070-101776 start_cmxmarsserver.sh[173642]: Got Data: 951400 count: 58 t: 1:50:07 PM\\nNov 09 13:50:07 CMX50070-101776 start_cmxmarsserver.sh[173642]: Got Data: 953400 count: 55 t: 1:50:07 PM\\nNov 09 13:50:09 CMX50070-101776 start_cmxmarsserver.sh[173642]: Got Data: 955400 count: 63 t: 1:50:09 PM\\nNov 09 13:50:10 CMX50070-101776 start_cmxmarsserver.sh[173642]: Got Data: 957400 count: 65 t: 1:50:10 PM\\nNov 09 13:50:11 CMX50070-101776 start_cmxmarsserver.sh[173642]: Got Data: 959400 count: 72 t: 1:50:11 PM', metadata={'source': 'C:/Users/vishw/OneDrive/Desktop/Projects/daemon-dialoguers/Dataset/test_log1.out'}),\n",
       "  Document(page_content='Nov 09 13:50:04 CMX50070-101776 sshd[249289]: Connection closed by 172.25.11.232 port 45426\\nNov 09 13:50:04 CMX50070-101776 systemd[1]: sshd@214-10.102.37.173:22-172.25.11.232:45426.service: Deactivated successfully.\\nNov 09 13:50:04 CMX50070-101776 start_cmxmarsserver.sh[173642]: Got Data: 947400 count: 40 t: 1:50:04 PM\\nNov 09 13:50:06 CMX50070-101776 start_cmxmarsserver.sh[173642]: Got Data: 949400 count: 55 t: 1:50:06 PM\\nNov 09 13:50:07 CMX50070-101776 start_cmxmarsserver.sh[173642]: Got Data: 951400 count: 58 t: 1:50:07 PM\\nNov 09 13:50:07 CMX50070-101776 start_cmxmarsserver.sh[173642]: Got Data: 953400 count: 55 t: 1:50:07 PM\\nNov 09 13:50:09 CMX50070-101776 start_cmxmarsserver.sh[173642]: Got Data: 955400 count: 63 t: 1:50:09 PM\\nNov 09 13:50:10 CMX50070-101776 start_cmxmarsserver.sh[173642]: Got Data: 957400 count: 65 t: 1:50:10 PM\\nNov 09 13:50:11 CMX50070-101776 start_cmxmarsserver.sh[173642]: Got Data: 959400 count: 72 t: 1:50:11 PM', metadata={'source': 'C:/Users/vishw/OneDrive/Desktop/Projects/daemon-dialoguers/Dataset/test_log1.out'}),\n",
       "  Document(page_content='Nov 09 13:44:11 CMX50070-101776 sshd[212198]: Connection closed by 172.25.232.145 port 56312\\nNov 09 13:44:11 CMX50070-101776 systemd[1]: sshd@179-10.102.37.173:22-172.25.232.145:56312.service: Deactivated successfully.\\nNov 09 13:44:14 CMX50070-101776 start_cmxmarsserver.sh[173642]: Got Data: 243800 count: 5 t: 1:44:14 PM\\nNov 09 13:44:14 CMX50070-101776 start_cmxmarsserver.sh[173642]: Got Data: 243700 count: 100 t: 1:44:14 PM\\nNov 09 13:44:15 CMX50070-101776 start_cmxmarsserver.sh[173642]: Got Data: 245500 count: 100 t: 1:44:15 PM\\nNov 09 13:44:15 CMX50070-101776 start_cmxmarsserver.sh[173642]: Got Data: 245600 count: 13 t: 1:44:15 PM\\nNov 09 13:44:15 CMX50070-101776 start_cmxmarsserver.sh[173642]: Got Data: 246600 count: 4 t: 1:44:15 PM\\nNov 09 13:44:15 CMX50070-101776 start_cmxmarsserver.sh[173642]: Got Data: 246500 count: 100 t: 1:44:15 PM\\nNov 09 13:44:15 CMX50070-101776 start_cmxmarsserver.sh[173642]: Got Data: 247000 count: 8 t: 1:44:15 PM', metadata={'source': 'C:/Users/vishw/OneDrive/Desktop/Projects/daemon-dialoguers/Dataset/test_log1.out'}),\n",
       "  Document(page_content='Nov 09 13:44:11 CMX50070-101776 sshd[212198]: Connection closed by 172.25.232.145 port 56312\\nNov 09 13:44:11 CMX50070-101776 systemd[1]: sshd@179-10.102.37.173:22-172.25.232.145:56312.service: Deactivated successfully.\\nNov 09 13:44:14 CMX50070-101776 start_cmxmarsserver.sh[173642]: Got Data: 243800 count: 5 t: 1:44:14 PM\\nNov 09 13:44:14 CMX50070-101776 start_cmxmarsserver.sh[173642]: Got Data: 243700 count: 100 t: 1:44:14 PM\\nNov 09 13:44:15 CMX50070-101776 start_cmxmarsserver.sh[173642]: Got Data: 245500 count: 100 t: 1:44:15 PM\\nNov 09 13:44:15 CMX50070-101776 start_cmxmarsserver.sh[173642]: Got Data: 245600 count: 13 t: 1:44:15 PM\\nNov 09 13:44:15 CMX50070-101776 start_cmxmarsserver.sh[173642]: Got Data: 246600 count: 4 t: 1:44:15 PM\\nNov 09 13:44:15 CMX50070-101776 start_cmxmarsserver.sh[173642]: Got Data: 246500 count: 100 t: 1:44:15 PM\\nNov 09 13:44:15 CMX50070-101776 start_cmxmarsserver.sh[173642]: Got Data: 247000 count: 8 t: 1:44:15 PM', metadata={'source': 'C:/Users/vishw/OneDrive/Desktop/Projects/daemon-dialoguers/Dataset/test_log1.out'}),\n",
       "  Document(page_content='Nov 09 13:54:33 CMX50070-101776 sshd[277530]: Connection closed by 172.25.11.232 port 36124\\nNov 09 13:54:33 CMX50070-101776 systemd[1]: sshd@237-10.102.37.173:22-172.25.11.232:36124.service: Deactivated successfully.\\nNov 09 13:54:34 CMX50070-101776 start_cmxmarsserver.sh[173642]: Got Data: 1486800 count: 51 t: 1:54:34 PM\\nNov 09 13:54:34 CMX50070-101776 start_cmxmarsserver.sh[173642]: Got Data: 1488800 count: 53 t: 1:54:34 PM\\nNov 09 13:54:36 CMX50070-101776 start_cmxmarsserver.sh[173642]: Got Data: 1490800 count: 51 t: 1:54:36 PM\\nNov 09 13:54:37 CMX50070-101776 start_cmxmarsserver.sh[173642]: Got Data: 1492800 count: 66 t: 1:54:37 PM\\nNov 09 13:54:38 CMX50070-101776 start_cmxmarsserver.sh[173642]: Got Data: 1494800 count: 64 t: 1:54:38 PM\\nNov 09 13:54:39 CMX50070-101776 start_cmxmarsserver.sh[173642]: Got Data: 1496800 count: 68 t: 1:54:39 PM\\nNov 09 13:54:40 CMX50070-101776 start_cmxmarsserver.sh[173642]: Got Data: 1498800 count: 77 t: 1:54:40 PM', metadata={'source': 'C:/Users/vishw/OneDrive/Desktop/Projects/daemon-dialoguers/Dataset/test_log1.out'}),\n",
       "  Document(page_content='Nov 09 13:55:08 CMX50070-101776 sshd[281144]: Connection closed by 192.168.85.173 port 60810\\nNov 09 13:55:08 CMX50070-101776 systemd[1]: sshd@239-10.102.37.173:22-192.168.85.173:60810.service: Deactivated successfully.\\nNov 09 13:55:08 CMX50070-101776 start_cmxmarsserver.sh[173642]: Got Data: 1554800 count: 98 t: 1:55:08 PM\\nNov 09 13:55:09 CMX50070-101776 start_cmxmarsserver.sh[173642]: Got Data: 1556700 count: 33 t: 1:55:09 PM\\nNov 09 13:55:09 CMX50070-101776 start_cmxmarsserver.sh[173642]: Got Data: 1556700 count: 34 t: 1:55:09 PM\\nNov 09 13:55:10 CMX50070-101776 start_cmxmarsserver.sh[173642]: Got Data: 1556700 count: 100 t: 1:55:10 PM\\nNov 09 13:55:10 CMX50070-101776 start_cmxmarsserver.sh[173642]: Got Data: 1556800 count: 21 t: 1:55:10 PM\\nNov 09 13:55:11 CMX50070-101776 start_cmxmarsserver.sh[173642]: Got Data: 1556900 count: 58 t: 1:55:11 PM\\nNov 09 13:55:13 CMX50070-101776 start_cmxmarsserver.sh[173642]: Got Data: 1557000 count: 96 t: 1:55:13 PM', metadata={'source': 'C:/Users/vishw/OneDrive/Desktop/Projects/daemon-dialoguers/Dataset/test_log1.out'}),\n",
       "  Document(page_content='Nov 09 13:55:08 CMX50070-101776 sshd[281144]: Connection closed by 192.168.85.173 port 60810\\nNov 09 13:55:08 CMX50070-101776 systemd[1]: sshd@239-10.102.37.173:22-192.168.85.173:60810.service: Deactivated successfully.\\nNov 09 13:55:08 CMX50070-101776 start_cmxmarsserver.sh[173642]: Got Data: 1554800 count: 98 t: 1:55:08 PM\\nNov 09 13:55:09 CMX50070-101776 start_cmxmarsserver.sh[173642]: Got Data: 1556700 count: 33 t: 1:55:09 PM\\nNov 09 13:55:09 CMX50070-101776 start_cmxmarsserver.sh[173642]: Got Data: 1556700 count: 34 t: 1:55:09 PM\\nNov 09 13:55:10 CMX50070-101776 start_cmxmarsserver.sh[173642]: Got Data: 1556700 count: 100 t: 1:55:10 PM\\nNov 09 13:55:10 CMX50070-101776 start_cmxmarsserver.sh[173642]: Got Data: 1556800 count: 21 t: 1:55:10 PM\\nNov 09 13:55:11 CMX50070-101776 start_cmxmarsserver.sh[173642]: Got Data: 1556900 count: 58 t: 1:55:11 PM\\nNov 09 13:55:13 CMX50070-101776 start_cmxmarsserver.sh[173642]: Got Data: 1557000 count: 96 t: 1:55:13 PM', metadata={'source': 'C:/Users/vishw/OneDrive/Desktop/Projects/daemon-dialoguers/Dataset/test_log1.out'}),\n",
       "  Document(page_content='Nov 09 13:54:33 CMX50070-101776 sshd[277530]: Connection closed by 172.25.11.232 port 36124\\nNov 09 13:54:33 CMX50070-101776 systemd[1]: sshd@237-10.102.37.173:22-172.25.11.232:36124.service: Deactivated successfully.\\nNov 09 13:54:34 CMX50070-101776 start_cmxmarsserver.sh[173642]: Got Data: 1486800 count: 51 t: 1:54:34 PM\\nNov 09 13:54:34 CMX50070-101776 start_cmxmarsserver.sh[173642]: Got Data: 1488800 count: 53 t: 1:54:34 PM\\nNov 09 13:54:36 CMX50070-101776 start_cmxmarsserver.sh[173642]: Got Data: 1490800 count: 51 t: 1:54:36 PM\\nNov 09 13:54:37 CMX50070-101776 start_cmxmarsserver.sh[173642]: Got Data: 1492800 count: 66 t: 1:54:37 PM\\nNov 09 13:54:38 CMX50070-101776 start_cmxmarsserver.sh[173642]: Got Data: 1494800 count: 64 t: 1:54:38 PM\\nNov 09 13:54:39 CMX50070-101776 start_cmxmarsserver.sh[173642]: Got Data: 1496800 count: 68 t: 1:54:39 PM\\nNov 09 13:54:40 CMX50070-101776 start_cmxmarsserver.sh[173642]: Got Data: 1498800 count: 77 t: 1:54:40 PM', metadata={'source': 'C:/Users/vishw/OneDrive/Desktop/Projects/daemon-dialoguers/Dataset/test_log1.out'}),\n",
       "  Document(page_content='Nov 09 13:53:34 CMX50070-101776 sshd[271352]: Connection closed by 172.24.11.231 port 33828\\nNov 09 13:53:34 CMX50070-101776 systemd[1]: sshd@235-10.102.37.173:22-172.24.11.231:33828.service: Deactivated successfully.\\nNov 09 13:53:35 CMX50070-101776 start_cmxmarsserver.sh[173642]: Got Data: 1368400 count: 100 t: 1:53:35 PM\\nNov 09 13:53:35 CMX50070-101776 start_cmxmarsserver.sh[173642]: Got Data: 1368500 count: 25 t: 1:53:35 PM\\nNov 09 13:53:35 CMX50070-101776 start_cmxmarsserver.sh[173642]: Got Data: 1370500 count: 37 t: 1:53:35 PM\\nNov 09 13:53:36 CMX50070-101776 start_cmxmarsserver.sh[173642]: Got Data: 1372500 count: 39 t: 1:53:36 PM\\nNov 09 13:53:38 CMX50070-101776 start_cmxmarsserver.sh[173642]: Got Data: 1374500 count: 41 t: 1:53:38 PM\\nNov 09 13:53:39 CMX50070-101776 start_cmxmarsserver.sh[173642]: Got Data: 1376500 count: 54 t: 1:53:39 PM\\nNov 09 13:53:39 CMX50070-101776 start_cmxmarsserver.sh[173642]: Got Data: 1378500 count: 57 t: 1:53:39 PM', metadata={'source': 'C:/Users/vishw/OneDrive/Desktop/Projects/daemon-dialoguers/Dataset/test_log1.out'}),\n",
       "  Document(page_content='Nov 09 13:53:34 CMX50070-101776 sshd[271352]: Connection closed by 172.24.11.231 port 33828\\nNov 09 13:53:34 CMX50070-101776 systemd[1]: sshd@235-10.102.37.173:22-172.24.11.231:33828.service: Deactivated successfully.\\nNov 09 13:53:35 CMX50070-101776 start_cmxmarsserver.sh[173642]: Got Data: 1368400 count: 100 t: 1:53:35 PM\\nNov 09 13:53:35 CMX50070-101776 start_cmxmarsserver.sh[173642]: Got Data: 1368500 count: 25 t: 1:53:35 PM\\nNov 09 13:53:35 CMX50070-101776 start_cmxmarsserver.sh[173642]: Got Data: 1370500 count: 37 t: 1:53:35 PM\\nNov 09 13:53:36 CMX50070-101776 start_cmxmarsserver.sh[173642]: Got Data: 1372500 count: 39 t: 1:53:36 PM\\nNov 09 13:53:38 CMX50070-101776 start_cmxmarsserver.sh[173642]: Got Data: 1374500 count: 41 t: 1:53:38 PM\\nNov 09 13:53:39 CMX50070-101776 start_cmxmarsserver.sh[173642]: Got Data: 1376500 count: 54 t: 1:53:39 PM\\nNov 09 13:53:39 CMX50070-101776 start_cmxmarsserver.sh[173642]: Got Data: 1378500 count: 57 t: 1:53:39 PM', metadata={'source': 'C:/Users/vishw/OneDrive/Desktop/Projects/daemon-dialoguers/Dataset/test_log1.out'})]}"
      ]
     },
     "execution_count": 25,
     "metadata": {},
     "output_type": "execute_result"
    }
   ],
   "source": [
    "result = chat({\"question\": question})\n",
    "result"
   ]
  },
  {
   "cell_type": "code",
   "execution_count": 26,
   "metadata": {},
   "outputs": [
    {
     "name": "stdout",
     "output_type": "stream",
     "text": [
      "The following lines have messages on SSH: \n",
      "\n",
      "1. \"Nov 09 13:50:04 CMX50070-101776 sshd[249289]: Connection closed by 172.25.11.232 port 45426\"\n",
      "2. \"Nov 09 13:44:11 CMX50070-101776 sshd[212198]: Connection closed by 172.25.232.145 port 56312\"\n",
      "3. \"Nov 09 13:54:33 CMX50070-101776 sshd[277530]: Connection closed by 172.25.11.232 port 36124\"\n",
      "4. \"Nov 09 13:55:08 CMX50070-101776 sshd[281144]: Connection closed by 192.168.85.173 port 60810\"\n",
      "5. \"Nov 09 13:53:34 CMX50070-101776 sshd[271352]: Connection closed by 172.24.11.231 port 33828\"\n",
      "\n",
      "\n"
     ]
    }
   ],
   "source": [
    "print(result['answer'])"
   ]
  },
  {
   "cell_type": "markdown",
   "metadata": {},
   "source": [
    "### Full Token Test"
   ]
  },
  {
   "cell_type": "code",
   "execution_count": 49,
   "metadata": {},
   "outputs": [],
   "source": [
    "memory = ConversationBufferMemory(memory_key='chat_history', return_messages=True, input_key='question', output_key='answer')"
   ]
  },
  {
   "cell_type": "code",
   "execution_count": 50,
   "metadata": {},
   "outputs": [],
   "source": [
    "embedding = OpenAIEmbeddings(\n",
    "openai_organization=key['openai_organization'],\n",
    "openai_api_key = key['openai_api_key'],\n",
    "model=\"text-embedding-ada-002\",\n",
    "max_retries=10,\n",
    ")\n",
    "\n",
    "# Loading the datastore\n",
    "vector_db = Chroma(persist_directory=f\"./chromadb/{md5hash}_small\", embedding_function=embedding)\n",
    "retriver = vector_db.as_retriever()"
   ]
  },
  {
   "cell_type": "code",
   "execution_count": 51,
   "metadata": {},
   "outputs": [],
   "source": [
    "llm = ChatOpenAI(\n",
    "openai_organization=\"org-kfsNXpcw90CoawqSyD7Mw4CD\",\n",
    "model=\"gpt-4\",\n",
    ")\n",
    "\n",
    "chat = RetrievalQAWithSourcesChain.from_llm(llm, retriever=retriver, memory=memory, return_source_documents=True)"
   ]
  },
  {
   "cell_type": "code",
   "execution_count": 53,
   "metadata": {},
   "outputs": [
    {
     "data": {
      "text/plain": [
       "{'question': 'What IPs were they from?',\n",
       " 'chat_history': [HumanMessage(content='Were there any SSH login errors?'),\n",
       "  AIMessage(content='Yes, there were SSH login errors. These include authentication failures and connection closures by the remote host. \\n'),\n",
       "  HumanMessage(content='What IPs were they from?'),\n",
       "  AIMessage(content='The IP they were from is 10.0.2.217.\\n')],\n",
       " 'answer': 'The IP they were from is 10.0.2.217.\\n',\n",
       " 'sources': 'C:/Users/vishw/OneDrive/Desktop/Projects/daemon-dialoguers/Dataset/test_log1.out',\n",
       " 'source_documents': [Document(page_content='Nov 09 14:28:28 CMX50070-101776 rspias-daemon[887]: PIAS: PIAS: Remote access from client 10.0.2.217\\nNov 09 14:28:28 CMX50070-101776 rspias-daemon[887]: PIAS: PIAS: Remote access from client 10.0.2.217', metadata={'source': 'C:/Users/vishw/OneDrive/Desktop/Projects/daemon-dialoguers/Dataset/test_log1.out'}),\n",
       "  Document(page_content='Nov 09 14:31:45 CMX50070-101776 rspias-daemon[887]: PIAS: PIAS: Remote access from client 10.0.2.217\\nNov 09 14:31:45 CMX50070-101776 rspias-daemon[887]: PIAS: PIAS: Remote access from client 10.0.2.217', metadata={'source': 'C:/Users/vishw/OneDrive/Desktop/Projects/daemon-dialoguers/Dataset/test_log1.out'}),\n",
       "  Document(page_content='Nov 09 14:31:45 CMX50070-101776 rspias-daemon[887]: PIAS: PIAS: Remote access from client 10.0.2.217\\nNov 09 14:31:45 CMX50070-101776 rspias-daemon[887]: PIAS: PIAS: Remote access from client 10.0.2.217', metadata={'source': 'C:/Users/vishw/OneDrive/Desktop/Projects/daemon-dialoguers/Dataset/test_log1.out'}),\n",
       "  Document(page_content='Nov 09 14:31:45 CMX50070-101776 rspias-daemon[887]: PIAS: PIAS: Remote access from client 10.0.2.217\\nNov 09 14:31:45 CMX50070-101776 rspias-daemon[887]: PIAS: PIAS: Remote access from client 10.0.2.217', metadata={'source': 'C:/Users/vishw/OneDrive/Desktop/Projects/daemon-dialoguers/Dataset/test_log1.out'})]}"
      ]
     },
     "execution_count": 53,
     "metadata": {},
     "output_type": "execute_result"
    }
   ],
   "source": [
    "result = chat({\"question\": f\"What IPs were they from?\"})\n",
    "result"
   ]
  },
  {
   "cell_type": "markdown",
   "metadata": {},
   "source": [
    "### Langchain Summary Model"
   ]
  },
  {
   "cell_type": "code",
   "execution_count": 2,
   "metadata": {},
   "outputs": [],
   "source": [
    "from langchain.embeddings import HuggingFaceEmbeddings, OpenAIEmbeddings\n",
    "from langchain.vectorstores import Chroma\n",
    "from langchain.document_loaders import TextLoader\n",
    "from langchain.text_splitter import CharacterTextSplitter\n",
    "from langchain.chat_models import ChatOpenAI\n",
    "from langchain.chains import ConversationalRetrievalChain, RetrievalQAWithSourcesChain\n",
    "from langchain.memory import ConversationBufferMemory\n",
    "import tiktoken\n",
    "\n",
    "import os\n",
    "os.environ[\"OPENAI_API_KEY\"] = key['openai_api_key']\n",
    "\n",
    "md5hash = hashlib.md5(open(f\"{DATA_DIR}/final_log.out\",'rb').read()).hexdigest()\n"
   ]
  },
  {
   "cell_type": "code",
   "execution_count": 115,
   "metadata": {},
   "outputs": [],
   "source": [
    "from langchain.prompts import PromptTemplate\n",
    "from langchain.chains.summarize import load_summarize_chain\n",
    "import textwrap\n",
    "from time import monotonic\n",
    "\n",
    "prompt_template = \"\"\"Write a concise summary of the following. Start with a small paragraph and then mention some key events as bullet points:\n",
    "\n",
    "\n",
    "{text}\n",
    "\n",
    "Paragraph:\n",
    "\n",
    "Important points:\"\"\"\n",
    "\n",
    "prompt = PromptTemplate(template=prompt_template, input_variables=[\"text\"])\n"
   ]
  },
  {
   "cell_type": "code",
   "execution_count": 116,
   "metadata": {},
   "outputs": [],
   "source": [
    "llm = ChatOpenAI(\n",
    "openai_organization=\"org-kfsNXpcw90CoawqSyD7Mw4CD\",\n",
    "model=\"gpt-4\"\n",
    ")"
   ]
  },
  {
   "cell_type": "code",
   "execution_count": 117,
   "metadata": {},
   "outputs": [],
   "source": [
    "# loader = TextLoader(f\"{DATA_DIR}/test_log1.out\")\n",
    "# documents = loader.load()\n",
    "\n",
    "# text_splitter = RecursiveCharacterTextSplitter(chunk_size=1000, chunk_overlap=0)\n",
    "# documents = text_splitter.split_documents(documents)\n",
    "question = 'What are the important processes and aspects in the log?'\n",
    "docs_small,conf_small = cm.get_context(question, f\"./chromadb/{md5hash}_small\", k = 50)\n",
    "# docs_large,conf_large = cm.get_context(question, f\"./chromadb/{md5hash}_large\", k = 30)\n",
    "\n",
    "## Add both large and small to a single list and sort them by confidence\n",
    "docs = docs_small"
   ]
  },
  {
   "cell_type": "code",
   "execution_count": 118,
   "metadata": {},
   "outputs": [],
   "source": [
    "chain = load_summarize_chain(llm, chain_type=\"stuff\", prompt=prompt)\n",
    "summary = chain.run(docs)"
   ]
  },
  {
   "cell_type": "code",
   "execution_count": 119,
   "metadata": {},
   "outputs": [
    {
     "name": "stdout",
     "output_type": "stream",
     "text": [
      "The text appears to be a series of logs and configuration settings for some kind of software system. The logs record a number of events, with several related to the initialization of a logger, setting log levels, and rotation of log files. There are also a number of configuration settings defined, such as log level and size. This system seems to be using a variety of loggers for different tasks.\n",
      "\n",
      "Key events:\n",
      "\n",
      "- Multiple loggers like \"log.rat.rqm\", \"log.astSync\" and \"log.coreLoad\" are being set to different levels (debug, warn).\n",
      "- Log files like \"RatRqm.log\" are being created with a certain size (100,000,000).\n",
      "- Logging has been initialized on multiple occasions by RohdeSchwarz.CMXreporting.Logging.Logger, with the log level being set to info.\n",
      "- There are several instances of log rotation and compression, suggesting an active management of log file sizes and storage.\n",
      "- Systemd has started several processes, including daily rotation of log files, cleanup of temporary directories, and a process for smartmontools data collection.\n",
      "- Several processes have started and ended, with session c4 and c5 being logged out and removed.\n",
      "- Certain services and applications are being registered, for example, the service '//mrt/0/testenvironment/0/eventlog/0'.\n",
      "- There are multiple logs being written to \"/home/instrument/fw/log\", with some being compressed.\n",
      "- Some configurations seem to be made for a TraceSap destination with specific IP address and port.\n",
      "- The system is listening on various sockets such as Journal Socket and udev Kernel Socket.\n"
     ]
    }
   ],
   "source": [
    "print(summary)"
   ]
  },
  {
   "cell_type": "code",
   "execution_count": 2,
   "metadata": {},
   "outputs": [],
   "source": [
    "md5hash = hashlib.md5(open(f\"{DATA_DIR}/final_log.out\",'rb').read()).hexdigest()\n",
    "summary = chatbot.summarize_log(md5hash, f\"{DATA_DIR}/final_log.out\")"
   ]
  },
  {
   "cell_type": "code",
   "execution_count": 5,
   "metadata": {},
   "outputs": [
    {
     "data": {
      "text/plain": [
       "'2772550facbfda12a6734612b399d80a'"
      ]
     },
     "execution_count": 5,
     "metadata": {},
     "output_type": "execute_result"
    }
   ],
   "source": [
    "md5hash"
   ]
  },
  {
   "cell_type": "code",
   "execution_count": 6,
   "metadata": {},
   "outputs": [
    {
     "data": {
      "text/plain": [
       "'C:/Users/vishw/OneDrive/Desktop/Projects/daemon-dialoguers/Dataset/final_log.out'"
      ]
     },
     "execution_count": 6,
     "metadata": {},
     "output_type": "execute_result"
    }
   ],
   "source": [
    "f\"{DATA_DIR}/final_log.out\""
   ]
  },
  {
   "cell_type": "markdown",
   "metadata": {},
   "source": [
    "## Clustering attempt"
   ]
  },
  {
   "cell_type": "code",
   "execution_count": 167,
   "metadata": {},
   "outputs": [],
   "source": [
    "import numpy as np\n",
    "from sklearn.cluster import DBSCAN\n",
    "from sklearn.decomposition import PCA"
   ]
  },
  {
   "cell_type": "code",
   "execution_count": 168,
   "metadata": {},
   "outputs": [],
   "source": [
    "embedding = OpenAIEmbeddings(\n",
    "openai_organization=key['openai_organization'],\n",
    "openai_api_key = key['openai_api_key'],\n",
    "model=\"text-embedding-ada-002\",\n",
    "max_retries=10,\n",
    ")\n",
    "vector_db = Chroma(persist_directory=f\"./chromadb/{md5hash}_small\", embedding_function=embedding)\n"
   ]
  },
  {
   "cell_type": "code",
   "execution_count": 169,
   "metadata": {},
   "outputs": [
    {
     "data": {
      "text/plain": [
       "array([-1,  0,  1,  2,  3,  4,  5,  6,  7,  8,  9, 10, 11, 12, 13, 14, 15,\n",
       "       16, 17, 18, 19, 20, 21, 22, 23, 24, 25, 26, 27, 28, 29, 30],\n",
       "      dtype=int64)"
      ]
     },
     "execution_count": 169,
     "metadata": {},
     "output_type": "execute_result"
    }
   ],
   "source": [
    "embeddings = np.array(vector_db.get(include=['embeddings'])['embeddings'])\n",
    "\n",
    "pca = PCA(n_components=10)\n",
    "pca.fit(embeddings)\n",
    "\n",
    "pca_embeddings = pca.transform(embeddings)\n",
    "\n",
    "## DBSCAN\n",
    "dbscan = DBSCAN(eps=0.1, min_samples=3)\n",
    "dbscan.fit(pca_embeddings)\n",
    "\n",
    "## Get all the core points and outliers\n",
    "core_points = np.where(dbscan.core_sample_indices_)[0]\n",
    "outliers = np.where(dbscan.labels_ == -1)[0]\n",
    "\n",
    "## Get the unique labels\n",
    "labels = np.unique(dbscan.labels_)\n",
    "labels"
   ]
  },
  {
   "cell_type": "code",
   "execution_count": 188,
   "metadata": {},
   "outputs": [],
   "source": [
    "outlier_behaviour = list(np.array(vector_db.get(include=['documents'])['documents'])[outliers][:80])"
   ]
  },
  {
   "cell_type": "code",
   "execution_count": 191,
   "metadata": {},
   "outputs": [],
   "source": [
    "from langchain.document_loaders.telegram import text_to_docs\n",
    "outlier_docs = text_to_docs(outlier_behaviour)"
   ]
  },
  {
   "cell_type": "code",
   "execution_count": 201,
   "metadata": {},
   "outputs": [],
   "source": [
    "prompt_template = \"\"\"Write these annomalies in form of bullet points:\n",
    "\n",
    "\n",
    "{text}\n",
    "\n",
    "Anomalies:\"\"\"\n",
    "\n",
    "prompt = PromptTemplate(template=prompt_template, input_variables=[\"text\"])\n",
    "llm = ChatOpenAI(\n",
    "openai_organization=\"org-kfsNXpcw90CoawqSyD7Mw4CD\",\n",
    "model=\"gpt-4\",\n",
    ")\n",
    "chain = load_summarize_chain(llm, chain_type=\"stuff\", prompt=prompt)\n",
    "summary = chain.run(outlier_docs)"
   ]
  },
  {
   "cell_type": "code",
   "execution_count": 202,
   "metadata": {},
   "outputs": [
    {
     "name": "stdout",
     "output_type": "stream",
     "text": [
      "- The \"diskstats_common.go:111\" collector parsed an exclusion flag for diskstats.\n",
      "- The \"rspias-daemon[1016]\" did not check signatures during the installation process.\n",
      "- The \"start-mrt.sysmond.sh[1066]\" SYSMOND_SNAP_PSARGS command had unusual parameters.\n",
      "- The \"Module aufs\" was not found in the specified directory.\n",
      "- The \"cni plugin\" was not initialized due to a failure to load cni config.\n",
      "- The session for user \"xuser\" was closed unexpectedly.\n",
      "- The connection to X server was lost.\n",
      "- The \"AlfManager\" was not started explicitly.\n",
      "- The \"libGL error\" occurred because the radeonsi_dri.so file was not found in the specified directory.\n",
      "- The \"CMX_AU_IOCTL_DMA_DL_FPGA\" call was made in the kernel.\n",
      "- The \"RohdeSchwarz.InstallationManagerAbstractionLib.InstallationManagerHandlerFactory.IsSetup2\" function had an error.\n",
      "- The \"Rohde & Schwarz Installation Service\" was started.\n",
      "- The \"Socket: connect operation\" failed with error 110.\n",
      "- The \"systemd-tmpfiles-clean.service\" deactivated successfully.\n",
      "- The \"mrt.smartmon-collector.service\" failed with result 'start-limit-hit'.\n",
      "- The \"/usr/lib/cmxtools/mddb/Mddb.protobuf.0.3.so\" file was not found in the specified directory.\n",
      "- The \"OpenSSH Per-Connection Daemon\" started multiple times.\n",
      "- The \"CMXmars Server\" stopped unexpectedly.\n",
      "- The \"broker available or timeout or duplicated\" error occurred in the mrt.naming.association.NameAssociationService.\n",
      "- The \"sshd[2228289]\" had an error with kex_exchange_identification.\n",
      "- The \"sshd@1729-10.102.37.173:22-10.0.54.71:38804.service\" deactivated successfully.\n",
      "- The \"RohdeSchwarz.DapiAbstractionLib.InstallationServer\" had an unusual entry in the resource.\n"
     ]
    }
   ],
   "source": [
    "print(summary)"
   ]
  },
  {
   "cell_type": "code",
   "execution_count": 206,
   "metadata": {},
   "outputs": [
    {
     "data": {
      "text/plain": [
       "'- Interface name is longer than 15 characters.\\n- Repeated log entries of \\'/opt/rohde-schwarz/installation-service/script/ /var/tmp/rohde-schwarz/rs-installation-service/script/\\'.\\n- Configuration read from file \\'/etc/rspias.conf\\', but no details provided about the configuration.\\n- The entry of \\'Indices successfully merged!\\' does not specify which indices were merged.\\n- The entry of \\'Publish update:\\' does not provide any details about the update.\\n- Multiple entries of \\'Nov 09 13:11:46 CMX50070-101776 kernel: get_generic_syssync_link_status called\\' suggests a potential issue with the system sync status.\\n- The entry of \\'at RohdeSchwarz.InstallationManagerAbstractionLib.InstallationManagerHandlerFactory.IsSetup2(IBaseDevice device)\\' does not provide enough context or information.\\n- The log \\'Nov 09 13:11:49 CMX50070-101776 load-images.sh[3269]: cmxrep-liveview-app\\' does not provide any information about the status or outcome of the load-images process.\\n- \\'Socket[3]: Data channel normally closed (or due to unexpected data).\\' suggests a potential issue with the socket data channel.\\n- \\'Nov 10 05:49:09 CMX50070-101776 systemd[1]: rs-installation-service.service: State \\'stop-sigterm\\' timed out. Killing.\\' indicates a service timeout issue.\\n- \\'Nov 10 05:49:13 CMX50070-101776 start_mrt.sh[2208836]: tail: cannot open \\'/opt/rohde-schwarz/license-server/log/RsLicenseServerApp.*..log\\' for reading: No such file or directory\\' indicates a file access problem.\\n- \\'Nov 10 05:49:04 CMX50070-101776 rspias-daemon[887]: PIAS: Socket[7] >> DIAG:PIAS:ID?\\\\PIAS: Error: accept() failed with error 22\\' shows a socket error.\\n- \\'Nov 09 13:11:36 localhost kernel: usb 3-2.2.1: new high-speed USB device number 6 using xhci_hcd\\' without any follow up on the device\\'s status.\\n- \\'Nov 10 05:49:07 CMX50070-101776 dockerd[1853]: time=\"2023-11-10T05:49:07.262096013Z\" level=warning msg=\"Failed to delete conntrack state for 100.82.64.132: invalid argument\\' indicates a docker error. \\n- \\'Nov 10 05:49:10 CMX50070-101776 kernel: veth7db875a: renamed from eth0\\' without any explanation for the change. \\n- \\'Nov 09 13:15:06 CMX50070-101776 systemd[1]: Started OpenSSH Per-Connection Daemon (172.24.26.39:47986).\\' without any follow-up on the status of the connection.'"
      ]
     },
     "execution_count": 206,
     "metadata": {},
     "output_type": "execute_result"
    }
   ],
   "source": [
    "md5hash = hashlib.md5(open(f\"{DATA_DIR}/test_log1.out\",'rb').read()).hexdigest()\n",
    "chatbot.find_log_anomalies(md5hash)"
   ]
  },
  {
   "cell_type": "markdown",
   "metadata": {},
   "source": [
    "### Testing Daemon summarizer"
   ]
  },
  {
   "cell_type": "code",
   "execution_count": 88,
   "metadata": {},
   "outputs": [],
   "source": [
    "from langchain.document_loaders.telegram import text_to_docs\n",
    "\n",
    "importlib.reload(cm)\n",
    "warnings, errors, outliers = cm.get_anomalies(f\"{DATA_DIR}/test_log1.out\")\n",
    "warnings, errors, outliers = text_to_docs(warnings), text_to_docs(errors), text_to_docs(outliers)"
   ]
  },
  {
   "cell_type": "code",
   "execution_count": 108,
   "metadata": {},
   "outputs": [],
   "source": [
    "# prompt_template = \"\"\"Give a brief summary in form of bullet points:\n",
    "\n",
    "\n",
    "# {text}\n",
    "\n",
    "# Key Points:\"\"\"\n",
    "\n",
    "prompt_template = \"\"\"Give a brief summary and mention the key points in form of bullet points :\n",
    "\n",
    "\n",
    "{text}\n",
    "\"\"\"\n",
    "\n",
    "prompt = PromptTemplate(template=prompt_template, input_variables=[\"text\"])\n",
    "llm = ChatOpenAI(\n",
    "openai_organization=\"org-kfsNXpcw90CoawqSyD7Mw4CD\",\n",
    "model=\"gpt-4\",\n",
    ")\n",
    "chain = load_summarize_chain(llm, chain_type=\"stuff\", prompt=prompt)\n",
    "summary = chain.run(errors)"
   ]
  },
  {
   "cell_type": "code",
   "execution_count": 109,
   "metadata": {},
   "outputs": [
    {
     "name": "stdout",
     "output_type": "stream",
     "text": [
      "Summary:\n",
      "The log-file report includes an array of information from various processes including initialization of RohdeSchwarz.CMXreporting.Logging.Logger, execution of RohdeSchwarz.Mrt.Microservices.PositioningCatrP3Dr.Positioning.PositioningServiceHost, and the running of tests. There were also instances of errors such as inability to find a row index in _ifXTable_container_row_restore, issues with SCardConnect in pcsc-lite, and connection closures.\n",
      "\n",
      "Key Points:\n",
      "- Initialization of RohdeSchwarz.CMXreporting.Logging.Logger.\n",
      "- LogLevel was set to Info.\n",
      "- Program was running as an instrument in a Unix container.\n",
      "- Execution of RohdeSchwarz.Mrt.Microservices.PositioningCatrP3Dr.Positioning.PositioningServiceHost.\n",
      "- Ignoring of key shortcut telephone=$dates and unsuccessful find of keycode for keysym.\n",
      "- Running of test Result Name A0 three times.\n",
      "- Encountered error in finding row index in _ifXTable_container_row_restore.\n",
      "- Receipt of SNMP packets from UDP.\n",
      "- Stopping of LD process.\n",
      "- Remote access from client to PIAS.\n",
      "- Encountering of errors in SCardConnect in pcsc-lite.\n",
      "- Debug messages in the queue of DeviceApiSubscriber.\n",
      "- Connection closed by remote host and port, with exit on signal.\n"
     ]
    }
   ],
   "source": [
    "print(summary)"
   ]
  },
  {
   "cell_type": "markdown",
   "metadata": {},
   "source": [
    "### Summary Editor Test"
   ]
  },
  {
   "cell_type": "code",
   "execution_count": 138,
   "metadata": {},
   "outputs": [],
   "source": [
    "from langchain.chains import ConversationChain"
   ]
  },
  {
   "cell_type": "code",
   "execution_count": 128,
   "metadata": {},
   "outputs": [],
   "source": [
    "summary_doc = text_to_docs([summary])"
   ]
  },
  {
   "cell_type": "code",
   "execution_count": 143,
   "metadata": {},
   "outputs": [],
   "source": [
    "memory = ConversationBufferMemory()\n",
    "embedding = OpenAIEmbeddings(\n",
    "            openai_organization=key['openai_organization'],\n",
    "            openai_api_key = key['openai_api_key'],\n",
    "            model=\"text-embedding-ada-002\",\n",
    "            max_retries=10,\n",
    "            )"
   ]
  },
  {
   "cell_type": "code",
   "execution_count": 150,
   "metadata": {},
   "outputs": [],
   "source": [
    "vectorstore_relevant = Chroma.from_documents(summary_doc, embedding=embedding)\n",
    "\n",
    "## Creating the chatbot\n",
    "llm = ChatOpenAI(\n",
    "    openai_organization=key['openai_organization'],\n",
    "    model=\"gpt-4\",\n",
    "    max_tokens=2000,\n",
    "    max_retries=10,\n",
    "    )\n",
    "\n",
    "## Creating the retriever\n",
    "retriver = vectorstore_relevant.as_retriever(search_kwargs={\"k\": 5,\"score_threshold\": .5})\n",
    "chat = ConversationChain(llm=llm, memory=memory)"
   ]
  },
  {
   "cell_type": "code",
   "execution_count": 151,
   "metadata": {},
   "outputs": [
    {
     "data": {
      "text/plain": [
       "'\\'***LOG SUMMARY***\\n\\nThese logs pertain to system monitoring (sysmond) operations on the CMX50070-101776 machine. The operations include rotating and compressing log files, specifically \"sysmond_main.1.nmon\" and \"sysmond_processes.1.nmon\". The logs show that these operations were performed several times over various dates in November 2023. The compression and rotation of log files are integral parts of system administration, aiding in efficient log management and space utilization on the server.\\n\\nKey events:\\n\\n- Logs were rotated on multiple occasions (e.g., on 2023-11-10T08:52:17, 2023-11-10T11:54:55, 2023-11-11T18:19:53, etc.)\\n- Following log rotation, the log files \"sysmond_main.1.nmon\" and \"sysmond_processes.1.nmon\" were compressed multiple times (e.g., on 2023-11-10T08:52:17, 2023-11-10T11:54:55, 2023-11-11T18:19:53, etc.)\\n- System messages indicating the completion of the compression process were logged multiple times (e.g., on 2023-11-10T08:52:18, 2023-11-10T11:54:55, 2023-11-11T18:19:53, etc.)\\n- The system also logged the initiation of daily rotation of log files and clean-up of temporary directories (e.g., on 2023-11-10T05:49:39).\\n- Other system processes were logged, such as the start of the RsLicenseServerApp and connection to the mrt-chromium machine (on 2023-11-10T05:49:45).\\n\\n***ERRORS***\\n\\nSummary:\\nThe document talks about various operations being performed in a server environment. It includes launching docker entrypoint, configuring and starting up services, running worker processes, and receiving SNMP packets. It also mentions errors encountered during the operation, like failure to send GpuControl.CreateCommandBuffer and errors with SCardConnect. Messages from the Health service and messages in the queue are also received. The document also notes tests from offers, remote access from a client, and issues with SSH connections.\\n\\nKey Points:\\n\\n- Docker entrypoint is launched and configured.\\n- Worker processes are running.\\n- SNMP packets are received from UDP.\\n- Errors occurred: Failure to send GpuControl.CreateCommandBuffer and SCardConnect Error Reader Exclusive.\\n- Messages received from the Health service and in the queue.\\n- Test Result Name A0 is mentioned under supported_tests_from_offers.\\n- Remote access from a client is noted.\\n- Issues with SSH connections: connection closure, password acceptance for root and session opening for user root.\\n\\n***ANOMALIES***\\n\\nThe text provided appears to be a repeated sequence of technical logs or computer output data. It does not provide a coherent narrative or factual information that can be summarized or broken down into key points. However, it does mention the receipt of data and remote access from a client.\\n\\n***END OF SUMMARY***\\''"
      ]
     },
     "execution_count": 151,
     "metadata": {},
     "output_type": "execute_result"
    }
   ],
   "source": [
    "chat.predict(input=f\"'{summary}'\\n\\n Can you rewrite this without the warnings\")"
   ]
  },
  {
   "cell_type": "code",
   "execution_count": 158,
   "metadata": {},
   "outputs": [
    {
     "name": "stdout",
     "output_type": "stream",
     "text": [
      "'***LOG SUMMARY***\n",
      "\n",
      "These logs pertain to system monitoring (sysmond) operations on the CMX50070-101776 machine. The operations include rotating and compressing log files, specifically \"sysmond_main.1.nmon\" and \"sysmond_processes.1.nmon\". The logs show that these operations were performed several times over various dates in November 2023. The compression and rotation of log files are integral parts of system administration, aiding in efficient log management and space utilization on the server.\n",
      "\n",
      "Key events:\n",
      "\n",
      "- Logs were rotated on multiple occasions (e.g., on 2023-11-10T08:52:17, 2023-11-10T11:54:55, 2023-11-11T18:19:53, etc.)\n",
      "- Following log rotation, the log files \"sysmond_main.1.nmon\" and \"sysmond_processes.1.nmon\" were compressed multiple times (e.g., on 2023-11-10T08:52:17, 2023-11-10T11:54:55, 2023-11-11T18:19:53, etc.)\n",
      "- System messages indicating the completion of the compression process were logged multiple times (e.g., on 2023-11-10T08:52:18, 2023-11-10T11:54:55, 2023-11-11T18:19:53, etc.)\n",
      "- The system also logged the initiation of daily rotation of log files and clean-up of temporary directories (e.g., on 2023-11-10T05:49:39).\n",
      "- Other system processes were logged, such as the start of the RsLicenseServerApp and connection to the mrt-chromium machine (on 2023-11-10T05:49:45).\n",
      "\n",
      "***ERRORS***\n",
      "\n",
      "Summary:\n",
      "The document talks about various operations being performed in a server environment. It includes launching docker entrypoint, configuring and starting up services, and running worker processes. It also mentions that there were errors encountered, messages from the Health service, messages in the queue, tests from offers, remote access from a client, and issues with SSH connections.\n",
      "\n",
      "Key Points:\n",
      "\n",
      "- Docker entrypoint is launched and configured.\n",
      "- Worker processes are running.\n",
      "- SNMP packets are received.\n",
      "- There were some unspecified errors encountered during the operations.\n",
      "- Messages were received from the Health service and in the queue.\n",
      "- Test Result Name A0 is mentioned under supported_tests_from_offers.\n",
      "- Remote access from a client is noted.\n",
      "- There were issues with SSH connections.\n",
      "\n",
      "***END OF SUMMARY***'\n"
     ]
    }
   ],
   "source": [
    "print(chat.predict(input=\"Can you drop the anomalies as well?\"))"
   ]
  },
  {
   "cell_type": "code",
   "execution_count": null,
   "metadata": {},
   "outputs": [],
   "source": []
  }
 ],
 "metadata": {
  "kernelspec": {
   "display_name": "Python 3",
   "language": "python",
   "name": "python3"
  },
  "language_info": {
   "codemirror_mode": {
    "name": "ipython",
    "version": 3
   },
   "file_extension": ".py",
   "mimetype": "text/x-python",
   "name": "python",
   "nbconvert_exporter": "python",
   "pygments_lexer": "ipython3",
   "version": "3.11.4"
  }
 },
 "nbformat": 4,
 "nbformat_minor": 2
}
