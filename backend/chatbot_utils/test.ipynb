{
 "cells": [
  {
   "cell_type": "code",
   "execution_count": 17,
   "metadata": {},
   "outputs": [],
   "source": [
    "import sys\n",
    "sys.path.append('C:/Users/vishw/OneDrive/Desktop/Projects/daemon-dialoguers/backend/chatbot_utils')\n",
    "\n",
    "import context_model as cm\n",
    "import chatbot_utils as chatbot\n",
    "import importlib\n",
    "importlib.reload(cm)\n",
    "importlib.reload(chatbot)\n",
    "\n",
    "import pandas as pd\n",
    "import hashlib\n",
    "import json\n",
    "\n",
    "with open('C:/Users/vishw/OneDrive/Desktop/Projects/daemon-dialoguers/openAI_api.json') as f:\n",
    "    key = json.load(f)\n",
    "\n",
    "DATA_DIR = 'C:/Users/vishw/OneDrive/Desktop/Projects/daemon-dialoguers/Dataset'\n"
   ]
  },
  {
   "cell_type": "markdown",
   "metadata": {},
   "source": [
    "### Testing Embedding and Context Models"
   ]
  },
  {
   "cell_type": "code",
   "execution_count": 2,
   "metadata": {},
   "outputs": [],
   "source": [
    "md5hash = hashlib.md5(open(f\"{DATA_DIR}/test_log1.out\",'rb').read()).hexdigest()"
   ]
  },
  {
   "cell_type": "code",
   "execution_count": 3,
   "metadata": {},
   "outputs": [],
   "source": [
    "# cm.convert_logs_to_embeddings(f\"{DATA_DIR}/test_log1.out\")"
   ]
  },
  {
   "cell_type": "code",
   "execution_count": 13,
   "metadata": {},
   "outputs": [
    {
     "data": {
      "text/plain": [
       "([Document(page_content='Nov 09 13:15:16 CMX50070-101776 start_mrt.sh[27299]: [INFO] [2023-11-09T13:15:16,294+0000] [srss.verify_args:63]: sri_recall_log_lookup_location: /home/instrument/fw/log/2023-11-09T13-11-48Z/sfa/NetworkEmulation1/sri\\nNov 09 13:15:16 CMX50070-101776 start_mrt.sh[27299]: [INFO] [2023-11-09T13:15:16,294+0000] [srss.verify_args:69]: working_dir: /home/instrument/fw/log/2023-11-09T13-11-48Z/sfa/NetworkEmulation1/sri\\nNov 09 13:15:16 CMX50070-101776 start_mrt.sh[27299]: [INFO] [2023-11-09T13:15:16,294+0000] [srss.__init__:43]: SRSS version: 05.01.01\\nNov 09 13:15:16 CMX50070-101776 start_mrt.sh[27299]: [INFO] [2023-11-09T13:15:16,306+0000] [utilities.register_in_persistence_registry_service:215]: Successfully registered in PersistenceRegistryService\\nNov 09 13:15:16 CMX50070-101776 start_mrt.sh[27299]: [INFO] [2023-11-09T13:15:16,306+0000] [srss.__init__:51]: Service registered\\nNov 09 13:15:16 CMX50070-101776 start_mrt.sh[27255]: PyInstaller _MEI directory save_recall', metadata={'source': 'C:/Users/vishw/OneDrive/Desktop/Projects/daemon-dialoguers/Dataset/test_log1.out'}),\n",
       "  Document(page_content=\"Nov 09 13:15:10 CMX50070-101776 start_mrt.sh[27266]: 2023-11-09T13:15:10.287+00:00 [info     ] log_dir = /home/instrument/fw/log/2023-11-09T13-11-48Z/sfa/NetworkEmulation1/gwss [gwss.gwss_server.server_application]\\nNov 09 13:15:10 CMX50070-101776 start_mrt.sh[27266]: 2023-11-09T13:15:10.287+00:00 [info     ] server_mode = ServerMode.SECONDARY [gwss.gwss_server.server_application]\\nNov 09 13:15:10 CMX50070-101776 start_mrt.sh[27266]: 2023-11-09T13:15:10.288+00:00 [info     ] connection config: ConnectionConfig('127.0.0.1') [gwss.gwss_server.server_application]\\nNov 09 13:15:10 CMX50070-101776 start_mrt.sh[27266]: 2023-11-09T13:15:10.289+00:00 [info     ]   rpc_url: tcp://127.0.0.1:9013 [gwss.gwss_server.server_application]\\nNov 09 13:15:10 CMX50070-101776 start_mrt.sh[27266]: 2023-11-09T13:15:10.289+00:00 [info     ]   xpub_url: tcp://127.0.0.1:9012 [gwss.gwss_server.server_application]\", metadata={'source': 'C:/Users/vishw/OneDrive/Desktop/Projects/daemon-dialoguers/Dataset/test_log1.out'}),\n",
       "  Document(page_content=\"Nov 09 13:41:03 CMX50070-101776 start_mrt.sh[192092]: 2023-11-09T13:41:03.546+00:00 [info     ] log_dir = /home/instrument/fw/log/2023-11-09T13-11-48Z/sfa/NetworkEmulation2/gwss [gwss.gwss_server.server_application]\\nNov 09 13:41:03 CMX50070-101776 start_mrt.sh[192092]: 2023-11-09T13:41:03.546+00:00 [info     ] server_mode = ServerMode.SECONDARY [gwss.gwss_server.server_application]\\nNov 09 13:41:03 CMX50070-101776 start_mrt.sh[192092]: 2023-11-09T13:41:03.548+00:00 [info     ] connection config: ConnectionConfig('127.0.0.1') [gwss.gwss_server.server_application]\\nNov 09 13:41:03 CMX50070-101776 start_mrt.sh[192092]: 2023-11-09T13:41:03.549+00:00 [info     ]   rpc_url: tcp://127.0.0.1:9013 [gwss.gwss_server.server_application]\\nNov 09 13:41:03 CMX50070-101776 start_mrt.sh[192092]: 2023-11-09T13:41:03.553+00:00 [info     ]   xpub_url: tcp://127.0.0.1:9012 [gwss.gwss_server.server_application]\", metadata={'source': 'C:/Users/vishw/OneDrive/Desktop/Projects/daemon-dialoguers/Dataset/test_log1.out'}),\n",
       "  Document(page_content='Nov 09 13:15:16 CMX50070-101776 start_mrt.sh[27255]: [INFO] [2023-11-09T13:15:16,329+0000] [srsf.__init__:43]: SRSF version: 01.04.11\\nNov 09 13:15:16 CMX50070-101776 start_mrt.sh[27255]: [INFO] [2023-11-09T13:15:16,341+0000] [utilities.register_in_persistence_registry_service:215]: Successfully registered in PersistenceRegistryService\\nNov 09 13:15:16 CMX50070-101776 start_mrt.sh[27255]: [INFO] [2023-11-09T13:15:16,342+0000] [srsf.__init__:51]: Service registered\\nNov 09 13:15:16 CMX50070-101776 start_mrt.sh[27255]: [INFO] [2023-11-09T13:15:16,444+0000] [srsf_service_impl.CheckService:96]: SRSF is running\\nNov 09 13:15:16 CMX50070-101776 start_mrt.sh[27299]: [INFO] [2023-11-09T13:15:16,507+0000] [srss_service_impl.CheckService:97]: SRSS is running', metadata={'source': 'C:/Users/vishw/OneDrive/Desktop/Projects/daemon-dialoguers/Dataset/test_log1.out'}),\n",
       "  Document(page_content='Nov 10 05:49:09 CMX50070-101776 start_mrt.sh[2208744]: Type = ERROR_REPAIR\\nNov 10 05:49:09 CMX50070-101776 start_mrt.sh[2208744]: File Name = /home/integration_mmi/jenkins/workspace/mrt.base.fsw_release_5.0.60-ci/1cm_fsw_base_wm/fwa/rs.cmwbase.fsw/fswselfalignment/task_service.cpp\\nNov 10 05:49:09 CMX50070-101776 start_mrt.sh[2208744]: Line Number = 309\\nNov 10 05:49:09 CMX50070-101776 start_mrt.sh[2208744]: Current Version = 5.0.60.4\\nNov 10 05:49:09 CMX50070-101776 start_mrt.sh[2208744]: Additional Info = Expected files do not exist!\\nNov 10 05:49:09 CMX50070-101776 start_mrt.sh[2208744]: Hidden Comment = /home/instrument/fw/system/CorrdataWS/RFU300/RFUNIT_1222.1020.02_100131/CDV/SA/V6/CUR/tx_meta.csv\\nNov 10 05:49:09 CMX50070-101776 start_mrt.sh[2208744]: /home/instrument/fw/system/CorrdataWS/RFU300/RFUNIT_1222.1020.02_100131/CDV/SA/V6/CUR/rx_meta.csv\\nNov 10 05:49:09 CMX50070-101776 start_mrt.sh[2208744]: Logfiles of TraceManager in /home/instrument/fw/log/2023-11-09T13-11-48Z', metadata={'source': 'C:/Users/vishw/OneDrive/Desktop/Projects/daemon-dialoguers/Dataset/test_log1.out'}),\n",
       "  Document(page_content=\"Nov 09 13:41:09 CMX50070-101776 start_mrt.sh[192083]: [INFO] [2023-11-09T13:41:09,580+0000] [srsf.__init__:43]: SRSF version: 01.04.11\\nNov 09 13:41:09 CMX50070-101776 start_mrt.sh[192083]: [INFO] [2023-11-09T13:41:09,595+0000] [utilities.register_in_persistence_registry_service:215]: Successfully registered in PersistenceRegistryService\\nNov 09 13:41:09 CMX50070-101776 start_mrt.sh[192083]: [INFO] [2023-11-09T13:41:09,595+0000] [srsf.__init__:51]: Service registered\\nNov 09 13:41:09 CMX50070-101776 start_mrt.sh[192085]: PyInstaller _MEI directory save_recall\\nNov 09 13:41:09 CMX50070-101776 start_mrt.sh[192085]: Namespace(broker_ip='127.0.0.1', sri_recall_log_dir='/home/instrument/fw/log/2023-11-09T13-11-48Z/sfa/NetworkEmulation2/sri', verbose=False, no_base_registration=False, working_dir='/home/instrument/fw/log/2023-11-09T13-11-48Z/sfa/NetworkEmulation2/sri')\", metadata={'source': 'C:/Users/vishw/OneDrive/Desktop/Projects/daemon-dialoguers/Dataset/test_log1.out'}),\n",
       "  Document(page_content='Nov 10 05:49:09 CMX50070-101776 start_mrt.sh[2208743]:       <FileLine>396</FileLine>\\nNov 10 05:49:09 CMX50070-101776 start_mrt.sh[2208743]:       <FileTime>Wed Oct 25 12:00:18 2023</FileTime>\\nNov 10 05:49:09 CMX50070-101776 start_mrt.sh[2208743]:       <MethodName>UpdateFootprint</MethodName>\\nNov 10 05:49:09 CMX50070-101776 start_mrt.sh[2208743]:       <Thread>unknown thread name</Thread>\\nNov 10 05:49:09 CMX50070-101776 start_mrt.sh[2208743]:       <ErrorCode>No error. Some restrictions apply.</ErrorCode>\\nNov 10 05:49:09 CMX50070-101776 start_mrt.sh[2208743]:     </Error>\\nNov 10 05:49:09 CMX50070-101776 start_mrt.sh[2208743]:   </Errors>\\nNov 10 05:49:09 CMX50070-101776 start_mrt.sh[2208743]: </CompassErrorLog>\\nNov 10 05:49:09 CMX50070-101776 start_mrt.sh[2208744]: ## ----------------------------------------------------------------\\nNov 10 05:49:09 CMX50070-101776 start_mrt.sh[2208744]: Date and Time = 2023-11-09T13:13:39.524697091Z (UpTime=97.067, MRT-ST=121698856.524697091)', metadata={'source': 'C:/Users/vishw/OneDrive/Desktop/Projects/daemon-dialoguers/Dataset/test_log1.out'}),\n",
       "  Document(page_content=\"Nov 09 13:15:16 CMX50070-101776 start_mrt.sh[27299]: Generated .drift folder directory: /home/instrument/fw/log/2023-11-09T13-11-48Z/sfa/NetworkEmulation1/sri\\nNov 09 13:15:16 CMX50070-101776 start_mrt.sh[27299]: [INFO] [2023-11-09T13:15:16,727+0000] [utilities.replay_drifted:123]: replaying from the drifted folder\\nNov 09 13:15:17 CMX50070-101776 start_mrt.sh[27355]: ERROR: Caught exception while processing cell add/update '//mrt/0/testenvironment/0/signaling/0/sri/0/asservice/0/nrservice/0/cell/0': Cell //mrt/0/testenvironment/0/signaling/0/sri/0/asservice/0/nrservice/0/cell/0 is missing rach_config_common\\nNov 09 13:15:17 CMX50070-101776 start_mrt.sh[27299]: [INFO] [2023-11-09T13:15:17,827+0000] [utilities.replay_drifted:127]: Finished replaying the RPC calls\", metadata={'source': 'C:/Users/vishw/OneDrive/Desktop/Projects/daemon-dialoguers/Dataset/test_log1.out'}),\n",
       "  Document(page_content='Nov 10 01:22:34 CMX50070-101776 start-mrt.sysmond.sh[503330]: 2023-11-10T01:22:34,274958580+00:00 Compress log \"/home/instrument/fw/log/sysmond_main.1.nmon\"...\\nNov 10 01:22:34 CMX50070-101776 start-mrt.sysmond.sh[503332]: *** zstd command line interface 64-bits v1.5.2, by Yann Collet ***\\nNov 10 01:22:34 CMX50070-101776 start-mrt.sysmond.sh[503332]: [380B blob data]\\nNov 10 01:22:34 CMX50070-101776 start-mrt.sysmond.sh[503343]: 2023-11-10T01:22:34,464677883+00:00 Compression done\\nNov 10 01:22:34 CMX50070-101776 start-mrt.sysmond.sh[503359]: 2023-11-10T01:22:34,488875044+00:00 Compress log \"/home/instrument/fw/log/sysmond_processes.1.nmon\"...\\nNov 10 01:22:34 CMX50070-101776 start-mrt.sysmond.sh[503361]: *** zstd command line interface 64-bits v1.5.2, by Yann Collet ***\\nNov 10 01:22:34 CMX50070-101776 start-mrt.sysmond.sh[503361]: [305B blob data]\\nNov 10 01:22:34 CMX50070-101776 start-mrt.sysmond.sh[503365]: 2023-11-10T01:22:34,616338990+00:00 Compression done', metadata={'source': 'C:/Users/vishw/OneDrive/Desktop/Projects/daemon-dialoguers/Dataset/test_log1.out'}),\n",
       "  Document(page_content='Nov 09 13:41:09 CMX50070-101776 start_mrt.sh[192085]: [INFO] [2023-11-09T13:41:09,731+0000] [utilities.__init__:193]: Broker started as Slave\\nNov 09 13:41:09 CMX50070-101776 start_mrt.sh[192085]: [INFO] [2023-11-09T13:41:09,731+0000] [srss.verify_args:57]: Master broker address: 127.0.0.1\\nNov 09 13:41:09 CMX50070-101776 start_mrt.sh[192085]: [INFO] [2023-11-09T13:41:09,731+0000] [srss.verify_args:63]: sri_recall_log_lookup_location: /home/instrument/fw/log/2023-11-09T13-11-48Z/sfa/NetworkEmulation2/sri\\nNov 09 13:41:09 CMX50070-101776 start_mrt.sh[192085]: [INFO] [2023-11-09T13:41:09,731+0000] [srss.verify_args:69]: working_dir: /home/instrument/fw/log/2023-11-09T13-11-48Z/sfa/NetworkEmulation2/sri\\nNov 09 13:41:09 CMX50070-101776 start_mrt.sh[192085]: [INFO] [2023-11-09T13:41:09,731+0000] [srss.__init__:43]: SRSS version: 05.01.01', metadata={'source': 'C:/Users/vishw/OneDrive/Desktop/Projects/daemon-dialoguers/Dataset/test_log1.out'}),\n",
       "  Document(page_content=\"Nov 09 13:13:26 CMX50070-101776 start_mrt.sh[16216]: Created text event log '/home/instrument/fw/log/2023-11-09T13-11-48Z/sfa/eventlog_0.log'\\nNov 09 13:13:26 CMX50070-101776 start_mrt.sh[16216]: Registering service '//mrt/0/testenvironment/0/eventlog/0'...\\nNov 09 13:13:26 CMX50070-101776 start_mrt.sh[16216]: Registered service '//mrt/0/testenvironment/0/eventlog/0'\\nNov 09 13:13:26 CMX50070-101776 start_mrt.sh[16216]: EventLog successfully started\\nNov 09 13:13:26 CMX50070-101776 start_mrt.sh[16216]: Disabling logging to stdout...\\nNov 09 13:13:27 CMX50070-101776 start_mrt.sh[3219]: TSS: Detected change of CLOCK_REALTIME!\\nNov 09 13:13:27 CMX50070-101776 start_mrt.sh[3219]: TSS: Current leap-second count at 2023-11-09T13:13:27Z is 37\\nNov 09 13:13:27 CMX50070-101776 start_mrt.sh[3219]: TSS: CLOCK_TAI offset set to 37 seconds\\nNov 09 13:13:27 CMX50070-101776 start_mrt.sh[3219]: TSS: Created local MB wrapper on slot 1400\", metadata={'source': 'C:/Users/vishw/OneDrive/Desktop/Projects/daemon-dialoguers/Dataset/test_log1.out'}),\n",
       "  Document(page_content='Nov 09 16:14:29 CMX50070-101776 start-mrt.sysmond.sh[1181704]: 2023-11-09T16:14:29,489268648+00:00 Compress log \"/home/instrument/fw/log/sysmond_processes.1.nmon\"...\\nNov 09 16:14:29 CMX50070-101776 start-mrt.sysmond.sh[1181706]: *** zstd command line interface 64-bits v1.5.2, by Yann Collet ***\\nNov 09 16:14:29 CMX50070-101776 start-mrt.sysmond.sh[1181706]: [305B blob data]\\nNov 09 16:14:29 CMX50070-101776 start-mrt.sysmond.sh[1181710]: 2023-11-09T16:14:29,610252875+00:00 Compression done\\nNov 09 16:14:29 CMX50070-101776 start-mrt.sysmond.sh[1181714]: 2023-11-09T16:14:29,613494608+00:00 Rotation done\\nNov 09 16:14:29 CMX50070-101776 start-mrt.sysmond.sh[1181718]: 2023-11-09T16:14:29,615728785+00:00 Launching nmon...\\nNov 09 16:14:29 CMX50070-101776 start-mrt.sysmond.sh[1181729]: 2023-11-09T16:14:29,625572298+00:00 Launch done: PID is 1181725\\nNov 09 16:14:50 CMX50070-101776 mrt.pos.catrp3dr[1867]: info: RohdeSchwarz.Mrt.Microservices.PositioningCatrP3Dr.Positioning.PositioningServiceHost[0]', metadata={'source': 'C:/Users/vishw/OneDrive/Desktop/Projects/daemon-dialoguers/Dataset/test_log1.out'}),\n",
       "  Document(page_content='Nov 09 13:12:39 CMX50070-101776 start_mrt.sh[10234]: fpga version=0x3070007\\nNov 09 13:12:39 CMX50070-101776 start_mrt.sh[10235]: CCmgAccess(/dev/rohde-schwarz/cmg_300) ctor handle=3\\nNov 09 13:12:39 CMX50070-101776 start_mrt.sh[10235]: fpga version=0x3070007\\nNov 09 13:12:39 CMX50070-101776 start_mrt.sh[10236]: Write :/home/instrument/fw/log/2023-11-09T13-11-48Z/bbmpp_log_cmg_400_inst0.txt\\nNov 09 13:12:39 CMX50070-101776 start_mrt.sh[10235]: Write :/home/instrument/fw/log/2023-11-09T13-11-48Z/bbmpp_log_cmg_300_inst1.txt\\nNov 09 13:12:39 CMX50070-101776 start_mrt.sh[10234]: Write :/home/instrument/fw/log/2023-11-09T13-11-48Z/bbmpp_log_cmg_300_inst0.txt\\nNov 09 13:12:39 CMX50070-101776 start_mrt.sh[10232]: Write :/home/instrument/fw/log/2023-11-09T13-11-48Z/bbmpp_log_cmg_400_inst1.txt\\nNov 09 13:12:39 CMX50070-101776 start_mrt.sh[3219]: CCmgAccess(/dev/rohde-schwarz/cmg_400) ctor handle=538\\nNov 09 13:12:39 CMX50070-101776 start_mrt.sh[3219]: fpga version=0x3070007', metadata={'source': 'C:/Users/vishw/OneDrive/Desktop/Projects/daemon-dialoguers/Dataset/test_log1.out'}),\n",
       "  Document(page_content='Nov 09 19:17:08 CMX50070-101776 start-mrt.sysmond.sh[2352936]: 2023-11-09T19:17:08,557366079+00:00 Compress log \"/home/instrument/fw/log/sysmond_main.1.nmon\"...\\nNov 09 19:17:08 CMX50070-101776 start-mrt.sysmond.sh[2352938]: *** zstd command line interface 64-bits v1.5.2, by Yann Collet ***\\nNov 09 19:17:08 CMX50070-101776 start-mrt.sysmond.sh[2352938]: [295B blob data]\\nNov 09 19:17:08 CMX50070-101776 start-mrt.sysmond.sh[2352945]: 2023-11-09T19:17:08,718960566+00:00 Compression done\\nNov 09 19:17:08 CMX50070-101776 start-mrt.sysmond.sh[2352960]: 2023-11-09T19:17:08,743141334+00:00 Compress log \"/home/instrument/fw/log/sysmond_processes.1.nmon\"...\\nNov 09 19:17:08 CMX50070-101776 start-mrt.sysmond.sh[2352962]: *** zstd command line interface 64-bits v1.5.2, by Yann Collet ***\\nNov 09 19:17:08 CMX50070-101776 start-mrt.sysmond.sh[2352962]: [305B blob data]\\nNov 09 19:17:08 CMX50070-101776 start-mrt.sysmond.sh[2352966]: 2023-11-09T19:17:08,857930386+00:00 Compression done', metadata={'source': 'C:/Users/vishw/OneDrive/Desktop/Projects/daemon-dialoguers/Dataset/test_log1.out'}),\n",
       "  Document(page_content='Nov 09 22:19:48 CMX50070-101776 start-mrt.sysmond.sh[3523899]: 2023-11-09T22:19:48,981523352+00:00 Compress log \"/home/instrument/fw/log/sysmond_processes.1.nmon\"...\\nNov 09 22:19:48 CMX50070-101776 start-mrt.sysmond.sh[3523901]: *** zstd command line interface 64-bits v1.5.2, by Yann Collet ***\\nNov 09 22:19:49 CMX50070-101776 start-mrt.sysmond.sh[3523901]: [305B blob data]\\nNov 09 22:19:49 CMX50070-101776 start-mrt.sysmond.sh[3523905]: 2023-11-09T22:19:49,099110450+00:00 Compression done\\nNov 09 22:19:49 CMX50070-101776 start-mrt.sysmond.sh[3523909]: 2023-11-09T22:19:49,101141269+00:00 Rotation done\\nNov 09 22:19:49 CMX50070-101776 start-mrt.sysmond.sh[3523913]: 2023-11-09T22:19:49,102983017+00:00 Launching nmon...\\nNov 09 22:19:49 CMX50070-101776 start-mrt.sysmond.sh[3523924]: 2023-11-09T22:19:49,110938824+00:00 Launch done: PID is 3523920\\nNov 09 22:19:50 CMX50070-101776 mrt.pos.catrp3dr[1867]: info: RohdeSchwarz.Mrt.Microservices.PositioningCatrP3Dr.Positioning.PositioningServiceHost[0]', metadata={'source': 'C:/Users/vishw/OneDrive/Desktop/Projects/daemon-dialoguers/Dataset/test_log1.out'})],\n",
       " [0.6689145885857017,\n",
       "  0.656504786216457,\n",
       "  0.6547349136069391,\n",
       "  0.6544322149409338,\n",
       "  0.6539689367821021,\n",
       "  0.6537894333542942,\n",
       "  0.6526603192826874,\n",
       "  0.6509040601052385,\n",
       "  0.6485345221351074,\n",
       "  0.6468751796358092,\n",
       "  0.6463752969390458,\n",
       "  0.6458268821462221,\n",
       "  0.6453519714572014,\n",
       "  0.6453226372506378,\n",
       "  0.6443565050422225])"
      ]
     },
     "execution_count": 13,
     "metadata": {},
     "output_type": "execute_result"
    }
   ],
   "source": [
    "returns = cm.get_context(\"When was run sfa_mmi executed?\", f\"./chromadb/{md5hash}_large\")\n",
    "returns"
   ]
  },
  {
   "cell_type": "markdown",
   "metadata": {},
   "source": [
    "### ChatGPT test"
   ]
  },
  {
   "cell_type": "code",
   "execution_count": 35,
   "metadata": {},
   "outputs": [],
   "source": [
    "md5hash = hashlib.md5(open(f\"{DATA_DIR}/test_log1.out\",'rb').read()).hexdigest()\n"
   ]
  },
  {
   "cell_type": "code",
   "execution_count": 36,
   "metadata": {},
   "outputs": [
    {
     "data": {
      "text/plain": [
       "{'answer': 'Yes, there were SSH login errors. There were instances of authentication failure and failed passwords for invalid users. There were also errors due to the connection being closed by the remote host.\\n',\n",
       " 'Source': ['Nov 09 14:34:40 CMX50070-101776 sshd[538343]: pam_unix(sshd:auth): authentication failure; logname= uid=0 euid=0 tty=ssh ruser= rhost=10.0.2.217\\nNov 09 14:34:42 CMX50070-101776 sshd[538343]: Failed password for invalid user pi from 10.0.2.217 port 41984 ssh2',\n",
       "  'Nov 09 14:34:38 CMX50070-101776 sshd[538103]: pam_unix(sshd:auth): authentication failure; logname= uid=0 euid=0 tty=ssh ruser= rhost=10.0.2.217\\nNov 09 14:34:39 CMX50070-101776 sshd[538103]: Failed password for invalid user USERID from 10.0.2.217 port 41888 ssh2',\n",
       "  'Nov 09 13:59:25 CMX50070-101776 sshd[308115]: error: kex_exchange_identification: Connection closed by remote host\\nNov 09 13:59:25 CMX50070-101776 sshd[308115]: Connection closed by 172.25.11.231 port 41772',\n",
       "  'Nov 09 13:59:06 CMX50070-101776 sshd[306205]: error: kex_exchange_identification: Connection closed by remote host\\nNov 09 13:59:06 CMX50070-101776 sshd[306205]: Connection closed by 192.168.85.173 port 41660',\n",
       "  'Nov 09 13:50:43 CMX50070-101776 sshd[253335]: error: kex_exchange_identification: Connection closed by remote host\\nNov 09 13:50:43 CMX50070-101776 sshd[253335]: Connection closed by 192.168.85.173 port 49146',\n",
       "  'Nov 09 13:19:55 CMX50070-101776 sshd[58279]: error: kex_exchange_identification: Connection closed by remote host\\nNov 09 13:19:55 CMX50070-101776 sshd[58279]: Connection closed by 172.24.26.38 port 44158',\n",
       "  'Nov 09 13:11:43 CMX50070-101776 sshd[2542]: error: kex_exchange_identification: Connection closed by remote host\\nNov 09 13:11:43 CMX50070-101776 sshd[2542]: Connection closed by 172.24.26.36 port 58080',\n",
       "  'Nov 09 13:15:33 CMX50070-101776 sshd[30256]: error: kex_exchange_identification: Connection closed by remote host\\nNov 09 13:15:33 CMX50070-101776 sshd[30256]: Connection closed by 172.24.26.38 port 38202',\n",
       "  'Nov 09 13:15:46 CMX50070-101776 sshd[31581]: error: kex_exchange_identification: Connection closed by remote host\\nNov 09 13:15:46 CMX50070-101776 sshd[31581]: Connection closed by 172.24.26.36 port 35400',\n",
       "  'Nov 09 13:56:14 CMX50070-101776 sshd[288075]: error: kex_exchange_identification: Connection closed by remote host\\nNov 09 13:56:14 CMX50070-101776 sshd[288075]: Connection closed by 172.25.232.145 port 48058'],\n",
       " 'Confidence': [0.762427171149399,\n",
       "  0.7510121819189811,\n",
       "  0.7472339698310706,\n",
       "  0.7463074556602556,\n",
       "  0.7456425048312992,\n",
       "  0.7452286438523466,\n",
       "  0.7450256435564937,\n",
       "  0.7450202487598844,\n",
       "  0.7449986695734467,\n",
       "  0.7446929784811973]}"
      ]
     },
     "execution_count": 36,
     "metadata": {},
     "output_type": "execute_result"
    }
   ],
   "source": [
    "chatbot.chat_with_bot(\"Were there any SSH login errors?\", md5hash, '002', memory=False)"
   ]
  },
  {
   "cell_type": "code",
   "execution_count": 37,
   "metadata": {},
   "outputs": [
    {
     "data": {
      "text/plain": [
       "{'answer': 'The IP was 10.0.2.217.\\n',\n",
       " 'Source': ['Nov 09 14:28:28 CMX50070-101776 rspias-daemon[887]: PIAS: PIAS: Remote access from client 10.0.2.217\\nNov 09 14:28:28 CMX50070-101776 rspias-daemon[887]: PIAS: PIAS: Remote access from client 10.0.2.217',\n",
       "  'Nov 09 14:34:11 CMX50070-101776 rspias-daemon[887]: PIAS: PIAS: Remote access from client 10.0.2.217\\nNov 09 14:34:19 CMX50070-101776 rspias-daemon[887]: PIAS: PIAS: Remote access from client 10.0.2.217',\n",
       "  'Nov 09 14:31:45 CMX50070-101776 rspias-daemon[887]: PIAS: PIAS: Remote access from client 10.0.2.217\\nNov 09 14:31:45 CMX50070-101776 rspias-daemon[887]: PIAS: PIAS: Remote access from client 10.0.2.217',\n",
       "  'Nov 09 14:31:45 CMX50070-101776 rspias-daemon[887]: PIAS: PIAS: Remote access from client 10.0.2.217\\nNov 09 14:31:45 CMX50070-101776 rspias-daemon[887]: PIAS: PIAS: Remote access from client 10.0.2.217',\n",
       "  'Nov 09 14:31:45 CMX50070-101776 rspias-daemon[887]: PIAS: PIAS: Remote access from client 10.0.2.217\\nNov 09 14:31:45 CMX50070-101776 rspias-daemon[887]: PIAS: PIAS: Remote access from client 10.0.2.217',\n",
       "  'Nov 09 14:31:45 CMX50070-101776 rspias-daemon[887]: PIAS: PIAS: Remote access from client 10.0.2.217\\nNov 09 14:31:45 CMX50070-101776 rspias-daemon[887]: PIAS: PIAS: Remote access from client 10.0.2.217',\n",
       "  'Nov 09 14:25:01 CMX50070-101776 rspias-daemon[887]: PIAS: PIAS: Remote access from client 10.0.2.217\\nNov 09 14:25:01 CMX50070-101776 rspias-daemon[887]: PIAS: PIAS: Remote access from client 10.0.2.217',\n",
       "  'Nov 09 14:26:52 CMX50070-101776 rspias-daemon[887]: PIAS: PIAS: Remote access from client 10.0.2.217\\nNov 09 14:27:00 CMX50070-101776 rspias-daemon[887]: PIAS: PIAS: Remote access from client 10.0.2.217',\n",
       "  'Nov 09 13:41:10 CMX50070-101776 rspias-daemon[887]: PIAS: 10.102.36.125:56792 >> [16EC5C81EFCF44E1B6113D344AC9209F R&S SWPL QUERY ID EqNumber=1201.0002k70,\"DEFAULT\"]\\nNov 09 13:41:12 CMX50070-101776 rspias-daemon[887]: PIAS: 10.102.36.125:56792 <PIAS: PIAS: Remote access from client 10.102.36.125',\n",
       "  'Nov 09 14:27:56 CMX50070-101776 rspias-daemon[887]: PIAS: PIAS: Remote access from client 10.0.2.217\\nNov 09 14:28:12 CMX50070-101776 rspias-daemon[887]: PIAS: PIAS: Remote access from client 10.0.2.217'],\n",
       " 'Confidence': [0.6834479177703192,\n",
       "  0.6830033949590748,\n",
       "  0.6826105441841048,\n",
       "  0.6825296222349639,\n",
       "  0.6824492060480052,\n",
       "  0.6824492060480052,\n",
       "  0.6822109920602215,\n",
       "  0.6822103387840697,\n",
       "  0.6822090111583415,\n",
       "  0.6821789604553533]}"
      ]
     },
     "execution_count": 37,
     "metadata": {},
     "output_type": "execute_result"
    }
   ],
   "source": [
    "chatbot.chat_with_bot(\"What IPs were they?\", md5hash, '002', memory=True)"
   ]
  },
  {
   "cell_type": "code",
   "execution_count": 38,
   "metadata": {},
   "outputs": [],
   "source": [
    "from langchain.embeddings import HuggingFaceEmbeddings, OpenAIEmbeddings\n",
    "from langchain.vectorstores import Chroma\n",
    "from langchain.document_loaders import TextLoader\n",
    "from langchain.text_splitter import RecursiveCharacterTextSplitter\n",
    "from langchain.chat_models import ChatOpenAI\n",
    "from langchain.chains import ConversationalRetrievalChain, RetrievalQAWithSourcesChain\n",
    "from langchain.memory import ConversationBufferMemory\n",
    "\n",
    "import os\n",
    "os.environ[\"OPENAI_API_KEY\"] = key['openai_api_key']"
   ]
  },
  {
   "cell_type": "code",
   "execution_count": 39,
   "metadata": {},
   "outputs": [],
   "source": [
    "memory = ConversationBufferMemory(memory_key='chat_history', return_messages=True, input_key='question', output_key='answer')"
   ]
  },
  {
   "cell_type": "code",
   "execution_count": 40,
   "metadata": {},
   "outputs": [],
   "source": [
    "md5hash = hashlib.md5(open(f\"{DATA_DIR}/test_log1.out\",'rb').read()).hexdigest()\n",
    "question = \"What lines have messages on SSH?\""
   ]
  },
  {
   "cell_type": "code",
   "execution_count": 41,
   "metadata": {},
   "outputs": [],
   "source": [
    "docs_small,conf_small = cm.get_context(question, f\"./chromadb/{md5hash}_small\")\n",
    "docs_large,conf_large = cm.get_context(question, f\"./chromadb/{md5hash}_large\")\n",
    "\n",
    "## Add both large and small to a single list and sort them by confidence\n",
    "docs = docs_small + docs_large\n",
    "conf = conf_small + conf_large\n",
    "\n",
    "df = pd.DataFrame({'docs':docs, 'conf':conf})\n",
    "df.sort_values(by='conf', ascending=False, inplace=True)\n",
    "df.reset_index(drop=True, inplace=True)\n",
    "\n",
    "# df\n",
    "\n"
   ]
  },
  {
   "cell_type": "code",
   "execution_count": 22,
   "metadata": {},
   "outputs": [],
   "source": [
    "embedding = OpenAIEmbeddings(\n",
    "openai_organization=key['openai_organization'],\n",
    "openai_api_key = key['openai_api_key'],\n",
    "model=\"text-embedding-ada-002\",\n",
    "max_retries=10,\n",
    ")\n",
    "\n",
    "vectorstore_relevant = Chroma.from_documents(list(df['docs'].values), embedding=embedding)\n",
    "retriver = vectorstore_relevant.as_retriever(search_kwargs={\"k\": 10,\"score_threshold\": .5})\n"
   ]
  },
  {
   "cell_type": "code",
   "execution_count": 23,
   "metadata": {},
   "outputs": [],
   "source": [
    "llm = ChatOpenAI(\n",
    "openai_organization=\"org-kfsNXpcw90CoawqSyD7Mw4CD\",\n",
    "model=\"gpt-4\",\n",
    "max_tokens=1000,\n",
    ")"
   ]
  },
  {
   "cell_type": "code",
   "execution_count": 24,
   "metadata": {},
   "outputs": [],
   "source": [
    "chat = RetrievalQAWithSourcesChain.from_llm(llm, retriever=retriver, memory=memory, return_source_documents=True, max_tokens_limit=1000, reduce_k_below_max_tokens=True)"
   ]
  },
  {
   "cell_type": "code",
   "execution_count": 25,
   "metadata": {},
   "outputs": [
    {
     "data": {
      "text/plain": [
       "{'question': 'What lines have messages on SSH?',\n",
       " 'chat_history': [HumanMessage(content='What lines have messages on SSH?'),\n",
       "  AIMessage(content='The following lines have messages on SSH: \\n\\n1. \"Nov 09 13:50:04 CMX50070-101776 sshd[249289]: Connection closed by 172.25.11.232 port 45426\"\\n2. \"Nov 09 13:44:11 CMX50070-101776 sshd[212198]: Connection closed by 172.25.232.145 port 56312\"\\n3. \"Nov 09 13:54:33 CMX50070-101776 sshd[277530]: Connection closed by 172.25.11.232 port 36124\"\\n4. \"Nov 09 13:55:08 CMX50070-101776 sshd[281144]: Connection closed by 192.168.85.173 port 60810\"\\n5. \"Nov 09 13:53:34 CMX50070-101776 sshd[271352]: Connection closed by 172.24.11.231 port 33828\"\\n\\n')],\n",
       " 'answer': 'The following lines have messages on SSH: \\n\\n1. \"Nov 09 13:50:04 CMX50070-101776 sshd[249289]: Connection closed by 172.25.11.232 port 45426\"\\n2. \"Nov 09 13:44:11 CMX50070-101776 sshd[212198]: Connection closed by 172.25.232.145 port 56312\"\\n3. \"Nov 09 13:54:33 CMX50070-101776 sshd[277530]: Connection closed by 172.25.11.232 port 36124\"\\n4. \"Nov 09 13:55:08 CMX50070-101776 sshd[281144]: Connection closed by 192.168.85.173 port 60810\"\\n5. \"Nov 09 13:53:34 CMX50070-101776 sshd[271352]: Connection closed by 172.24.11.231 port 33828\"\\n\\n',\n",
       " 'sources': 'C:/Users/vishw/OneDrive/Desktop/Projects/daemon-dialoguers/Dataset/test_log1.out',\n",
       " 'source_documents': [Document(page_content='Nov 09 13:50:04 CMX50070-101776 sshd[249289]: Connection closed by 172.25.11.232 port 45426\\nNov 09 13:50:04 CMX50070-101776 systemd[1]: sshd@214-10.102.37.173:22-172.25.11.232:45426.service: Deactivated successfully.\\nNov 09 13:50:04 CMX50070-101776 start_cmxmarsserver.sh[173642]: Got Data: 947400 count: 40 t: 1:50:04 PM\\nNov 09 13:50:06 CMX50070-101776 start_cmxmarsserver.sh[173642]: Got Data: 949400 count: 55 t: 1:50:06 PM\\nNov 09 13:50:07 CMX50070-101776 start_cmxmarsserver.sh[173642]: Got Data: 951400 count: 58 t: 1:50:07 PM\\nNov 09 13:50:07 CMX50070-101776 start_cmxmarsserver.sh[173642]: Got Data: 953400 count: 55 t: 1:50:07 PM\\nNov 09 13:50:09 CMX50070-101776 start_cmxmarsserver.sh[173642]: Got Data: 955400 count: 63 t: 1:50:09 PM\\nNov 09 13:50:10 CMX50070-101776 start_cmxmarsserver.sh[173642]: Got Data: 957400 count: 65 t: 1:50:10 PM\\nNov 09 13:50:11 CMX50070-101776 start_cmxmarsserver.sh[173642]: Got Data: 959400 count: 72 t: 1:50:11 PM', metadata={'source': 'C:/Users/vishw/OneDrive/Desktop/Projects/daemon-dialoguers/Dataset/test_log1.out'}),\n",
       "  Document(page_content='Nov 09 13:50:04 CMX50070-101776 sshd[249289]: Connection closed by 172.25.11.232 port 45426\\nNov 09 13:50:04 CMX50070-101776 systemd[1]: sshd@214-10.102.37.173:22-172.25.11.232:45426.service: Deactivated successfully.\\nNov 09 13:50:04 CMX50070-101776 start_cmxmarsserver.sh[173642]: Got Data: 947400 count: 40 t: 1:50:04 PM\\nNov 09 13:50:06 CMX50070-101776 start_cmxmarsserver.sh[173642]: Got Data: 949400 count: 55 t: 1:50:06 PM\\nNov 09 13:50:07 CMX50070-101776 start_cmxmarsserver.sh[173642]: Got Data: 951400 count: 58 t: 1:50:07 PM\\nNov 09 13:50:07 CMX50070-101776 start_cmxmarsserver.sh[173642]: Got Data: 953400 count: 55 t: 1:50:07 PM\\nNov 09 13:50:09 CMX50070-101776 start_cmxmarsserver.sh[173642]: Got Data: 955400 count: 63 t: 1:50:09 PM\\nNov 09 13:50:10 CMX50070-101776 start_cmxmarsserver.sh[173642]: Got Data: 957400 count: 65 t: 1:50:10 PM\\nNov 09 13:50:11 CMX50070-101776 start_cmxmarsserver.sh[173642]: Got Data: 959400 count: 72 t: 1:50:11 PM', metadata={'source': 'C:/Users/vishw/OneDrive/Desktop/Projects/daemon-dialoguers/Dataset/test_log1.out'}),\n",
       "  Document(page_content='Nov 09 13:44:11 CMX50070-101776 sshd[212198]: Connection closed by 172.25.232.145 port 56312\\nNov 09 13:44:11 CMX50070-101776 systemd[1]: sshd@179-10.102.37.173:22-172.25.232.145:56312.service: Deactivated successfully.\\nNov 09 13:44:14 CMX50070-101776 start_cmxmarsserver.sh[173642]: Got Data: 243800 count: 5 t: 1:44:14 PM\\nNov 09 13:44:14 CMX50070-101776 start_cmxmarsserver.sh[173642]: Got Data: 243700 count: 100 t: 1:44:14 PM\\nNov 09 13:44:15 CMX50070-101776 start_cmxmarsserver.sh[173642]: Got Data: 245500 count: 100 t: 1:44:15 PM\\nNov 09 13:44:15 CMX50070-101776 start_cmxmarsserver.sh[173642]: Got Data: 245600 count: 13 t: 1:44:15 PM\\nNov 09 13:44:15 CMX50070-101776 start_cmxmarsserver.sh[173642]: Got Data: 246600 count: 4 t: 1:44:15 PM\\nNov 09 13:44:15 CMX50070-101776 start_cmxmarsserver.sh[173642]: Got Data: 246500 count: 100 t: 1:44:15 PM\\nNov 09 13:44:15 CMX50070-101776 start_cmxmarsserver.sh[173642]: Got Data: 247000 count: 8 t: 1:44:15 PM', metadata={'source': 'C:/Users/vishw/OneDrive/Desktop/Projects/daemon-dialoguers/Dataset/test_log1.out'}),\n",
       "  Document(page_content='Nov 09 13:44:11 CMX50070-101776 sshd[212198]: Connection closed by 172.25.232.145 port 56312\\nNov 09 13:44:11 CMX50070-101776 systemd[1]: sshd@179-10.102.37.173:22-172.25.232.145:56312.service: Deactivated successfully.\\nNov 09 13:44:14 CMX50070-101776 start_cmxmarsserver.sh[173642]: Got Data: 243800 count: 5 t: 1:44:14 PM\\nNov 09 13:44:14 CMX50070-101776 start_cmxmarsserver.sh[173642]: Got Data: 243700 count: 100 t: 1:44:14 PM\\nNov 09 13:44:15 CMX50070-101776 start_cmxmarsserver.sh[173642]: Got Data: 245500 count: 100 t: 1:44:15 PM\\nNov 09 13:44:15 CMX50070-101776 start_cmxmarsserver.sh[173642]: Got Data: 245600 count: 13 t: 1:44:15 PM\\nNov 09 13:44:15 CMX50070-101776 start_cmxmarsserver.sh[173642]: Got Data: 246600 count: 4 t: 1:44:15 PM\\nNov 09 13:44:15 CMX50070-101776 start_cmxmarsserver.sh[173642]: Got Data: 246500 count: 100 t: 1:44:15 PM\\nNov 09 13:44:15 CMX50070-101776 start_cmxmarsserver.sh[173642]: Got Data: 247000 count: 8 t: 1:44:15 PM', metadata={'source': 'C:/Users/vishw/OneDrive/Desktop/Projects/daemon-dialoguers/Dataset/test_log1.out'}),\n",
       "  Document(page_content='Nov 09 13:54:33 CMX50070-101776 sshd[277530]: Connection closed by 172.25.11.232 port 36124\\nNov 09 13:54:33 CMX50070-101776 systemd[1]: sshd@237-10.102.37.173:22-172.25.11.232:36124.service: Deactivated successfully.\\nNov 09 13:54:34 CMX50070-101776 start_cmxmarsserver.sh[173642]: Got Data: 1486800 count: 51 t: 1:54:34 PM\\nNov 09 13:54:34 CMX50070-101776 start_cmxmarsserver.sh[173642]: Got Data: 1488800 count: 53 t: 1:54:34 PM\\nNov 09 13:54:36 CMX50070-101776 start_cmxmarsserver.sh[173642]: Got Data: 1490800 count: 51 t: 1:54:36 PM\\nNov 09 13:54:37 CMX50070-101776 start_cmxmarsserver.sh[173642]: Got Data: 1492800 count: 66 t: 1:54:37 PM\\nNov 09 13:54:38 CMX50070-101776 start_cmxmarsserver.sh[173642]: Got Data: 1494800 count: 64 t: 1:54:38 PM\\nNov 09 13:54:39 CMX50070-101776 start_cmxmarsserver.sh[173642]: Got Data: 1496800 count: 68 t: 1:54:39 PM\\nNov 09 13:54:40 CMX50070-101776 start_cmxmarsserver.sh[173642]: Got Data: 1498800 count: 77 t: 1:54:40 PM', metadata={'source': 'C:/Users/vishw/OneDrive/Desktop/Projects/daemon-dialoguers/Dataset/test_log1.out'}),\n",
       "  Document(page_content='Nov 09 13:55:08 CMX50070-101776 sshd[281144]: Connection closed by 192.168.85.173 port 60810\\nNov 09 13:55:08 CMX50070-101776 systemd[1]: sshd@239-10.102.37.173:22-192.168.85.173:60810.service: Deactivated successfully.\\nNov 09 13:55:08 CMX50070-101776 start_cmxmarsserver.sh[173642]: Got Data: 1554800 count: 98 t: 1:55:08 PM\\nNov 09 13:55:09 CMX50070-101776 start_cmxmarsserver.sh[173642]: Got Data: 1556700 count: 33 t: 1:55:09 PM\\nNov 09 13:55:09 CMX50070-101776 start_cmxmarsserver.sh[173642]: Got Data: 1556700 count: 34 t: 1:55:09 PM\\nNov 09 13:55:10 CMX50070-101776 start_cmxmarsserver.sh[173642]: Got Data: 1556700 count: 100 t: 1:55:10 PM\\nNov 09 13:55:10 CMX50070-101776 start_cmxmarsserver.sh[173642]: Got Data: 1556800 count: 21 t: 1:55:10 PM\\nNov 09 13:55:11 CMX50070-101776 start_cmxmarsserver.sh[173642]: Got Data: 1556900 count: 58 t: 1:55:11 PM\\nNov 09 13:55:13 CMX50070-101776 start_cmxmarsserver.sh[173642]: Got Data: 1557000 count: 96 t: 1:55:13 PM', metadata={'source': 'C:/Users/vishw/OneDrive/Desktop/Projects/daemon-dialoguers/Dataset/test_log1.out'}),\n",
       "  Document(page_content='Nov 09 13:55:08 CMX50070-101776 sshd[281144]: Connection closed by 192.168.85.173 port 60810\\nNov 09 13:55:08 CMX50070-101776 systemd[1]: sshd@239-10.102.37.173:22-192.168.85.173:60810.service: Deactivated successfully.\\nNov 09 13:55:08 CMX50070-101776 start_cmxmarsserver.sh[173642]: Got Data: 1554800 count: 98 t: 1:55:08 PM\\nNov 09 13:55:09 CMX50070-101776 start_cmxmarsserver.sh[173642]: Got Data: 1556700 count: 33 t: 1:55:09 PM\\nNov 09 13:55:09 CMX50070-101776 start_cmxmarsserver.sh[173642]: Got Data: 1556700 count: 34 t: 1:55:09 PM\\nNov 09 13:55:10 CMX50070-101776 start_cmxmarsserver.sh[173642]: Got Data: 1556700 count: 100 t: 1:55:10 PM\\nNov 09 13:55:10 CMX50070-101776 start_cmxmarsserver.sh[173642]: Got Data: 1556800 count: 21 t: 1:55:10 PM\\nNov 09 13:55:11 CMX50070-101776 start_cmxmarsserver.sh[173642]: Got Data: 1556900 count: 58 t: 1:55:11 PM\\nNov 09 13:55:13 CMX50070-101776 start_cmxmarsserver.sh[173642]: Got Data: 1557000 count: 96 t: 1:55:13 PM', metadata={'source': 'C:/Users/vishw/OneDrive/Desktop/Projects/daemon-dialoguers/Dataset/test_log1.out'}),\n",
       "  Document(page_content='Nov 09 13:54:33 CMX50070-101776 sshd[277530]: Connection closed by 172.25.11.232 port 36124\\nNov 09 13:54:33 CMX50070-101776 systemd[1]: sshd@237-10.102.37.173:22-172.25.11.232:36124.service: Deactivated successfully.\\nNov 09 13:54:34 CMX50070-101776 start_cmxmarsserver.sh[173642]: Got Data: 1486800 count: 51 t: 1:54:34 PM\\nNov 09 13:54:34 CMX50070-101776 start_cmxmarsserver.sh[173642]: Got Data: 1488800 count: 53 t: 1:54:34 PM\\nNov 09 13:54:36 CMX50070-101776 start_cmxmarsserver.sh[173642]: Got Data: 1490800 count: 51 t: 1:54:36 PM\\nNov 09 13:54:37 CMX50070-101776 start_cmxmarsserver.sh[173642]: Got Data: 1492800 count: 66 t: 1:54:37 PM\\nNov 09 13:54:38 CMX50070-101776 start_cmxmarsserver.sh[173642]: Got Data: 1494800 count: 64 t: 1:54:38 PM\\nNov 09 13:54:39 CMX50070-101776 start_cmxmarsserver.sh[173642]: Got Data: 1496800 count: 68 t: 1:54:39 PM\\nNov 09 13:54:40 CMX50070-101776 start_cmxmarsserver.sh[173642]: Got Data: 1498800 count: 77 t: 1:54:40 PM', metadata={'source': 'C:/Users/vishw/OneDrive/Desktop/Projects/daemon-dialoguers/Dataset/test_log1.out'}),\n",
       "  Document(page_content='Nov 09 13:53:34 CMX50070-101776 sshd[271352]: Connection closed by 172.24.11.231 port 33828\\nNov 09 13:53:34 CMX50070-101776 systemd[1]: sshd@235-10.102.37.173:22-172.24.11.231:33828.service: Deactivated successfully.\\nNov 09 13:53:35 CMX50070-101776 start_cmxmarsserver.sh[173642]: Got Data: 1368400 count: 100 t: 1:53:35 PM\\nNov 09 13:53:35 CMX50070-101776 start_cmxmarsserver.sh[173642]: Got Data: 1368500 count: 25 t: 1:53:35 PM\\nNov 09 13:53:35 CMX50070-101776 start_cmxmarsserver.sh[173642]: Got Data: 1370500 count: 37 t: 1:53:35 PM\\nNov 09 13:53:36 CMX50070-101776 start_cmxmarsserver.sh[173642]: Got Data: 1372500 count: 39 t: 1:53:36 PM\\nNov 09 13:53:38 CMX50070-101776 start_cmxmarsserver.sh[173642]: Got Data: 1374500 count: 41 t: 1:53:38 PM\\nNov 09 13:53:39 CMX50070-101776 start_cmxmarsserver.sh[173642]: Got Data: 1376500 count: 54 t: 1:53:39 PM\\nNov 09 13:53:39 CMX50070-101776 start_cmxmarsserver.sh[173642]: Got Data: 1378500 count: 57 t: 1:53:39 PM', metadata={'source': 'C:/Users/vishw/OneDrive/Desktop/Projects/daemon-dialoguers/Dataset/test_log1.out'}),\n",
       "  Document(page_content='Nov 09 13:53:34 CMX50070-101776 sshd[271352]: Connection closed by 172.24.11.231 port 33828\\nNov 09 13:53:34 CMX50070-101776 systemd[1]: sshd@235-10.102.37.173:22-172.24.11.231:33828.service: Deactivated successfully.\\nNov 09 13:53:35 CMX50070-101776 start_cmxmarsserver.sh[173642]: Got Data: 1368400 count: 100 t: 1:53:35 PM\\nNov 09 13:53:35 CMX50070-101776 start_cmxmarsserver.sh[173642]: Got Data: 1368500 count: 25 t: 1:53:35 PM\\nNov 09 13:53:35 CMX50070-101776 start_cmxmarsserver.sh[173642]: Got Data: 1370500 count: 37 t: 1:53:35 PM\\nNov 09 13:53:36 CMX50070-101776 start_cmxmarsserver.sh[173642]: Got Data: 1372500 count: 39 t: 1:53:36 PM\\nNov 09 13:53:38 CMX50070-101776 start_cmxmarsserver.sh[173642]: Got Data: 1374500 count: 41 t: 1:53:38 PM\\nNov 09 13:53:39 CMX50070-101776 start_cmxmarsserver.sh[173642]: Got Data: 1376500 count: 54 t: 1:53:39 PM\\nNov 09 13:53:39 CMX50070-101776 start_cmxmarsserver.sh[173642]: Got Data: 1378500 count: 57 t: 1:53:39 PM', metadata={'source': 'C:/Users/vishw/OneDrive/Desktop/Projects/daemon-dialoguers/Dataset/test_log1.out'})]}"
      ]
     },
     "execution_count": 25,
     "metadata": {},
     "output_type": "execute_result"
    }
   ],
   "source": [
    "result = chat({\"question\": question})\n",
    "result"
   ]
  },
  {
   "cell_type": "code",
   "execution_count": 26,
   "metadata": {},
   "outputs": [
    {
     "name": "stdout",
     "output_type": "stream",
     "text": [
      "The following lines have messages on SSH: \n",
      "\n",
      "1. \"Nov 09 13:50:04 CMX50070-101776 sshd[249289]: Connection closed by 172.25.11.232 port 45426\"\n",
      "2. \"Nov 09 13:44:11 CMX50070-101776 sshd[212198]: Connection closed by 172.25.232.145 port 56312\"\n",
      "3. \"Nov 09 13:54:33 CMX50070-101776 sshd[277530]: Connection closed by 172.25.11.232 port 36124\"\n",
      "4. \"Nov 09 13:55:08 CMX50070-101776 sshd[281144]: Connection closed by 192.168.85.173 port 60810\"\n",
      "5. \"Nov 09 13:53:34 CMX50070-101776 sshd[271352]: Connection closed by 172.24.11.231 port 33828\"\n",
      "\n",
      "\n"
     ]
    }
   ],
   "source": [
    "print(result['answer'])"
   ]
  },
  {
   "cell_type": "markdown",
   "metadata": {},
   "source": [
    "### Full Token Test"
   ]
  },
  {
   "cell_type": "code",
   "execution_count": 49,
   "metadata": {},
   "outputs": [],
   "source": [
    "memory = ConversationBufferMemory(memory_key='chat_history', return_messages=True, input_key='question', output_key='answer')"
   ]
  },
  {
   "cell_type": "code",
   "execution_count": 50,
   "metadata": {},
   "outputs": [],
   "source": [
    "embedding = OpenAIEmbeddings(\n",
    "openai_organization=key['openai_organization'],\n",
    "openai_api_key = key['openai_api_key'],\n",
    "model=\"text-embedding-ada-002\",\n",
    "max_retries=10,\n",
    ")\n",
    "\n",
    "# Loading the datastore\n",
    "vector_db = Chroma(persist_directory=f\"./chromadb/{md5hash}_small\", embedding_function=embedding)\n",
    "retriver = vector_db.as_retriever()"
   ]
  },
  {
   "cell_type": "code",
   "execution_count": 51,
   "metadata": {},
   "outputs": [],
   "source": [
    "llm = ChatOpenAI(\n",
    "openai_organization=\"org-kfsNXpcw90CoawqSyD7Mw4CD\",\n",
    "model=\"gpt-4\",\n",
    ")\n",
    "\n",
    "chat = RetrievalQAWithSourcesChain.from_llm(llm, retriever=retriver, memory=memory, return_source_documents=True)"
   ]
  },
  {
   "cell_type": "code",
   "execution_count": 53,
   "metadata": {},
   "outputs": [
    {
     "data": {
      "text/plain": [
       "{'question': 'What IPs were they from?',\n",
       " 'chat_history': [HumanMessage(content='Were there any SSH login errors?'),\n",
       "  AIMessage(content='Yes, there were SSH login errors. These include authentication failures and connection closures by the remote host. \\n'),\n",
       "  HumanMessage(content='What IPs were they from?'),\n",
       "  AIMessage(content='The IP they were from is 10.0.2.217.\\n')],\n",
       " 'answer': 'The IP they were from is 10.0.2.217.\\n',\n",
       " 'sources': 'C:/Users/vishw/OneDrive/Desktop/Projects/daemon-dialoguers/Dataset/test_log1.out',\n",
       " 'source_documents': [Document(page_content='Nov 09 14:28:28 CMX50070-101776 rspias-daemon[887]: PIAS: PIAS: Remote access from client 10.0.2.217\\nNov 09 14:28:28 CMX50070-101776 rspias-daemon[887]: PIAS: PIAS: Remote access from client 10.0.2.217', metadata={'source': 'C:/Users/vishw/OneDrive/Desktop/Projects/daemon-dialoguers/Dataset/test_log1.out'}),\n",
       "  Document(page_content='Nov 09 14:31:45 CMX50070-101776 rspias-daemon[887]: PIAS: PIAS: Remote access from client 10.0.2.217\\nNov 09 14:31:45 CMX50070-101776 rspias-daemon[887]: PIAS: PIAS: Remote access from client 10.0.2.217', metadata={'source': 'C:/Users/vishw/OneDrive/Desktop/Projects/daemon-dialoguers/Dataset/test_log1.out'}),\n",
       "  Document(page_content='Nov 09 14:31:45 CMX50070-101776 rspias-daemon[887]: PIAS: PIAS: Remote access from client 10.0.2.217\\nNov 09 14:31:45 CMX50070-101776 rspias-daemon[887]: PIAS: PIAS: Remote access from client 10.0.2.217', metadata={'source': 'C:/Users/vishw/OneDrive/Desktop/Projects/daemon-dialoguers/Dataset/test_log1.out'}),\n",
       "  Document(page_content='Nov 09 14:31:45 CMX50070-101776 rspias-daemon[887]: PIAS: PIAS: Remote access from client 10.0.2.217\\nNov 09 14:31:45 CMX50070-101776 rspias-daemon[887]: PIAS: PIAS: Remote access from client 10.0.2.217', metadata={'source': 'C:/Users/vishw/OneDrive/Desktop/Projects/daemon-dialoguers/Dataset/test_log1.out'})]}"
      ]
     },
     "execution_count": 53,
     "metadata": {},
     "output_type": "execute_result"
    }
   ],
   "source": [
    "result = chat({\"question\": f\"What IPs were they from?\"})\n",
    "result"
   ]
  },
  {
   "cell_type": "markdown",
   "metadata": {},
   "source": [
    "### Langchain Summary Model"
   ]
  },
  {
   "cell_type": "code",
   "execution_count": 3,
   "metadata": {},
   "outputs": [],
   "source": [
    "from langchain.embeddings import HuggingFaceEmbeddings, OpenAIEmbeddings\n",
    "from langchain.vectorstores import Chroma\n",
    "from langchain.document_loaders import TextLoader\n",
    "from langchain.text_splitter import CharacterTextSplitter\n",
    "from langchain.chat_models import ChatOpenAI\n",
    "from langchain.chains import ConversationalRetrievalChain, RetrievalQAWithSourcesChain\n",
    "from langchain.memory import ConversationBufferMemory\n",
    "import tiktoken\n",
    "\n",
    "import os\n",
    "os.environ[\"OPENAI_API_KEY\"] = key['openai_api_key']\n",
    "\n",
    "md5hash = hashlib.md5(open(f\"{DATA_DIR}/test_log1.out\",'rb').read()).hexdigest()\n"
   ]
  },
  {
   "cell_type": "code",
   "execution_count": 56,
   "metadata": {},
   "outputs": [],
   "source": [
    "from langchain.prompts import PromptTemplate\n",
    "from langchain.chains.summarize import load_summarize_chain\n",
    "import textwrap\n",
    "from time import monotonic\n",
    "\n",
    "prompt_template = \"\"\"Write a concise summary of the following. Make them bullet points:\n",
    "\n",
    "\n",
    "{text}\n",
    "\n",
    "\n",
    "Important points:\"\"\"\n",
    "\n",
    "prompt = PromptTemplate(template=prompt_template, input_variables=[\"text\"])"
   ]
  },
  {
   "cell_type": "code",
   "execution_count": 57,
   "metadata": {},
   "outputs": [],
   "source": [
    "llm = ChatOpenAI(\n",
    "openai_organization=\"org-kfsNXpcw90CoawqSyD7Mw4CD\",\n",
    "model=\"gpt-4\",\n",
    ")"
   ]
  },
  {
   "cell_type": "code",
   "execution_count": 58,
   "metadata": {},
   "outputs": [],
   "source": [
    "# loader = TextLoader(f\"{DATA_DIR}/test_log1.out\")\n",
    "# documents = loader.load()\n",
    "\n",
    "# text_splitter = RecursiveCharacterTextSplitter(chunk_size=1000, chunk_overlap=0)\n",
    "# documents = text_splitter.split_documents(documents)\n",
    "question = 'What are errors and important processes in the log?'\n",
    "docs_small,conf_small = cm.get_context(question, f\"./chromadb/{md5hash}_small\", k = 50)\n",
    "# docs_large,conf_large = cm.get_context(question, f\"./chromadb/{md5hash}_large\", k = 30)\n",
    "\n",
    "## Add both large and small to a single list and sort them by confidence\n",
    "docs = docs_small"
   ]
  },
  {
   "cell_type": "code",
   "execution_count": 59,
   "metadata": {},
   "outputs": [
    {
     "data": {
      "text/plain": [
       "[Document(page_content='Nov 09 13:11:43 CMX50070-101776 Xserver[1910]: Errors from xkbcomp are not fatal to the X server\\nNov 09 13:11:43 CMX50070-101776 xu_launcher[1888]: ERROR: Cannot create file \"AU_500.log\": Permission denied', metadata={'source': 'C:/Users/vishw/OneDrive/Desktop/Projects/daemon-dialoguers/Dataset/test_log1.out'}),\n",
       " Document(page_content='Nov 10 05:49:10 CMX50070-101776 RsLicenseServerApp[1857]: CPDefErrorLoggerMulti::Write(): No Loggers registered!\\nNov 10 05:49:10 CMX50070-101776 RsLicenseServerApp[1857]: CPDefErrorLoggerMulti::Write(): No Loggers registered!', metadata={'source': 'C:/Users/vishw/OneDrive/Desktop/Projects/daemon-dialoguers/Dataset/test_log1.out'}),\n",
       " Document(page_content='= \"log.fast.core.assert\" /> <level v = \"debug\" /> </e> <e> <logger v = \"log.fast.plugins\" /> <level v = \"debug\" /> </e> <e> <logger v = \"log.fast.fte\" /> <level v = \"debug\" /> </e> <e> <logger v = \"log.sockets\" /> <level v = \"debug\" /> </e> <e> <logger v = \"log.rat.rqm\" /> <level v = \"debug\" />', metadata={'source': 'C:/Users/vishw/OneDrive/Desktop/Projects/daemon-dialoguers/Dataset/test_log1.out'}),\n",
       " Document(page_content='= \"log.fast.core.assert\" /> <level v = \"debug\" /> </e> <e> <logger v = \"log.fast.plugins\" /> <level v = \"debug\" /> </e> <e> <logger v = \"log.fast.fte\" /> <level v = \"debug\" /> </e> <e> <logger v = \"log.sockets\" /> <level v = \"debug\" /> </e> <e> <logger v = \"log.rat.rqm\" /> <level v = \"debug\" />', metadata={'source': 'C:/Users/vishw/OneDrive/Desktop/Projects/daemon-dialoguers/Dataset/test_log1.out'}),\n",
       " Document(page_content='Nov 09 13:11:47 CMX50070-101776 RsLicenseServerApp[1857]: CPDefErrorLoggerMulti::Write(): No Loggers registered!\\nNov 09 13:11:47 CMX50070-101776 RsLicenseServerApp[1857]: CPDefErrorLoggerMulti::Write(): No Loggers registered!', metadata={'source': 'C:/Users/vishw/OneDrive/Desktop/Projects/daemon-dialoguers/Dataset/test_log1.out'}),\n",
       " Document(page_content='Nov 09 13:11:39 CMX50070-101776 Xserver[825]:         (WW) warning, (EE) error, (NI) not implemented, (??) unknown.\\nNov 09 13:11:39 CMX50070-101776 Xserver[825]: (==) Log file: \"/var/log/Xorg.0.log\", Time: Thu Nov  9 13:11:39 2023', metadata={'source': 'C:/Users/vishw/OneDrive/Desktop/Projects/daemon-dialoguers/Dataset/test_log1.out'}),\n",
       " Document(page_content='v = \"log.rat.rqm\" /> <level v = \"debug\" /> </e> <e> <logger v = \"log.astSync\" /> <level v=\"warn\"/> </e> <e> <logger v = \"log.coreLoad\" /> <level v = \"warn\" /> </e> </textLogConfig> <textLogFileName v = \"RatRqm.log\" /> <textLogSize v = \"100000000\" /> <msgLogConfig> <destination v=\"TraceSap\"/>', metadata={'source': 'C:/Users/vishw/OneDrive/Desktop/Projects/daemon-dialoguers/Dataset/test_log1.out'}),\n",
       " Document(page_content='v = \"log.rat.rqm\" /> <level v = \"debug\" /> </e> <e> <logger v = \"log.astSync\" /> <level v=\"warn\"/> </e> <e> <logger v = \"log.coreLoad\" /> <level v = \"warn\" /> </e> </textLogConfig> <textLogFileName v = \"RatRqm.log\" /> <textLogSize v = \"100000000\" /> <msgLogConfig> <destination v=\"TraceSap\"/>', metadata={'source': 'C:/Users/vishw/OneDrive/Desktop/Projects/daemon-dialoguers/Dataset/test_log1.out'}),\n",
       " Document(page_content='Nov 09 13:11:40 CMX50070-101776 start-mrt.sysmond.sh[1145]: 2023-11-09T13:11:40,169602836+00:00 SYSMOND_LOG_NAME= \"sysmond_main\"\\nNov 09 13:11:40 CMX50070-101776 start-mrt.sysmond.sh[1151]: 2023-11-09T13:11:40,173715969+00:00 SYSMOND_LOG_P_NAME= \"sysmond_processes\"', metadata={'source': 'C:/Users/vishw/OneDrive/Desktop/Projects/daemon-dialoguers/Dataset/test_log1.out'}),\n",
       " Document(page_content='/> <level v = \"debug\" /> </e> <e> <logger v = \"log.fast.core.msg\" /> <level v = \"debug\" /> </e> <e> <logger v = \"log.fast.core.iss\" /> <level v = \"debug\" /> </e> <e> <logger v = \"log.fast.core.shutdown\" /> <level v = \"debug\" /> </e> <e> <logger v = \"log.fast.core.assert\" /> <level v = \"debug\" />', metadata={'source': 'C:/Users/vishw/OneDrive/Desktop/Projects/daemon-dialoguers/Dataset/test_log1.out'}),\n",
       " Document(page_content='/> <level v = \"debug\" /> </e> <e> <logger v = \"log.fast.core.msg\" /> <level v = \"debug\" /> </e> <e> <logger v = \"log.fast.core.iss\" /> <level v = \"debug\" /> </e> <e> <logger v = \"log.fast.core.shutdown\" /> <level v = \"debug\" /> </e> <e> <logger v = \"log.fast.core.assert\" /> <level v = \"debug\" />', metadata={'source': 'C:/Users/vishw/OneDrive/Desktop/Projects/daemon-dialoguers/Dataset/test_log1.out'}),\n",
       " Document(page_content='Nov 09 13:11:35 localhost systemd[1]: Listening on Journal Socket (/dev/log).\\nNov 09 13:11:35 localhost systemd[1]: Listening on Journal Socket.\\nNov 09 13:11:35 localhost systemd[1]: Listening on udev Control Socket.\\nNov 09 13:11:35 localhost systemd[1]: Listening on udev Kernel Socket.', metadata={'source': 'C:/Users/vishw/OneDrive/Desktop/Projects/daemon-dialoguers/Dataset/test_log1.out'}),\n",
       " Document(page_content='Nov 09 17:30:20 CMX50070-101776 systemd-logind[410]: Session c4 logged out. Waiting for processes to exit.\\nNov 09 17:30:20 CMX50070-101776 systemd-logind[410]: Removed session c4.', metadata={'source': 'C:/Users/vishw/OneDrive/Desktop/Projects/daemon-dialoguers/Dataset/test_log1.out'}),\n",
       " Document(page_content='Nov 10 05:49:10 CMX50070-101776 health_service[448]: Received signal: 15\\nNov 10 05:49:10 CMX50070-101776 RsLicenseServerApp[1857]: CPDefErrorLoggerMulti::Write(): No Loggers registered!\\nNov 10 05:49:10 CMX50070-101776 RsLicenseServerApp[1857]: CPDefErrorLoggerMulti::Write(): No Loggers registered!', metadata={'source': 'C:/Users/vishw/OneDrive/Desktop/Projects/daemon-dialoguers/Dataset/test_log1.out'}),\n",
       " Document(page_content='Nov 09 13:12:04 CMX50070-101776 AlfManagerApp[1855]: CPDefErrorLoggerMulti::Write(): No Loggers registered!\\nNov 09 13:12:04 CMX50070-101776 AlfManagerApp[1855]: Set operation mode to: Primary', metadata={'source': 'C:/Users/vishw/OneDrive/Desktop/Projects/daemon-dialoguers/Dataset/test_log1.out'}),\n",
       " Document(page_content='Nov 09 13:11:43 CMX50070-101776 AlfManagerApp[1855]: CPDefErrorLoggerMulti::Write(): No Loggers registered!\\nNov 09 13:11:43 CMX50070-101776 AlfManagerApp[1855]: AlfManager started. Version: 1.9.4.239\\nNov 09 13:11:43 CMX50070-101776 node[405]: Get index for mrt.mars-helpk70...', metadata={'source': 'C:/Users/vishw/OneDrive/Desktop/Projects/daemon-dialoguers/Dataset/test_log1.out'}),\n",
       " Document(page_content='Nov 09 13:11:42 CMX50070-101776 Xserver[1884]: (==) Log file: \"/var/log/Xorg.0.log\", Time: Thu Nov  9 13:11:42 2023\\nNov 09 13:11:42 CMX50070-101776 Xserver[1884]: (==) Using config directory: \"/etc/X11/xorg.conf.d\"', metadata={'source': 'C:/Users/vishw/OneDrive/Desktop/Projects/daemon-dialoguers/Dataset/test_log1.out'}),\n",
       " Document(page_content=\"Nov 09 13:13:26 CMX50070-101776 start_mrt.sh[16216]: Reading configuration from '/usr/lib/eventlog/eventlog.ini'...\\nNov 09 13:13:26 CMX50070-101776 start_mrt.sh[16216]: Read configuration from '/usr/lib/eventlog/eventlog.ini'\\nNov 09 13:13:26 CMX50070-101776 start_mrt.sh[16216]: App Configuration:\", metadata={'source': 'C:/Users/vishw/OneDrive/Desktop/Projects/daemon-dialoguers/Dataset/test_log1.out'}),\n",
       " Document(page_content='Nov 09 13:11:57 CMX50070-101776 bash[3490]: rtia_1         | 2023-11-09T13:11:57Z;INFO;RohdeSchwarz.CMXreporting.Logging.Logger;Logger initialized.\\nNov 09 13:11:57 CMX50070-101776 bash[3490]: rtia_1         | 2023-11-09T13:11:57Z;INFO;RohdeSchwarz.CMXreporting.Logging.Logger;LogLevel set to Info.', metadata={'source': 'C:/Users/vishw/OneDrive/Desktop/Projects/daemon-dialoguers/Dataset/test_log1.out'}),\n",
       " Document(page_content='Nov 09 13:11:43 CMX50070-101776 xu_launcher[1886]: WARNING: Attempting \"/tmp/FrontUnit_1500.log\" instead\\nNov 09 13:11:43 CMX50070-101776 node[405]: TOC successfully created!', metadata={'source': 'C:/Users/vishw/OneDrive/Desktop/Projects/daemon-dialoguers/Dataset/test_log1.out'}),\n",
       " Document(page_content='Nov 09 13:13:26 CMX50070-101776 start_mrt.sh[16216]: Starting EventLog (19 args: \"/usr/lib/eventlog/eventlog\" \"--test_environment_instance\" \"0\" \"--log_to_stdout\" \"false\" \"--parent_pid\" \"3219\" \"--zmq_broker_mode\" \"slave\" \"--rpc_channel_transport\" \"tcp://127.0.0.1:9013\"', metadata={'source': 'C:/Users/vishw/OneDrive/Desktop/Projects/daemon-dialoguers/Dataset/test_log1.out'}),\n",
       " Document(page_content='Nov 10 01:22:34 CMX50070-101776 start-mrt.sysmond.sh[503343]: 2023-11-10T01:22:34,464677883+00:00 Compression done\\nNov 10 01:22:34 CMX50070-101776 start-mrt.sysmond.sh[503359]: 2023-11-10T01:22:34,488875044+00:00 Compress log \"/home/instrument/fw/log/sysmond_processes.1.nmon\"...', metadata={'source': 'C:/Users/vishw/OneDrive/Desktop/Projects/daemon-dialoguers/Dataset/test_log1.out'}),\n",
       " Document(page_content='Nov 09 13:16:49 CMX50070-101776 systemd-logind[410]: Session c5 logged out. Waiting for processes to exit.\\nNov 09 13:16:49 CMX50070-101776 systemd-logind[410]: Removed session c5.', metadata={'source': 'C:/Users/vishw/OneDrive/Desktop/Projects/daemon-dialoguers/Dataset/test_log1.out'}),\n",
       " Document(page_content='Nov 09 13:11:48 CMX50070-101776 rs_callysto.callysto_server._logging_configuration[3036]: [info     ] write text log to /var/log/callysto.log type=text log_level=20 filename=/var/log/callysto.log', metadata={'source': 'C:/Users/vishw/OneDrive/Desktop/Projects/daemon-dialoguers/Dataset/test_log1.out'}),\n",
       " Document(page_content='Nov 09 13:11:40 CMX50070-101776 start-mrt.sysmond.sh[1164]: /opt/rohde-schwarz/mrt.sysmond/start-mrt.sysmond.sh: line 230: Log: command not found', metadata={'source': 'C:/Users/vishw/OneDrive/Desktop/Projects/daemon-dialoguers/Dataset/test_log1.out'}),\n",
       " Document(page_content='Nov 10 04:25:23 CMX50070-101776 start-mrt.sysmond.sh[1674528]: 2023-11-10T04:25:23,964659785+00:00 Compression done\\nNov 10 04:25:23 CMX50070-101776 start-mrt.sysmond.sh[1674544]: 2023-11-10T04:25:23,988526454+00:00 Compress log \"/home/instrument/fw/log/sysmond_processes.1.nmon\"...', metadata={'source': 'C:/Users/vishw/OneDrive/Desktop/Projects/daemon-dialoguers/Dataset/test_log1.out'}),\n",
       " Document(page_content='Nov 09 13:13:26 CMX50070-101776 mrt.dos[1863]: 2023-11-09T13:13:26.556200Z [DeviceApiSubscriber                                  ] DEBUG: 0 messages in the queue\\nNov 09 13:13:26 CMX50070-101776 start_mrt.sh[16216]: Location: /usr/lib/eventlog/eventlog', metadata={'source': 'C:/Users/vishw/OneDrive/Desktop/Projects/daemon-dialoguers/Dataset/test_log1.out'}),\n",
       " Document(page_content='Nov 09 13:13:26 CMX50070-101776 start_mrt.sh[16216]: EventLog successfully started\\nNov 09 13:13:26 CMX50070-101776 start_mrt.sh[16216]: Disabling logging to stdout...\\nNov 09 13:13:27 CMX50070-101776 start_mrt.sh[3219]: TSS: Detected change of CLOCK_REALTIME!', metadata={'source': 'C:/Users/vishw/OneDrive/Desktop/Projects/daemon-dialoguers/Dataset/test_log1.out'}),\n",
       " Document(page_content='Nov 09 13:11:37 CMX50070-101776 systemd[1]: Started Daily rotation of log files.\\nNov 09 13:11:37 CMX50070-101776 systemd[1]: Started Timer that triggers smartmontools data collection periodically.\\nNov 09 13:11:37 CMX50070-101776 systemd[1]: Started Daily Cleanup of Temporary Directories.', metadata={'source': 'C:/Users/vishw/OneDrive/Desktop/Projects/daemon-dialoguers/Dataset/test_log1.out'}),\n",
       " Document(page_content='Nov 09 13:11:40 CMX50070-101776 Xserver[1349]: matchbox: ignoring key shortcut XF86Start=!matchbox-remote -desktop\\nNov 09 13:11:40 CMX50070-101776 start-mrt.sysmond.sh[1380]: 2023-11-09T13:11:40,684111506+00:00 Compress log \"/home/instrument/fw/log/sysmond_processes.1.nmon\"...', metadata={'source': 'C:/Users/vishw/OneDrive/Desktop/Projects/daemon-dialoguers/Dataset/test_log1.out'}),\n",
       " Document(page_content='Nov 09 19:17:08 CMX50070-101776 start-mrt.sysmond.sh[2352945]: 2023-11-09T19:17:08,718960566+00:00 Compression done\\nNov 09 19:17:08 CMX50070-101776 start-mrt.sysmond.sh[2352960]: 2023-11-09T19:17:08,743141334+00:00 Compress log \"/home/instrument/fw/log/sysmond_processes.1.nmon\"...', metadata={'source': 'C:/Users/vishw/OneDrive/Desktop/Projects/daemon-dialoguers/Dataset/test_log1.out'}),\n",
       " Document(page_content='Nov 09 14:16:20 CMX50070-101776 systemd-logind[410]: Session c8 logged out. Waiting for processes to exit.\\nNov 09 14:16:20 CMX50070-101776 systemd-logind[410]: Removed session c8.\\nNov 09 14:16:23 CMX50070-101776 sshd[329873]: pam_unix(sshd:session): session closed for user root', metadata={'source': 'C:/Users/vishw/OneDrive/Desktop/Projects/daemon-dialoguers/Dataset/test_log1.out'}),\n",
       " Document(page_content='Nov 09 16:14:29 CMX50070-101776 start-mrt.sysmond.sh[1181688]: 2023-11-09T16:14:29,462908396+00:00 Compression done\\nNov 09 16:14:29 CMX50070-101776 start-mrt.sysmond.sh[1181704]: 2023-11-09T16:14:29,489268648+00:00 Compress log \"/home/instrument/fw/log/sysmond_processes.1.nmon\"...', metadata={'source': 'C:/Users/vishw/OneDrive/Desktop/Projects/daemon-dialoguers/Dataset/test_log1.out'}),\n",
       " Document(page_content='Nov 09 13:11:36 CMX50070-101776 systemd-journald[281]: Time spent on flushing to /var/log/journal/c9b3817a56e249f4a36b56f9eda6b8e6 is 62.299ms for 1198 entries.', metadata={'source': 'C:/Users/vishw/OneDrive/Desktop/Projects/daemon-dialoguers/Dataset/test_log1.out'}),\n",
       " Document(page_content='Nov 09 22:19:48 CMX50070-101776 start-mrt.sysmond.sh[3523883]: 2023-11-09T22:19:48,956534170+00:00 Compression done\\nNov 09 22:19:48 CMX50070-101776 start-mrt.sysmond.sh[3523899]: 2023-11-09T22:19:48,981523352+00:00 Compress log \"/home/instrument/fw/log/sysmond_processes.1.nmon\"...', metadata={'source': 'C:/Users/vishw/OneDrive/Desktop/Projects/daemon-dialoguers/Dataset/test_log1.out'}),\n",
       " Document(page_content='Nov 09 13:13:26 CMX50070-101776 start_mrt.sh[16216]:     TextLogMaxSize:                 1 MB\\nNov 09 13:13:26 CMX50070-101776 start_mrt.sh[16216]:     TextLogMaxNumFiles:             10\\nNov 09 13:13:26 CMX50070-101776 start_mrt.sh[16216]:     MaxNumEventsBacked:             1000', metadata={'source': 'C:/Users/vishw/OneDrive/Desktop/Projects/daemon-dialoguers/Dataset/test_log1.out'}),\n",
       " Document(page_content='Nov 10 05:49:05 CMX50070-101776 Xserver[1884]: (II) Server terminated successfully (0). Closing log file.\\nNov 10 05:49:05 CMX50070-101776 kernel: CLOSE cmx_au driver by pid: 1885 (au_ld_standalon)', metadata={'source': 'C:/Users/vishw/OneDrive/Desktop/Projects/daemon-dialoguers/Dataset/test_log1.out'}),\n",
       " Document(page_content='Nov 10 01:22:34 CMX50070-101776 start-mrt.sysmond.sh[503314]: 2023-11-10T01:22:34,237543903+00:00 Rotate logs...\\nNov 10 01:22:34 CMX50070-101776 start-mrt.sysmond.sh[503330]: 2023-11-10T01:22:34,274958580+00:00 Compress log \"/home/instrument/fw/log/sysmond_main.1.nmon\"...', metadata={'source': 'C:/Users/vishw/OneDrive/Desktop/Projects/daemon-dialoguers/Dataset/test_log1.out'}),\n",
       " Document(page_content='Nov 09 19:02:07 CMX50070-101776 systemd-logind[410]: Session c25 logged out. Waiting for processes to exit.\\nNov 09 19:02:07 CMX50070-101776 systemd-logind[410]: Removed session c25.', metadata={'source': 'C:/Users/vishw/OneDrive/Desktop/Projects/daemon-dialoguers/Dataset/test_log1.out'}),\n",
       " Document(page_content='Nov 09 13:11:40 CMX50070-101776 start-mrt.sysmond.sh[1196]: 2023-11-09T13:11:40,222995439+00:00 Installed signal handlers, about to start nmon...\\nNov 09 13:11:40 CMX50070-101776 start-mrt.sysmond.sh[1207]: 2023-11-09T13:11:40,237492625+00:00 Rotate logs...', metadata={'source': 'C:/Users/vishw/OneDrive/Desktop/Projects/daemon-dialoguers/Dataset/test_log1.out'}),\n",
       " Document(page_content='v = \"0\" /> <queueSize v=\"4096\"/> </e> <e> <name v = \"*\" /> <prio v = \"0\" /> </e> </tasks> </e> </coreAffinity> <!--text log configuration--> <textLogConfig> <e> <logger v = \"log\" /> <level v = \"debug\" /> </e> <e> <logger v = \"log.fast.core\" /> <level v = \"debug\" /> </e> <e> <logger v =', metadata={'source': 'C:/Users/vishw/OneDrive/Desktop/Projects/daemon-dialoguers/Dataset/test_log1.out'}),\n",
       " Document(page_content='v = \"0\" /> <queueSize v=\"4096\"/> </e> <e> <name v = \"*\" /> <prio v = \"0\" /> </e> </tasks> </e> </coreAffinity> <!--text log configuration--> <textLogConfig> <e> <logger v = \"log\" /> <level v = \"debug\" /> </e> <e> <logger v = \"log.fast.core\" /> <level v = \"debug\" /> </e> <e> <logger v =', metadata={'source': 'C:/Users/vishw/OneDrive/Desktop/Projects/daemon-dialoguers/Dataset/test_log1.out'}),\n",
       " Document(page_content='Nov 09 13:11:36 localhost systemd-journald[188]: Journal stopped\\nNov 09 13:11:36 CMX50070-101776 systemd-journald[188]: Received SIGTERM from PID 1 (systemd).\\nNov 09 13:11:36 CMX50070-101776 kernel: usb 3-2.2.1: New USB device found, idVendor=0424, idProduct=2517, bcdDevice= 0.02', metadata={'source': 'C:/Users/vishw/OneDrive/Desktop/Projects/daemon-dialoguers/Dataset/test_log1.out'}),\n",
       " Document(page_content='Nov 09 13:11:42 CMX50070-101776 Xserver[1884]:         (++) from command line, (!!) notice, (II) informational,\\nNov 09 13:11:42 CMX50070-101776 Xserver[1884]:         (WW) warning, (EE) error, (NI) not implemented, (??) unknown.', metadata={'source': 'C:/Users/vishw/OneDrive/Desktop/Projects/daemon-dialoguers/Dataset/test_log1.out'}),\n",
       " Document(page_content='Nov 09 13:11:39 CMX50070-101776 systemd-logind[410]: Watching system buttons on /dev/input/event1 (Power Button)\\nNov 09 13:11:39 CMX50070-101776 systemd-logind[410]: Watching system buttons on /dev/input/event0 (Power Button)', metadata={'source': 'C:/Users/vishw/OneDrive/Desktop/Projects/daemon-dialoguers/Dataset/test_log1.out'}),\n",
       " Document(page_content='Nov 09 13:11:40 CMX50070-101776 Xserver[1080]: Errors from xkbcomp are not fatal to the X server\\nNov 09 13:11:40 CMX50070-101776 start-mrt.sysmond.sh[1133]: 2023-11-09T13:11:40,154344399+00:00', metadata={'source': 'C:/Users/vishw/OneDrive/Desktop/Projects/daemon-dialoguers/Dataset/test_log1.out'}),\n",
       " Document(page_content='Nov 09 14:01:52 CMX50070-101776 systemd-logind[410]: New session c7 of user root.\\nNov 09 14:01:52 CMX50070-101776 systemd[1]: Started Session c7 of User root.', metadata={'source': 'C:/Users/vishw/OneDrive/Desktop/Projects/daemon-dialoguers/Dataset/test_log1.out'}),\n",
       " Document(page_content=\"Nov 09 13:13:26 CMX50070-101776 start_mrt.sh[16216]: Registering service '//mrt/0/testenvironment/0/eventlog/0'...\\nNov 09 13:13:26 CMX50070-101776 start_mrt.sh[16216]: Registered service '//mrt/0/testenvironment/0/eventlog/0'\", metadata={'source': 'C:/Users/vishw/OneDrive/Desktop/Projects/daemon-dialoguers/Dataset/test_log1.out'}),\n",
       " Document(page_content='Nov 09 13:11:36 CMX50070-101776 systemd-journald[281]: Runtime Journal (/run/log/journal/c9b3817a56e249f4a36b56f9eda6b8e6) is 8.0M, max 64.0M, 56.0M free.\\nNov 09 13:11:36 CMX50070-101776 audit: BPF prog-id=11 op=LOAD\\nNov 09 13:11:36 CMX50070-101776 audit: BPF prog-id=0 op=UNLOAD', metadata={'source': 'C:/Users/vishw/OneDrive/Desktop/Projects/daemon-dialoguers/Dataset/test_log1.out'}),\n",
       " Document(page_content='Nov 09 13:41:09 CMX50070-101776 start_mrt.sh[192083]: [INFO] [2023-11-09T13:41:09,576+0000] [__init__.__init__:95]: Logging initialized with logging level 20', metadata={'source': 'C:/Users/vishw/OneDrive/Desktop/Projects/daemon-dialoguers/Dataset/test_log1.out'})]"
      ]
     },
     "execution_count": 59,
     "metadata": {},
     "output_type": "execute_result"
    }
   ],
   "source": [
    "docs"
   ]
  },
  {
   "cell_type": "code",
   "execution_count": 60,
   "metadata": {},
   "outputs": [],
   "source": [
    "chain = load_summarize_chain(llm, chain_type=\"stuff\", prompt=prompt)\n",
    "summary = chain.run(docs)"
   ]
  },
  {
   "cell_type": "code",
   "execution_count": 61,
   "metadata": {},
   "outputs": [
    {
     "name": "stdout",
     "output_type": "stream",
     "text": [
      "- Errors from xkbcomp are not fatal to the X server.\n",
      "- There are multiple instances of issues with permissions, leading to the inability to create files.\n",
      "- Multiple instances of no loggers being registered for the RsLicenseServerApp.\n",
      "- Multiple occurrences of loggers and levels being set to \"debug\".\n",
      "- The server was listening on Journal Socket and udev Control and Kernel Socket.\n",
      "- Sessions were logged out and removed by systemd-logind.\n",
      "- Signal 15 was received by the health_service.\n",
      "- AlfManager started with version 1.9.4.239.\n",
      "- The system was reading configurations from '/usr/lib/eventlog/eventlog.ini'.\n",
      "- Loggers were initialized and LogLevel was set to Info.\n",
      "- EventLog was successfully started and logging to stdout was disabled.\n",
      "- Daily rotation of log files, smartmontools data collection, and cleanup of temporary directories were started by systemd.\n",
      "- There were multiple instances of compression being done on system logs.\n",
      "- There were several instances of the start_mrt script reading configurations, starting EventLog, and disabling logging to stdout.\n",
      "- The system was listening on multiple sockets as per systemd.\n",
      "- The RsLicenseServerApp received a signal and no loggers were registered.\n",
      "- AlfManagerApp set operation mode to Primary and was started.\n",
      "- Multiple instances of log configuration and core affinity settings.\n",
      "- Journal stopped and received SIGTERM from PID 1 (systemd).\n",
      "- Multiple instances of watching system buttons on /dev/input/event1 (Power Button) and /dev/input/event0 (Power Button).\n",
      "- Xserver reported errors from xkbcomp are not fatal.\n",
      "- Multiple instances of new sessions being started for user root.\n",
      "- Logging was initialized with a logging level of 20.\n"
     ]
    }
   ],
   "source": [
    "print(summary)"
   ]
  },
  {
   "cell_type": "code",
   "execution_count": null,
   "metadata": {},
   "outputs": [],
   "source": []
  }
 ],
 "metadata": {
  "kernelspec": {
   "display_name": "Python 3",
   "language": "python",
   "name": "python3"
  },
  "language_info": {
   "codemirror_mode": {
    "name": "ipython",
    "version": 3
   },
   "file_extension": ".py",
   "mimetype": "text/x-python",
   "name": "python",
   "nbconvert_exporter": "python",
   "pygments_lexer": "ipython3",
   "version": "3.11.4"
  }
 },
 "nbformat": 4,
 "nbformat_minor": 2
}
