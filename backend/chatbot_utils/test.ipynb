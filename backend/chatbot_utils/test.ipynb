{
 "cells": [
  {
   "cell_type": "code",
   "execution_count": 109,
   "metadata": {},
   "outputs": [],
   "source": [
    "import sys\n",
    "sys.path.append('C:/Users/vishw/OneDrive/Desktop/Projects/daemon-dialoguers/backend/chatbot_utils')\n",
    "\n",
    "import context_model as cm\n",
    "import importlib\n",
    "importlib.reload(cm)\n",
    "\n",
    "import pandas as pd\n",
    "import hashlib\n",
    "import json\n",
    "\n",
    "\n",
    "with open('C:/Users/vishw/OneDrive/Desktop/Projects/daemon-dialoguers/openAI_api.json') as f:\n",
    "    key = json.load(f)"
   ]
  },
  {
   "cell_type": "markdown",
   "metadata": {},
   "source": [
    "### Testing Embedding and Context Models"
   ]
  },
  {
   "cell_type": "code",
   "execution_count": 9,
   "metadata": {},
   "outputs": [],
   "source": [
    "DATA_DIR = 'C:/Users/vishw/OneDrive/Desktop/Projects/daemon-dialoguers/Dataset'\n",
    "md5hash = hashlib.md5(open(f\"{DATA_DIR}/test_log1.out\",'rb').read()).hexdigest()"
   ]
  },
  {
   "cell_type": "code",
   "execution_count": 6,
   "metadata": {},
   "outputs": [],
   "source": [
    "cm.convert_logs_to_embeddings(f\"{DATA_DIR}/test_log1.out\")"
   ]
  },
  {
   "cell_type": "code",
   "execution_count": 13,
   "metadata": {},
   "outputs": [
    {
     "data": {
      "text/plain": [
       "([Document(page_content='Nov 09 13:15:16 CMX50070-101776 start_mrt.sh[27299]: [INFO] [2023-11-09T13:15:16,294+0000] [srss.verify_args:63]: sri_recall_log_lookup_location: /home/instrument/fw/log/2023-11-09T13-11-48Z/sfa/NetworkEmulation1/sri\\nNov 09 13:15:16 CMX50070-101776 start_mrt.sh[27299]: [INFO] [2023-11-09T13:15:16,294+0000] [srss.verify_args:69]: working_dir: /home/instrument/fw/log/2023-11-09T13-11-48Z/sfa/NetworkEmulation1/sri\\nNov 09 13:15:16 CMX50070-101776 start_mrt.sh[27299]: [INFO] [2023-11-09T13:15:16,294+0000] [srss.__init__:43]: SRSS version: 05.01.01\\nNov 09 13:15:16 CMX50070-101776 start_mrt.sh[27299]: [INFO] [2023-11-09T13:15:16,306+0000] [utilities.register_in_persistence_registry_service:215]: Successfully registered in PersistenceRegistryService\\nNov 09 13:15:16 CMX50070-101776 start_mrt.sh[27299]: [INFO] [2023-11-09T13:15:16,306+0000] [srss.__init__:51]: Service registered\\nNov 09 13:15:16 CMX50070-101776 start_mrt.sh[27255]: PyInstaller _MEI directory save_recall', metadata={'source': 'C:/Users/vishw/OneDrive/Desktop/Projects/daemon-dialoguers/Dataset/test_log1.out'}),\n",
       "  Document(page_content=\"Nov 09 13:15:10 CMX50070-101776 start_mrt.sh[27266]: 2023-11-09T13:15:10.287+00:00 [info     ] log_dir = /home/instrument/fw/log/2023-11-09T13-11-48Z/sfa/NetworkEmulation1/gwss [gwss.gwss_server.server_application]\\nNov 09 13:15:10 CMX50070-101776 start_mrt.sh[27266]: 2023-11-09T13:15:10.287+00:00 [info     ] server_mode = ServerMode.SECONDARY [gwss.gwss_server.server_application]\\nNov 09 13:15:10 CMX50070-101776 start_mrt.sh[27266]: 2023-11-09T13:15:10.288+00:00 [info     ] connection config: ConnectionConfig('127.0.0.1') [gwss.gwss_server.server_application]\\nNov 09 13:15:10 CMX50070-101776 start_mrt.sh[27266]: 2023-11-09T13:15:10.289+00:00 [info     ]   rpc_url: tcp://127.0.0.1:9013 [gwss.gwss_server.server_application]\\nNov 09 13:15:10 CMX50070-101776 start_mrt.sh[27266]: 2023-11-09T13:15:10.289+00:00 [info     ]   xpub_url: tcp://127.0.0.1:9012 [gwss.gwss_server.server_application]\", metadata={'source': 'C:/Users/vishw/OneDrive/Desktop/Projects/daemon-dialoguers/Dataset/test_log1.out'}),\n",
       "  Document(page_content=\"Nov 09 13:41:03 CMX50070-101776 start_mrt.sh[192092]: 2023-11-09T13:41:03.546+00:00 [info     ] log_dir = /home/instrument/fw/log/2023-11-09T13-11-48Z/sfa/NetworkEmulation2/gwss [gwss.gwss_server.server_application]\\nNov 09 13:41:03 CMX50070-101776 start_mrt.sh[192092]: 2023-11-09T13:41:03.546+00:00 [info     ] server_mode = ServerMode.SECONDARY [gwss.gwss_server.server_application]\\nNov 09 13:41:03 CMX50070-101776 start_mrt.sh[192092]: 2023-11-09T13:41:03.548+00:00 [info     ] connection config: ConnectionConfig('127.0.0.1') [gwss.gwss_server.server_application]\\nNov 09 13:41:03 CMX50070-101776 start_mrt.sh[192092]: 2023-11-09T13:41:03.549+00:00 [info     ]   rpc_url: tcp://127.0.0.1:9013 [gwss.gwss_server.server_application]\\nNov 09 13:41:03 CMX50070-101776 start_mrt.sh[192092]: 2023-11-09T13:41:03.553+00:00 [info     ]   xpub_url: tcp://127.0.0.1:9012 [gwss.gwss_server.server_application]\", metadata={'source': 'C:/Users/vishw/OneDrive/Desktop/Projects/daemon-dialoguers/Dataset/test_log1.out'}),\n",
       "  Document(page_content='Nov 09 13:15:16 CMX50070-101776 start_mrt.sh[27255]: [INFO] [2023-11-09T13:15:16,329+0000] [srsf.__init__:43]: SRSF version: 01.04.11\\nNov 09 13:15:16 CMX50070-101776 start_mrt.sh[27255]: [INFO] [2023-11-09T13:15:16,341+0000] [utilities.register_in_persistence_registry_service:215]: Successfully registered in PersistenceRegistryService\\nNov 09 13:15:16 CMX50070-101776 start_mrt.sh[27255]: [INFO] [2023-11-09T13:15:16,342+0000] [srsf.__init__:51]: Service registered\\nNov 09 13:15:16 CMX50070-101776 start_mrt.sh[27255]: [INFO] [2023-11-09T13:15:16,444+0000] [srsf_service_impl.CheckService:96]: SRSF is running\\nNov 09 13:15:16 CMX50070-101776 start_mrt.sh[27299]: [INFO] [2023-11-09T13:15:16,507+0000] [srss_service_impl.CheckService:97]: SRSS is running', metadata={'source': 'C:/Users/vishw/OneDrive/Desktop/Projects/daemon-dialoguers/Dataset/test_log1.out'}),\n",
       "  Document(page_content='Nov 10 05:49:09 CMX50070-101776 start_mrt.sh[2208744]: Type = ERROR_REPAIR\\nNov 10 05:49:09 CMX50070-101776 start_mrt.sh[2208744]: File Name = /home/integration_mmi/jenkins/workspace/mrt.base.fsw_release_5.0.60-ci/1cm_fsw_base_wm/fwa/rs.cmwbase.fsw/fswselfalignment/task_service.cpp\\nNov 10 05:49:09 CMX50070-101776 start_mrt.sh[2208744]: Line Number = 309\\nNov 10 05:49:09 CMX50070-101776 start_mrt.sh[2208744]: Current Version = 5.0.60.4\\nNov 10 05:49:09 CMX50070-101776 start_mrt.sh[2208744]: Additional Info = Expected files do not exist!\\nNov 10 05:49:09 CMX50070-101776 start_mrt.sh[2208744]: Hidden Comment = /home/instrument/fw/system/CorrdataWS/RFU300/RFUNIT_1222.1020.02_100131/CDV/SA/V6/CUR/tx_meta.csv\\nNov 10 05:49:09 CMX50070-101776 start_mrt.sh[2208744]: /home/instrument/fw/system/CorrdataWS/RFU300/RFUNIT_1222.1020.02_100131/CDV/SA/V6/CUR/rx_meta.csv\\nNov 10 05:49:09 CMX50070-101776 start_mrt.sh[2208744]: Logfiles of TraceManager in /home/instrument/fw/log/2023-11-09T13-11-48Z', metadata={'source': 'C:/Users/vishw/OneDrive/Desktop/Projects/daemon-dialoguers/Dataset/test_log1.out'}),\n",
       "  Document(page_content=\"Nov 09 13:41:09 CMX50070-101776 start_mrt.sh[192083]: [INFO] [2023-11-09T13:41:09,580+0000] [srsf.__init__:43]: SRSF version: 01.04.11\\nNov 09 13:41:09 CMX50070-101776 start_mrt.sh[192083]: [INFO] [2023-11-09T13:41:09,595+0000] [utilities.register_in_persistence_registry_service:215]: Successfully registered in PersistenceRegistryService\\nNov 09 13:41:09 CMX50070-101776 start_mrt.sh[192083]: [INFO] [2023-11-09T13:41:09,595+0000] [srsf.__init__:51]: Service registered\\nNov 09 13:41:09 CMX50070-101776 start_mrt.sh[192085]: PyInstaller _MEI directory save_recall\\nNov 09 13:41:09 CMX50070-101776 start_mrt.sh[192085]: Namespace(broker_ip='127.0.0.1', sri_recall_log_dir='/home/instrument/fw/log/2023-11-09T13-11-48Z/sfa/NetworkEmulation2/sri', verbose=False, no_base_registration=False, working_dir='/home/instrument/fw/log/2023-11-09T13-11-48Z/sfa/NetworkEmulation2/sri')\", metadata={'source': 'C:/Users/vishw/OneDrive/Desktop/Projects/daemon-dialoguers/Dataset/test_log1.out'}),\n",
       "  Document(page_content='Nov 10 05:49:09 CMX50070-101776 start_mrt.sh[2208743]:       <FileLine>396</FileLine>\\nNov 10 05:49:09 CMX50070-101776 start_mrt.sh[2208743]:       <FileTime>Wed Oct 25 12:00:18 2023</FileTime>\\nNov 10 05:49:09 CMX50070-101776 start_mrt.sh[2208743]:       <MethodName>UpdateFootprint</MethodName>\\nNov 10 05:49:09 CMX50070-101776 start_mrt.sh[2208743]:       <Thread>unknown thread name</Thread>\\nNov 10 05:49:09 CMX50070-101776 start_mrt.sh[2208743]:       <ErrorCode>No error. Some restrictions apply.</ErrorCode>\\nNov 10 05:49:09 CMX50070-101776 start_mrt.sh[2208743]:     </Error>\\nNov 10 05:49:09 CMX50070-101776 start_mrt.sh[2208743]:   </Errors>\\nNov 10 05:49:09 CMX50070-101776 start_mrt.sh[2208743]: </CompassErrorLog>\\nNov 10 05:49:09 CMX50070-101776 start_mrt.sh[2208744]: ## ----------------------------------------------------------------\\nNov 10 05:49:09 CMX50070-101776 start_mrt.sh[2208744]: Date and Time = 2023-11-09T13:13:39.524697091Z (UpTime=97.067, MRT-ST=121698856.524697091)', metadata={'source': 'C:/Users/vishw/OneDrive/Desktop/Projects/daemon-dialoguers/Dataset/test_log1.out'}),\n",
       "  Document(page_content=\"Nov 09 13:15:16 CMX50070-101776 start_mrt.sh[27299]: Generated .drift folder directory: /home/instrument/fw/log/2023-11-09T13-11-48Z/sfa/NetworkEmulation1/sri\\nNov 09 13:15:16 CMX50070-101776 start_mrt.sh[27299]: [INFO] [2023-11-09T13:15:16,727+0000] [utilities.replay_drifted:123]: replaying from the drifted folder\\nNov 09 13:15:17 CMX50070-101776 start_mrt.sh[27355]: ERROR: Caught exception while processing cell add/update '//mrt/0/testenvironment/0/signaling/0/sri/0/asservice/0/nrservice/0/cell/0': Cell //mrt/0/testenvironment/0/signaling/0/sri/0/asservice/0/nrservice/0/cell/0 is missing rach_config_common\\nNov 09 13:15:17 CMX50070-101776 start_mrt.sh[27299]: [INFO] [2023-11-09T13:15:17,827+0000] [utilities.replay_drifted:127]: Finished replaying the RPC calls\", metadata={'source': 'C:/Users/vishw/OneDrive/Desktop/Projects/daemon-dialoguers/Dataset/test_log1.out'}),\n",
       "  Document(page_content='Nov 10 01:22:34 CMX50070-101776 start-mrt.sysmond.sh[503330]: 2023-11-10T01:22:34,274958580+00:00 Compress log \"/home/instrument/fw/log/sysmond_main.1.nmon\"...\\nNov 10 01:22:34 CMX50070-101776 start-mrt.sysmond.sh[503332]: *** zstd command line interface 64-bits v1.5.2, by Yann Collet ***\\nNov 10 01:22:34 CMX50070-101776 start-mrt.sysmond.sh[503332]: [380B blob data]\\nNov 10 01:22:34 CMX50070-101776 start-mrt.sysmond.sh[503343]: 2023-11-10T01:22:34,464677883+00:00 Compression done\\nNov 10 01:22:34 CMX50070-101776 start-mrt.sysmond.sh[503359]: 2023-11-10T01:22:34,488875044+00:00 Compress log \"/home/instrument/fw/log/sysmond_processes.1.nmon\"...\\nNov 10 01:22:34 CMX50070-101776 start-mrt.sysmond.sh[503361]: *** zstd command line interface 64-bits v1.5.2, by Yann Collet ***\\nNov 10 01:22:34 CMX50070-101776 start-mrt.sysmond.sh[503361]: [305B blob data]\\nNov 10 01:22:34 CMX50070-101776 start-mrt.sysmond.sh[503365]: 2023-11-10T01:22:34,616338990+00:00 Compression done', metadata={'source': 'C:/Users/vishw/OneDrive/Desktop/Projects/daemon-dialoguers/Dataset/test_log1.out'}),\n",
       "  Document(page_content='Nov 09 13:41:09 CMX50070-101776 start_mrt.sh[192085]: [INFO] [2023-11-09T13:41:09,731+0000] [utilities.__init__:193]: Broker started as Slave\\nNov 09 13:41:09 CMX50070-101776 start_mrt.sh[192085]: [INFO] [2023-11-09T13:41:09,731+0000] [srss.verify_args:57]: Master broker address: 127.0.0.1\\nNov 09 13:41:09 CMX50070-101776 start_mrt.sh[192085]: [INFO] [2023-11-09T13:41:09,731+0000] [srss.verify_args:63]: sri_recall_log_lookup_location: /home/instrument/fw/log/2023-11-09T13-11-48Z/sfa/NetworkEmulation2/sri\\nNov 09 13:41:09 CMX50070-101776 start_mrt.sh[192085]: [INFO] [2023-11-09T13:41:09,731+0000] [srss.verify_args:69]: working_dir: /home/instrument/fw/log/2023-11-09T13-11-48Z/sfa/NetworkEmulation2/sri\\nNov 09 13:41:09 CMX50070-101776 start_mrt.sh[192085]: [INFO] [2023-11-09T13:41:09,731+0000] [srss.__init__:43]: SRSS version: 05.01.01', metadata={'source': 'C:/Users/vishw/OneDrive/Desktop/Projects/daemon-dialoguers/Dataset/test_log1.out'}),\n",
       "  Document(page_content=\"Nov 09 13:13:26 CMX50070-101776 start_mrt.sh[16216]: Created text event log '/home/instrument/fw/log/2023-11-09T13-11-48Z/sfa/eventlog_0.log'\\nNov 09 13:13:26 CMX50070-101776 start_mrt.sh[16216]: Registering service '//mrt/0/testenvironment/0/eventlog/0'...\\nNov 09 13:13:26 CMX50070-101776 start_mrt.sh[16216]: Registered service '//mrt/0/testenvironment/0/eventlog/0'\\nNov 09 13:13:26 CMX50070-101776 start_mrt.sh[16216]: EventLog successfully started\\nNov 09 13:13:26 CMX50070-101776 start_mrt.sh[16216]: Disabling logging to stdout...\\nNov 09 13:13:27 CMX50070-101776 start_mrt.sh[3219]: TSS: Detected change of CLOCK_REALTIME!\\nNov 09 13:13:27 CMX50070-101776 start_mrt.sh[3219]: TSS: Current leap-second count at 2023-11-09T13:13:27Z is 37\\nNov 09 13:13:27 CMX50070-101776 start_mrt.sh[3219]: TSS: CLOCK_TAI offset set to 37 seconds\\nNov 09 13:13:27 CMX50070-101776 start_mrt.sh[3219]: TSS: Created local MB wrapper on slot 1400\", metadata={'source': 'C:/Users/vishw/OneDrive/Desktop/Projects/daemon-dialoguers/Dataset/test_log1.out'}),\n",
       "  Document(page_content='Nov 09 16:14:29 CMX50070-101776 start-mrt.sysmond.sh[1181704]: 2023-11-09T16:14:29,489268648+00:00 Compress log \"/home/instrument/fw/log/sysmond_processes.1.nmon\"...\\nNov 09 16:14:29 CMX50070-101776 start-mrt.sysmond.sh[1181706]: *** zstd command line interface 64-bits v1.5.2, by Yann Collet ***\\nNov 09 16:14:29 CMX50070-101776 start-mrt.sysmond.sh[1181706]: [305B blob data]\\nNov 09 16:14:29 CMX50070-101776 start-mrt.sysmond.sh[1181710]: 2023-11-09T16:14:29,610252875+00:00 Compression done\\nNov 09 16:14:29 CMX50070-101776 start-mrt.sysmond.sh[1181714]: 2023-11-09T16:14:29,613494608+00:00 Rotation done\\nNov 09 16:14:29 CMX50070-101776 start-mrt.sysmond.sh[1181718]: 2023-11-09T16:14:29,615728785+00:00 Launching nmon...\\nNov 09 16:14:29 CMX50070-101776 start-mrt.sysmond.sh[1181729]: 2023-11-09T16:14:29,625572298+00:00 Launch done: PID is 1181725\\nNov 09 16:14:50 CMX50070-101776 mrt.pos.catrp3dr[1867]: info: RohdeSchwarz.Mrt.Microservices.PositioningCatrP3Dr.Positioning.PositioningServiceHost[0]', metadata={'source': 'C:/Users/vishw/OneDrive/Desktop/Projects/daemon-dialoguers/Dataset/test_log1.out'}),\n",
       "  Document(page_content='Nov 09 13:12:39 CMX50070-101776 start_mrt.sh[10234]: fpga version=0x3070007\\nNov 09 13:12:39 CMX50070-101776 start_mrt.sh[10235]: CCmgAccess(/dev/rohde-schwarz/cmg_300) ctor handle=3\\nNov 09 13:12:39 CMX50070-101776 start_mrt.sh[10235]: fpga version=0x3070007\\nNov 09 13:12:39 CMX50070-101776 start_mrt.sh[10236]: Write :/home/instrument/fw/log/2023-11-09T13-11-48Z/bbmpp_log_cmg_400_inst0.txt\\nNov 09 13:12:39 CMX50070-101776 start_mrt.sh[10235]: Write :/home/instrument/fw/log/2023-11-09T13-11-48Z/bbmpp_log_cmg_300_inst1.txt\\nNov 09 13:12:39 CMX50070-101776 start_mrt.sh[10234]: Write :/home/instrument/fw/log/2023-11-09T13-11-48Z/bbmpp_log_cmg_300_inst0.txt\\nNov 09 13:12:39 CMX50070-101776 start_mrt.sh[10232]: Write :/home/instrument/fw/log/2023-11-09T13-11-48Z/bbmpp_log_cmg_400_inst1.txt\\nNov 09 13:12:39 CMX50070-101776 start_mrt.sh[3219]: CCmgAccess(/dev/rohde-schwarz/cmg_400) ctor handle=538\\nNov 09 13:12:39 CMX50070-101776 start_mrt.sh[3219]: fpga version=0x3070007', metadata={'source': 'C:/Users/vishw/OneDrive/Desktop/Projects/daemon-dialoguers/Dataset/test_log1.out'}),\n",
       "  Document(page_content='Nov 09 19:17:08 CMX50070-101776 start-mrt.sysmond.sh[2352936]: 2023-11-09T19:17:08,557366079+00:00 Compress log \"/home/instrument/fw/log/sysmond_main.1.nmon\"...\\nNov 09 19:17:08 CMX50070-101776 start-mrt.sysmond.sh[2352938]: *** zstd command line interface 64-bits v1.5.2, by Yann Collet ***\\nNov 09 19:17:08 CMX50070-101776 start-mrt.sysmond.sh[2352938]: [295B blob data]\\nNov 09 19:17:08 CMX50070-101776 start-mrt.sysmond.sh[2352945]: 2023-11-09T19:17:08,718960566+00:00 Compression done\\nNov 09 19:17:08 CMX50070-101776 start-mrt.sysmond.sh[2352960]: 2023-11-09T19:17:08,743141334+00:00 Compress log \"/home/instrument/fw/log/sysmond_processes.1.nmon\"...\\nNov 09 19:17:08 CMX50070-101776 start-mrt.sysmond.sh[2352962]: *** zstd command line interface 64-bits v1.5.2, by Yann Collet ***\\nNov 09 19:17:08 CMX50070-101776 start-mrt.sysmond.sh[2352962]: [305B blob data]\\nNov 09 19:17:08 CMX50070-101776 start-mrt.sysmond.sh[2352966]: 2023-11-09T19:17:08,857930386+00:00 Compression done', metadata={'source': 'C:/Users/vishw/OneDrive/Desktop/Projects/daemon-dialoguers/Dataset/test_log1.out'}),\n",
       "  Document(page_content='Nov 09 22:19:48 CMX50070-101776 start-mrt.sysmond.sh[3523899]: 2023-11-09T22:19:48,981523352+00:00 Compress log \"/home/instrument/fw/log/sysmond_processes.1.nmon\"...\\nNov 09 22:19:48 CMX50070-101776 start-mrt.sysmond.sh[3523901]: *** zstd command line interface 64-bits v1.5.2, by Yann Collet ***\\nNov 09 22:19:49 CMX50070-101776 start-mrt.sysmond.sh[3523901]: [305B blob data]\\nNov 09 22:19:49 CMX50070-101776 start-mrt.sysmond.sh[3523905]: 2023-11-09T22:19:49,099110450+00:00 Compression done\\nNov 09 22:19:49 CMX50070-101776 start-mrt.sysmond.sh[3523909]: 2023-11-09T22:19:49,101141269+00:00 Rotation done\\nNov 09 22:19:49 CMX50070-101776 start-mrt.sysmond.sh[3523913]: 2023-11-09T22:19:49,102983017+00:00 Launching nmon...\\nNov 09 22:19:49 CMX50070-101776 start-mrt.sysmond.sh[3523924]: 2023-11-09T22:19:49,110938824+00:00 Launch done: PID is 3523920\\nNov 09 22:19:50 CMX50070-101776 mrt.pos.catrp3dr[1867]: info: RohdeSchwarz.Mrt.Microservices.PositioningCatrP3Dr.Positioning.PositioningServiceHost[0]', metadata={'source': 'C:/Users/vishw/OneDrive/Desktop/Projects/daemon-dialoguers/Dataset/test_log1.out'})],\n",
       " [0.6689145885857017,\n",
       "  0.656504786216457,\n",
       "  0.6547349136069391,\n",
       "  0.6544322149409338,\n",
       "  0.6539689367821021,\n",
       "  0.6537894333542942,\n",
       "  0.6526603192826874,\n",
       "  0.6509040601052385,\n",
       "  0.6485345221351074,\n",
       "  0.6468751796358092,\n",
       "  0.6463752969390458,\n",
       "  0.6458268821462221,\n",
       "  0.6453519714572014,\n",
       "  0.6453226372506378,\n",
       "  0.6443565050422225])"
      ]
     },
     "execution_count": 13,
     "metadata": {},
     "output_type": "execute_result"
    }
   ],
   "source": [
    "returns = cm.get_context(\"When was run sfa_mmi executed?\", f\"./chromadb/{md5hash}_large\")\n",
    "returns"
   ]
  },
  {
   "cell_type": "markdown",
   "metadata": {},
   "source": [
    "### ChatGPT test"
   ]
  },
  {
   "cell_type": "code",
   "execution_count": 110,
   "metadata": {},
   "outputs": [],
   "source": [
    "from langchain.embeddings import HuggingFaceEmbeddings, OpenAIEmbeddings\n",
    "from langchain.vectorstores import Chroma\n",
    "from langchain.document_loaders import TextLoader\n",
    "from langchain.text_splitter import RecursiveCharacterTextSplitter\n",
    "from langchain.chat_models import ChatOpenAI\n",
    "from langchain.chains import ConversationalRetrievalChain, RetrievalQAWithSourcesChain\n",
    "from langchain.memory import ConversationBufferMemory\n",
    "\n",
    "import os\n",
    "os.environ[\"OPENAI_API_KEY\"] = key['openai_api_key']"
   ]
  },
  {
   "cell_type": "code",
   "execution_count": 111,
   "metadata": {},
   "outputs": [],
   "source": [
    "memory = ConversationBufferMemory(memory_key='chat_history', return_messages=True, input_key='question', output_key='answer')"
   ]
  },
  {
   "cell_type": "code",
   "execution_count": 112,
   "metadata": {},
   "outputs": [],
   "source": [
    "md5hash = hashlib.md5(open(f\"{DATA_DIR}/test_log1.out\",'rb').read()).hexdigest()\n",
    "question = \"Can you give me a summary of the log file? Start with SUMMARY:\""
   ]
  },
  {
   "cell_type": "code",
   "execution_count": 113,
   "metadata": {},
   "outputs": [],
   "source": [
    "docs_small,conf_small = cm.get_context(question, f\"./chromadb/{md5hash}_small\")\n",
    "docs_large,conf_large = cm.get_context(question, f\"./chromadb/{md5hash}_large\")\n",
    "\n",
    "## Add both large and small to a single list and sort them by confidence\n",
    "docs = docs_small + docs_large\n",
    "conf = conf_small + conf_large\n",
    "\n",
    "df = pd.DataFrame({'docs':docs, 'conf':conf})\n",
    "df.sort_values(by='conf', ascending=False, inplace=True)\n",
    "df.reset_index(drop=True, inplace=True)\n",
    "\n",
    "# df\n",
    "\n"
   ]
  },
  {
   "cell_type": "code",
   "execution_count": 114,
   "metadata": {},
   "outputs": [
    {
     "data": {
      "text/plain": [
       "[Document(page_content='Nov 09 13:13:26 CMX50070-101776 start_mrt.sh[16216]:     TextLogMaxSize:                 1 MB\\nNov 09 13:13:26 CMX50070-101776 start_mrt.sh[16216]:     TextLogMaxNumFiles:             10\\nNov 09 13:13:26 CMX50070-101776 start_mrt.sh[16216]:     MaxNumEventsBacked:             1000', metadata={'source': 'C:/Users/vishw/OneDrive/Desktop/Projects/daemon-dialoguers/Dataset/test_log1.out'}),\n",
       " Document(page_content='Nov 09 19:17:08 CMX50070-101776 start-mrt.sysmond.sh[2352936]: 2023-11-09T19:17:08,557366079+00:00 Compress log \"/home/instrument/fw/log/sysmond_main.1.nmon\"...\\nNov 09 19:17:08 CMX50070-101776 start-mrt.sysmond.sh[2352938]: *** zstd command line interface 64-bits v1.5.2, by Yann Collet ***\\nNov 09 19:17:08 CMX50070-101776 start-mrt.sysmond.sh[2352938]: [295B blob data]\\nNov 09 19:17:08 CMX50070-101776 start-mrt.sysmond.sh[2352945]: 2023-11-09T19:17:08,718960566+00:00 Compression done\\nNov 09 19:17:08 CMX50070-101776 start-mrt.sysmond.sh[2352960]: 2023-11-09T19:17:08,743141334+00:00 Compress log \"/home/instrument/fw/log/sysmond_processes.1.nmon\"...\\nNov 09 19:17:08 CMX50070-101776 start-mrt.sysmond.sh[2352962]: *** zstd command line interface 64-bits v1.5.2, by Yann Collet ***\\nNov 09 19:17:08 CMX50070-101776 start-mrt.sysmond.sh[2352962]: [305B blob data]\\nNov 09 19:17:08 CMX50070-101776 start-mrt.sysmond.sh[2352966]: 2023-11-09T19:17:08,857930386+00:00 Compression done', metadata={'source': 'C:/Users/vishw/OneDrive/Desktop/Projects/daemon-dialoguers/Dataset/test_log1.out'}),\n",
       " Document(page_content='Nov 09 13:11:40 CMX50070-101776 start-mrt.sysmond.sh[1145]: 2023-11-09T13:11:40,169602836+00:00 SYSMOND_LOG_NAME= \"sysmond_main\"\\nNov 09 13:11:40 CMX50070-101776 start-mrt.sysmond.sh[1151]: 2023-11-09T13:11:40,173715969+00:00 SYSMOND_LOG_P_NAME= \"sysmond_processes\"', metadata={'source': 'C:/Users/vishw/OneDrive/Desktop/Projects/daemon-dialoguers/Dataset/test_log1.out'}),\n",
       " Document(page_content='Nov 10 01:22:34 CMX50070-101776 start-mrt.sysmond.sh[503330]: 2023-11-10T01:22:34,274958580+00:00 Compress log \"/home/instrument/fw/log/sysmond_main.1.nmon\"...\\nNov 10 01:22:34 CMX50070-101776 start-mrt.sysmond.sh[503332]: *** zstd command line interface 64-bits v1.5.2, by Yann Collet ***\\nNov 10 01:22:34 CMX50070-101776 start-mrt.sysmond.sh[503332]: [380B blob data]\\nNov 10 01:22:34 CMX50070-101776 start-mrt.sysmond.sh[503343]: 2023-11-10T01:22:34,464677883+00:00 Compression done\\nNov 10 01:22:34 CMX50070-101776 start-mrt.sysmond.sh[503359]: 2023-11-10T01:22:34,488875044+00:00 Compress log \"/home/instrument/fw/log/sysmond_processes.1.nmon\"...\\nNov 10 01:22:34 CMX50070-101776 start-mrt.sysmond.sh[503361]: *** zstd command line interface 64-bits v1.5.2, by Yann Collet ***\\nNov 10 01:22:34 CMX50070-101776 start-mrt.sysmond.sh[503361]: [305B blob data]\\nNov 10 01:22:34 CMX50070-101776 start-mrt.sysmond.sh[503365]: 2023-11-10T01:22:34,616338990+00:00 Compression done', metadata={'source': 'C:/Users/vishw/OneDrive/Desktop/Projects/daemon-dialoguers/Dataset/test_log1.out'}),\n",
       " Document(page_content='Nov 09 13:12:39 CMX50070-101776 start_mrt.sh[10234]: Write :/home/instrument/fw/log/2023-11-09T13-11-48Z/bbmpp_log_cmg_300_inst0.txt\\nNov 09 13:12:39 CMX50070-101776 start_mrt.sh[10232]: Write :/home/instrument/fw/log/2023-11-09T13-11-48Z/bbmpp_log_cmg_400_inst1.txt', metadata={'source': 'C:/Users/vishw/OneDrive/Desktop/Projects/daemon-dialoguers/Dataset/test_log1.out'}),\n",
       " Document(page_content='Nov 09 13:12:39 CMX50070-101776 start_mrt.sh[10236]: Write :/home/instrument/fw/log/2023-11-09T13-11-48Z/bbmpp_log_cmg_400_inst0.txt\\nNov 09 13:12:39 CMX50070-101776 start_mrt.sh[10235]: Write :/home/instrument/fw/log/2023-11-09T13-11-48Z/bbmpp_log_cmg_300_inst1.txt', metadata={'source': 'C:/Users/vishw/OneDrive/Desktop/Projects/daemon-dialoguers/Dataset/test_log1.out'}),\n",
       " Document(page_content=\"Nov 09 13:13:26 CMX50070-101776 start_mrt.sh[16216]: Creating text event log '/home/instrument/fw/log/2023-11-09T13-11-48Z/sfa/eventlog_0.log'...\\nNov 09 13:13:26 CMX50070-101776 start_mrt.sh[16216]: Created text event log '/home/instrument/fw/log/2023-11-09T13-11-48Z/sfa/eventlog_0.log'\", metadata={'source': 'C:/Users/vishw/OneDrive/Desktop/Projects/daemon-dialoguers/Dataset/test_log1.out'}),\n",
       " Document(page_content=\"Nov 09 13:13:26 CMX50070-101776 start_mrt.sh[16216]: Reading configuration from '/usr/lib/eventlog/eventlog.ini'...\\nNov 09 13:13:26 CMX50070-101776 start_mrt.sh[16216]: Read configuration from '/usr/lib/eventlog/eventlog.ini'\\nNov 09 13:13:26 CMX50070-101776 start_mrt.sh[16216]: App Configuration:\", metadata={'source': 'C:/Users/vishw/OneDrive/Desktop/Projects/daemon-dialoguers/Dataset/test_log1.out'}),\n",
       " Document(page_content='Nov 10 05:49:09 CMX50070-101776 start_mrt.sh[2208744]: /home/instrument/fw/system/CorrdataWS/RFU300/RFUNIT_1222.1020.02_100131/CDV/SA/V6/CUR/rx_meta.csv\\nNov 10 05:49:09 CMX50070-101776 start_mrt.sh[2208744]: Logfiles of TraceManager in /home/instrument/fw/log/2023-11-09T13-11-48Z', metadata={'source': 'C:/Users/vishw/OneDrive/Desktop/Projects/daemon-dialoguers/Dataset/test_log1.out'}),\n",
       " Document(page_content='Nov 09 13:11:40 CMX50070-101776 start-mrt.sysmond.sh[1255]: 2023-11-09T13:11:40,292691123+00:00 Compress log \"/home/instrument/fw/log/sysmond_main.1.nmon\"...\\nNov 09 13:11:40 CMX50070-101776 start-mrt.sysmond.sh[1258]: *** zstd command line interface 64-bits v1.5.2, by Yann Collet ***', metadata={'source': 'C:/Users/vishw/OneDrive/Desktop/Projects/daemon-dialoguers/Dataset/test_log1.out'}),\n",
       " Document(page_content='Nov 09 13:13:26 CMX50070-101776 start_mrt.sh[16216]:     TestEnvironmentInstance:        0\\nNov 09 13:13:26 CMX50070-101776 start_mrt.sh[16216]:     TextLogFolder:                  \"/home/instrument/fw/log/2023-11-09T13-11-48Z/sfa\"', metadata={'source': 'C:/Users/vishw/OneDrive/Desktop/Projects/daemon-dialoguers/Dataset/test_log1.out'}),\n",
       " Document(page_content='Nov 10 01:22:34 CMX50070-101776 start-mrt.sysmond.sh[503343]: 2023-11-10T01:22:34,464677883+00:00 Compression done\\nNov 10 01:22:34 CMX50070-101776 start-mrt.sysmond.sh[503359]: 2023-11-10T01:22:34,488875044+00:00 Compress log \"/home/instrument/fw/log/sysmond_processes.1.nmon\"...', metadata={'source': 'C:/Users/vishw/OneDrive/Desktop/Projects/daemon-dialoguers/Dataset/test_log1.out'}),\n",
       " Document(page_content='Nov 09 22:19:48 CMX50070-101776 start-mrt.sysmond.sh[3523883]: 2023-11-09T22:19:48,956534170+00:00 Compression done\\nNov 09 22:19:48 CMX50070-101776 start-mrt.sysmond.sh[3523899]: 2023-11-09T22:19:48,981523352+00:00 Compress log \"/home/instrument/fw/log/sysmond_processes.1.nmon\"...', metadata={'source': 'C:/Users/vishw/OneDrive/Desktop/Projects/daemon-dialoguers/Dataset/test_log1.out'}),\n",
       " Document(page_content='Nov 10 04:25:23 CMX50070-101776 start-mrt.sysmond.sh[1674528]: 2023-11-10T04:25:23,964659785+00:00 Compression done\\nNov 10 04:25:23 CMX50070-101776 start-mrt.sysmond.sh[1674544]: 2023-11-10T04:25:23,988526454+00:00 Compress log \"/home/instrument/fw/log/sysmond_processes.1.nmon\"...', metadata={'source': 'C:/Users/vishw/OneDrive/Desktop/Projects/daemon-dialoguers/Dataset/test_log1.out'}),\n",
       " Document(page_content='Nov 09 13:41:09 CMX50070-101776 start_mrt.sh[192083]: srsf.log location: /home/instrument/fw/log/2023-11-09T13-11-48Z/sfa/NetworkEmulation2/fri/srsf.log', metadata={'source': 'C:/Users/vishw/OneDrive/Desktop/Projects/daemon-dialoguers/Dataset/test_log1.out'}),\n",
       " Document(page_content='Nov 09 19:17:08 CMX50070-101776 start-mrt.sysmond.sh[2352945]: 2023-11-09T19:17:08,718960566+00:00 Compression done\\nNov 09 19:17:08 CMX50070-101776 start-mrt.sysmond.sh[2352960]: 2023-11-09T19:17:08,743141334+00:00 Compress log \"/home/instrument/fw/log/sysmond_processes.1.nmon\"...', metadata={'source': 'C:/Users/vishw/OneDrive/Desktop/Projects/daemon-dialoguers/Dataset/test_log1.out'}),\n",
       " Document(page_content='Nov 09 16:14:29 CMX50070-101776 start-mrt.sysmond.sh[1181688]: 2023-11-09T16:14:29,462908396+00:00 Compression done\\nNov 09 16:14:29 CMX50070-101776 start-mrt.sysmond.sh[1181704]: 2023-11-09T16:14:29,489268648+00:00 Compress log \"/home/instrument/fw/log/sysmond_processes.1.nmon\"...', metadata={'source': 'C:/Users/vishw/OneDrive/Desktop/Projects/daemon-dialoguers/Dataset/test_log1.out'}),\n",
       " Document(page_content='Nov 09 13:13:26 CMX50070-101776 start_mrt.sh[16216]:     TestEnvironmentInstance:        0\\nNov 09 13:13:26 CMX50070-101776 start_mrt.sh[16216]:     TextLogFolder:                  \"/home/instrument/fw/log/2023-11-09T13-11-48Z/sfa\"\\nNov 09 13:13:26 CMX50070-101776 start_mrt.sh[16216]:     TextLogMaxSize:                 1 MB\\nNov 09 13:13:26 CMX50070-101776 start_mrt.sh[16216]:     TextLogMaxNumFiles:             10\\nNov 09 13:13:26 CMX50070-101776 start_mrt.sh[16216]:     MaxNumEventsBacked:             1000\\nNov 09 13:13:26 CMX50070-101776 start_mrt.sh[16216]:     ParentPID:                      3219\\nNov 09 13:13:26 CMX50070-101776 start_mrt.sh[16216]:     LogToStdout:                    false\\nNov 09 13:13:26 CMX50070-101776 start_mrt.sh[16216]:     ZmqBrokerMode:                  Secondary\\nNov 09 13:13:26 CMX50070-101776 start_mrt.sh[16216]:     RpcBrokerTransport:             tcp://*:9013', metadata={'source': 'C:/Users/vishw/OneDrive/Desktop/Projects/daemon-dialoguers/Dataset/test_log1.out'}),\n",
       " Document(page_content='Nov 09 13:11:40 CMX50070-101776 start-mrt.sysmond.sh[1092]: 2023-11-09T13:11:40,121214412+00:00 SYSMOND_LOG_CADENCE= \"1\"\\nNov 09 13:11:40 CMX50070-101776 start-mrt.sysmond.sh[1107]: 2023-11-09T13:11:40,130751853+00:00 SYSMOND_LOG_ROTATION= \"10800\"\\nNov 09 13:11:40 CMX50070-101776 start-mrt.sysmond.sh[1111]: 2023-11-09T13:11:40,134711718+00:00 SYSMOND_LOAD_IGNORE= \"5\"\\nNov 09 13:11:40 CMX50070-101776 start-mrt.sysmond.sh[1119]: 2023-11-09T13:11:40,138923877+00:00 SYSMOND_WATCH_FOR= \"-A\"\\nNov 09 13:11:40 CMX50070-101776 start-mrt.sysmond.sh[1122]: 2023-11-09T13:11:40,144933997+00:00 SYSMOND_SNAP_NUMBER= \"\"\\nNov 09 13:11:40 CMX50070-101776 Xserver[1080]: The XKEYBOARD keymap compiler (xkbcomp) reports:\\nNov 09 13:11:40 CMX50070-101776 Xserver[1080]: > Warning:          Could not resolve keysym XF86EmojiPicker\\nNov 09 13:11:40 CMX50070-101776 start-mrt.sysmond.sh[1129]: 2023-11-09T13:11:40,148557479+00:00 SYSMOND_LOG_PATH= \"/home/instrument/fw/log\"', metadata={'source': 'C:/Users/vishw/OneDrive/Desktop/Projects/daemon-dialoguers/Dataset/test_log1.out'}),\n",
       " Document(page_content='Nov 09 16:14:29 CMX50070-101776 start-mrt.sysmond.sh[1181704]: 2023-11-09T16:14:29,489268648+00:00 Compress log \"/home/instrument/fw/log/sysmond_processes.1.nmon\"...\\nNov 09 16:14:29 CMX50070-101776 start-mrt.sysmond.sh[1181706]: *** zstd command line interface 64-bits v1.5.2, by Yann Collet ***\\nNov 09 16:14:29 CMX50070-101776 start-mrt.sysmond.sh[1181706]: [305B blob data]\\nNov 09 16:14:29 CMX50070-101776 start-mrt.sysmond.sh[1181710]: 2023-11-09T16:14:29,610252875+00:00 Compression done\\nNov 09 16:14:29 CMX50070-101776 start-mrt.sysmond.sh[1181714]: 2023-11-09T16:14:29,613494608+00:00 Rotation done\\nNov 09 16:14:29 CMX50070-101776 start-mrt.sysmond.sh[1181718]: 2023-11-09T16:14:29,615728785+00:00 Launching nmon...\\nNov 09 16:14:29 CMX50070-101776 start-mrt.sysmond.sh[1181729]: 2023-11-09T16:14:29,625572298+00:00 Launch done: PID is 1181725\\nNov 09 16:14:50 CMX50070-101776 mrt.pos.catrp3dr[1867]: info: RohdeSchwarz.Mrt.Microservices.PositioningCatrP3Dr.Positioning.PositioningServiceHost[0]', metadata={'source': 'C:/Users/vishw/OneDrive/Desktop/Projects/daemon-dialoguers/Dataset/test_log1.out'}),\n",
       " Document(page_content='Nov 09 13:15:08 CMX50070-101776 start_mrt.sh[27337]: Press CTRL+C to shutdown\\nNov 09 13:15:10 CMX50070-101776 start_mrt.sh[27266]: 2023-11-09T13:15:10.121+00:00 [info     ] write text log to /home/instrument/fw/log/2023-11-09T13-11-48Z/sfa/NetworkEmulation1/gwss/gwss.log [gwss.gwss_server._logging_configuration] filename=/home/instrument/fw/log/2023-11-09T13-11-48Z/sfa/NetworkEmulation1/gwss/gwss.log type=text\\nNov 09 13:15:10 CMX50070-101776 start_mrt.sh[27266]: 2023-11-09T13:15:10.121+00:00 [info     ] write json log to /home/instrument/fw/log/2023-11-09T13-11-48Z/sfa/NetworkEmulation1/gwss/gwss.log.json [gwss.gwss_server._logging_configuration] filename=/home/instrument/fw/log/2023-11-09T13-11-48Z/sfa/NetworkEmulation1/gwss/gwss.log.json type=json\\nNov 09 13:15:10 CMX50070-101776 start_mrt.sh[27266]: 2023-11-09T13:15:10.286+00:00 [info     ] pid = 27266                    [gwss.gwss_server.server_application]', metadata={'source': 'C:/Users/vishw/OneDrive/Desktop/Projects/daemon-dialoguers/Dataset/test_log1.out'}),\n",
       " Document(page_content='Nov 09 22:19:48 CMX50070-101776 start-mrt.sysmond.sh[3523899]: 2023-11-09T22:19:48,981523352+00:00 Compress log \"/home/instrument/fw/log/sysmond_processes.1.nmon\"...\\nNov 09 22:19:48 CMX50070-101776 start-mrt.sysmond.sh[3523901]: *** zstd command line interface 64-bits v1.5.2, by Yann Collet ***\\nNov 09 22:19:49 CMX50070-101776 start-mrt.sysmond.sh[3523901]: [305B blob data]\\nNov 09 22:19:49 CMX50070-101776 start-mrt.sysmond.sh[3523905]: 2023-11-09T22:19:49,099110450+00:00 Compression done\\nNov 09 22:19:49 CMX50070-101776 start-mrt.sysmond.sh[3523909]: 2023-11-09T22:19:49,101141269+00:00 Rotation done\\nNov 09 22:19:49 CMX50070-101776 start-mrt.sysmond.sh[3523913]: 2023-11-09T22:19:49,102983017+00:00 Launching nmon...\\nNov 09 22:19:49 CMX50070-101776 start-mrt.sysmond.sh[3523924]: 2023-11-09T22:19:49,110938824+00:00 Launch done: PID is 3523920\\nNov 09 22:19:50 CMX50070-101776 mrt.pos.catrp3dr[1867]: info: RohdeSchwarz.Mrt.Microservices.PositioningCatrP3Dr.Positioning.PositioningServiceHost[0]', metadata={'source': 'C:/Users/vishw/OneDrive/Desktop/Projects/daemon-dialoguers/Dataset/test_log1.out'}),\n",
       " Document(page_content='Nov 09 13:11:40 CMX50070-101776 start-mrt.sysmond.sh[1188]: 2023-11-09T13:11:40,209608330+00:00 COMPRESSION_FN= \"/usr/bin/zstd -v -f -5 --rm\"\\nNov 09 13:11:40 CMX50070-101776 kernel: usb 3-2.2.6.2.6.1: new full-speed USB device number 28 using xhci_hcd\\nNov 09 13:11:40 CMX50070-101776 start-mrt.sysmond.sh[1196]: 2023-11-09T13:11:40,222995439+00:00 Installed signal handlers, about to start nmon...\\nNov 09 13:11:40 CMX50070-101776 start-mrt.sysmond.sh[1207]: 2023-11-09T13:11:40,237492625+00:00 Rotate logs...\\nNov 09 13:11:40 CMX50070-101776 Xserver[1202]: D-BUS per-session daemon address is: unix:abstract=/tmp/dbus-3n37fP5icx,guid=4dcb6a11746e7e0a4d1f3f6b654cda8c\\nNov 09 13:11:40 CMX50070-101776 start-mrt.sysmond.sh[1255]: 2023-11-09T13:11:40,292691123+00:00 Compress log \"/home/instrument/fw/log/sysmond_main.1.nmon\"...\\nNov 09 13:11:40 CMX50070-101776 start-mrt.sysmond.sh[1258]: *** zstd command line interface 64-bits v1.5.2, by Yann Collet ***', metadata={'source': 'C:/Users/vishw/OneDrive/Desktop/Projects/daemon-dialoguers/Dataset/test_log1.out'}),\n",
       " Document(page_content='Nov 10 04:25:23 CMX50070-101776 start-mrt.sysmond.sh[1674524]: *** zstd command line interface 64-bits v1.5.2, by Yann Collet ***\\nNov 10 04:25:23 CMX50070-101776 start-mrt.sysmond.sh[1674524]: [295B blob data]\\nNov 10 04:25:23 CMX50070-101776 start-mrt.sysmond.sh[1674528]: 2023-11-10T04:25:23,964659785+00:00 Compression done\\nNov 10 04:25:23 CMX50070-101776 start-mrt.sysmond.sh[1674544]: 2023-11-10T04:25:23,988526454+00:00 Compress log \"/home/instrument/fw/log/sysmond_processes.1.nmon\"...\\nNov 10 04:25:23 CMX50070-101776 start-mrt.sysmond.sh[1674546]: *** zstd command line interface 64-bits v1.5.2, by Yann Collet ***\\nNov 10 04:25:24 CMX50070-101776 start-mrt.sysmond.sh[1674546]: [305B blob data]\\nNov 10 04:25:24 CMX50070-101776 start-mrt.sysmond.sh[1674550]: 2023-11-10T04:25:24,107722527+00:00 Compression done\\nNov 10 04:25:24 CMX50070-101776 start-mrt.sysmond.sh[1674554]: 2023-11-10T04:25:24,110109517+00:00 Rotation done', metadata={'source': 'C:/Users/vishw/OneDrive/Desktop/Projects/daemon-dialoguers/Dataset/test_log1.out'}),\n",
       " Document(page_content='Nov 09 13:41:03 CMX50070-101776 start_mrt.sh[192108]: Press CTRL+C to shutdown\\nNov 09 13:41:03 CMX50070-101776 start_mrt.sh[192092]: 2023-11-09T13:41:03.475+00:00 [info     ] write text log to /home/instrument/fw/log/2023-11-09T13-11-48Z/sfa/NetworkEmulation2/gwss/gwss.log [gwss.gwss_server._logging_configuration] filename=/home/instrument/fw/log/2023-11-09T13-11-48Z/sfa/NetworkEmulation2/gwss/gwss.log type=text\\nNov 09 13:41:03 CMX50070-101776 start_mrt.sh[192092]: 2023-11-09T13:41:03.476+00:00 [info     ] write json log to /home/instrument/fw/log/2023-11-09T13-11-48Z/sfa/NetworkEmulation2/gwss/gwss.log.json [gwss.gwss_server._logging_configuration] filename=/home/instrument/fw/log/2023-11-09T13-11-48Z/sfa/NetworkEmulation2/gwss/gwss.log.json type=json\\nNov 09 13:41:03 CMX50070-101776 start_mrt.sh[192092]: 2023-11-09T13:41:03.545+00:00 [info     ] pid = 192092                   [gwss.gwss_server.server_application]', metadata={'source': 'C:/Users/vishw/OneDrive/Desktop/Projects/daemon-dialoguers/Dataset/test_log1.out'}),\n",
       " Document(page_content='Nov 09 13:41:01 CMX50070-101776 start_mrt.sh[191943]: <?xml version = \"1.0\" encoding = \"UTF-8\"?> <config version = \"2\"> <section v = \"RatRqm\"> <message> <NAME v = \"fast::GeneralCfg\" /> <ownIpAddress v = \"172.22.254.245\" /> <useLocalMaiss v = \"no\" /> <maissIpAddress v = \"172.22.254.245\" /> <basePort v = \"12345\" /> <coreAffinity> <e> <core v = \"0\" /> <tasks> <e> <name v = \"RatRqm-task\" /> <prio v = \"0\" /> </e> <e> <name v = \"RatXCs-task\" /> <prio v = \"0\" /> </e> <e> <name v = \"iss-task\" /> <prio v = \"0\" /> <queueSize v=\"4096\"/> </e> <e> <name v = \"*\" /> <prio v = \"0\" /> </e> </tasks> </e> </coreAffinity> <!--text log configuration--> <textLogConfig> <e> <logger v = \"log\" /> <level v = \"debug\" /> </e> <e> <logger v = \"log.fast.core\" /> <level v = \"debug\" /> </e> <e> <logger v = \"log.fast.core.msg\" /> <level v = \"debug\" /> </e> <e> <logger v = \"log.fast.core.iss\" /> <level v = \"debug\" /> </e> <e> <logger v = \"log.fast.core.shutdown\" /> <level v = \"debug\" /> </e> <e> <logger v =', metadata={'source': 'C:/Users/vishw/OneDrive/Desktop/Projects/daemon-dialoguers/Dataset/test_log1.out'}),\n",
       " Document(page_content=\"Nov 09 13:13:26 CMX50070-101776 start_mrt.sh[16216]: Created text event log '/home/instrument/fw/log/2023-11-09T13-11-48Z/sfa/eventlog_0.log'\\nNov 09 13:13:26 CMX50070-101776 start_mrt.sh[16216]: Registering service '//mrt/0/testenvironment/0/eventlog/0'...\\nNov 09 13:13:26 CMX50070-101776 start_mrt.sh[16216]: Registered service '//mrt/0/testenvironment/0/eventlog/0'\\nNov 09 13:13:26 CMX50070-101776 start_mrt.sh[16216]: EventLog successfully started\\nNov 09 13:13:26 CMX50070-101776 start_mrt.sh[16216]: Disabling logging to stdout...\\nNov 09 13:13:27 CMX50070-101776 start_mrt.sh[3219]: TSS: Detected change of CLOCK_REALTIME!\\nNov 09 13:13:27 CMX50070-101776 start_mrt.sh[3219]: TSS: Current leap-second count at 2023-11-09T13:13:27Z is 37\\nNov 09 13:13:27 CMX50070-101776 start_mrt.sh[3219]: TSS: CLOCK_TAI offset set to 37 seconds\\nNov 09 13:13:27 CMX50070-101776 start_mrt.sh[3219]: TSS: Created local MB wrapper on slot 1400\", metadata={'source': 'C:/Users/vishw/OneDrive/Desktop/Projects/daemon-dialoguers/Dataset/test_log1.out'}),\n",
       " Document(page_content='Nov 09 13:15:14 CMX50070-101776 kernel: audit: type=1300 audit(1699535714.744:167): arch=c000003e syscall=1 success=yes exit=1 a0=7 a1=7ffc41deeb50 a2=1 a3=0 items=0 ppid=1 pid=27993 auid=0 uid=0 gid=0 euid=0 suid=0 fsuid=0 egid=0 sgid=0 fsgid=0 tty=(none) ses=5 comm=\"sshd\" exe=\"/usr/sbin/sshd\" key=(null)\\nNov 09 13:15:14 CMX50070-101776 kernel: audit: type=1327 audit(1699535714.744:167): proctitle=737368643A20726F6F74205B707269765D\\nNov 09 13:15:16 CMX50070-101776 start_mrt.sh[27299]: PyInstaller _MEI directory save_recall\\nNov 09 13:15:16 CMX50070-101776 start_mrt.sh[27299]: Namespace(broker_ip=\\'127.0.0.1\\', sri_recall_log_dir=\\'/home/instrument/fw/log/2023-11-09T13-11-48Z/sfa/NetworkEmulation1/sri\\', verbose=False, no_base_registration=False, working_dir=\\'/home/instrument/fw/log/2023-11-09T13-11-48Z/sfa/NetworkEmulation1/sri\\')\\nNov 09 13:15:16 CMX50070-101776 start_mrt.sh[27299]: srss.log location: /home/instrument/fw/log/2023-11-09T13-11-48Z/sfa/NetworkEmulation1/sri/srss.log', metadata={'source': 'C:/Users/vishw/OneDrive/Desktop/Projects/daemon-dialoguers/Dataset/test_log1.out'}),\n",
       " Document(page_content='Nov 09 13:15:06 CMX50070-101776 start_mrt.sh[27189]: <?xml version = \"1.0\" encoding = \"UTF-8\"?> <config version = \"2\"> <section v = \"RatRqm\"> <message> <NAME v = \"fast::GeneralCfg\" /> <ownIpAddress v = \"172.22.254.245\" /> <useLocalMaiss v = \"no\" /> <maissIpAddress v = \"172.22.254.245\" /> <basePort v = \"12345\" /> <coreAffinity> <e> <core v = \"0\" /> <tasks> <e> <name v = \"RatRqm-task\" /> <prio v = \"0\" /> </e> <e> <name v = \"RatXCs-task\" /> <prio v = \"0\" /> </e> <e> <name v = \"iss-task\" /> <prio v = \"0\" /> <queueSize v=\"4096\"/> </e> <e> <name v = \"*\" /> <prio v = \"0\" /> </e> </tasks> </e> </coreAffinity> <!--text log configuration--> <textLogConfig> <e> <logger v = \"log\" /> <level v = \"debug\" /> </e> <e> <logger v = \"log.fast.core\" /> <level v = \"debug\" /> </e> <e> <logger v = \"log.fast.core.msg\" /> <level v = \"debug\" /> </e> <e> <logger v = \"log.fast.core.iss\" /> <level v = \"debug\" /> </e> <e> <logger v = \"log.fast.core.shutdown\" /> <level v = \"debug\" /> </e> <e> <logger v =', metadata={'source': 'C:/Users/vishw/OneDrive/Desktop/Projects/daemon-dialoguers/Dataset/test_log1.out'}),\n",
       " Document(page_content=\"Nov 09 13:15:10 CMX50070-101776 start_mrt.sh[27266]: 2023-11-09T13:15:10.287+00:00 [info     ] log_dir = /home/instrument/fw/log/2023-11-09T13-11-48Z/sfa/NetworkEmulation1/gwss [gwss.gwss_server.server_application]\\nNov 09 13:15:10 CMX50070-101776 start_mrt.sh[27266]: 2023-11-09T13:15:10.287+00:00 [info     ] server_mode = ServerMode.SECONDARY [gwss.gwss_server.server_application]\\nNov 09 13:15:10 CMX50070-101776 start_mrt.sh[27266]: 2023-11-09T13:15:10.288+00:00 [info     ] connection config: ConnectionConfig('127.0.0.1') [gwss.gwss_server.server_application]\\nNov 09 13:15:10 CMX50070-101776 start_mrt.sh[27266]: 2023-11-09T13:15:10.289+00:00 [info     ]   rpc_url: tcp://127.0.0.1:9013 [gwss.gwss_server.server_application]\\nNov 09 13:15:10 CMX50070-101776 start_mrt.sh[27266]: 2023-11-09T13:15:10.289+00:00 [info     ]   xpub_url: tcp://127.0.0.1:9012 [gwss.gwss_server.server_application]\", metadata={'source': 'C:/Users/vishw/OneDrive/Desktop/Projects/daemon-dialoguers/Dataset/test_log1.out'})]"
      ]
     },
     "execution_count": 114,
     "metadata": {},
     "output_type": "execute_result"
    }
   ],
   "source": [
    "list(df['docs'].values)"
   ]
  },
  {
   "cell_type": "code",
   "execution_count": 115,
   "metadata": {},
   "outputs": [],
   "source": [
    "embedding = OpenAIEmbeddings(\n",
    "openai_organization=key['openai_organization'],\n",
    "openai_api_key = key['openai_api_key'],\n",
    "model=\"text-embedding-ada-002\",\n",
    "max_retries=10,\n",
    ")\n",
    "\n",
    "vectorstore_relevant = Chroma.from_documents(list(df['docs'].values), embedding=embedding)"
   ]
  },
  {
   "cell_type": "code",
   "execution_count": 116,
   "metadata": {},
   "outputs": [],
   "source": [
    "llm = ChatOpenAI(\n",
    "openai_organization=\"org-kfsNXpcw90CoawqSyD7Mw4CD\",\n",
    "model=\"gpt-4\",\n",
    ")"
   ]
  },
  {
   "cell_type": "code",
   "execution_count": 117,
   "metadata": {},
   "outputs": [],
   "source": [
    "retriver = vectorstore_relevant.as_retriever()\n",
    "chat = RetrievalQAWithSourcesChain.from_llm(llm, retriever=retriver, memory=memory, return_source_documents=True)"
   ]
  },
  {
   "cell_type": "code",
   "execution_count": 118,
   "metadata": {},
   "outputs": [
    {
     "data": {
      "text/plain": [
       "{'question': 'Can you give me a summary of the log file? Start with SUMMARY:',\n",
       " 'chat_history': [HumanMessage(content='Can you give me a summary of the log file? Start with SUMMARY:'),\n",
       "  AIMessage(content='SUMMARY: The log file details the start of the start-mrt.sysmond.sh script on the system CMX50070-101776. It begins with the compression of the log file \"/home/instrument/fw/log/sysmond_main.1.nmon\" using the zstd command line interface 64-bits v1.5.2. It then compresses another log file \"/home/instrument/fw/log/sysmond_processes.1.nmon\" with the same command line interface. Both compressions are completed. The log file also indicates that the maximum size for a text log is 1 MB, the maximum number of text log files is 10, and the maximum number of events that can be backed is 1000.\\n')],\n",
       " 'answer': 'SUMMARY: The log file details the start of the start-mrt.sysmond.sh script on the system CMX50070-101776. It begins with the compression of the log file \"/home/instrument/fw/log/sysmond_main.1.nmon\" using the zstd command line interface 64-bits v1.5.2. It then compresses another log file \"/home/instrument/fw/log/sysmond_processes.1.nmon\" with the same command line interface. Both compressions are completed. The log file also indicates that the maximum size for a text log is 1 MB, the maximum number of text log files is 10, and the maximum number of events that can be backed is 1000.\\n',\n",
       " 'sources': 'C:/Users/vishw/OneDrive/Desktop/Projects/daemon-dialoguers/Dataset/test_log1.out',\n",
       " 'source_documents': [Document(page_content='Nov 09 13:13:26 CMX50070-101776 start_mrt.sh[16216]:     TextLogMaxSize:                 1 MB\\nNov 09 13:13:26 CMX50070-101776 start_mrt.sh[16216]:     TextLogMaxNumFiles:             10\\nNov 09 13:13:26 CMX50070-101776 start_mrt.sh[16216]:     MaxNumEventsBacked:             1000', metadata={'source': 'C:/Users/vishw/OneDrive/Desktop/Projects/daemon-dialoguers/Dataset/test_log1.out'}),\n",
       "  Document(page_content='Nov 09 13:13:26 CMX50070-101776 start_mrt.sh[16216]:     TextLogMaxSize:                 1 MB\\nNov 09 13:13:26 CMX50070-101776 start_mrt.sh[16216]:     TextLogMaxNumFiles:             10\\nNov 09 13:13:26 CMX50070-101776 start_mrt.sh[16216]:     MaxNumEventsBacked:             1000', metadata={'source': 'C:/Users/vishw/OneDrive/Desktop/Projects/daemon-dialoguers/Dataset/test_log1.out'}),\n",
       "  Document(page_content='Nov 09 13:13:26 CMX50070-101776 start_mrt.sh[16216]:     TextLogMaxSize:                 1 MB\\nNov 09 13:13:26 CMX50070-101776 start_mrt.sh[16216]:     TextLogMaxNumFiles:             10\\nNov 09 13:13:26 CMX50070-101776 start_mrt.sh[16216]:     MaxNumEventsBacked:             1000', metadata={'source': 'C:/Users/vishw/OneDrive/Desktop/Projects/daemon-dialoguers/Dataset/test_log1.out'}),\n",
       "  Document(page_content='Nov 09 19:17:08 CMX50070-101776 start-mrt.sysmond.sh[2352936]: 2023-11-09T19:17:08,557366079+00:00 Compress log \"/home/instrument/fw/log/sysmond_main.1.nmon\"...\\nNov 09 19:17:08 CMX50070-101776 start-mrt.sysmond.sh[2352938]: *** zstd command line interface 64-bits v1.5.2, by Yann Collet ***\\nNov 09 19:17:08 CMX50070-101776 start-mrt.sysmond.sh[2352938]: [295B blob data]\\nNov 09 19:17:08 CMX50070-101776 start-mrt.sysmond.sh[2352945]: 2023-11-09T19:17:08,718960566+00:00 Compression done\\nNov 09 19:17:08 CMX50070-101776 start-mrt.sysmond.sh[2352960]: 2023-11-09T19:17:08,743141334+00:00 Compress log \"/home/instrument/fw/log/sysmond_processes.1.nmon\"...\\nNov 09 19:17:08 CMX50070-101776 start-mrt.sysmond.sh[2352962]: *** zstd command line interface 64-bits v1.5.2, by Yann Collet ***\\nNov 09 19:17:08 CMX50070-101776 start-mrt.sysmond.sh[2352962]: [305B blob data]\\nNov 09 19:17:08 CMX50070-101776 start-mrt.sysmond.sh[2352966]: 2023-11-09T19:17:08,857930386+00:00 Compression done', metadata={'source': 'C:/Users/vishw/OneDrive/Desktop/Projects/daemon-dialoguers/Dataset/test_log1.out'})]}"
      ]
     },
     "execution_count": 118,
     "metadata": {},
     "output_type": "execute_result"
    }
   ],
   "source": [
    "result = chat({\"question\": question})\n",
    "result"
   ]
  },
  {
   "cell_type": "markdown",
   "metadata": {},
   "source": [
    "### Summarization Test"
   ]
  },
  {
   "cell_type": "code",
   "execution_count": 56,
   "metadata": {},
   "outputs": [],
   "source": [
    "embedding = OpenAIEmbeddings(\n",
    "openai_organization=key['openai_organization'],\n",
    "openai_api_key = key['openai_api_key'],\n",
    "model=\"text-embedding-ada-002\",\n",
    "max_retries=10,\n",
    ")\n",
    "\n",
    "# Loading the datastore\n",
    "vector_db = Chroma(persist_directory=f\"./chromadb/{md5hash}_large\", embedding_function=embedding)\n",
    "retriver = vector_db.as_retriever()"
   ]
  },
  {
   "cell_type": "code",
   "execution_count": 57,
   "metadata": {},
   "outputs": [],
   "source": [
    "llm = ChatOpenAI(\n",
    "openai_organization=\"org-kfsNXpcw90CoawqSyD7Mw4CD\",\n",
    "model=\"gpt-4\",\n",
    ")\n",
    "\n",
    "chat = RetrievalQAWithSourcesChain.from_llm(llm, retriever=retriver, memory=memory, return_source_documents=True)"
   ]
  },
  {
   "cell_type": "code",
   "execution_count": 58,
   "metadata": {},
   "outputs": [
    {
     "data": {
      "text/plain": [
       "{'question': 'Give me a long summary of the document. Start with SUMMARY:',\n",
       " 'chat_history': [HumanMessage(content='Give me a long summary of the document. Start with SUMMARY:'),\n",
       "  AIMessage(content='SUMMARY: The document does not provide enough information to generate a long summary.\\n')],\n",
       " 'answer': 'SUMMARY: The document does not provide enough information to generate a long summary.\\n',\n",
       " 'sources': 'C:/Users/vishw/OneDrive/Desktop/Projects/daemon-dialoguers/Dataset/test_log1.out',\n",
       " 'source_documents': [Document(page_content='Nov 10 05:49:10 CMX50070-101776 audit: PROCTITLE proctitle=2F7573722F7362696E2F69707461626C6573002D2D77616974002D740066696C746572002D4400444F434B45520000002D690062722D653937343130663832613539002D6F0062722D653937343130663832613539002D7000746370002D64003130302E38322E36342E313330002D2D64706F72740034393935002D6A004143\\nNov 10 05:49:10 CMX50070-101776 audit[2208785]: NETFILTER_CFG table=nat family=2 entries=18 op=xt_replace pid=2208785 comm=\"iptables\"\\nNov 10 05:49:10 CMX50070-101776 audit[2208785]: SYSCALL arch=c000003e syscall=54 success=yes exit=0 a0=4 a1=0 a2=40 a3=55f405217920 items=0 ppid=1853 pid=2208785 auid=4294967295 uid=0 gid=0 euid=0 suid=0 fsuid=0 egid=0 sgid=0 fsgid=0 tty=(none) ses=4294967295 comm=\"iptables\" exe=\"/usr/sbin/xtables-legacy-multi\" key=(null)', metadata={'source': 'C:/Users/vishw/OneDrive/Desktop/Projects/daemon-dialoguers/Dataset/test_log1.out'}),\n",
       "  Document(page_content='Nov 10 05:49:10 CMX50070-101776 audit: PROCTITLE proctitle=2F7573722F7362696E2F69707461626C6573002D2D77616974002D740066696C746572002D4400444F434B45520000002D690062722D653937343130663832613539002D6F0062722D653937343130663832613539002D7000746370002D64003130302E38322E36342E313330002D2D64706F72740034393933002D6A004143\\nNov 10 05:49:10 CMX50070-101776 audit[2208800]: NETFILTER_CFG table=nat family=2 entries=14 op=xt_replace pid=2208800 comm=\"iptables\"\\nNov 10 05:49:10 CMX50070-101776 audit[2208800]: SYSCALL arch=c000003e syscall=54 success=yes exit=0 a0=4 a1=0 a2=40 a3=55d885cb20d0 items=0 ppid=1853 pid=2208800 auid=4294967295 uid=0 gid=0 euid=0 suid=0 fsuid=0 egid=0 sgid=0 fsgid=0 tty=(none) ses=4294967295 comm=\"iptables\" exe=\"/usr/sbin/xtables-legacy-multi\" key=(null)', metadata={'source': 'C:/Users/vishw/OneDrive/Desktop/Projects/daemon-dialoguers/Dataset/test_log1.out'}),\n",
       "  Document(page_content='Nov 10 05:49:10 CMX50070-101776 audit: PROCTITLE proctitle=2F7573722F7362696E2F69707461626C6573002D2D77616974002D74006E6174002D4400444F434B4552002D7000746370002D6400302F30002D2D64706F72740034393934002D6A00444E4154002D2D746F2D64657374696E6174696F6E003130302E38322E36342E3133303A343939340000002D690062722D653937343130\\nNov 10 05:49:10 CMX50070-101776 audit[2208791]: NETFILTER_CFG table=filter family=2 entries=31 op=xt_replace pid=2208791 comm=\"iptables\"\\nNov 10 05:49:10 CMX50070-101776 audit[2208791]: SYSCALL arch=c000003e syscall=54 success=yes exit=0 a0=4 a1=0 a2=40 a3=557e8f600950 items=0 ppid=1853 pid=2208791 auid=4294967295 uid=0 gid=0 euid=0 suid=0 fsuid=0 egid=0 sgid=0 fsgid=0 tty=(none) ses=4294967295 comm=\"iptables\" exe=\"/usr/sbin/xtables-legacy-multi\" key=(null)', metadata={'source': 'C:/Users/vishw/OneDrive/Desktop/Projects/daemon-dialoguers/Dataset/test_log1.out'}),\n",
       "  Document(page_content='Nov 10 05:49:10 CMX50070-101776 audit: PROCTITLE proctitle=2F7573722F7362696E2F69707461626C6573002D2D77616974002D74006E6174002D4400444F434B4552002D7000746370002D6400302F30002D2D64706F72740034393933002D6A00444E4154002D2D746F2D64657374696E6174696F6E003130302E38322E36342E3133303A343939330000002D690062722D653937343130\\nNov 10 05:49:10 CMX50070-101776 audit[2208798]: NETFILTER_CFG table=filter family=2 entries=30 op=xt_replace pid=2208798 comm=\"iptables\"\\nNov 10 05:49:10 CMX50070-101776 audit[2208798]: SYSCALL arch=c000003e syscall=54 success=yes exit=0 a0=4 a1=0 a2=40 a3=559a29e50780 items=0 ppid=1853 pid=2208798 auid=4294967295 uid=0 gid=0 euid=0 suid=0 fsuid=0 egid=0 sgid=0 fsgid=0 tty=(none) ses=4294967295 comm=\"iptables\" exe=\"/usr/sbin/xtables-legacy-multi\" key=(null)', metadata={'source': 'C:/Users/vishw/OneDrive/Desktop/Projects/daemon-dialoguers/Dataset/test_log1.out'})]}"
      ]
     },
     "execution_count": 58,
     "metadata": {},
     "output_type": "execute_result"
    }
   ],
   "source": [
    "result = chat({\"question\": f\"Give me a long summary of the document. Start with SUMMARY:\"})\n",
    "result"
   ]
  },
  {
   "cell_type": "code",
   "execution_count": 46,
   "metadata": {},
   "outputs": [
    {
     "data": {
      "text/plain": [
       "{'question': \"Edit the previous summary. Add some information about the Publish update. Start with 'SUMMARY:' followed by the edited version of the previous summary.\",\n",
       " 'chat_history': [HumanMessage(content='Give me a summary. Start with SUMMARY:'),\n",
       "  AIMessage(content='SUMMARY: The document provides details about various processes starting within a certain application at around 13:15:10 on November 9, 2023. These processes include the WCDMA State Servicer and GSM State Servicer, and the use of persistent settings and a pull_url. Additionally, the log entries detail the initialization of a system identified as CMX50070-101776, including the initialization of logging with level 20, the DriftRpcClient with a specific URL, a message dispatcher, and a default broker with a different URL.\\n'),\n",
       "  HumanMessage(content=\"Edit the previous summary. Add some information about the Publish update. Start with 'SUMMARY:' followed by the edited version of the previous summary.\"),\n",
       "  AIMessage(content=\"The document does not provide a previous summary to edit or additional information about the 'Publish update'.\\n\")],\n",
       " 'answer': \"The document does not provide a previous summary to edit or additional information about the 'Publish update'.\\n\",\n",
       " 'sources': 'C:/Users/vishw/OneDrive/Desktop/Projects/daemon-dialoguers/Dataset/test_log1.out',\n",
       " 'source_documents': [Document(page_content='Nov 09 13:13:27 CMX50070-101776 health_service.deviceapi[553]: Publish update:\\nNov 09 13:13:27 CMX50070-101776 health_service.deviceapi[553]: ################################################################################\\nNov 09 13:13:27 CMX50070-101776 health_service.deviceapi[553]: ID:        136\\nNov 09 13:13:27 CMX50070-101776 health_service.deviceapi[553]: State:        2\\nNov 09 13:13:27 CMX50070-101776 health_service.deviceapi[553]: Progress:        [70] Connect data\\nNov 09 13:13:27 CMX50070-101776 health_service.deviceapi[553]: Reliability:        [0]\\nNov 09 13:13:27 CMX50070-101776 health_service.deviceapi[553]: Num HW:        0\\nNov 09 13:13:27 CMX50070-101776 health_service.deviceapi[553]: ################################################################################\\nNov 09 13:13:27 CMX50070-101776 health_service.deviceapi[553]: Publish update:', metadata={'source': 'C:/Users/vishw/OneDrive/Desktop/Projects/daemon-dialoguers/Dataset/test_log1.out'}),\n",
       "  Document(page_content='Nov 09 13:13:25 CMX50070-101776 health_service.deviceapi[553]: Publish update:\\nNov 09 13:13:25 CMX50070-101776 health_service.deviceapi[553]: ################################################################################\\nNov 09 13:13:25 CMX50070-101776 health_service.deviceapi[553]: ID:        93\\nNov 09 13:13:25 CMX50070-101776 health_service.deviceapi[553]: State:        2\\nNov 09 13:13:25 CMX50070-101776 health_service.deviceapi[553]: Progress:        [9] Initialize Remote\\nNov 09 13:13:25 CMX50070-101776 health_service.deviceapi[553]: Reliability:        [0]\\nNov 09 13:13:25 CMX50070-101776 health_service.deviceapi[553]: Num HW:        0\\nNov 09 13:13:25 CMX50070-101776 health_service.deviceapi[553]: ################################################################################\\nNov 09 13:13:25 CMX50070-101776 health_service.deviceapi[553]: Publish update:', metadata={'source': 'C:/Users/vishw/OneDrive/Desktop/Projects/daemon-dialoguers/Dataset/test_log1.out'}),\n",
       "  Document(page_content='Nov 09 13:13:25 CMX50070-101776 health_service.deviceapi[553]: Publish update:\\nNov 09 13:13:25 CMX50070-101776 health_service.deviceapi[553]: ################################################################################\\nNov 09 13:13:25 CMX50070-101776 health_service.deviceapi[553]: ID:        117\\nNov 09 13:13:25 CMX50070-101776 health_service.deviceapi[553]: State:        2\\nNov 09 13:13:25 CMX50070-101776 health_service.deviceapi[553]: Progress:        [11] End Base System\\nNov 09 13:13:25 CMX50070-101776 health_service.deviceapi[553]: Reliability:        [0]\\nNov 09 13:13:25 CMX50070-101776 health_service.deviceapi[553]: Num HW:        0\\nNov 09 13:13:25 CMX50070-101776 health_service.deviceapi[553]: ################################################################################\\nNov 09 13:13:25 CMX50070-101776 start_mrt.sh[3219]: Found PID file from running AU LD: 1888\\nNov 09 13:13:25 CMX50070-101776 health_service.deviceapi[553]: Publish update:', metadata={'source': 'C:/Users/vishw/OneDrive/Desktop/Projects/daemon-dialoguers/Dataset/test_log1.out'}),\n",
       "  Document(page_content='Nov 09 13:13:38 CMX50070-101776 health_service.deviceapi[553]: Publish update:\\nNov 09 13:13:38 CMX50070-101776 health_service.deviceapi[553]: ################################################################################\\nNov 09 13:13:38 CMX50070-101776 health_service.deviceapi[553]: ID:        146\\nNov 09 13:13:38 CMX50070-101776 health_service.deviceapi[553]: State:        2\\nNov 09 13:13:38 CMX50070-101776 health_service.deviceapi[553]: Progress:        [82] Initialize dut_mmi\\nNov 09 13:13:38 CMX50070-101776 health_service.deviceapi[553]: Reliability:        [0]\\nNov 09 13:13:38 CMX50070-101776 health_service.deviceapi[553]: Num HW:        0\\nNov 09 13:13:38 CMX50070-101776 health_service.deviceapi[553]: ################################################################################\\nNov 09 13:13:38 CMX50070-101776 health_service.deviceapi[553]: Publish update:', metadata={'source': 'C:/Users/vishw/OneDrive/Desktop/Projects/daemon-dialoguers/Dataset/test_log1.out'})]}"
      ]
     },
     "execution_count": 46,
     "metadata": {},
     "output_type": "execute_result"
    }
   ],
   "source": [
    "edit = \"Add some information about the Publish update\"\n",
    "result = chat({\"question\": f\"Edit the previous summary. {edit}. Start with 'SUMMARY:' followed by the edited version of the previous summary.\"})\n",
    "result"
   ]
  },
  {
   "cell_type": "code",
   "execution_count": null,
   "metadata": {},
   "outputs": [],
   "source": []
  }
 ],
 "metadata": {
  "kernelspec": {
   "display_name": "Python 3",
   "language": "python",
   "name": "python3"
  },
  "language_info": {
   "codemirror_mode": {
    "name": "ipython",
    "version": 3
   },
   "file_extension": ".py",
   "mimetype": "text/x-python",
   "name": "python",
   "nbconvert_exporter": "python",
   "pygments_lexer": "ipython3",
   "version": "3.11.4"
  }
 },
 "nbformat": 4,
 "nbformat_minor": 2
}
