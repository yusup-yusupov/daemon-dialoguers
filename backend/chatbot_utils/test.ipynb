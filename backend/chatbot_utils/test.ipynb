{
 "cells": [
  {
   "cell_type": "code",
   "execution_count": 78,
   "metadata": {},
   "outputs": [],
   "source": [
    "import sys\n",
    "sys.path.append('C:/Users/vishw/OneDrive/Desktop/Projects/daemon-dialoguers/backend/chatbot_utils')\n",
    "\n",
    "import context_model as cm\n",
    "import chatbot_utils as chatbot\n",
    "import importlib\n",
    "importlib.reload(cm)\n",
    "importlib.reload(chatbot)\n",
    "\n",
    "import pandas as pd\n",
    "import hashlib\n",
    "import json\n",
    "\n",
    "with open('C:/Users/vishw/OneDrive/Desktop/Projects/daemon-dialoguers/openAI_api.json') as f:\n",
    "    key = json.load(f)\n",
    "\n",
    "DATA_DIR = 'C:/Users/vishw/OneDrive/Desktop/Projects/daemon-dialoguers/Dataset'\n"
   ]
  },
  {
   "cell_type": "markdown",
   "metadata": {},
   "source": [
    "### Testing Embedding and Context Models"
   ]
  },
  {
   "cell_type": "code",
   "execution_count": 2,
   "metadata": {},
   "outputs": [],
   "source": [
    "md5hash = hashlib.md5(open(f\"{DATA_DIR}/test_log1.out\",'rb').read()).hexdigest()"
   ]
  },
  {
   "cell_type": "code",
   "execution_count": 76,
   "metadata": {},
   "outputs": [
    {
     "ename": "RateLimitError",
     "evalue": "Error code: 429 - {'error': {'message': 'Rate limit reached for text-embedding-ada-002 in organization org-kfsNXpcw90CoawqSyD7Mw4CD on tokens per min (TPM): Limit 1000000, Used 785665, Requested 317726. Please try again in 6.203s. Visit https://platform.openai.com/account/rate-limits to learn more.', 'type': 'tokens', 'param': None, 'code': 'rate_limit_exceeded'}}",
     "output_type": "error",
     "traceback": [
      "\u001b[1;31m---------------------------------------------------------------------------\u001b[0m",
      "\u001b[1;31mRateLimitError\u001b[0m                            Traceback (most recent call last)",
      "\u001b[1;32mc:\\Users\\vishw\\OneDrive\\Desktop\\Projects\\daemon-dialoguers\\backend\\chatbot_utils\\test.ipynb Cell 4\u001b[0m line \u001b[0;36m1\n\u001b[1;32m----> <a href='vscode-notebook-cell:/c%3A/Users/vishw/OneDrive/Desktop/Projects/daemon-dialoguers/backend/chatbot_utils/test.ipynb#W5sZmlsZQ%3D%3D?line=0'>1</a>\u001b[0m cm\u001b[39m.\u001b[39;49mconvert_logs_to_embeddings(\u001b[39mf\u001b[39;49m\u001b[39m\"\u001b[39;49m\u001b[39m{\u001b[39;49;00mDATA_DIR\u001b[39m}\u001b[39;49;00m\u001b[39m/final_log.out\u001b[39;49m\u001b[39m\"\u001b[39;49m)\n",
      "File \u001b[1;32mc:\\Users\\vishw\\OneDrive\\Desktop\\Projects\\daemon-dialoguers\\backend\\chatbot_utils\\context_model.py:54\u001b[0m, in \u001b[0;36mconvert_logs_to_embeddings\u001b[1;34m(file_path)\u001b[0m\n\u001b[0;32m     52\u001b[0m docs \u001b[39m=\u001b[39m text_splitter\u001b[39m.\u001b[39msplit_documents(documents)\n\u001b[0;32m     53\u001b[0m \u001b[39m# Creating the Chroma vector store\u001b[39;00m\n\u001b[1;32m---> 54\u001b[0m Chroma\u001b[39m.\u001b[39;49mfrom_documents(docs, persist_directory\u001b[39m=\u001b[39;49m\u001b[39mf\u001b[39;49m\u001b[39m'\u001b[39;49m\u001b[39m./chromadb/\u001b[39;49m\u001b[39m{\u001b[39;49;00mmd5hash\u001b[39m}\u001b[39;49;00m\u001b[39m_large\u001b[39;49m\u001b[39m'\u001b[39;49m, embedding\u001b[39m=\u001b[39;49membedding)\n",
      "File \u001b[1;32mc:\\Users\\vishw\\anaconda3\\Lib\\site-packages\\langchain\\vectorstores\\chroma.py:771\u001b[0m, in \u001b[0;36mChroma.from_documents\u001b[1;34m(cls, documents, embedding, ids, collection_name, persist_directory, client_settings, client, collection_metadata, **kwargs)\u001b[0m\n\u001b[0;32m    769\u001b[0m texts \u001b[39m=\u001b[39m [doc\u001b[39m.\u001b[39mpage_content \u001b[39mfor\u001b[39;00m doc \u001b[39min\u001b[39;00m documents]\n\u001b[0;32m    770\u001b[0m metadatas \u001b[39m=\u001b[39m [doc\u001b[39m.\u001b[39mmetadata \u001b[39mfor\u001b[39;00m doc \u001b[39min\u001b[39;00m documents]\n\u001b[1;32m--> 771\u001b[0m \u001b[39mreturn\u001b[39;00m \u001b[39mcls\u001b[39;49m\u001b[39m.\u001b[39;49mfrom_texts(\n\u001b[0;32m    772\u001b[0m     texts\u001b[39m=\u001b[39;49mtexts,\n\u001b[0;32m    773\u001b[0m     embedding\u001b[39m=\u001b[39;49membedding,\n\u001b[0;32m    774\u001b[0m     metadatas\u001b[39m=\u001b[39;49mmetadatas,\n\u001b[0;32m    775\u001b[0m     ids\u001b[39m=\u001b[39;49mids,\n\u001b[0;32m    776\u001b[0m     collection_name\u001b[39m=\u001b[39;49mcollection_name,\n\u001b[0;32m    777\u001b[0m     persist_directory\u001b[39m=\u001b[39;49mpersist_directory,\n\u001b[0;32m    778\u001b[0m     client_settings\u001b[39m=\u001b[39;49mclient_settings,\n\u001b[0;32m    779\u001b[0m     client\u001b[39m=\u001b[39;49mclient,\n\u001b[0;32m    780\u001b[0m     collection_metadata\u001b[39m=\u001b[39;49mcollection_metadata,\n\u001b[0;32m    781\u001b[0m     \u001b[39m*\u001b[39;49m\u001b[39m*\u001b[39;49mkwargs,\n\u001b[0;32m    782\u001b[0m )\n",
      "File \u001b[1;32mc:\\Users\\vishw\\anaconda3\\Lib\\site-packages\\langchain\\vectorstores\\chroma.py:729\u001b[0m, in \u001b[0;36mChroma.from_texts\u001b[1;34m(cls, texts, embedding, metadatas, ids, collection_name, persist_directory, client_settings, client, collection_metadata, **kwargs)\u001b[0m\n\u001b[0;32m    721\u001b[0m     \u001b[39mfrom\u001b[39;00m \u001b[39mchromadb\u001b[39;00m\u001b[39m.\u001b[39;00m\u001b[39mutils\u001b[39;00m\u001b[39m.\u001b[39;00m\u001b[39mbatch_utils\u001b[39;00m \u001b[39mimport\u001b[39;00m create_batches\n\u001b[0;32m    723\u001b[0m     \u001b[39mfor\u001b[39;00m batch \u001b[39min\u001b[39;00m create_batches(\n\u001b[0;32m    724\u001b[0m         api\u001b[39m=\u001b[39mchroma_collection\u001b[39m.\u001b[39m_client,\n\u001b[0;32m    725\u001b[0m         ids\u001b[39m=\u001b[39mids,\n\u001b[0;32m    726\u001b[0m         metadatas\u001b[39m=\u001b[39mmetadatas,\n\u001b[0;32m    727\u001b[0m         documents\u001b[39m=\u001b[39mtexts,\n\u001b[0;32m    728\u001b[0m     ):\n\u001b[1;32m--> 729\u001b[0m         chroma_collection\u001b[39m.\u001b[39;49madd_texts(\n\u001b[0;32m    730\u001b[0m             texts\u001b[39m=\u001b[39;49mbatch[\u001b[39m3\u001b[39;49m] \u001b[39mif\u001b[39;49;00m batch[\u001b[39m3\u001b[39;49m] \u001b[39melse\u001b[39;49;00m [],\n\u001b[0;32m    731\u001b[0m             metadatas\u001b[39m=\u001b[39;49mbatch[\u001b[39m2\u001b[39;49m] \u001b[39mif\u001b[39;49;00m batch[\u001b[39m2\u001b[39;49m] \u001b[39melse\u001b[39;49;00m \u001b[39mNone\u001b[39;49;00m,\n\u001b[0;32m    732\u001b[0m             ids\u001b[39m=\u001b[39;49mbatch[\u001b[39m0\u001b[39;49m],\n\u001b[0;32m    733\u001b[0m         )\n\u001b[0;32m    734\u001b[0m \u001b[39melse\u001b[39;00m:\n\u001b[0;32m    735\u001b[0m     chroma_collection\u001b[39m.\u001b[39madd_texts(texts\u001b[39m=\u001b[39mtexts, metadatas\u001b[39m=\u001b[39mmetadatas, ids\u001b[39m=\u001b[39mids)\n",
      "File \u001b[1;32mc:\\Users\\vishw\\anaconda3\\Lib\\site-packages\\langchain\\vectorstores\\chroma.py:275\u001b[0m, in \u001b[0;36mChroma.add_texts\u001b[1;34m(self, texts, metadatas, ids, **kwargs)\u001b[0m\n\u001b[0;32m    273\u001b[0m texts \u001b[39m=\u001b[39m \u001b[39mlist\u001b[39m(texts)\n\u001b[0;32m    274\u001b[0m \u001b[39mif\u001b[39;00m \u001b[39mself\u001b[39m\u001b[39m.\u001b[39m_embedding_function \u001b[39mis\u001b[39;00m \u001b[39mnot\u001b[39;00m \u001b[39mNone\u001b[39;00m:\n\u001b[1;32m--> 275\u001b[0m     embeddings \u001b[39m=\u001b[39m \u001b[39mself\u001b[39;49m\u001b[39m.\u001b[39;49m_embedding_function\u001b[39m.\u001b[39;49membed_documents(texts)\n\u001b[0;32m    276\u001b[0m \u001b[39mif\u001b[39;00m metadatas:\n\u001b[0;32m    277\u001b[0m     \u001b[39m# fill metadatas with empty dicts if somebody\u001b[39;00m\n\u001b[0;32m    278\u001b[0m     \u001b[39m# did not specify metadata for all texts\u001b[39;00m\n\u001b[0;32m    279\u001b[0m     length_diff \u001b[39m=\u001b[39m \u001b[39mlen\u001b[39m(texts) \u001b[39m-\u001b[39m \u001b[39mlen\u001b[39m(metadatas)\n",
      "File \u001b[1;32mc:\\Users\\vishw\\anaconda3\\Lib\\site-packages\\langchain\\embeddings\\openai.py:555\u001b[0m, in \u001b[0;36mOpenAIEmbeddings.embed_documents\u001b[1;34m(self, texts, chunk_size)\u001b[0m\n\u001b[0;32m    552\u001b[0m \u001b[39m# NOTE: to keep things simple, we assume the list may contain texts longer\u001b[39;00m\n\u001b[0;32m    553\u001b[0m \u001b[39m#       than the maximum context and use length-safe embedding function.\u001b[39;00m\n\u001b[0;32m    554\u001b[0m engine \u001b[39m=\u001b[39m cast(\u001b[39mstr\u001b[39m, \u001b[39mself\u001b[39m\u001b[39m.\u001b[39mdeployment)\n\u001b[1;32m--> 555\u001b[0m \u001b[39mreturn\u001b[39;00m \u001b[39mself\u001b[39;49m\u001b[39m.\u001b[39;49m_get_len_safe_embeddings(texts, engine\u001b[39m=\u001b[39;49mengine)\n",
      "File \u001b[1;32mc:\\Users\\vishw\\anaconda3\\Lib\\site-packages\\langchain\\embeddings\\openai.py:431\u001b[0m, in \u001b[0;36mOpenAIEmbeddings._get_len_safe_embeddings\u001b[1;34m(self, texts, engine, chunk_size)\u001b[0m\n\u001b[0;32m    428\u001b[0m     _iter \u001b[39m=\u001b[39m \u001b[39mrange\u001b[39m(\u001b[39m0\u001b[39m, \u001b[39mlen\u001b[39m(tokens), _chunk_size)\n\u001b[0;32m    430\u001b[0m \u001b[39mfor\u001b[39;00m i \u001b[39min\u001b[39;00m _iter:\n\u001b[1;32m--> 431\u001b[0m     response \u001b[39m=\u001b[39m embed_with_retry(\n\u001b[0;32m    432\u001b[0m         \u001b[39mself\u001b[39;49m,\n\u001b[0;32m    433\u001b[0m         \u001b[39minput\u001b[39;49m\u001b[39m=\u001b[39;49mtokens[i : i \u001b[39m+\u001b[39;49m _chunk_size],\n\u001b[0;32m    434\u001b[0m         \u001b[39m*\u001b[39;49m\u001b[39m*\u001b[39;49m\u001b[39mself\u001b[39;49m\u001b[39m.\u001b[39;49m_invocation_params,\n\u001b[0;32m    435\u001b[0m     )\n\u001b[0;32m    436\u001b[0m     \u001b[39mif\u001b[39;00m \u001b[39mnot\u001b[39;00m \u001b[39misinstance\u001b[39m(response, \u001b[39mdict\u001b[39m):\n\u001b[0;32m    437\u001b[0m         response \u001b[39m=\u001b[39m response\u001b[39m.\u001b[39mdict()\n",
      "File \u001b[1;32mc:\\Users\\vishw\\anaconda3\\Lib\\site-packages\\langchain\\embeddings\\openai.py:106\u001b[0m, in \u001b[0;36membed_with_retry\u001b[1;34m(embeddings, **kwargs)\u001b[0m\n\u001b[0;32m    104\u001b[0m \u001b[39m\u001b[39m\u001b[39m\"\"\"Use tenacity to retry the embedding call.\"\"\"\u001b[39;00m\n\u001b[0;32m    105\u001b[0m \u001b[39mif\u001b[39;00m _is_openai_v1():\n\u001b[1;32m--> 106\u001b[0m     \u001b[39mreturn\u001b[39;00m embeddings\u001b[39m.\u001b[39;49mclient\u001b[39m.\u001b[39;49mcreate(\u001b[39m*\u001b[39;49m\u001b[39m*\u001b[39;49mkwargs)\n\u001b[0;32m    107\u001b[0m retry_decorator \u001b[39m=\u001b[39m _create_retry_decorator(embeddings)\n\u001b[0;32m    109\u001b[0m \u001b[39m@retry_decorator\u001b[39m\n\u001b[0;32m    110\u001b[0m \u001b[39mdef\u001b[39;00m \u001b[39m_embed_with_retry\u001b[39m(\u001b[39m*\u001b[39m\u001b[39m*\u001b[39mkwargs: Any) \u001b[39m-\u001b[39m\u001b[39m>\u001b[39m Any:\n",
      "File \u001b[1;32mc:\\Users\\vishw\\anaconda3\\Lib\\site-packages\\openai\\resources\\embeddings.py:105\u001b[0m, in \u001b[0;36mEmbeddings.create\u001b[1;34m(self, input, model, encoding_format, user, extra_headers, extra_query, extra_body, timeout)\u001b[0m\n\u001b[0;32m     99\u001b[0m         embedding\u001b[39m.\u001b[39membedding \u001b[39m=\u001b[39m np\u001b[39m.\u001b[39mfrombuffer(  \u001b[39m# type: ignore[no-untyped-call]\u001b[39;00m\n\u001b[0;32m    100\u001b[0m             base64\u001b[39m.\u001b[39mb64decode(data), dtype\u001b[39m=\u001b[39m\u001b[39m\"\u001b[39m\u001b[39mfloat32\u001b[39m\u001b[39m\"\u001b[39m\n\u001b[0;32m    101\u001b[0m         )\u001b[39m.\u001b[39mtolist()\n\u001b[0;32m    103\u001b[0m     \u001b[39mreturn\u001b[39;00m obj\n\u001b[1;32m--> 105\u001b[0m \u001b[39mreturn\u001b[39;00m \u001b[39mself\u001b[39;49m\u001b[39m.\u001b[39;49m_post(\n\u001b[0;32m    106\u001b[0m     \u001b[39m\"\u001b[39;49m\u001b[39m/embeddings\u001b[39;49m\u001b[39m\"\u001b[39;49m,\n\u001b[0;32m    107\u001b[0m     body\u001b[39m=\u001b[39;49mmaybe_transform(params, embedding_create_params\u001b[39m.\u001b[39;49mEmbeddingCreateParams),\n\u001b[0;32m    108\u001b[0m     options\u001b[39m=\u001b[39;49mmake_request_options(\n\u001b[0;32m    109\u001b[0m         extra_headers\u001b[39m=\u001b[39;49mextra_headers,\n\u001b[0;32m    110\u001b[0m         extra_query\u001b[39m=\u001b[39;49mextra_query,\n\u001b[0;32m    111\u001b[0m         extra_body\u001b[39m=\u001b[39;49mextra_body,\n\u001b[0;32m    112\u001b[0m         timeout\u001b[39m=\u001b[39;49mtimeout,\n\u001b[0;32m    113\u001b[0m         post_parser\u001b[39m=\u001b[39;49mparser,\n\u001b[0;32m    114\u001b[0m     ),\n\u001b[0;32m    115\u001b[0m     cast_to\u001b[39m=\u001b[39;49mCreateEmbeddingResponse,\n\u001b[0;32m    116\u001b[0m )\n",
      "File \u001b[1;32mc:\\Users\\vishw\\anaconda3\\Lib\\site-packages\\openai\\_base_client.py:1055\u001b[0m, in \u001b[0;36mSyncAPIClient.post\u001b[1;34m(self, path, cast_to, body, options, files, stream, stream_cls)\u001b[0m\n\u001b[0;32m   1041\u001b[0m \u001b[39mdef\u001b[39;00m \u001b[39mpost\u001b[39m(\n\u001b[0;32m   1042\u001b[0m     \u001b[39mself\u001b[39m,\n\u001b[0;32m   1043\u001b[0m     path: \u001b[39mstr\u001b[39m,\n\u001b[1;32m   (...)\u001b[0m\n\u001b[0;32m   1050\u001b[0m     stream_cls: \u001b[39mtype\u001b[39m[_StreamT] \u001b[39m|\u001b[39m \u001b[39mNone\u001b[39;00m \u001b[39m=\u001b[39m \u001b[39mNone\u001b[39;00m,\n\u001b[0;32m   1051\u001b[0m ) \u001b[39m-\u001b[39m\u001b[39m>\u001b[39m ResponseT \u001b[39m|\u001b[39m _StreamT:\n\u001b[0;32m   1052\u001b[0m     opts \u001b[39m=\u001b[39m FinalRequestOptions\u001b[39m.\u001b[39mconstruct(\n\u001b[0;32m   1053\u001b[0m         method\u001b[39m=\u001b[39m\u001b[39m\"\u001b[39m\u001b[39mpost\u001b[39m\u001b[39m\"\u001b[39m, url\u001b[39m=\u001b[39mpath, json_data\u001b[39m=\u001b[39mbody, files\u001b[39m=\u001b[39mto_httpx_files(files), \u001b[39m*\u001b[39m\u001b[39m*\u001b[39moptions\n\u001b[0;32m   1054\u001b[0m     )\n\u001b[1;32m-> 1055\u001b[0m     \u001b[39mreturn\u001b[39;00m cast(ResponseT, \u001b[39mself\u001b[39;49m\u001b[39m.\u001b[39;49mrequest(cast_to, opts, stream\u001b[39m=\u001b[39;49mstream, stream_cls\u001b[39m=\u001b[39;49mstream_cls))\n",
      "File \u001b[1;32mc:\\Users\\vishw\\anaconda3\\Lib\\site-packages\\openai\\_base_client.py:834\u001b[0m, in \u001b[0;36mSyncAPIClient.request\u001b[1;34m(self, cast_to, options, remaining_retries, stream, stream_cls)\u001b[0m\n\u001b[0;32m    825\u001b[0m \u001b[39mdef\u001b[39;00m \u001b[39mrequest\u001b[39m(\n\u001b[0;32m    826\u001b[0m     \u001b[39mself\u001b[39m,\n\u001b[0;32m    827\u001b[0m     cast_to: Type[ResponseT],\n\u001b[1;32m   (...)\u001b[0m\n\u001b[0;32m    832\u001b[0m     stream_cls: \u001b[39mtype\u001b[39m[_StreamT] \u001b[39m|\u001b[39m \u001b[39mNone\u001b[39;00m \u001b[39m=\u001b[39m \u001b[39mNone\u001b[39;00m,\n\u001b[0;32m    833\u001b[0m ) \u001b[39m-\u001b[39m\u001b[39m>\u001b[39m ResponseT \u001b[39m|\u001b[39m _StreamT:\n\u001b[1;32m--> 834\u001b[0m     \u001b[39mreturn\u001b[39;00m \u001b[39mself\u001b[39;49m\u001b[39m.\u001b[39;49m_request(\n\u001b[0;32m    835\u001b[0m         cast_to\u001b[39m=\u001b[39;49mcast_to,\n\u001b[0;32m    836\u001b[0m         options\u001b[39m=\u001b[39;49moptions,\n\u001b[0;32m    837\u001b[0m         stream\u001b[39m=\u001b[39;49mstream,\n\u001b[0;32m    838\u001b[0m         stream_cls\u001b[39m=\u001b[39;49mstream_cls,\n\u001b[0;32m    839\u001b[0m         remaining_retries\u001b[39m=\u001b[39;49mremaining_retries,\n\u001b[0;32m    840\u001b[0m     )\n",
      "File \u001b[1;32mc:\\Users\\vishw\\anaconda3\\Lib\\site-packages\\openai\\_base_client.py:865\u001b[0m, in \u001b[0;36mSyncAPIClient._request\u001b[1;34m(self, cast_to, options, remaining_retries, stream, stream_cls)\u001b[0m\n\u001b[0;32m    863\u001b[0m \u001b[39mexcept\u001b[39;00m httpx\u001b[39m.\u001b[39mHTTPStatusError \u001b[39mas\u001b[39;00m err:  \u001b[39m# thrown on 4xx and 5xx status code\u001b[39;00m\n\u001b[0;32m    864\u001b[0m     \u001b[39mif\u001b[39;00m retries \u001b[39m>\u001b[39m \u001b[39m0\u001b[39m \u001b[39mand\u001b[39;00m \u001b[39mself\u001b[39m\u001b[39m.\u001b[39m_should_retry(err\u001b[39m.\u001b[39mresponse):\n\u001b[1;32m--> 865\u001b[0m         \u001b[39mreturn\u001b[39;00m \u001b[39mself\u001b[39;49m\u001b[39m.\u001b[39;49m_retry_request(\n\u001b[0;32m    866\u001b[0m             options,\n\u001b[0;32m    867\u001b[0m             cast_to,\n\u001b[0;32m    868\u001b[0m             retries,\n\u001b[0;32m    869\u001b[0m             err\u001b[39m.\u001b[39;49mresponse\u001b[39m.\u001b[39;49mheaders,\n\u001b[0;32m    870\u001b[0m             stream\u001b[39m=\u001b[39;49mstream,\n\u001b[0;32m    871\u001b[0m             stream_cls\u001b[39m=\u001b[39;49mstream_cls,\n\u001b[0;32m    872\u001b[0m         )\n\u001b[0;32m    874\u001b[0m     \u001b[39m# If the response is streamed then we need to explicitly read the response\u001b[39;00m\n\u001b[0;32m    875\u001b[0m     \u001b[39m# to completion before attempting to access the response text.\u001b[39;00m\n\u001b[0;32m    876\u001b[0m     err\u001b[39m.\u001b[39mresponse\u001b[39m.\u001b[39mread()\n",
      "File \u001b[1;32mc:\\Users\\vishw\\anaconda3\\Lib\\site-packages\\openai\\_base_client.py:925\u001b[0m, in \u001b[0;36mSyncAPIClient._retry_request\u001b[1;34m(self, options, cast_to, remaining_retries, response_headers, stream, stream_cls)\u001b[0m\n\u001b[0;32m    921\u001b[0m \u001b[39m# In a synchronous context we are blocking the entire thread. Up to the library user to run the client in a\u001b[39;00m\n\u001b[0;32m    922\u001b[0m \u001b[39m# different thread if necessary.\u001b[39;00m\n\u001b[0;32m    923\u001b[0m time\u001b[39m.\u001b[39msleep(timeout)\n\u001b[1;32m--> 925\u001b[0m \u001b[39mreturn\u001b[39;00m \u001b[39mself\u001b[39;49m\u001b[39m.\u001b[39;49m_request(\n\u001b[0;32m    926\u001b[0m     options\u001b[39m=\u001b[39;49moptions,\n\u001b[0;32m    927\u001b[0m     cast_to\u001b[39m=\u001b[39;49mcast_to,\n\u001b[0;32m    928\u001b[0m     remaining_retries\u001b[39m=\u001b[39;49mremaining,\n\u001b[0;32m    929\u001b[0m     stream\u001b[39m=\u001b[39;49mstream,\n\u001b[0;32m    930\u001b[0m     stream_cls\u001b[39m=\u001b[39;49mstream_cls,\n\u001b[0;32m    931\u001b[0m )\n",
      "File \u001b[1;32mc:\\Users\\vishw\\anaconda3\\Lib\\site-packages\\openai\\_base_client.py:865\u001b[0m, in \u001b[0;36mSyncAPIClient._request\u001b[1;34m(self, cast_to, options, remaining_retries, stream, stream_cls)\u001b[0m\n\u001b[0;32m    863\u001b[0m \u001b[39mexcept\u001b[39;00m httpx\u001b[39m.\u001b[39mHTTPStatusError \u001b[39mas\u001b[39;00m err:  \u001b[39m# thrown on 4xx and 5xx status code\u001b[39;00m\n\u001b[0;32m    864\u001b[0m     \u001b[39mif\u001b[39;00m retries \u001b[39m>\u001b[39m \u001b[39m0\u001b[39m \u001b[39mand\u001b[39;00m \u001b[39mself\u001b[39m\u001b[39m.\u001b[39m_should_retry(err\u001b[39m.\u001b[39mresponse):\n\u001b[1;32m--> 865\u001b[0m         \u001b[39mreturn\u001b[39;00m \u001b[39mself\u001b[39;49m\u001b[39m.\u001b[39;49m_retry_request(\n\u001b[0;32m    866\u001b[0m             options,\n\u001b[0;32m    867\u001b[0m             cast_to,\n\u001b[0;32m    868\u001b[0m             retries,\n\u001b[0;32m    869\u001b[0m             err\u001b[39m.\u001b[39;49mresponse\u001b[39m.\u001b[39;49mheaders,\n\u001b[0;32m    870\u001b[0m             stream\u001b[39m=\u001b[39;49mstream,\n\u001b[0;32m    871\u001b[0m             stream_cls\u001b[39m=\u001b[39;49mstream_cls,\n\u001b[0;32m    872\u001b[0m         )\n\u001b[0;32m    874\u001b[0m     \u001b[39m# If the response is streamed then we need to explicitly read the response\u001b[39;00m\n\u001b[0;32m    875\u001b[0m     \u001b[39m# to completion before attempting to access the response text.\u001b[39;00m\n\u001b[0;32m    876\u001b[0m     err\u001b[39m.\u001b[39mresponse\u001b[39m.\u001b[39mread()\n",
      "File \u001b[1;32mc:\\Users\\vishw\\anaconda3\\Lib\\site-packages\\openai\\_base_client.py:925\u001b[0m, in \u001b[0;36mSyncAPIClient._retry_request\u001b[1;34m(self, options, cast_to, remaining_retries, response_headers, stream, stream_cls)\u001b[0m\n\u001b[0;32m    921\u001b[0m \u001b[39m# In a synchronous context we are blocking the entire thread. Up to the library user to run the client in a\u001b[39;00m\n\u001b[0;32m    922\u001b[0m \u001b[39m# different thread if necessary.\u001b[39;00m\n\u001b[0;32m    923\u001b[0m time\u001b[39m.\u001b[39msleep(timeout)\n\u001b[1;32m--> 925\u001b[0m \u001b[39mreturn\u001b[39;00m \u001b[39mself\u001b[39;49m\u001b[39m.\u001b[39;49m_request(\n\u001b[0;32m    926\u001b[0m     options\u001b[39m=\u001b[39;49moptions,\n\u001b[0;32m    927\u001b[0m     cast_to\u001b[39m=\u001b[39;49mcast_to,\n\u001b[0;32m    928\u001b[0m     remaining_retries\u001b[39m=\u001b[39;49mremaining,\n\u001b[0;32m    929\u001b[0m     stream\u001b[39m=\u001b[39;49mstream,\n\u001b[0;32m    930\u001b[0m     stream_cls\u001b[39m=\u001b[39;49mstream_cls,\n\u001b[0;32m    931\u001b[0m )\n",
      "File \u001b[1;32mc:\\Users\\vishw\\anaconda3\\Lib\\site-packages\\openai\\_base_client.py:877\u001b[0m, in \u001b[0;36mSyncAPIClient._request\u001b[1;34m(self, cast_to, options, remaining_retries, stream, stream_cls)\u001b[0m\n\u001b[0;32m    874\u001b[0m     \u001b[39m# If the response is streamed then we need to explicitly read the response\u001b[39;00m\n\u001b[0;32m    875\u001b[0m     \u001b[39m# to completion before attempting to access the response text.\u001b[39;00m\n\u001b[0;32m    876\u001b[0m     err\u001b[39m.\u001b[39mresponse\u001b[39m.\u001b[39mread()\n\u001b[1;32m--> 877\u001b[0m     \u001b[39mraise\u001b[39;00m \u001b[39mself\u001b[39m\u001b[39m.\u001b[39m_make_status_error_from_response(err\u001b[39m.\u001b[39mresponse) \u001b[39mfrom\u001b[39;00m \u001b[39mNone\u001b[39;00m\n\u001b[0;32m    878\u001b[0m \u001b[39mexcept\u001b[39;00m httpx\u001b[39m.\u001b[39mTimeoutException \u001b[39mas\u001b[39;00m err:\n\u001b[0;32m    879\u001b[0m     \u001b[39mif\u001b[39;00m retries \u001b[39m>\u001b[39m \u001b[39m0\u001b[39m:\n",
      "\u001b[1;31mRateLimitError\u001b[0m: Error code: 429 - {'error': {'message': 'Rate limit reached for text-embedding-ada-002 in organization org-kfsNXpcw90CoawqSyD7Mw4CD on tokens per min (TPM): Limit 1000000, Used 785665, Requested 317726. Please try again in 6.203s. Visit https://platform.openai.com/account/rate-limits to learn more.', 'type': 'tokens', 'param': None, 'code': 'rate_limit_exceeded'}}"
     ]
    }
   ],
   "source": [
    "cm.convert_logs_to_embeddings(f\"{DATA_DIR}/final_log.out\")"
   ]
  },
  {
   "cell_type": "code",
   "execution_count": 13,
   "metadata": {},
   "outputs": [
    {
     "data": {
      "text/plain": [
       "([Document(page_content='Nov 09 13:15:16 CMX50070-101776 start_mrt.sh[27299]: [INFO] [2023-11-09T13:15:16,294+0000] [srss.verify_args:63]: sri_recall_log_lookup_location: /home/instrument/fw/log/2023-11-09T13-11-48Z/sfa/NetworkEmulation1/sri\\nNov 09 13:15:16 CMX50070-101776 start_mrt.sh[27299]: [INFO] [2023-11-09T13:15:16,294+0000] [srss.verify_args:69]: working_dir: /home/instrument/fw/log/2023-11-09T13-11-48Z/sfa/NetworkEmulation1/sri\\nNov 09 13:15:16 CMX50070-101776 start_mrt.sh[27299]: [INFO] [2023-11-09T13:15:16,294+0000] [srss.__init__:43]: SRSS version: 05.01.01\\nNov 09 13:15:16 CMX50070-101776 start_mrt.sh[27299]: [INFO] [2023-11-09T13:15:16,306+0000] [utilities.register_in_persistence_registry_service:215]: Successfully registered in PersistenceRegistryService\\nNov 09 13:15:16 CMX50070-101776 start_mrt.sh[27299]: [INFO] [2023-11-09T13:15:16,306+0000] [srss.__init__:51]: Service registered\\nNov 09 13:15:16 CMX50070-101776 start_mrt.sh[27255]: PyInstaller _MEI directory save_recall', metadata={'source': 'C:/Users/vishw/OneDrive/Desktop/Projects/daemon-dialoguers/Dataset/test_log1.out'}),\n",
       "  Document(page_content=\"Nov 09 13:15:10 CMX50070-101776 start_mrt.sh[27266]: 2023-11-09T13:15:10.287+00:00 [info     ] log_dir = /home/instrument/fw/log/2023-11-09T13-11-48Z/sfa/NetworkEmulation1/gwss [gwss.gwss_server.server_application]\\nNov 09 13:15:10 CMX50070-101776 start_mrt.sh[27266]: 2023-11-09T13:15:10.287+00:00 [info     ] server_mode = ServerMode.SECONDARY [gwss.gwss_server.server_application]\\nNov 09 13:15:10 CMX50070-101776 start_mrt.sh[27266]: 2023-11-09T13:15:10.288+00:00 [info     ] connection config: ConnectionConfig('127.0.0.1') [gwss.gwss_server.server_application]\\nNov 09 13:15:10 CMX50070-101776 start_mrt.sh[27266]: 2023-11-09T13:15:10.289+00:00 [info     ]   rpc_url: tcp://127.0.0.1:9013 [gwss.gwss_server.server_application]\\nNov 09 13:15:10 CMX50070-101776 start_mrt.sh[27266]: 2023-11-09T13:15:10.289+00:00 [info     ]   xpub_url: tcp://127.0.0.1:9012 [gwss.gwss_server.server_application]\", metadata={'source': 'C:/Users/vishw/OneDrive/Desktop/Projects/daemon-dialoguers/Dataset/test_log1.out'}),\n",
       "  Document(page_content=\"Nov 09 13:41:03 CMX50070-101776 start_mrt.sh[192092]: 2023-11-09T13:41:03.546+00:00 [info     ] log_dir = /home/instrument/fw/log/2023-11-09T13-11-48Z/sfa/NetworkEmulation2/gwss [gwss.gwss_server.server_application]\\nNov 09 13:41:03 CMX50070-101776 start_mrt.sh[192092]: 2023-11-09T13:41:03.546+00:00 [info     ] server_mode = ServerMode.SECONDARY [gwss.gwss_server.server_application]\\nNov 09 13:41:03 CMX50070-101776 start_mrt.sh[192092]: 2023-11-09T13:41:03.548+00:00 [info     ] connection config: ConnectionConfig('127.0.0.1') [gwss.gwss_server.server_application]\\nNov 09 13:41:03 CMX50070-101776 start_mrt.sh[192092]: 2023-11-09T13:41:03.549+00:00 [info     ]   rpc_url: tcp://127.0.0.1:9013 [gwss.gwss_server.server_application]\\nNov 09 13:41:03 CMX50070-101776 start_mrt.sh[192092]: 2023-11-09T13:41:03.553+00:00 [info     ]   xpub_url: tcp://127.0.0.1:9012 [gwss.gwss_server.server_application]\", metadata={'source': 'C:/Users/vishw/OneDrive/Desktop/Projects/daemon-dialoguers/Dataset/test_log1.out'}),\n",
       "  Document(page_content='Nov 09 13:15:16 CMX50070-101776 start_mrt.sh[27255]: [INFO] [2023-11-09T13:15:16,329+0000] [srsf.__init__:43]: SRSF version: 01.04.11\\nNov 09 13:15:16 CMX50070-101776 start_mrt.sh[27255]: [INFO] [2023-11-09T13:15:16,341+0000] [utilities.register_in_persistence_registry_service:215]: Successfully registered in PersistenceRegistryService\\nNov 09 13:15:16 CMX50070-101776 start_mrt.sh[27255]: [INFO] [2023-11-09T13:15:16,342+0000] [srsf.__init__:51]: Service registered\\nNov 09 13:15:16 CMX50070-101776 start_mrt.sh[27255]: [INFO] [2023-11-09T13:15:16,444+0000] [srsf_service_impl.CheckService:96]: SRSF is running\\nNov 09 13:15:16 CMX50070-101776 start_mrt.sh[27299]: [INFO] [2023-11-09T13:15:16,507+0000] [srss_service_impl.CheckService:97]: SRSS is running', metadata={'source': 'C:/Users/vishw/OneDrive/Desktop/Projects/daemon-dialoguers/Dataset/test_log1.out'}),\n",
       "  Document(page_content='Nov 10 05:49:09 CMX50070-101776 start_mrt.sh[2208744]: Type = ERROR_REPAIR\\nNov 10 05:49:09 CMX50070-101776 start_mrt.sh[2208744]: File Name = /home/integration_mmi/jenkins/workspace/mrt.base.fsw_release_5.0.60-ci/1cm_fsw_base_wm/fwa/rs.cmwbase.fsw/fswselfalignment/task_service.cpp\\nNov 10 05:49:09 CMX50070-101776 start_mrt.sh[2208744]: Line Number = 309\\nNov 10 05:49:09 CMX50070-101776 start_mrt.sh[2208744]: Current Version = 5.0.60.4\\nNov 10 05:49:09 CMX50070-101776 start_mrt.sh[2208744]: Additional Info = Expected files do not exist!\\nNov 10 05:49:09 CMX50070-101776 start_mrt.sh[2208744]: Hidden Comment = /home/instrument/fw/system/CorrdataWS/RFU300/RFUNIT_1222.1020.02_100131/CDV/SA/V6/CUR/tx_meta.csv\\nNov 10 05:49:09 CMX50070-101776 start_mrt.sh[2208744]: /home/instrument/fw/system/CorrdataWS/RFU300/RFUNIT_1222.1020.02_100131/CDV/SA/V6/CUR/rx_meta.csv\\nNov 10 05:49:09 CMX50070-101776 start_mrt.sh[2208744]: Logfiles of TraceManager in /home/instrument/fw/log/2023-11-09T13-11-48Z', metadata={'source': 'C:/Users/vishw/OneDrive/Desktop/Projects/daemon-dialoguers/Dataset/test_log1.out'}),\n",
       "  Document(page_content=\"Nov 09 13:41:09 CMX50070-101776 start_mrt.sh[192083]: [INFO] [2023-11-09T13:41:09,580+0000] [srsf.__init__:43]: SRSF version: 01.04.11\\nNov 09 13:41:09 CMX50070-101776 start_mrt.sh[192083]: [INFO] [2023-11-09T13:41:09,595+0000] [utilities.register_in_persistence_registry_service:215]: Successfully registered in PersistenceRegistryService\\nNov 09 13:41:09 CMX50070-101776 start_mrt.sh[192083]: [INFO] [2023-11-09T13:41:09,595+0000] [srsf.__init__:51]: Service registered\\nNov 09 13:41:09 CMX50070-101776 start_mrt.sh[192085]: PyInstaller _MEI directory save_recall\\nNov 09 13:41:09 CMX50070-101776 start_mrt.sh[192085]: Namespace(broker_ip='127.0.0.1', sri_recall_log_dir='/home/instrument/fw/log/2023-11-09T13-11-48Z/sfa/NetworkEmulation2/sri', verbose=False, no_base_registration=False, working_dir='/home/instrument/fw/log/2023-11-09T13-11-48Z/sfa/NetworkEmulation2/sri')\", metadata={'source': 'C:/Users/vishw/OneDrive/Desktop/Projects/daemon-dialoguers/Dataset/test_log1.out'}),\n",
       "  Document(page_content='Nov 10 05:49:09 CMX50070-101776 start_mrt.sh[2208743]:       <FileLine>396</FileLine>\\nNov 10 05:49:09 CMX50070-101776 start_mrt.sh[2208743]:       <FileTime>Wed Oct 25 12:00:18 2023</FileTime>\\nNov 10 05:49:09 CMX50070-101776 start_mrt.sh[2208743]:       <MethodName>UpdateFootprint</MethodName>\\nNov 10 05:49:09 CMX50070-101776 start_mrt.sh[2208743]:       <Thread>unknown thread name</Thread>\\nNov 10 05:49:09 CMX50070-101776 start_mrt.sh[2208743]:       <ErrorCode>No error. Some restrictions apply.</ErrorCode>\\nNov 10 05:49:09 CMX50070-101776 start_mrt.sh[2208743]:     </Error>\\nNov 10 05:49:09 CMX50070-101776 start_mrt.sh[2208743]:   </Errors>\\nNov 10 05:49:09 CMX50070-101776 start_mrt.sh[2208743]: </CompassErrorLog>\\nNov 10 05:49:09 CMX50070-101776 start_mrt.sh[2208744]: ## ----------------------------------------------------------------\\nNov 10 05:49:09 CMX50070-101776 start_mrt.sh[2208744]: Date and Time = 2023-11-09T13:13:39.524697091Z (UpTime=97.067, MRT-ST=121698856.524697091)', metadata={'source': 'C:/Users/vishw/OneDrive/Desktop/Projects/daemon-dialoguers/Dataset/test_log1.out'}),\n",
       "  Document(page_content=\"Nov 09 13:15:16 CMX50070-101776 start_mrt.sh[27299]: Generated .drift folder directory: /home/instrument/fw/log/2023-11-09T13-11-48Z/sfa/NetworkEmulation1/sri\\nNov 09 13:15:16 CMX50070-101776 start_mrt.sh[27299]: [INFO] [2023-11-09T13:15:16,727+0000] [utilities.replay_drifted:123]: replaying from the drifted folder\\nNov 09 13:15:17 CMX50070-101776 start_mrt.sh[27355]: ERROR: Caught exception while processing cell add/update '//mrt/0/testenvironment/0/signaling/0/sri/0/asservice/0/nrservice/0/cell/0': Cell //mrt/0/testenvironment/0/signaling/0/sri/0/asservice/0/nrservice/0/cell/0 is missing rach_config_common\\nNov 09 13:15:17 CMX50070-101776 start_mrt.sh[27299]: [INFO] [2023-11-09T13:15:17,827+0000] [utilities.replay_drifted:127]: Finished replaying the RPC calls\", metadata={'source': 'C:/Users/vishw/OneDrive/Desktop/Projects/daemon-dialoguers/Dataset/test_log1.out'}),\n",
       "  Document(page_content='Nov 10 01:22:34 CMX50070-101776 start-mrt.sysmond.sh[503330]: 2023-11-10T01:22:34,274958580+00:00 Compress log \"/home/instrument/fw/log/sysmond_main.1.nmon\"...\\nNov 10 01:22:34 CMX50070-101776 start-mrt.sysmond.sh[503332]: *** zstd command line interface 64-bits v1.5.2, by Yann Collet ***\\nNov 10 01:22:34 CMX50070-101776 start-mrt.sysmond.sh[503332]: [380B blob data]\\nNov 10 01:22:34 CMX50070-101776 start-mrt.sysmond.sh[503343]: 2023-11-10T01:22:34,464677883+00:00 Compression done\\nNov 10 01:22:34 CMX50070-101776 start-mrt.sysmond.sh[503359]: 2023-11-10T01:22:34,488875044+00:00 Compress log \"/home/instrument/fw/log/sysmond_processes.1.nmon\"...\\nNov 10 01:22:34 CMX50070-101776 start-mrt.sysmond.sh[503361]: *** zstd command line interface 64-bits v1.5.2, by Yann Collet ***\\nNov 10 01:22:34 CMX50070-101776 start-mrt.sysmond.sh[503361]: [305B blob data]\\nNov 10 01:22:34 CMX50070-101776 start-mrt.sysmond.sh[503365]: 2023-11-10T01:22:34,616338990+00:00 Compression done', metadata={'source': 'C:/Users/vishw/OneDrive/Desktop/Projects/daemon-dialoguers/Dataset/test_log1.out'}),\n",
       "  Document(page_content='Nov 09 13:41:09 CMX50070-101776 start_mrt.sh[192085]: [INFO] [2023-11-09T13:41:09,731+0000] [utilities.__init__:193]: Broker started as Slave\\nNov 09 13:41:09 CMX50070-101776 start_mrt.sh[192085]: [INFO] [2023-11-09T13:41:09,731+0000] [srss.verify_args:57]: Master broker address: 127.0.0.1\\nNov 09 13:41:09 CMX50070-101776 start_mrt.sh[192085]: [INFO] [2023-11-09T13:41:09,731+0000] [srss.verify_args:63]: sri_recall_log_lookup_location: /home/instrument/fw/log/2023-11-09T13-11-48Z/sfa/NetworkEmulation2/sri\\nNov 09 13:41:09 CMX50070-101776 start_mrt.sh[192085]: [INFO] [2023-11-09T13:41:09,731+0000] [srss.verify_args:69]: working_dir: /home/instrument/fw/log/2023-11-09T13-11-48Z/sfa/NetworkEmulation2/sri\\nNov 09 13:41:09 CMX50070-101776 start_mrt.sh[192085]: [INFO] [2023-11-09T13:41:09,731+0000] [srss.__init__:43]: SRSS version: 05.01.01', metadata={'source': 'C:/Users/vishw/OneDrive/Desktop/Projects/daemon-dialoguers/Dataset/test_log1.out'}),\n",
       "  Document(page_content=\"Nov 09 13:13:26 CMX50070-101776 start_mrt.sh[16216]: Created text event log '/home/instrument/fw/log/2023-11-09T13-11-48Z/sfa/eventlog_0.log'\\nNov 09 13:13:26 CMX50070-101776 start_mrt.sh[16216]: Registering service '//mrt/0/testenvironment/0/eventlog/0'...\\nNov 09 13:13:26 CMX50070-101776 start_mrt.sh[16216]: Registered service '//mrt/0/testenvironment/0/eventlog/0'\\nNov 09 13:13:26 CMX50070-101776 start_mrt.sh[16216]: EventLog successfully started\\nNov 09 13:13:26 CMX50070-101776 start_mrt.sh[16216]: Disabling logging to stdout...\\nNov 09 13:13:27 CMX50070-101776 start_mrt.sh[3219]: TSS: Detected change of CLOCK_REALTIME!\\nNov 09 13:13:27 CMX50070-101776 start_mrt.sh[3219]: TSS: Current leap-second count at 2023-11-09T13:13:27Z is 37\\nNov 09 13:13:27 CMX50070-101776 start_mrt.sh[3219]: TSS: CLOCK_TAI offset set to 37 seconds\\nNov 09 13:13:27 CMX50070-101776 start_mrt.sh[3219]: TSS: Created local MB wrapper on slot 1400\", metadata={'source': 'C:/Users/vishw/OneDrive/Desktop/Projects/daemon-dialoguers/Dataset/test_log1.out'}),\n",
       "  Document(page_content='Nov 09 16:14:29 CMX50070-101776 start-mrt.sysmond.sh[1181704]: 2023-11-09T16:14:29,489268648+00:00 Compress log \"/home/instrument/fw/log/sysmond_processes.1.nmon\"...\\nNov 09 16:14:29 CMX50070-101776 start-mrt.sysmond.sh[1181706]: *** zstd command line interface 64-bits v1.5.2, by Yann Collet ***\\nNov 09 16:14:29 CMX50070-101776 start-mrt.sysmond.sh[1181706]: [305B blob data]\\nNov 09 16:14:29 CMX50070-101776 start-mrt.sysmond.sh[1181710]: 2023-11-09T16:14:29,610252875+00:00 Compression done\\nNov 09 16:14:29 CMX50070-101776 start-mrt.sysmond.sh[1181714]: 2023-11-09T16:14:29,613494608+00:00 Rotation done\\nNov 09 16:14:29 CMX50070-101776 start-mrt.sysmond.sh[1181718]: 2023-11-09T16:14:29,615728785+00:00 Launching nmon...\\nNov 09 16:14:29 CMX50070-101776 start-mrt.sysmond.sh[1181729]: 2023-11-09T16:14:29,625572298+00:00 Launch done: PID is 1181725\\nNov 09 16:14:50 CMX50070-101776 mrt.pos.catrp3dr[1867]: info: RohdeSchwarz.Mrt.Microservices.PositioningCatrP3Dr.Positioning.PositioningServiceHost[0]', metadata={'source': 'C:/Users/vishw/OneDrive/Desktop/Projects/daemon-dialoguers/Dataset/test_log1.out'}),\n",
       "  Document(page_content='Nov 09 13:12:39 CMX50070-101776 start_mrt.sh[10234]: fpga version=0x3070007\\nNov 09 13:12:39 CMX50070-101776 start_mrt.sh[10235]: CCmgAccess(/dev/rohde-schwarz/cmg_300) ctor handle=3\\nNov 09 13:12:39 CMX50070-101776 start_mrt.sh[10235]: fpga version=0x3070007\\nNov 09 13:12:39 CMX50070-101776 start_mrt.sh[10236]: Write :/home/instrument/fw/log/2023-11-09T13-11-48Z/bbmpp_log_cmg_400_inst0.txt\\nNov 09 13:12:39 CMX50070-101776 start_mrt.sh[10235]: Write :/home/instrument/fw/log/2023-11-09T13-11-48Z/bbmpp_log_cmg_300_inst1.txt\\nNov 09 13:12:39 CMX50070-101776 start_mrt.sh[10234]: Write :/home/instrument/fw/log/2023-11-09T13-11-48Z/bbmpp_log_cmg_300_inst0.txt\\nNov 09 13:12:39 CMX50070-101776 start_mrt.sh[10232]: Write :/home/instrument/fw/log/2023-11-09T13-11-48Z/bbmpp_log_cmg_400_inst1.txt\\nNov 09 13:12:39 CMX50070-101776 start_mrt.sh[3219]: CCmgAccess(/dev/rohde-schwarz/cmg_400) ctor handle=538\\nNov 09 13:12:39 CMX50070-101776 start_mrt.sh[3219]: fpga version=0x3070007', metadata={'source': 'C:/Users/vishw/OneDrive/Desktop/Projects/daemon-dialoguers/Dataset/test_log1.out'}),\n",
       "  Document(page_content='Nov 09 19:17:08 CMX50070-101776 start-mrt.sysmond.sh[2352936]: 2023-11-09T19:17:08,557366079+00:00 Compress log \"/home/instrument/fw/log/sysmond_main.1.nmon\"...\\nNov 09 19:17:08 CMX50070-101776 start-mrt.sysmond.sh[2352938]: *** zstd command line interface 64-bits v1.5.2, by Yann Collet ***\\nNov 09 19:17:08 CMX50070-101776 start-mrt.sysmond.sh[2352938]: [295B blob data]\\nNov 09 19:17:08 CMX50070-101776 start-mrt.sysmond.sh[2352945]: 2023-11-09T19:17:08,718960566+00:00 Compression done\\nNov 09 19:17:08 CMX50070-101776 start-mrt.sysmond.sh[2352960]: 2023-11-09T19:17:08,743141334+00:00 Compress log \"/home/instrument/fw/log/sysmond_processes.1.nmon\"...\\nNov 09 19:17:08 CMX50070-101776 start-mrt.sysmond.sh[2352962]: *** zstd command line interface 64-bits v1.5.2, by Yann Collet ***\\nNov 09 19:17:08 CMX50070-101776 start-mrt.sysmond.sh[2352962]: [305B blob data]\\nNov 09 19:17:08 CMX50070-101776 start-mrt.sysmond.sh[2352966]: 2023-11-09T19:17:08,857930386+00:00 Compression done', metadata={'source': 'C:/Users/vishw/OneDrive/Desktop/Projects/daemon-dialoguers/Dataset/test_log1.out'}),\n",
       "  Document(page_content='Nov 09 22:19:48 CMX50070-101776 start-mrt.sysmond.sh[3523899]: 2023-11-09T22:19:48,981523352+00:00 Compress log \"/home/instrument/fw/log/sysmond_processes.1.nmon\"...\\nNov 09 22:19:48 CMX50070-101776 start-mrt.sysmond.sh[3523901]: *** zstd command line interface 64-bits v1.5.2, by Yann Collet ***\\nNov 09 22:19:49 CMX50070-101776 start-mrt.sysmond.sh[3523901]: [305B blob data]\\nNov 09 22:19:49 CMX50070-101776 start-mrt.sysmond.sh[3523905]: 2023-11-09T22:19:49,099110450+00:00 Compression done\\nNov 09 22:19:49 CMX50070-101776 start-mrt.sysmond.sh[3523909]: 2023-11-09T22:19:49,101141269+00:00 Rotation done\\nNov 09 22:19:49 CMX50070-101776 start-mrt.sysmond.sh[3523913]: 2023-11-09T22:19:49,102983017+00:00 Launching nmon...\\nNov 09 22:19:49 CMX50070-101776 start-mrt.sysmond.sh[3523924]: 2023-11-09T22:19:49,110938824+00:00 Launch done: PID is 3523920\\nNov 09 22:19:50 CMX50070-101776 mrt.pos.catrp3dr[1867]: info: RohdeSchwarz.Mrt.Microservices.PositioningCatrP3Dr.Positioning.PositioningServiceHost[0]', metadata={'source': 'C:/Users/vishw/OneDrive/Desktop/Projects/daemon-dialoguers/Dataset/test_log1.out'})],\n",
       " [0.6689145885857017,\n",
       "  0.656504786216457,\n",
       "  0.6547349136069391,\n",
       "  0.6544322149409338,\n",
       "  0.6539689367821021,\n",
       "  0.6537894333542942,\n",
       "  0.6526603192826874,\n",
       "  0.6509040601052385,\n",
       "  0.6485345221351074,\n",
       "  0.6468751796358092,\n",
       "  0.6463752969390458,\n",
       "  0.6458268821462221,\n",
       "  0.6453519714572014,\n",
       "  0.6453226372506378,\n",
       "  0.6443565050422225])"
      ]
     },
     "execution_count": 13,
     "metadata": {},
     "output_type": "execute_result"
    }
   ],
   "source": [
    "returns = cm.get_context(\"When was run sfa_mmi executed?\", f\"./chromadb/{md5hash}_large\")\n",
    "returns"
   ]
  },
  {
   "cell_type": "markdown",
   "metadata": {},
   "source": [
    "### ChatGPT test"
   ]
  },
  {
   "cell_type": "code",
   "execution_count": 35,
   "metadata": {},
   "outputs": [],
   "source": [
    "md5hash = hashlib.md5(open(f\"{DATA_DIR}/test_log1.out\",'rb').read()).hexdigest()\n"
   ]
  },
  {
   "cell_type": "code",
   "execution_count": 36,
   "metadata": {},
   "outputs": [
    {
     "data": {
      "text/plain": [
       "{'answer': 'Yes, there were SSH login errors. There were instances of authentication failure and failed passwords for invalid users. There were also errors due to the connection being closed by the remote host.\\n',\n",
       " 'Source': ['Nov 09 14:34:40 CMX50070-101776 sshd[538343]: pam_unix(sshd:auth): authentication failure; logname= uid=0 euid=0 tty=ssh ruser= rhost=10.0.2.217\\nNov 09 14:34:42 CMX50070-101776 sshd[538343]: Failed password for invalid user pi from 10.0.2.217 port 41984 ssh2',\n",
       "  'Nov 09 14:34:38 CMX50070-101776 sshd[538103]: pam_unix(sshd:auth): authentication failure; logname= uid=0 euid=0 tty=ssh ruser= rhost=10.0.2.217\\nNov 09 14:34:39 CMX50070-101776 sshd[538103]: Failed password for invalid user USERID from 10.0.2.217 port 41888 ssh2',\n",
       "  'Nov 09 13:59:25 CMX50070-101776 sshd[308115]: error: kex_exchange_identification: Connection closed by remote host\\nNov 09 13:59:25 CMX50070-101776 sshd[308115]: Connection closed by 172.25.11.231 port 41772',\n",
       "  'Nov 09 13:59:06 CMX50070-101776 sshd[306205]: error: kex_exchange_identification: Connection closed by remote host\\nNov 09 13:59:06 CMX50070-101776 sshd[306205]: Connection closed by 192.168.85.173 port 41660',\n",
       "  'Nov 09 13:50:43 CMX50070-101776 sshd[253335]: error: kex_exchange_identification: Connection closed by remote host\\nNov 09 13:50:43 CMX50070-101776 sshd[253335]: Connection closed by 192.168.85.173 port 49146',\n",
       "  'Nov 09 13:19:55 CMX50070-101776 sshd[58279]: error: kex_exchange_identification: Connection closed by remote host\\nNov 09 13:19:55 CMX50070-101776 sshd[58279]: Connection closed by 172.24.26.38 port 44158',\n",
       "  'Nov 09 13:11:43 CMX50070-101776 sshd[2542]: error: kex_exchange_identification: Connection closed by remote host\\nNov 09 13:11:43 CMX50070-101776 sshd[2542]: Connection closed by 172.24.26.36 port 58080',\n",
       "  'Nov 09 13:15:33 CMX50070-101776 sshd[30256]: error: kex_exchange_identification: Connection closed by remote host\\nNov 09 13:15:33 CMX50070-101776 sshd[30256]: Connection closed by 172.24.26.38 port 38202',\n",
       "  'Nov 09 13:15:46 CMX50070-101776 sshd[31581]: error: kex_exchange_identification: Connection closed by remote host\\nNov 09 13:15:46 CMX50070-101776 sshd[31581]: Connection closed by 172.24.26.36 port 35400',\n",
       "  'Nov 09 13:56:14 CMX50070-101776 sshd[288075]: error: kex_exchange_identification: Connection closed by remote host\\nNov 09 13:56:14 CMX50070-101776 sshd[288075]: Connection closed by 172.25.232.145 port 48058'],\n",
       " 'Confidence': [0.762427171149399,\n",
       "  0.7510121819189811,\n",
       "  0.7472339698310706,\n",
       "  0.7463074556602556,\n",
       "  0.7456425048312992,\n",
       "  0.7452286438523466,\n",
       "  0.7450256435564937,\n",
       "  0.7450202487598844,\n",
       "  0.7449986695734467,\n",
       "  0.7446929784811973]}"
      ]
     },
     "execution_count": 36,
     "metadata": {},
     "output_type": "execute_result"
    }
   ],
   "source": [
    "chatbot.chat_with_bot(\"Were there any SSH login errors?\", md5hash, '002', memory=False)"
   ]
  },
  {
   "cell_type": "code",
   "execution_count": 37,
   "metadata": {},
   "outputs": [
    {
     "data": {
      "text/plain": [
       "{'answer': 'The IP was 10.0.2.217.\\n',\n",
       " 'Source': ['Nov 09 14:28:28 CMX50070-101776 rspias-daemon[887]: PIAS: PIAS: Remote access from client 10.0.2.217\\nNov 09 14:28:28 CMX50070-101776 rspias-daemon[887]: PIAS: PIAS: Remote access from client 10.0.2.217',\n",
       "  'Nov 09 14:34:11 CMX50070-101776 rspias-daemon[887]: PIAS: PIAS: Remote access from client 10.0.2.217\\nNov 09 14:34:19 CMX50070-101776 rspias-daemon[887]: PIAS: PIAS: Remote access from client 10.0.2.217',\n",
       "  'Nov 09 14:31:45 CMX50070-101776 rspias-daemon[887]: PIAS: PIAS: Remote access from client 10.0.2.217\\nNov 09 14:31:45 CMX50070-101776 rspias-daemon[887]: PIAS: PIAS: Remote access from client 10.0.2.217',\n",
       "  'Nov 09 14:31:45 CMX50070-101776 rspias-daemon[887]: PIAS: PIAS: Remote access from client 10.0.2.217\\nNov 09 14:31:45 CMX50070-101776 rspias-daemon[887]: PIAS: PIAS: Remote access from client 10.0.2.217',\n",
       "  'Nov 09 14:31:45 CMX50070-101776 rspias-daemon[887]: PIAS: PIAS: Remote access from client 10.0.2.217\\nNov 09 14:31:45 CMX50070-101776 rspias-daemon[887]: PIAS: PIAS: Remote access from client 10.0.2.217',\n",
       "  'Nov 09 14:31:45 CMX50070-101776 rspias-daemon[887]: PIAS: PIAS: Remote access from client 10.0.2.217\\nNov 09 14:31:45 CMX50070-101776 rspias-daemon[887]: PIAS: PIAS: Remote access from client 10.0.2.217',\n",
       "  'Nov 09 14:25:01 CMX50070-101776 rspias-daemon[887]: PIAS: PIAS: Remote access from client 10.0.2.217\\nNov 09 14:25:01 CMX50070-101776 rspias-daemon[887]: PIAS: PIAS: Remote access from client 10.0.2.217',\n",
       "  'Nov 09 14:26:52 CMX50070-101776 rspias-daemon[887]: PIAS: PIAS: Remote access from client 10.0.2.217\\nNov 09 14:27:00 CMX50070-101776 rspias-daemon[887]: PIAS: PIAS: Remote access from client 10.0.2.217',\n",
       "  'Nov 09 13:41:10 CMX50070-101776 rspias-daemon[887]: PIAS: 10.102.36.125:56792 >> [16EC5C81EFCF44E1B6113D344AC9209F R&S SWPL QUERY ID EqNumber=1201.0002k70,\"DEFAULT\"]\\nNov 09 13:41:12 CMX50070-101776 rspias-daemon[887]: PIAS: 10.102.36.125:56792 <PIAS: PIAS: Remote access from client 10.102.36.125',\n",
       "  'Nov 09 14:27:56 CMX50070-101776 rspias-daemon[887]: PIAS: PIAS: Remote access from client 10.0.2.217\\nNov 09 14:28:12 CMX50070-101776 rspias-daemon[887]: PIAS: PIAS: Remote access from client 10.0.2.217'],\n",
       " 'Confidence': [0.6834479177703192,\n",
       "  0.6830033949590748,\n",
       "  0.6826105441841048,\n",
       "  0.6825296222349639,\n",
       "  0.6824492060480052,\n",
       "  0.6824492060480052,\n",
       "  0.6822109920602215,\n",
       "  0.6822103387840697,\n",
       "  0.6822090111583415,\n",
       "  0.6821789604553533]}"
      ]
     },
     "execution_count": 37,
     "metadata": {},
     "output_type": "execute_result"
    }
   ],
   "source": [
    "chatbot.chat_with_bot(\"What IPs were they?\", md5hash, '002', memory=True)"
   ]
  },
  {
   "cell_type": "code",
   "execution_count": 38,
   "metadata": {},
   "outputs": [],
   "source": [
    "from langchain.embeddings import HuggingFaceEmbeddings, OpenAIEmbeddings\n",
    "from langchain.vectorstores import Chroma\n",
    "from langchain.document_loaders import TextLoader\n",
    "from langchain.text_splitter import RecursiveCharacterTextSplitter\n",
    "from langchain.chat_models import ChatOpenAI\n",
    "from langchain.chains import ConversationalRetrievalChain, RetrievalQAWithSourcesChain\n",
    "from langchain.memory import ConversationBufferMemory\n",
    "\n",
    "import os\n",
    "os.environ[\"OPENAI_API_KEY\"] = key['openai_api_key']"
   ]
  },
  {
   "cell_type": "code",
   "execution_count": 39,
   "metadata": {},
   "outputs": [],
   "source": [
    "memory = ConversationBufferMemory(memory_key='chat_history', return_messages=True, input_key='question', output_key='answer')"
   ]
  },
  {
   "cell_type": "code",
   "execution_count": 40,
   "metadata": {},
   "outputs": [],
   "source": [
    "md5hash = hashlib.md5(open(f\"{DATA_DIR}/test_log1.out\",'rb').read()).hexdigest()\n",
    "question = \"What lines have messages on SSH?\""
   ]
  },
  {
   "cell_type": "code",
   "execution_count": 41,
   "metadata": {},
   "outputs": [],
   "source": [
    "docs_small,conf_small = cm.get_context(question, f\"./chromadb/{md5hash}_small\")\n",
    "docs_large,conf_large = cm.get_context(question, f\"./chromadb/{md5hash}_large\")\n",
    "\n",
    "## Add both large and small to a single list and sort them by confidence\n",
    "docs = docs_small + docs_large\n",
    "conf = conf_small + conf_large\n",
    "\n",
    "df = pd.DataFrame({'docs':docs, 'conf':conf})\n",
    "df.sort_values(by='conf', ascending=False, inplace=True)\n",
    "df.reset_index(drop=True, inplace=True)\n",
    "\n",
    "# df\n",
    "\n"
   ]
  },
  {
   "cell_type": "code",
   "execution_count": 22,
   "metadata": {},
   "outputs": [],
   "source": [
    "embedding = OpenAIEmbeddings(\n",
    "openai_organization=key['openai_organization'],\n",
    "openai_api_key = key['openai_api_key'],\n",
    "model=\"text-embedding-ada-002\",\n",
    "max_retries=10,\n",
    ")\n",
    "\n",
    "vectorstore_relevant = Chroma.from_documents(list(df['docs'].values), embedding=embedding)\n",
    "retriver = vectorstore_relevant.as_retriever(search_kwargs={\"k\": 10,\"score_threshold\": .5})\n"
   ]
  },
  {
   "cell_type": "code",
   "execution_count": 23,
   "metadata": {},
   "outputs": [],
   "source": [
    "llm = ChatOpenAI(\n",
    "openai_organization=\"org-kfsNXpcw90CoawqSyD7Mw4CD\",\n",
    "model=\"gpt-4\",\n",
    "max_tokens=1000,\n",
    ")"
   ]
  },
  {
   "cell_type": "code",
   "execution_count": 24,
   "metadata": {},
   "outputs": [],
   "source": [
    "chat = RetrievalQAWithSourcesChain.from_llm(llm, retriever=retriver, memory=memory, return_source_documents=True, max_tokens_limit=1000, reduce_k_below_max_tokens=True)"
   ]
  },
  {
   "cell_type": "code",
   "execution_count": 25,
   "metadata": {},
   "outputs": [
    {
     "data": {
      "text/plain": [
       "{'question': 'What lines have messages on SSH?',\n",
       " 'chat_history': [HumanMessage(content='What lines have messages on SSH?'),\n",
       "  AIMessage(content='The following lines have messages on SSH: \\n\\n1. \"Nov 09 13:50:04 CMX50070-101776 sshd[249289]: Connection closed by 172.25.11.232 port 45426\"\\n2. \"Nov 09 13:44:11 CMX50070-101776 sshd[212198]: Connection closed by 172.25.232.145 port 56312\"\\n3. \"Nov 09 13:54:33 CMX50070-101776 sshd[277530]: Connection closed by 172.25.11.232 port 36124\"\\n4. \"Nov 09 13:55:08 CMX50070-101776 sshd[281144]: Connection closed by 192.168.85.173 port 60810\"\\n5. \"Nov 09 13:53:34 CMX50070-101776 sshd[271352]: Connection closed by 172.24.11.231 port 33828\"\\n\\n')],\n",
       " 'answer': 'The following lines have messages on SSH: \\n\\n1. \"Nov 09 13:50:04 CMX50070-101776 sshd[249289]: Connection closed by 172.25.11.232 port 45426\"\\n2. \"Nov 09 13:44:11 CMX50070-101776 sshd[212198]: Connection closed by 172.25.232.145 port 56312\"\\n3. \"Nov 09 13:54:33 CMX50070-101776 sshd[277530]: Connection closed by 172.25.11.232 port 36124\"\\n4. \"Nov 09 13:55:08 CMX50070-101776 sshd[281144]: Connection closed by 192.168.85.173 port 60810\"\\n5. \"Nov 09 13:53:34 CMX50070-101776 sshd[271352]: Connection closed by 172.24.11.231 port 33828\"\\n\\n',\n",
       " 'sources': 'C:/Users/vishw/OneDrive/Desktop/Projects/daemon-dialoguers/Dataset/test_log1.out',\n",
       " 'source_documents': [Document(page_content='Nov 09 13:50:04 CMX50070-101776 sshd[249289]: Connection closed by 172.25.11.232 port 45426\\nNov 09 13:50:04 CMX50070-101776 systemd[1]: sshd@214-10.102.37.173:22-172.25.11.232:45426.service: Deactivated successfully.\\nNov 09 13:50:04 CMX50070-101776 start_cmxmarsserver.sh[173642]: Got Data: 947400 count: 40 t: 1:50:04 PM\\nNov 09 13:50:06 CMX50070-101776 start_cmxmarsserver.sh[173642]: Got Data: 949400 count: 55 t: 1:50:06 PM\\nNov 09 13:50:07 CMX50070-101776 start_cmxmarsserver.sh[173642]: Got Data: 951400 count: 58 t: 1:50:07 PM\\nNov 09 13:50:07 CMX50070-101776 start_cmxmarsserver.sh[173642]: Got Data: 953400 count: 55 t: 1:50:07 PM\\nNov 09 13:50:09 CMX50070-101776 start_cmxmarsserver.sh[173642]: Got Data: 955400 count: 63 t: 1:50:09 PM\\nNov 09 13:50:10 CMX50070-101776 start_cmxmarsserver.sh[173642]: Got Data: 957400 count: 65 t: 1:50:10 PM\\nNov 09 13:50:11 CMX50070-101776 start_cmxmarsserver.sh[173642]: Got Data: 959400 count: 72 t: 1:50:11 PM', metadata={'source': 'C:/Users/vishw/OneDrive/Desktop/Projects/daemon-dialoguers/Dataset/test_log1.out'}),\n",
       "  Document(page_content='Nov 09 13:50:04 CMX50070-101776 sshd[249289]: Connection closed by 172.25.11.232 port 45426\\nNov 09 13:50:04 CMX50070-101776 systemd[1]: sshd@214-10.102.37.173:22-172.25.11.232:45426.service: Deactivated successfully.\\nNov 09 13:50:04 CMX50070-101776 start_cmxmarsserver.sh[173642]: Got Data: 947400 count: 40 t: 1:50:04 PM\\nNov 09 13:50:06 CMX50070-101776 start_cmxmarsserver.sh[173642]: Got Data: 949400 count: 55 t: 1:50:06 PM\\nNov 09 13:50:07 CMX50070-101776 start_cmxmarsserver.sh[173642]: Got Data: 951400 count: 58 t: 1:50:07 PM\\nNov 09 13:50:07 CMX50070-101776 start_cmxmarsserver.sh[173642]: Got Data: 953400 count: 55 t: 1:50:07 PM\\nNov 09 13:50:09 CMX50070-101776 start_cmxmarsserver.sh[173642]: Got Data: 955400 count: 63 t: 1:50:09 PM\\nNov 09 13:50:10 CMX50070-101776 start_cmxmarsserver.sh[173642]: Got Data: 957400 count: 65 t: 1:50:10 PM\\nNov 09 13:50:11 CMX50070-101776 start_cmxmarsserver.sh[173642]: Got Data: 959400 count: 72 t: 1:50:11 PM', metadata={'source': 'C:/Users/vishw/OneDrive/Desktop/Projects/daemon-dialoguers/Dataset/test_log1.out'}),\n",
       "  Document(page_content='Nov 09 13:44:11 CMX50070-101776 sshd[212198]: Connection closed by 172.25.232.145 port 56312\\nNov 09 13:44:11 CMX50070-101776 systemd[1]: sshd@179-10.102.37.173:22-172.25.232.145:56312.service: Deactivated successfully.\\nNov 09 13:44:14 CMX50070-101776 start_cmxmarsserver.sh[173642]: Got Data: 243800 count: 5 t: 1:44:14 PM\\nNov 09 13:44:14 CMX50070-101776 start_cmxmarsserver.sh[173642]: Got Data: 243700 count: 100 t: 1:44:14 PM\\nNov 09 13:44:15 CMX50070-101776 start_cmxmarsserver.sh[173642]: Got Data: 245500 count: 100 t: 1:44:15 PM\\nNov 09 13:44:15 CMX50070-101776 start_cmxmarsserver.sh[173642]: Got Data: 245600 count: 13 t: 1:44:15 PM\\nNov 09 13:44:15 CMX50070-101776 start_cmxmarsserver.sh[173642]: Got Data: 246600 count: 4 t: 1:44:15 PM\\nNov 09 13:44:15 CMX50070-101776 start_cmxmarsserver.sh[173642]: Got Data: 246500 count: 100 t: 1:44:15 PM\\nNov 09 13:44:15 CMX50070-101776 start_cmxmarsserver.sh[173642]: Got Data: 247000 count: 8 t: 1:44:15 PM', metadata={'source': 'C:/Users/vishw/OneDrive/Desktop/Projects/daemon-dialoguers/Dataset/test_log1.out'}),\n",
       "  Document(page_content='Nov 09 13:44:11 CMX50070-101776 sshd[212198]: Connection closed by 172.25.232.145 port 56312\\nNov 09 13:44:11 CMX50070-101776 systemd[1]: sshd@179-10.102.37.173:22-172.25.232.145:56312.service: Deactivated successfully.\\nNov 09 13:44:14 CMX50070-101776 start_cmxmarsserver.sh[173642]: Got Data: 243800 count: 5 t: 1:44:14 PM\\nNov 09 13:44:14 CMX50070-101776 start_cmxmarsserver.sh[173642]: Got Data: 243700 count: 100 t: 1:44:14 PM\\nNov 09 13:44:15 CMX50070-101776 start_cmxmarsserver.sh[173642]: Got Data: 245500 count: 100 t: 1:44:15 PM\\nNov 09 13:44:15 CMX50070-101776 start_cmxmarsserver.sh[173642]: Got Data: 245600 count: 13 t: 1:44:15 PM\\nNov 09 13:44:15 CMX50070-101776 start_cmxmarsserver.sh[173642]: Got Data: 246600 count: 4 t: 1:44:15 PM\\nNov 09 13:44:15 CMX50070-101776 start_cmxmarsserver.sh[173642]: Got Data: 246500 count: 100 t: 1:44:15 PM\\nNov 09 13:44:15 CMX50070-101776 start_cmxmarsserver.sh[173642]: Got Data: 247000 count: 8 t: 1:44:15 PM', metadata={'source': 'C:/Users/vishw/OneDrive/Desktop/Projects/daemon-dialoguers/Dataset/test_log1.out'}),\n",
       "  Document(page_content='Nov 09 13:54:33 CMX50070-101776 sshd[277530]: Connection closed by 172.25.11.232 port 36124\\nNov 09 13:54:33 CMX50070-101776 systemd[1]: sshd@237-10.102.37.173:22-172.25.11.232:36124.service: Deactivated successfully.\\nNov 09 13:54:34 CMX50070-101776 start_cmxmarsserver.sh[173642]: Got Data: 1486800 count: 51 t: 1:54:34 PM\\nNov 09 13:54:34 CMX50070-101776 start_cmxmarsserver.sh[173642]: Got Data: 1488800 count: 53 t: 1:54:34 PM\\nNov 09 13:54:36 CMX50070-101776 start_cmxmarsserver.sh[173642]: Got Data: 1490800 count: 51 t: 1:54:36 PM\\nNov 09 13:54:37 CMX50070-101776 start_cmxmarsserver.sh[173642]: Got Data: 1492800 count: 66 t: 1:54:37 PM\\nNov 09 13:54:38 CMX50070-101776 start_cmxmarsserver.sh[173642]: Got Data: 1494800 count: 64 t: 1:54:38 PM\\nNov 09 13:54:39 CMX50070-101776 start_cmxmarsserver.sh[173642]: Got Data: 1496800 count: 68 t: 1:54:39 PM\\nNov 09 13:54:40 CMX50070-101776 start_cmxmarsserver.sh[173642]: Got Data: 1498800 count: 77 t: 1:54:40 PM', metadata={'source': 'C:/Users/vishw/OneDrive/Desktop/Projects/daemon-dialoguers/Dataset/test_log1.out'}),\n",
       "  Document(page_content='Nov 09 13:55:08 CMX50070-101776 sshd[281144]: Connection closed by 192.168.85.173 port 60810\\nNov 09 13:55:08 CMX50070-101776 systemd[1]: sshd@239-10.102.37.173:22-192.168.85.173:60810.service: Deactivated successfully.\\nNov 09 13:55:08 CMX50070-101776 start_cmxmarsserver.sh[173642]: Got Data: 1554800 count: 98 t: 1:55:08 PM\\nNov 09 13:55:09 CMX50070-101776 start_cmxmarsserver.sh[173642]: Got Data: 1556700 count: 33 t: 1:55:09 PM\\nNov 09 13:55:09 CMX50070-101776 start_cmxmarsserver.sh[173642]: Got Data: 1556700 count: 34 t: 1:55:09 PM\\nNov 09 13:55:10 CMX50070-101776 start_cmxmarsserver.sh[173642]: Got Data: 1556700 count: 100 t: 1:55:10 PM\\nNov 09 13:55:10 CMX50070-101776 start_cmxmarsserver.sh[173642]: Got Data: 1556800 count: 21 t: 1:55:10 PM\\nNov 09 13:55:11 CMX50070-101776 start_cmxmarsserver.sh[173642]: Got Data: 1556900 count: 58 t: 1:55:11 PM\\nNov 09 13:55:13 CMX50070-101776 start_cmxmarsserver.sh[173642]: Got Data: 1557000 count: 96 t: 1:55:13 PM', metadata={'source': 'C:/Users/vishw/OneDrive/Desktop/Projects/daemon-dialoguers/Dataset/test_log1.out'}),\n",
       "  Document(page_content='Nov 09 13:55:08 CMX50070-101776 sshd[281144]: Connection closed by 192.168.85.173 port 60810\\nNov 09 13:55:08 CMX50070-101776 systemd[1]: sshd@239-10.102.37.173:22-192.168.85.173:60810.service: Deactivated successfully.\\nNov 09 13:55:08 CMX50070-101776 start_cmxmarsserver.sh[173642]: Got Data: 1554800 count: 98 t: 1:55:08 PM\\nNov 09 13:55:09 CMX50070-101776 start_cmxmarsserver.sh[173642]: Got Data: 1556700 count: 33 t: 1:55:09 PM\\nNov 09 13:55:09 CMX50070-101776 start_cmxmarsserver.sh[173642]: Got Data: 1556700 count: 34 t: 1:55:09 PM\\nNov 09 13:55:10 CMX50070-101776 start_cmxmarsserver.sh[173642]: Got Data: 1556700 count: 100 t: 1:55:10 PM\\nNov 09 13:55:10 CMX50070-101776 start_cmxmarsserver.sh[173642]: Got Data: 1556800 count: 21 t: 1:55:10 PM\\nNov 09 13:55:11 CMX50070-101776 start_cmxmarsserver.sh[173642]: Got Data: 1556900 count: 58 t: 1:55:11 PM\\nNov 09 13:55:13 CMX50070-101776 start_cmxmarsserver.sh[173642]: Got Data: 1557000 count: 96 t: 1:55:13 PM', metadata={'source': 'C:/Users/vishw/OneDrive/Desktop/Projects/daemon-dialoguers/Dataset/test_log1.out'}),\n",
       "  Document(page_content='Nov 09 13:54:33 CMX50070-101776 sshd[277530]: Connection closed by 172.25.11.232 port 36124\\nNov 09 13:54:33 CMX50070-101776 systemd[1]: sshd@237-10.102.37.173:22-172.25.11.232:36124.service: Deactivated successfully.\\nNov 09 13:54:34 CMX50070-101776 start_cmxmarsserver.sh[173642]: Got Data: 1486800 count: 51 t: 1:54:34 PM\\nNov 09 13:54:34 CMX50070-101776 start_cmxmarsserver.sh[173642]: Got Data: 1488800 count: 53 t: 1:54:34 PM\\nNov 09 13:54:36 CMX50070-101776 start_cmxmarsserver.sh[173642]: Got Data: 1490800 count: 51 t: 1:54:36 PM\\nNov 09 13:54:37 CMX50070-101776 start_cmxmarsserver.sh[173642]: Got Data: 1492800 count: 66 t: 1:54:37 PM\\nNov 09 13:54:38 CMX50070-101776 start_cmxmarsserver.sh[173642]: Got Data: 1494800 count: 64 t: 1:54:38 PM\\nNov 09 13:54:39 CMX50070-101776 start_cmxmarsserver.sh[173642]: Got Data: 1496800 count: 68 t: 1:54:39 PM\\nNov 09 13:54:40 CMX50070-101776 start_cmxmarsserver.sh[173642]: Got Data: 1498800 count: 77 t: 1:54:40 PM', metadata={'source': 'C:/Users/vishw/OneDrive/Desktop/Projects/daemon-dialoguers/Dataset/test_log1.out'}),\n",
       "  Document(page_content='Nov 09 13:53:34 CMX50070-101776 sshd[271352]: Connection closed by 172.24.11.231 port 33828\\nNov 09 13:53:34 CMX50070-101776 systemd[1]: sshd@235-10.102.37.173:22-172.24.11.231:33828.service: Deactivated successfully.\\nNov 09 13:53:35 CMX50070-101776 start_cmxmarsserver.sh[173642]: Got Data: 1368400 count: 100 t: 1:53:35 PM\\nNov 09 13:53:35 CMX50070-101776 start_cmxmarsserver.sh[173642]: Got Data: 1368500 count: 25 t: 1:53:35 PM\\nNov 09 13:53:35 CMX50070-101776 start_cmxmarsserver.sh[173642]: Got Data: 1370500 count: 37 t: 1:53:35 PM\\nNov 09 13:53:36 CMX50070-101776 start_cmxmarsserver.sh[173642]: Got Data: 1372500 count: 39 t: 1:53:36 PM\\nNov 09 13:53:38 CMX50070-101776 start_cmxmarsserver.sh[173642]: Got Data: 1374500 count: 41 t: 1:53:38 PM\\nNov 09 13:53:39 CMX50070-101776 start_cmxmarsserver.sh[173642]: Got Data: 1376500 count: 54 t: 1:53:39 PM\\nNov 09 13:53:39 CMX50070-101776 start_cmxmarsserver.sh[173642]: Got Data: 1378500 count: 57 t: 1:53:39 PM', metadata={'source': 'C:/Users/vishw/OneDrive/Desktop/Projects/daemon-dialoguers/Dataset/test_log1.out'}),\n",
       "  Document(page_content='Nov 09 13:53:34 CMX50070-101776 sshd[271352]: Connection closed by 172.24.11.231 port 33828\\nNov 09 13:53:34 CMX50070-101776 systemd[1]: sshd@235-10.102.37.173:22-172.24.11.231:33828.service: Deactivated successfully.\\nNov 09 13:53:35 CMX50070-101776 start_cmxmarsserver.sh[173642]: Got Data: 1368400 count: 100 t: 1:53:35 PM\\nNov 09 13:53:35 CMX50070-101776 start_cmxmarsserver.sh[173642]: Got Data: 1368500 count: 25 t: 1:53:35 PM\\nNov 09 13:53:35 CMX50070-101776 start_cmxmarsserver.sh[173642]: Got Data: 1370500 count: 37 t: 1:53:35 PM\\nNov 09 13:53:36 CMX50070-101776 start_cmxmarsserver.sh[173642]: Got Data: 1372500 count: 39 t: 1:53:36 PM\\nNov 09 13:53:38 CMX50070-101776 start_cmxmarsserver.sh[173642]: Got Data: 1374500 count: 41 t: 1:53:38 PM\\nNov 09 13:53:39 CMX50070-101776 start_cmxmarsserver.sh[173642]: Got Data: 1376500 count: 54 t: 1:53:39 PM\\nNov 09 13:53:39 CMX50070-101776 start_cmxmarsserver.sh[173642]: Got Data: 1378500 count: 57 t: 1:53:39 PM', metadata={'source': 'C:/Users/vishw/OneDrive/Desktop/Projects/daemon-dialoguers/Dataset/test_log1.out'})]}"
      ]
     },
     "execution_count": 25,
     "metadata": {},
     "output_type": "execute_result"
    }
   ],
   "source": [
    "result = chat({\"question\": question})\n",
    "result"
   ]
  },
  {
   "cell_type": "code",
   "execution_count": 26,
   "metadata": {},
   "outputs": [
    {
     "name": "stdout",
     "output_type": "stream",
     "text": [
      "The following lines have messages on SSH: \n",
      "\n",
      "1. \"Nov 09 13:50:04 CMX50070-101776 sshd[249289]: Connection closed by 172.25.11.232 port 45426\"\n",
      "2. \"Nov 09 13:44:11 CMX50070-101776 sshd[212198]: Connection closed by 172.25.232.145 port 56312\"\n",
      "3. \"Nov 09 13:54:33 CMX50070-101776 sshd[277530]: Connection closed by 172.25.11.232 port 36124\"\n",
      "4. \"Nov 09 13:55:08 CMX50070-101776 sshd[281144]: Connection closed by 192.168.85.173 port 60810\"\n",
      "5. \"Nov 09 13:53:34 CMX50070-101776 sshd[271352]: Connection closed by 172.24.11.231 port 33828\"\n",
      "\n",
      "\n"
     ]
    }
   ],
   "source": [
    "print(result['answer'])"
   ]
  },
  {
   "cell_type": "markdown",
   "metadata": {},
   "source": [
    "### Full Token Test"
   ]
  },
  {
   "cell_type": "code",
   "execution_count": 49,
   "metadata": {},
   "outputs": [],
   "source": [
    "memory = ConversationBufferMemory(memory_key='chat_history', return_messages=True, input_key='question', output_key='answer')"
   ]
  },
  {
   "cell_type": "code",
   "execution_count": 50,
   "metadata": {},
   "outputs": [],
   "source": [
    "embedding = OpenAIEmbeddings(\n",
    "openai_organization=key['openai_organization'],\n",
    "openai_api_key = key['openai_api_key'],\n",
    "model=\"text-embedding-ada-002\",\n",
    "max_retries=10,\n",
    ")\n",
    "\n",
    "# Loading the datastore\n",
    "vector_db = Chroma(persist_directory=f\"./chromadb/{md5hash}_small\", embedding_function=embedding)\n",
    "retriver = vector_db.as_retriever()"
   ]
  },
  {
   "cell_type": "code",
   "execution_count": 51,
   "metadata": {},
   "outputs": [],
   "source": [
    "llm = ChatOpenAI(\n",
    "openai_organization=\"org-kfsNXpcw90CoawqSyD7Mw4CD\",\n",
    "model=\"gpt-4\",\n",
    ")\n",
    "\n",
    "chat = RetrievalQAWithSourcesChain.from_llm(llm, retriever=retriver, memory=memory, return_source_documents=True)"
   ]
  },
  {
   "cell_type": "code",
   "execution_count": 53,
   "metadata": {},
   "outputs": [
    {
     "data": {
      "text/plain": [
       "{'question': 'What IPs were they from?',\n",
       " 'chat_history': [HumanMessage(content='Were there any SSH login errors?'),\n",
       "  AIMessage(content='Yes, there were SSH login errors. These include authentication failures and connection closures by the remote host. \\n'),\n",
       "  HumanMessage(content='What IPs were they from?'),\n",
       "  AIMessage(content='The IP they were from is 10.0.2.217.\\n')],\n",
       " 'answer': 'The IP they were from is 10.0.2.217.\\n',\n",
       " 'sources': 'C:/Users/vishw/OneDrive/Desktop/Projects/daemon-dialoguers/Dataset/test_log1.out',\n",
       " 'source_documents': [Document(page_content='Nov 09 14:28:28 CMX50070-101776 rspias-daemon[887]: PIAS: PIAS: Remote access from client 10.0.2.217\\nNov 09 14:28:28 CMX50070-101776 rspias-daemon[887]: PIAS: PIAS: Remote access from client 10.0.2.217', metadata={'source': 'C:/Users/vishw/OneDrive/Desktop/Projects/daemon-dialoguers/Dataset/test_log1.out'}),\n",
       "  Document(page_content='Nov 09 14:31:45 CMX50070-101776 rspias-daemon[887]: PIAS: PIAS: Remote access from client 10.0.2.217\\nNov 09 14:31:45 CMX50070-101776 rspias-daemon[887]: PIAS: PIAS: Remote access from client 10.0.2.217', metadata={'source': 'C:/Users/vishw/OneDrive/Desktop/Projects/daemon-dialoguers/Dataset/test_log1.out'}),\n",
       "  Document(page_content='Nov 09 14:31:45 CMX50070-101776 rspias-daemon[887]: PIAS: PIAS: Remote access from client 10.0.2.217\\nNov 09 14:31:45 CMX50070-101776 rspias-daemon[887]: PIAS: PIAS: Remote access from client 10.0.2.217', metadata={'source': 'C:/Users/vishw/OneDrive/Desktop/Projects/daemon-dialoguers/Dataset/test_log1.out'}),\n",
       "  Document(page_content='Nov 09 14:31:45 CMX50070-101776 rspias-daemon[887]: PIAS: PIAS: Remote access from client 10.0.2.217\\nNov 09 14:31:45 CMX50070-101776 rspias-daemon[887]: PIAS: PIAS: Remote access from client 10.0.2.217', metadata={'source': 'C:/Users/vishw/OneDrive/Desktop/Projects/daemon-dialoguers/Dataset/test_log1.out'})]}"
      ]
     },
     "execution_count": 53,
     "metadata": {},
     "output_type": "execute_result"
    }
   ],
   "source": [
    "result = chat({\"question\": f\"What IPs were they from?\"})\n",
    "result"
   ]
  },
  {
   "cell_type": "markdown",
   "metadata": {},
   "source": [
    "### Langchain Summary Model"
   ]
  },
  {
   "cell_type": "code",
   "execution_count": 69,
   "metadata": {},
   "outputs": [],
   "source": [
    "from langchain.embeddings import HuggingFaceEmbeddings, OpenAIEmbeddings\n",
    "from langchain.vectorstores import Chroma\n",
    "from langchain.document_loaders import TextLoader\n",
    "from langchain.text_splitter import CharacterTextSplitter\n",
    "from langchain.chat_models import ChatOpenAI\n",
    "from langchain.chains import ConversationalRetrievalChain, RetrievalQAWithSourcesChain\n",
    "from langchain.memory import ConversationBufferMemory\n",
    "import tiktoken\n",
    "\n",
    "import os\n",
    "os.environ[\"OPENAI_API_KEY\"] = key['openai_api_key']\n",
    "\n",
    "md5hash = hashlib.md5(open(f\"{DATA_DIR}/test_log1.out\",'rb').read()).hexdigest()\n"
   ]
  },
  {
   "cell_type": "code",
   "execution_count": 110,
   "metadata": {},
   "outputs": [],
   "source": [
    "from langchain.prompts import PromptTemplate\n",
    "from langchain.chains.summarize import load_summarize_chain\n",
    "import textwrap\n",
    "from time import monotonic\n",
    "\n",
    "prompt_template = \"\"\"Write a concise summary of the following. Start with a small paragraph and then mention some key events as bullet points:\n",
    "\n",
    "\n",
    "{text}\n",
    "\n",
    "Paragraph:\n",
    "\n",
    "Important points:\"\"\"\n",
    "\n",
    "prompt = PromptTemplate(template=prompt_template, input_variables=[\"text\"])"
   ]
  },
  {
   "cell_type": "code",
   "execution_count": 111,
   "metadata": {},
   "outputs": [],
   "source": [
    "llm = ChatOpenAI(\n",
    "openai_organization=\"org-kfsNXpcw90CoawqSyD7Mw4CD\",\n",
    "model=\"gpt-4\",\n",
    ")"
   ]
  },
  {
   "cell_type": "code",
   "execution_count": 113,
   "metadata": {},
   "outputs": [],
   "source": [
    "# loader = TextLoader(f\"{DATA_DIR}/test_log1.out\")\n",
    "# documents = loader.load()\n",
    "\n",
    "# text_splitter = RecursiveCharacterTextSplitter(chunk_size=1000, chunk_overlap=0)\n",
    "# documents = text_splitter.split_documents(documents)\n",
    "question = 'What are errors and important processes in the log?'\n",
    "docs_small,conf_small = cm.get_context(question, f\"./chromadb/{md5hash}_small\", k = 30)\n",
    "# docs_large,conf_large = cm.get_context(question, f\"./chromadb/{md5hash}_large\", k = 30)\n",
    "\n",
    "## Add both large and small to a single list and sort them by confidence\n",
    "docs = docs_small"
   ]
  },
  {
   "cell_type": "code",
   "execution_count": 114,
   "metadata": {},
   "outputs": [],
   "source": [
    "chain = load_summarize_chain(llm, chain_type=\"stuff\", prompt=prompt)\n",
    "summary = chain.run(docs)"
   ]
  },
  {
   "cell_type": "code",
   "execution_count": 115,
   "metadata": {},
   "outputs": [
    {
     "name": "stdout",
     "output_type": "stream",
     "text": [
      "The logs show a series of operations on the CMX50070-101776 server. There are recurring error messages indicating that no loggers are registered in the RsLicenseServerApp and the AlfManagerApp. However, the server continues to perform a variety of tasks, including starting applications, setting operational modes, and rotating and compressing logs.\n",
      "\n",
      "Key events:\n",
      "\n",
      "- Multiple instances of \"No Loggers registered!\" error in RsLicenseServerApp and AlfManagerApp.\n",
      "- Starting the EventLog with 19 arguments, reading configurations from '/usr/lib/eventlog/eventlog.ini', and disabling logging to stdout.\n",
      "- Logs being compressed under \"/home/instrument/fw/log/sysmond_processes.1.nmon\".\n",
      "- Daily rotation of log files, cleanup of temporary directories, and smartmontools data collection being triggered by the system.\n",
      "- The Xserver using the config directory: \"/etc/X11/xorg.conf.d\".\n",
      "- AlfManager started with version: 1.9.4.239 and operation mode set to 'Primary'.\n",
      "- Detected change of CLOCK_REALTIME in the TSS.\n",
      "- The RsLicenseServerApp and AlfManagerApp receiving signals.\n"
     ]
    }
   ],
   "source": [
    "print(summary)"
   ]
  },
  {
   "cell_type": "markdown",
   "metadata": {},
   "source": [
    "## Clustering attempt"
   ]
  },
  {
   "cell_type": "code",
   "execution_count": 117,
   "metadata": {},
   "outputs": [],
   "source": [
    "import numpy as np\n",
    "from sklearn.cluster import DBSCAN\n",
    "from sklearn.decomposition import PCA"
   ]
  },
  {
   "cell_type": "code",
   "execution_count": 99,
   "metadata": {},
   "outputs": [],
   "source": [
    "embedding = OpenAIEmbeddings(\n",
    "openai_organization=key['openai_organization'],\n",
    "openai_api_key = key['openai_api_key'],\n",
    "model=\"text-embedding-ada-002\",\n",
    "max_retries=10,\n",
    ")\n",
    "vector_db = Chroma(persist_directory=f\"./chromadb/{md5hash}_small\", embedding_function=embedding)\n"
   ]
  },
  {
   "cell_type": "code",
   "execution_count": 140,
   "metadata": {},
   "outputs": [],
   "source": [
    "embeddings = np.array(vector_db.get(include=['embeddings'])['embeddings'])\n",
    "\n",
    "pca = PCA(n_components=10)\n",
    "pca.fit(embeddings)\n",
    "\n",
    "pca_embeddings = pca.transform(embeddings)\n",
    "\n",
    "## DBSCAN\n",
    "dbscan = DBSCAN(eps=0.05, min_samples=10)\n",
    "dbscan.fit(pca_embeddings)\n",
    "\n",
    "## Get all the core points and outliers\n",
    "core_points = np.where(dbscan.core_sample_indices_)[0]\n",
    "outliers = np.where(dbscan.labels_ == -1)[0]\n",
    "\n",
    "## Get the unique labels\n",
    "labels = np.unique(dbscan.labels_)\n",
    "labels"
   ]
  },
  {
   "cell_type": "code",
   "execution_count": 137,
   "metadata": {},
   "outputs": [
    {
     "data": {
      "text/plain": [
       "(2287,)"
      ]
     },
     "execution_count": 137,
     "metadata": {},
     "output_type": "execute_result"
    }
   ],
   "source": [
    "outliers.shape"
   ]
  },
  {
   "cell_type": "code",
   "execution_count": 138,
   "metadata": {},
   "outputs": [
    {
     "data": {
      "text/plain": [
       "(13495,)"
      ]
     },
     "execution_count": 138,
     "metadata": {},
     "output_type": "execute_result"
    }
   ],
   "source": [
    "core_points.shape"
   ]
  },
  {
   "cell_type": "code",
   "execution_count": null,
   "metadata": {},
   "outputs": [],
   "source": []
  }
 ],
 "metadata": {
  "kernelspec": {
   "display_name": "Python 3",
   "language": "python",
   "name": "python3"
  },
  "language_info": {
   "codemirror_mode": {
    "name": "ipython",
    "version": 3
   },
   "file_extension": ".py",
   "mimetype": "text/x-python",
   "name": "python",
   "nbconvert_exporter": "python",
   "pygments_lexer": "ipython3",
   "version": "3.11.4"
  }
 },
 "nbformat": 4,
 "nbformat_minor": 2
}
